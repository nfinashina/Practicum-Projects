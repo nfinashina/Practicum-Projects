{
 "cells": [
  {
   "cell_type": "markdown",
   "metadata": {},
   "source": [
    "# Событийная аналитика"
   ]
  },
  {
   "cell_type": "markdown",
   "metadata": {},
   "source": [
    "Перед нами стоит задача изучить работу стартапа, занимающегося продажей продуктов питания. В исходных данных нам предлагается выгрузка логов с разбивкой пользователей на три группы - 2 контрольные и одну эксперементальную, пользователи которой видят приложение с измененными шрифтами. Нам предстоит изучить поведение пользователей и выяснить, как на это поведение влияет изменение шрифтов в приложении.\n",
    "<br> Сначала посмотрим на исходные данные о логах в приложении, проверим, нет ли пропусков или аномальных значений. \n",
    "<br> Потом проследим путь пользователя от первого посещения до покупки - проверим, какая доля пользователей доходит до каждого шага, где \"отваливается\" больше всего пользователей. \n",
    "<br> После изучим результат проведенного A/A/B-теста и проверим состоятельность выдвинутых гипотез."
   ]
  },
  {
   "cell_type": "markdown",
   "metadata": {},
   "source": [
    "## Загрузка библиотек и исходных данных"
   ]
  },
  {
   "cell_type": "markdown",
   "metadata": {},
   "source": [
    "Для начала выгрузим необходимые библиотеки и установим настройки отображения таблиц"
   ]
  },
  {
   "cell_type": "code",
   "execution_count": 1,
   "metadata": {},
   "outputs": [],
   "source": [
    "import pandas as pd\n",
    "import numpy as np\n",
    "import math as mth\n",
    "import matplotlib.pyplot as plt\n",
    "import seaborn as sns\n",
    "import datetime as dt\n",
    "from datetime import datetime\n",
    "from pandas.plotting import register_matplotlib_converters\n",
    "from matplotlib.pyplot import figure\n",
    "from matplotlib import font_manager as fm\n",
    "import scipy.stats as stats\n",
    "from statsmodels.stats.proportion import proportions_ztest"
   ]
  },
  {
   "cell_type": "markdown",
   "metadata": {},
   "source": [
    "Загрузим исходные данные (вырианты для просмотра локально и через браузер)"
   ]
  },
  {
   "cell_type": "code",
   "execution_count": 2,
   "metadata": {},
   "outputs": [],
   "source": [
    "try:\n",
    "    data = pd.read_csv('logs_exp.csv', sep='\\t')\n",
    "except:\n",
    "    data = pd.read_csv('/datasets/logs_exp.csv', sep='\\t')"
   ]
  },
  {
   "cell_type": "markdown",
   "metadata": {},
   "source": [
    "## Предобработка данных"
   ]
  },
  {
   "cell_type": "markdown",
   "metadata": {},
   "source": [
    "Посмотрим на исходные данные"
   ]
  },
  {
   "cell_type": "code",
   "execution_count": 3,
   "metadata": {},
   "outputs": [
    {
     "data": {
      "text/html": [
       "<div>\n",
       "<style scoped>\n",
       "    .dataframe tbody tr th:only-of-type {\n",
       "        vertical-align: middle;\n",
       "    }\n",
       "\n",
       "    .dataframe tbody tr th {\n",
       "        vertical-align: top;\n",
       "    }\n",
       "\n",
       "    .dataframe thead th {\n",
       "        text-align: right;\n",
       "    }\n",
       "</style>\n",
       "<table border=\"1\" class=\"dataframe\">\n",
       "  <thead>\n",
       "    <tr style=\"text-align: right;\">\n",
       "      <th></th>\n",
       "      <th>EventName</th>\n",
       "      <th>DeviceIDHash</th>\n",
       "      <th>EventTimestamp</th>\n",
       "      <th>ExpId</th>\n",
       "    </tr>\n",
       "  </thead>\n",
       "  <tbody>\n",
       "    <tr>\n",
       "      <th>0</th>\n",
       "      <td>MainScreenAppear</td>\n",
       "      <td>4575588528974610257</td>\n",
       "      <td>1564029816</td>\n",
       "      <td>246</td>\n",
       "    </tr>\n",
       "    <tr>\n",
       "      <th>1</th>\n",
       "      <td>MainScreenAppear</td>\n",
       "      <td>7416695313311560658</td>\n",
       "      <td>1564053102</td>\n",
       "      <td>246</td>\n",
       "    </tr>\n",
       "    <tr>\n",
       "      <th>2</th>\n",
       "      <td>PaymentScreenSuccessful</td>\n",
       "      <td>3518123091307005509</td>\n",
       "      <td>1564054127</td>\n",
       "      <td>248</td>\n",
       "    </tr>\n",
       "    <tr>\n",
       "      <th>3</th>\n",
       "      <td>CartScreenAppear</td>\n",
       "      <td>3518123091307005509</td>\n",
       "      <td>1564054127</td>\n",
       "      <td>248</td>\n",
       "    </tr>\n",
       "    <tr>\n",
       "      <th>4</th>\n",
       "      <td>PaymentScreenSuccessful</td>\n",
       "      <td>6217807653094995999</td>\n",
       "      <td>1564055322</td>\n",
       "      <td>248</td>\n",
       "    </tr>\n",
       "  </tbody>\n",
       "</table>\n",
       "</div>"
      ],
      "text/plain": [
       "                 EventName         DeviceIDHash  EventTimestamp  ExpId\n",
       "0         MainScreenAppear  4575588528974610257      1564029816    246\n",
       "1         MainScreenAppear  7416695313311560658      1564053102    246\n",
       "2  PaymentScreenSuccessful  3518123091307005509      1564054127    248\n",
       "3         CartScreenAppear  3518123091307005509      1564054127    248\n",
       "4  PaymentScreenSuccessful  6217807653094995999      1564055322    248"
      ]
     },
     "execution_count": 3,
     "metadata": {},
     "output_type": "execute_result"
    }
   ],
   "source": [
    "data.head()"
   ]
  },
  {
   "cell_type": "markdown",
   "metadata": {},
   "source": [
    "Перед нами данные о логах в приложении. Датасет содержит информацию о названиях событий, идентификаторе пользователя, дате и времени события в формате timestamp и коде группы, в которую попал пользователь."
   ]
  },
  {
   "cell_type": "code",
   "execution_count": 4,
   "metadata": {},
   "outputs": [
    {
     "name": "stdout",
     "output_type": "stream",
     "text": [
      "<class 'pandas.core.frame.DataFrame'>\n",
      "RangeIndex: 244126 entries, 0 to 244125\n",
      "Data columns (total 4 columns):\n",
      " #   Column          Non-Null Count   Dtype \n",
      "---  ------          --------------   ----- \n",
      " 0   EventName       244126 non-null  object\n",
      " 1   DeviceIDHash    244126 non-null  int64 \n",
      " 2   EventTimestamp  244126 non-null  int64 \n",
      " 3   ExpId           244126 non-null  int64 \n",
      "dtypes: int64(3), object(1)\n",
      "memory usage: 7.5+ MB\n"
     ]
    }
   ],
   "source": [
    "data.info()"
   ]
  },
  {
   "cell_type": "markdown",
   "metadata": {},
   "source": [
    "Переименуем столбцы"
   ]
  },
  {
   "cell_type": "code",
   "execution_count": 5,
   "metadata": {},
   "outputs": [],
   "source": [
    "data = data.rename(\n",
    "    columns={\n",
    "        'EventName' : 'event_name',\n",
    "        'DeviceIDHash' : 'user_id',\n",
    "        'EventTimestamp' : 'event_time',\n",
    "        'ExpId' : 'exp_id'\n",
    "    }\n",
    ")"
   ]
  },
  {
   "cell_type": "markdown",
   "metadata": {},
   "source": [
    "Поменяем тип данных для времени события"
   ]
  },
  {
   "cell_type": "code",
   "execution_count": 6,
   "metadata": {},
   "outputs": [],
   "source": [
    "data['event_time'] = pd.to_datetime(data['event_time'], unit='s')"
   ]
  },
  {
   "cell_type": "markdown",
   "metadata": {},
   "source": [
    "Проверим, есть ли в датафрейме полностью дублированные строки "
   ]
  },
  {
   "cell_type": "code",
   "execution_count": 7,
   "metadata": {},
   "outputs": [
    {
     "data": {
      "text/plain": [
       "413"
      ]
     },
     "execution_count": 7,
     "metadata": {},
     "output_type": "execute_result"
    }
   ],
   "source": [
    "data.duplicated().sum()"
   ]
  },
  {
   "cell_type": "markdown",
   "metadata": {},
   "source": [
    "Найдено 413 дубликатов. Нужно их удалить"
   ]
  },
  {
   "cell_type": "code",
   "execution_count": 8,
   "metadata": {},
   "outputs": [],
   "source": [
    "data = data.drop_duplicates().reset_index(drop=True)"
   ]
  },
  {
   "cell_type": "code",
   "execution_count": 9,
   "metadata": {},
   "outputs": [
    {
     "data": {
      "text/plain": [
       "array(['MainScreenAppear', 'PaymentScreenSuccessful', 'CartScreenAppear',\n",
       "       'OffersScreenAppear', 'Tutorial'], dtype=object)"
      ]
     },
     "execution_count": 9,
     "metadata": {},
     "output_type": "execute_result"
    }
   ],
   "source": [
    "data.event_name.unique()"
   ]
  },
  {
   "cell_type": "markdown",
   "metadata": {},
   "source": [
    "В датасете фиксируется 5 типов событий - \"зашел на главную страницу\", \"обучение\", \"зашел на страницу с товарами\", \"зашел в корзину\", \"успешная оплата\". Аномалий или пропусков в столбце нет.\n",
    "<br>\n",
    "<br> Посмотрим на столбец с идентификаторами пользователей"
   ]
  },
  {
   "cell_type": "code",
   "execution_count": 10,
   "metadata": {
    "scrolled": true
   },
   "outputs": [
    {
     "data": {
      "text/plain": [
       "count    2.437130e+05\n",
       "mean     4.627963e+18\n",
       "std      2.642723e+18\n",
       "min      6.888747e+15\n",
       "25%      2.372212e+18\n",
       "50%      4.623192e+18\n",
       "75%      6.932517e+18\n",
       "max      9.222603e+18\n",
       "Name: user_id, dtype: float64"
      ]
     },
     "metadata": {},
     "output_type": "display_data"
    },
    {
     "data": {
      "text/plain": [
       "7551"
      ]
     },
     "metadata": {},
     "output_type": "display_data"
    }
   ],
   "source": [
    "display(data.user_id.describe())\n",
    "display(data.user_id.nunique())"
   ]
  },
  {
   "cell_type": "markdown",
   "metadata": {},
   "source": [
    "Данные однородны, пропусков или нетипичных значений нет. В логах содержится информация о 7551 пользователе.\n",
    "Посмотрим, сколько событий приходится на одного пользователя."
   ]
  },
  {
   "cell_type": "code",
   "execution_count": 11,
   "metadata": {},
   "outputs": [
    {
     "data": {
      "text/html": [
       "<div>\n",
       "<style scoped>\n",
       "    .dataframe tbody tr th:only-of-type {\n",
       "        vertical-align: middle;\n",
       "    }\n",
       "\n",
       "    .dataframe tbody tr th {\n",
       "        vertical-align: top;\n",
       "    }\n",
       "\n",
       "    .dataframe thead th {\n",
       "        text-align: right;\n",
       "    }\n",
       "</style>\n",
       "<table border=\"1\" class=\"dataframe\">\n",
       "  <thead>\n",
       "    <tr style=\"text-align: right;\">\n",
       "      <th></th>\n",
       "      <th>user_id</th>\n",
       "      <th>event_name</th>\n",
       "    </tr>\n",
       "  </thead>\n",
       "  <tbody>\n",
       "    <tr>\n",
       "      <th>count</th>\n",
       "      <td>7.551000e+03</td>\n",
       "      <td>7551.000000</td>\n",
       "    </tr>\n",
       "    <tr>\n",
       "      <th>mean</th>\n",
       "      <td>4.677319e+18</td>\n",
       "      <td>32.275593</td>\n",
       "    </tr>\n",
       "    <tr>\n",
       "      <th>std</th>\n",
       "      <td>2.655343e+18</td>\n",
       "      <td>65.154219</td>\n",
       "    </tr>\n",
       "    <tr>\n",
       "      <th>min</th>\n",
       "      <td>6.888747e+15</td>\n",
       "      <td>1.000000</td>\n",
       "    </tr>\n",
       "    <tr>\n",
       "      <th>25%</th>\n",
       "      <td>2.397700e+18</td>\n",
       "      <td>9.000000</td>\n",
       "    </tr>\n",
       "    <tr>\n",
       "      <th>50%</th>\n",
       "      <td>4.688022e+18</td>\n",
       "      <td>20.000000</td>\n",
       "    </tr>\n",
       "    <tr>\n",
       "      <th>75%</th>\n",
       "      <td>7.007353e+18</td>\n",
       "      <td>37.000000</td>\n",
       "    </tr>\n",
       "    <tr>\n",
       "      <th>max</th>\n",
       "      <td>9.222603e+18</td>\n",
       "      <td>2307.000000</td>\n",
       "    </tr>\n",
       "  </tbody>\n",
       "</table>\n",
       "</div>"
      ],
      "text/plain": [
       "            user_id   event_name\n",
       "count  7.551000e+03  7551.000000\n",
       "mean   4.677319e+18    32.275593\n",
       "std    2.655343e+18    65.154219\n",
       "min    6.888747e+15     1.000000\n",
       "25%    2.397700e+18     9.000000\n",
       "50%    4.688022e+18    20.000000\n",
       "75%    7.007353e+18    37.000000\n",
       "max    9.222603e+18  2307.000000"
      ]
     },
     "execution_count": 11,
     "metadata": {},
     "output_type": "execute_result"
    }
   ],
   "source": [
    "events_per_user = data.groupby('user_id')['event_name'].count().reset_index()\n",
    "events_per_user.describe()"
   ]
  },
  {
   "cell_type": "markdown",
   "metadata": {},
   "source": [
    "В среднем на одного пользователя приходится 32 события. Вполне достаточно, чтобы сделать несколько покупок. Рекорд - 2307 действий. 75% пользователей совершили 37 действий или менее.\n",
    "<br>\n",
    "<br> Посмотрим на данные"
   ]
  },
  {
   "cell_type": "code",
   "execution_count": 12,
   "metadata": {},
   "outputs": [
    {
     "data": {
      "text/plain": [
       "Timestamp('2019-07-25 04:43:36')"
      ]
     },
     "metadata": {},
     "output_type": "display_data"
    },
    {
     "data": {
      "text/plain": [
       "Timestamp('2019-08-07 21:15:17')"
      ]
     },
     "metadata": {},
     "output_type": "display_data"
    }
   ],
   "source": [
    "display(data.event_time.min())\n",
    "display(data.event_time.max())"
   ]
  },
  {
   "cell_type": "markdown",
   "metadata": {},
   "source": [
    "В нашем распоряжении данные с 25 июля 2019 по 7 августа 2019"
   ]
  },
  {
   "cell_type": "code",
   "execution_count": 13,
   "metadata": {
    "scrolled": true
   },
   "outputs": [
    {
     "data": {
      "image/png": "[encoded data removed]",
      "text/plain": [
       "<Figure size 1296x360 with 1 Axes>"
      ]
     },
     "metadata": {},
     "output_type": "display_data"
    }
   ],
   "source": [
    "sns.set(rc={'figure.figsize':(18, 5)})\n",
    "sns.histplot(data=data['event_time'], bins=19)\n",
    "plt.ylabel('Количество событий', fontsize=16)\n",
    "plt.xlabel('Дата', fontsize=16)\n",
    "plt.title('Активность пользователей по датам', fontsize=20)\n",
    "plt.show()"
   ]
  },
  {
   "cell_type": "markdown",
   "metadata": {},
   "source": [
    "На графике видно, что основная активность начинается с 1 августа. Более ранние данные можно удалить."
   ]
  },
  {
   "cell_type": "code",
   "execution_count": 14,
   "metadata": {},
   "outputs": [],
   "source": [
    "data1 = data[data['event_time'] < '2019-08-01 00:00:00']\n",
    "data = data[data['event_time'] >= '2019-08-01 00:00:00']"
   ]
  },
  {
   "cell_type": "code",
   "execution_count": 15,
   "metadata": {},
   "outputs": [
    {
     "data": {
      "text/plain": [
       "2826"
      ]
     },
     "metadata": {},
     "output_type": "display_data"
    },
    {
     "data": {
      "text/plain": [
       "17"
      ]
     },
     "metadata": {},
     "output_type": "display_data"
    }
   ],
   "source": [
    "display(data1['event_name'].count())\n",
    "display(7551 - data['user_id'].nunique())"
   ]
  },
  {
   "cell_type": "markdown",
   "metadata": {},
   "source": [
    "После отсечения части периода мы потеряли почти 2826 записей о логах и 17 уникальных клиентов\n",
    "<br>\n",
    "<br> Еще раз посмотрим на пользователей-рекордсменов, делающих большое количество активностей."
   ]
  },
  {
   "cell_type": "code",
   "execution_count": 16,
   "metadata": {},
   "outputs": [
    {
     "data": {
      "text/html": [
       "<div>\n",
       "<style scoped>\n",
       "    .dataframe tbody tr th:only-of-type {\n",
       "        vertical-align: middle;\n",
       "    }\n",
       "\n",
       "    .dataframe tbody tr th {\n",
       "        vertical-align: top;\n",
       "    }\n",
       "\n",
       "    .dataframe thead th {\n",
       "        text-align: right;\n",
       "    }\n",
       "</style>\n",
       "<table border=\"1\" class=\"dataframe\">\n",
       "  <thead>\n",
       "    <tr style=\"text-align: right;\">\n",
       "      <th></th>\n",
       "      <th>user_id</th>\n",
       "      <th>event_name</th>\n",
       "    </tr>\n",
       "  </thead>\n",
       "  <tbody>\n",
       "    <tr>\n",
       "      <th>146</th>\n",
       "      <td>197027893265565660</td>\n",
       "      <td>1996</td>\n",
       "    </tr>\n",
       "    <tr>\n",
       "      <th>1390</th>\n",
       "      <td>1754140665440434215</td>\n",
       "      <td>1221</td>\n",
       "    </tr>\n",
       "    <tr>\n",
       "      <th>2637</th>\n",
       "      <td>3337471580007169353</td>\n",
       "      <td>1186</td>\n",
       "    </tr>\n",
       "    <tr>\n",
       "      <th>3707</th>\n",
       "      <td>4623191541214045580</td>\n",
       "      <td>1768</td>\n",
       "    </tr>\n",
       "    <tr>\n",
       "      <th>5107</th>\n",
       "      <td>6304868067479728361</td>\n",
       "      <td>2307</td>\n",
       "    </tr>\n",
       "    <tr>\n",
       "      <th>5580</th>\n",
       "      <td>6932517045703054087</td>\n",
       "      <td>1439</td>\n",
       "    </tr>\n",
       "  </tbody>\n",
       "</table>\n",
       "</div>"
      ],
      "text/plain": [
       "                  user_id  event_name\n",
       "146    197027893265565660        1996\n",
       "1390  1754140665440434215        1221\n",
       "2637  3337471580007169353        1186\n",
       "3707  4623191541214045580        1768\n",
       "5107  6304868067479728361        2307\n",
       "5580  6932517045703054087        1439"
      ]
     },
     "execution_count": 16,
     "metadata": {},
     "output_type": "execute_result"
    }
   ],
   "source": [
    "champions = data.groupby('user_id')['event_name'].count().reset_index().query('event_name > 1000')\n",
    "champions"
   ]
  },
  {
   "cell_type": "markdown",
   "metadata": {},
   "source": [
    "Пользователи, сделавшие более 1000 переходов за неделю вызывают подозрение. Уберем их из выборки."
   ]
  },
  {
   "cell_type": "code",
   "execution_count": 17,
   "metadata": {},
   "outputs": [],
   "source": [
    "data = data.loc[~data.user_id.isin(champions['user_id'])]"
   ]
  },
  {
   "cell_type": "markdown",
   "metadata": {},
   "source": [
    "Посмотрим на разделение по группам"
   ]
  },
  {
   "cell_type": "code",
   "execution_count": 18,
   "metadata": {},
   "outputs": [
    {
     "data": {
      "text/plain": [
       "array([246, 247, 248])"
      ]
     },
     "execution_count": 18,
     "metadata": {},
     "output_type": "execute_result"
    }
   ],
   "source": [
    "data.exp_id.unique()"
   ]
  },
  {
   "cell_type": "markdown",
   "metadata": {},
   "source": [
    "Как и заявлено, в датасете 3 группы. Проверим, что у нас нет пользователей, которые попадают больше, чем в одну группу."
   ]
  },
  {
   "cell_type": "code",
   "execution_count": 19,
   "metadata": {},
   "outputs": [
    {
     "data": {
      "text/html": [
       "<div>\n",
       "<style scoped>\n",
       "    .dataframe tbody tr th:only-of-type {\n",
       "        vertical-align: middle;\n",
       "    }\n",
       "\n",
       "    .dataframe tbody tr th {\n",
       "        vertical-align: top;\n",
       "    }\n",
       "\n",
       "    .dataframe thead th {\n",
       "        text-align: right;\n",
       "    }\n",
       "</style>\n",
       "<table border=\"1\" class=\"dataframe\">\n",
       "  <thead>\n",
       "    <tr style=\"text-align: right;\">\n",
       "      <th></th>\n",
       "      <th>user_id</th>\n",
       "      <th>exp_id</th>\n",
       "    </tr>\n",
       "  </thead>\n",
       "  <tbody>\n",
       "  </tbody>\n",
       "</table>\n",
       "</div>"
      ],
      "text/plain": [
       "Empty DataFrame\n",
       "Columns: [user_id, exp_id]\n",
       "Index: []"
      ]
     },
     "execution_count": 19,
     "metadata": {},
     "output_type": "execute_result"
    }
   ],
   "source": [
    "data.groupby('user_id')['exp_id'].nunique().reset_index().query('exp_id > 1')"
   ]
  },
  {
   "cell_type": "markdown",
   "metadata": {},
   "source": [
    "Траффик организован правильно. \n",
    "<br> Посмотрим, сколько пользователей попадают в каждую группу"
   ]
  },
  {
   "cell_type": "code",
   "execution_count": 20,
   "metadata": {},
   "outputs": [
    {
     "data": {
      "text/html": [
       "<div>\n",
       "<style scoped>\n",
       "    .dataframe tbody tr th:only-of-type {\n",
       "        vertical-align: middle;\n",
       "    }\n",
       "\n",
       "    .dataframe tbody tr th {\n",
       "        vertical-align: top;\n",
       "    }\n",
       "\n",
       "    .dataframe thead th {\n",
       "        text-align: right;\n",
       "    }\n",
       "</style>\n",
       "<table border=\"1\" class=\"dataframe\">\n",
       "  <thead>\n",
       "    <tr style=\"text-align: right;\">\n",
       "      <th></th>\n",
       "      <th>exp_id</th>\n",
       "      <th>user_id</th>\n",
       "    </tr>\n",
       "  </thead>\n",
       "  <tbody>\n",
       "    <tr>\n",
       "      <th>0</th>\n",
       "      <td>246</td>\n",
       "      <td>2482</td>\n",
       "    </tr>\n",
       "    <tr>\n",
       "      <th>1</th>\n",
       "      <td>247</td>\n",
       "      <td>2511</td>\n",
       "    </tr>\n",
       "    <tr>\n",
       "      <th>2</th>\n",
       "      <td>248</td>\n",
       "      <td>2535</td>\n",
       "    </tr>\n",
       "  </tbody>\n",
       "</table>\n",
       "</div>"
      ],
      "text/plain": [
       "   exp_id  user_id\n",
       "0     246     2482\n",
       "1     247     2511\n",
       "2     248     2535"
      ]
     },
     "execution_count": 20,
     "metadata": {},
     "output_type": "execute_result"
    }
   ],
   "source": [
    "data.groupby('exp_id')['user_id'].nunique().reset_index()"
   ]
  },
  {
   "cell_type": "markdown",
   "metadata": {},
   "source": [
    "Пользователи распределены относительно равномерно. "
   ]
  },
  {
   "cell_type": "code",
   "execution_count": 21,
   "metadata": {},
   "outputs": [
    {
     "data": {
      "text/plain": [
       "'В результате предобработки утрачено 23 уникальных пользователей'"
      ]
     },
     "metadata": {},
     "output_type": "display_data"
    },
    {
     "data": {
      "text/plain": [
       "'В результате предобработки утрачено 13156 строк. Это 5% всех данных'"
      ]
     },
     "metadata": {},
     "output_type": "display_data"
    }
   ],
   "source": [
    "a = 244126 - data['event_name'].count()\n",
    "\n",
    "display(f\"В результате предобработки утрачено {7551 - data['user_id'].nunique()} уникальных пользователей\")\n",
    "display(f\"В результате предобработки утрачено {a} строк. Это {a*100/244126:.0f}% всех данных\")"
   ]
  },
  {
   "cell_type": "markdown",
   "metadata": {},
   "source": [
    "Данные проверены. В процессе предобработки мы переименовали столбцы, поменяли формат даты, удалили строки-дубликаты, убрали из выборки часть периода с низкой активностью и подозрительно активных пользователей. В процессе предобработки мы потеряли порядка 5% данных. Теперь можно изучать воронку событий"
   ]
  },
  {
   "cell_type": "markdown",
   "metadata": {},
   "source": [
    "## Изучение воронки событий"
   ]
  },
  {
   "cell_type": "markdown",
   "metadata": {},
   "source": [
    "Для того, чтобы понять, сколько пользователей доходят до совершения покупки и что им мешает по дороге, нам нужно изучить воронку событий. Для начала посмотрим, сколько событий каждого типа содержат наши данные."
   ]
  },
  {
   "cell_type": "code",
   "execution_count": 22,
   "metadata": {},
   "outputs": [
    {
     "data": {
      "text/html": [
       "<div>\n",
       "<style scoped>\n",
       "    .dataframe tbody tr th:only-of-type {\n",
       "        vertical-align: middle;\n",
       "    }\n",
       "\n",
       "    .dataframe tbody tr th {\n",
       "        vertical-align: top;\n",
       "    }\n",
       "\n",
       "    .dataframe thead th {\n",
       "        text-align: right;\n",
       "    }\n",
       "</style>\n",
       "<table border=\"1\" class=\"dataframe\">\n",
       "  <thead>\n",
       "    <tr style=\"text-align: right;\">\n",
       "      <th></th>\n",
       "      <th>event_name</th>\n",
       "      <th>event_count</th>\n",
       "    </tr>\n",
       "  </thead>\n",
       "  <tbody>\n",
       "    <tr>\n",
       "      <th>1</th>\n",
       "      <td>MainScreenAppear</td>\n",
       "      <td>116919</td>\n",
       "    </tr>\n",
       "    <tr>\n",
       "      <th>2</th>\n",
       "      <td>OffersScreenAppear</td>\n",
       "      <td>45382</td>\n",
       "    </tr>\n",
       "    <tr>\n",
       "      <th>0</th>\n",
       "      <td>CartScreenAppear</td>\n",
       "      <td>37954</td>\n",
       "    </tr>\n",
       "    <tr>\n",
       "      <th>3</th>\n",
       "      <td>PaymentScreenSuccessful</td>\n",
       "      <td>29710</td>\n",
       "    </tr>\n",
       "    <tr>\n",
       "      <th>4</th>\n",
       "      <td>Tutorial</td>\n",
       "      <td>1005</td>\n",
       "    </tr>\n",
       "  </tbody>\n",
       "</table>\n",
       "</div>"
      ],
      "text/plain": [
       "                event_name  event_count\n",
       "1         MainScreenAppear       116919\n",
       "2       OffersScreenAppear        45382\n",
       "0         CartScreenAppear        37954\n",
       "3  PaymentScreenSuccessful        29710\n",
       "4                 Tutorial         1005"
      ]
     },
     "execution_count": 22,
     "metadata": {},
     "output_type": "execute_result"
    }
   ],
   "source": [
    "events_per_type = data.groupby('event_name')['user_id'].count().reset_index().sort_values(by='user_id', ascending=False)\n",
    "events_per_type.columns = ['event_name','event_count']\n",
    "events_per_type"
   ]
  },
  {
   "cell_type": "markdown",
   "metadata": {},
   "source": [
    "Больше всего пользователей заходят на главную страницу. Далее - по убыванию - каталог - корзина - страница с оплатой. Выглядит логично. Меньше всего активностей связано с обучением (1018 переходов). Посмотрим, сколько уникальных пользователей совершают каждый шаг."
   ]
  },
  {
   "cell_type": "code",
   "execution_count": 23,
   "metadata": {},
   "outputs": [
    {
     "data": {
      "text/html": [
       "<div>\n",
       "<style scoped>\n",
       "    .dataframe tbody tr th:only-of-type {\n",
       "        vertical-align: middle;\n",
       "    }\n",
       "\n",
       "    .dataframe tbody tr th {\n",
       "        vertical-align: top;\n",
       "    }\n",
       "\n",
       "    .dataframe thead th {\n",
       "        text-align: right;\n",
       "    }\n",
       "</style>\n",
       "<table border=\"1\" class=\"dataframe\">\n",
       "  <thead>\n",
       "    <tr style=\"text-align: right;\">\n",
       "      <th></th>\n",
       "      <th>event_name</th>\n",
       "      <th>unique_users</th>\n",
       "    </tr>\n",
       "  </thead>\n",
       "  <tbody>\n",
       "    <tr>\n",
       "      <th>1</th>\n",
       "      <td>MainScreenAppear</td>\n",
       "      <td>7413</td>\n",
       "    </tr>\n",
       "    <tr>\n",
       "      <th>2</th>\n",
       "      <td>OffersScreenAppear</td>\n",
       "      <td>4587</td>\n",
       "    </tr>\n",
       "    <tr>\n",
       "      <th>0</th>\n",
       "      <td>CartScreenAppear</td>\n",
       "      <td>3728</td>\n",
       "    </tr>\n",
       "    <tr>\n",
       "      <th>3</th>\n",
       "      <td>PaymentScreenSuccessful</td>\n",
       "      <td>3533</td>\n",
       "    </tr>\n",
       "    <tr>\n",
       "      <th>4</th>\n",
       "      <td>Tutorial</td>\n",
       "      <td>840</td>\n",
       "    </tr>\n",
       "  </tbody>\n",
       "</table>\n",
       "</div>"
      ],
      "text/plain": [
       "                event_name  unique_users\n",
       "1         MainScreenAppear          7413\n",
       "2       OffersScreenAppear          4587\n",
       "0         CartScreenAppear          3728\n",
       "3  PaymentScreenSuccessful          3533\n",
       "4                 Tutorial           840"
      ]
     },
     "execution_count": 23,
     "metadata": {},
     "output_type": "execute_result"
    }
   ],
   "source": [
    "users_per_type = data.groupby('event_name')['user_id'].nunique().reset_index().sort_values(by='user_id', ascending=False)\n",
    "users_per_type.columns = ['event_name','unique_users']\n",
    "users_per_type"
   ]
  },
  {
   "cell_type": "markdown",
   "metadata": {},
   "source": [
    "Из таблицы видно, что не все пользователи заходят на главную страницу (после того, как мы отсекли часть периода и убрали подозрительно активных, у нас осталось 7528 пользователей), а некоторые проходят обучение более одного раза. Можно предположить, что пользователи попадают в каталог, минуя главную страницу, например, из рассылки. Проверим, есть ли пользователи, открывшие каталог, но ни разу не заходившие на главную страницу."
   ]
  },
  {
   "cell_type": "code",
   "execution_count": 24,
   "metadata": {},
   "outputs": [
    {
     "data": {
      "text/plain": [
       "111"
      ]
     },
     "execution_count": 24,
     "metadata": {},
     "output_type": "execute_result"
    }
   ],
   "source": [
    "main_screen_users = data['user_id'][data['event_name'] == 'MainScreenAppear']\n",
    "offer_screen_users = data['user_id'][data['event_name'] == 'OffersScreenAppear']\n",
    "\n",
    "offer_not_main_screen_users = offer_screen_users.loc[~offer_screen_users.isin(main_screen_users)]\n",
    "offer_not_main_screen_users.nunique()"
   ]
  },
  {
   "cell_type": "markdown",
   "metadata": {},
   "source": [
    "111 человек попали в каталог, минуя главную страницу.\n",
    "<br>\n",
    "<br> Проверим, есть ли те, кто попал в корзину, но не заходил в каталог"
   ]
  },
  {
   "cell_type": "code",
   "execution_count": 25,
   "metadata": {},
   "outputs": [
    {
     "data": {
      "text/plain": [
       "55"
      ]
     },
     "execution_count": 25,
     "metadata": {},
     "output_type": "execute_result"
    }
   ],
   "source": [
    "cart_screen_users = data['user_id'][data['event_name'] == 'CartScreenAppear']\n",
    "cart_not_offer_screen_users = cart_screen_users.loc[~cart_screen_users.isin(offer_screen_users)]\n",
    "cart_not_offer_screen_users.nunique()"
   ]
  },
  {
   "cell_type": "markdown",
   "metadata": {},
   "source": [
    "И такие нашлись! Скорее всего, ссылка на корзину есть на главной странице. Посмотрим, есть ли те, кто оплатил, не заходя в корзину"
   ]
  },
  {
   "cell_type": "code",
   "execution_count": 26,
   "metadata": {},
   "outputs": [
    {
     "data": {
      "text/plain": [
       "14658     2842450591691869422\n",
       "18096     2546485934419825851\n",
       "18424     3626993001520930273\n",
       "89415     5624421956850672353\n",
       "115930    4518329927200442683\n",
       "Name: user_id, dtype: int64"
      ]
     },
     "execution_count": 26,
     "metadata": {},
     "output_type": "execute_result"
    }
   ],
   "source": [
    "payment_screen_users = data['user_id'][data['event_name'] == 'PaymentScreenSuccessful']\n",
    "payment_not_cart_screen_users = payment_screen_users.loc[~payment_screen_users.isin(cart_screen_users)]\n",
    "payment_not_cart_screen_users"
   ]
  },
  {
   "cell_type": "markdown",
   "metadata": {},
   "source": [
    "Стоит уточнить, откуда берутся такие пользователи. Пока предположим, что они покупали товар через менеджера и получили ссылку на оплату по почте.\n",
    "<br>\n",
    "<br> В качестве воронки представим все типы активностей, кроме обучения. Для начала посмотрим, какая доля пользователей переходит на каждый уровень воронки."
   ]
  },
  {
   "cell_type": "code",
   "execution_count": 27,
   "metadata": {},
   "outputs": [],
   "source": [
    "def count_funnel(events_per_type, users_per_type, total_users):\n",
    "    funnel = events_per_type.merge(users_per_type, on='event_name', how='inner')\n",
    "    funnel = funnel[funnel['event_name'] != 'Tutorial']\n",
    "    funnel['next_level_share'] = funnel['unique_users']/total_users\n",
    "    funnel['next_level_diff'] = 1 + funnel['next_level_share'].pct_change()\n",
    "    return funnel"
   ]
  },
  {
   "cell_type": "code",
   "execution_count": 28,
   "metadata": {},
   "outputs": [
    {
     "data": {
      "text/html": [
       "<div>\n",
       "<style scoped>\n",
       "    .dataframe tbody tr th:only-of-type {\n",
       "        vertical-align: middle;\n",
       "    }\n",
       "\n",
       "    .dataframe tbody tr th {\n",
       "        vertical-align: top;\n",
       "    }\n",
       "\n",
       "    .dataframe thead th {\n",
       "        text-align: right;\n",
       "    }\n",
       "</style>\n",
       "<table border=\"1\" class=\"dataframe\">\n",
       "  <thead>\n",
       "    <tr style=\"text-align: right;\">\n",
       "      <th></th>\n",
       "      <th>event_name</th>\n",
       "      <th>event_count</th>\n",
       "      <th>unique_users</th>\n",
       "      <th>next_level_share</th>\n",
       "      <th>next_level_diff</th>\n",
       "    </tr>\n",
       "  </thead>\n",
       "  <tbody>\n",
       "    <tr>\n",
       "      <th>0</th>\n",
       "      <td>MainScreenAppear</td>\n",
       "      <td>116919</td>\n",
       "      <td>7413</td>\n",
       "      <td>0.984724</td>\n",
       "      <td>NaN</td>\n",
       "    </tr>\n",
       "    <tr>\n",
       "      <th>1</th>\n",
       "      <td>OffersScreenAppear</td>\n",
       "      <td>45382</td>\n",
       "      <td>4587</td>\n",
       "      <td>0.609325</td>\n",
       "      <td>0.618778</td>\n",
       "    </tr>\n",
       "    <tr>\n",
       "      <th>2</th>\n",
       "      <td>CartScreenAppear</td>\n",
       "      <td>37954</td>\n",
       "      <td>3728</td>\n",
       "      <td>0.495218</td>\n",
       "      <td>0.812732</td>\n",
       "    </tr>\n",
       "    <tr>\n",
       "      <th>3</th>\n",
       "      <td>PaymentScreenSuccessful</td>\n",
       "      <td>29710</td>\n",
       "      <td>3533</td>\n",
       "      <td>0.469315</td>\n",
       "      <td>0.947693</td>\n",
       "    </tr>\n",
       "  </tbody>\n",
       "</table>\n",
       "</div>"
      ],
      "text/plain": [
       "                event_name  event_count  unique_users  next_level_share  \\\n",
       "0         MainScreenAppear       116919          7413          0.984724   \n",
       "1       OffersScreenAppear        45382          4587          0.609325   \n",
       "2         CartScreenAppear        37954          3728          0.495218   \n",
       "3  PaymentScreenSuccessful        29710          3533          0.469315   \n",
       "\n",
       "   next_level_diff  \n",
       "0              NaN  \n",
       "1         0.618778  \n",
       "2         0.812732  \n",
       "3         0.947693  "
      ]
     },
     "execution_count": 28,
     "metadata": {},
     "output_type": "execute_result"
    }
   ],
   "source": [
    "total_users = data['user_id'].nunique()\n",
    "\n",
    "funnel = count_funnel(events_per_type, users_per_type, total_users)\n",
    "funnel"
   ]
  },
  {
   "cell_type": "markdown",
   "metadata": {},
   "source": [
    "Получается, что 47% пользователей доходят до совершения покупки. Впечатляющий результат! Среди тех, кто сложил товары в корзину, плачивают покупки почти 95%. Кажется, наш сервис работает исправно. Больше всего пользователей \"отваливаются\" при переходе с главной страницы в каталог. \n",
    "<br>\n",
    "<br> Построим график, чтобы визуализировать данные"
   ]
  },
  {
   "cell_type": "code",
   "execution_count": 29,
   "metadata": {},
   "outputs": [],
   "source": [
    "def vis_funnel(x_max, title):\n",
    "    \n",
    "    #x_max - максимальное значение x на оси\n",
    "    #title - название графика\n",
    "    \n",
    "    #зададим переменные, которые не будут меняться от графика к графику\n",
    "    x = funnel['unique_users'] #значение ширины элемента воронки\n",
    "    y = [4,3,2,1] #количество уровней воронки\n",
    "    labels = funnel['event_name'] #названия уровней воронки\n",
    "    x_min = 0 #минимальное значение на оси x\n",
    "    x_range = x_max - x_min #разница между минимальным и максимальным значениями на оси x\n",
    "\n",
    "    fig, ax = plt.subplots(1, figsize=(12,6)) \n",
    "    for idx, val in enumerate(x):\n",
    "        left = (x_range - val)/2 #определим положение каждого уровня\n",
    "        plt.barh(y[idx], x[idx], left = left, color='#309B96', height=.8) #зададим параметры столбца\n",
    "        \n",
    "        plt.text(x_max/2, y[idx]+0.1, labels[idx], ha='center', fontsize=16, color='white') #зададим параметры названия столбца\n",
    "        \n",
    "        plt.text(x_max/2, y[idx]-0.3, x[idx], ha='center', fontsize=16, color='white') #зададим параметры значения столбца\n",
    "    \n",
    "    plt.xlim(x_min, x_max)\n",
    "    plt.axis('off')\n",
    "    plt.title(title, loc='center', fontsize=24)\n",
    "    plt.show()"
   ]
  },
  {
   "cell_type": "code",
   "execution_count": 30,
   "metadata": {},
   "outputs": [
    {
     "data": {
      "image/png": "[encoded data removed]",
      "text/plain": [
       "<Figure size 864x432 with 1 Axes>"
      ]
     },
     "metadata": {},
     "output_type": "display_data"
    }
   ],
   "source": [
    "x_max = 8000\n",
    "title = 'Воронка событий для всей выборки'\n",
    "\n",
    "vis_funnel(x_max, title)"
   ]
  },
  {
   "cell_type": "markdown",
   "metadata": {},
   "source": [
    "Самое большое различие между количеством пользователей, открывших главную страницу и теми, кто перешел в каталог. Наименьшее различие между зашедшими на страницу корзины и теми, кто успешно оплатил заказ.\n",
    "<br>\n",
    "<br>Посмотрим отдельно на воронку для первой контрольной группы."
   ]
  },
  {
   "cell_type": "code",
   "execution_count": 31,
   "metadata": {},
   "outputs": [
    {
     "data": {
      "text/html": [
       "<div>\n",
       "<style scoped>\n",
       "    .dataframe tbody tr th:only-of-type {\n",
       "        vertical-align: middle;\n",
       "    }\n",
       "\n",
       "    .dataframe tbody tr th {\n",
       "        vertical-align: top;\n",
       "    }\n",
       "\n",
       "    .dataframe thead th {\n",
       "        text-align: right;\n",
       "    }\n",
       "</style>\n",
       "<table border=\"1\" class=\"dataframe\">\n",
       "  <thead>\n",
       "    <tr style=\"text-align: right;\">\n",
       "      <th></th>\n",
       "      <th>event_name</th>\n",
       "      <th>event_count</th>\n",
       "      <th>unique_users</th>\n",
       "      <th>next_level_share</th>\n",
       "      <th>next_level_diff</th>\n",
       "    </tr>\n",
       "  </thead>\n",
       "  <tbody>\n",
       "    <tr>\n",
       "      <th>0</th>\n",
       "      <td>MainScreenAppear</td>\n",
       "      <td>37526</td>\n",
       "      <td>2448</td>\n",
       "      <td>0.986301</td>\n",
       "      <td>NaN</td>\n",
       "    </tr>\n",
       "    <tr>\n",
       "      <th>1</th>\n",
       "      <td>OffersScreenAppear</td>\n",
       "      <td>14583</td>\n",
       "      <td>1540</td>\n",
       "      <td>0.620467</td>\n",
       "      <td>0.629085</td>\n",
       "    </tr>\n",
       "    <tr>\n",
       "      <th>2</th>\n",
       "      <td>CartScreenAppear</td>\n",
       "      <td>13232</td>\n",
       "      <td>1264</td>\n",
       "      <td>0.509267</td>\n",
       "      <td>0.820779</td>\n",
       "    </tr>\n",
       "    <tr>\n",
       "      <th>3</th>\n",
       "      <td>PaymentScreenSuccessful</td>\n",
       "      <td>10462</td>\n",
       "      <td>1198</td>\n",
       "      <td>0.482675</td>\n",
       "      <td>0.947785</td>\n",
       "    </tr>\n",
       "  </tbody>\n",
       "</table>\n",
       "</div>"
      ],
      "text/plain": [
       "                event_name  event_count  unique_users  next_level_share  \\\n",
       "0         MainScreenAppear        37526          2448          0.986301   \n",
       "1       OffersScreenAppear        14583          1540          0.620467   \n",
       "2         CartScreenAppear        13232          1264          0.509267   \n",
       "3  PaymentScreenSuccessful        10462          1198          0.482675   \n",
       "\n",
       "   next_level_diff  \n",
       "0              NaN  \n",
       "1         0.629085  \n",
       "2         0.820779  \n",
       "3         0.947785  "
      ]
     },
     "execution_count": 31,
     "metadata": {},
     "output_type": "execute_result"
    }
   ],
   "source": [
    "data_246 = data[data['exp_id'] == 246]\n",
    "total_users = data_246['user_id'].nunique()\n",
    "events_per_type = data_246.groupby('event_name')['user_id'].count().reset_index().sort_values(by='user_id', ascending=False)\n",
    "events_per_type.columns = ['event_name','event_count']\n",
    "users_per_type = data_246.groupby('event_name')['user_id'].nunique().reset_index().sort_values(by='user_id', ascending=False)\n",
    "users_per_type.columns = ['event_name','unique_users']\n",
    "funnel = count_funnel(events_per_type, users_per_type, total_users)\n",
    "funnel"
   ]
  },
  {
   "cell_type": "code",
   "execution_count": 32,
   "metadata": {},
   "outputs": [
    {
     "data": {
      "image/png": "[encoded data removed]",
      "text/plain": [
       "<Figure size 864x432 with 1 Axes>"
      ]
     },
     "metadata": {},
     "output_type": "display_data"
    }
   ],
   "source": [
    "x_max = 4000\n",
    "title = 'Воронка событий для группы A'\n",
    "\n",
    "vis_funnel(x_max, title)"
   ]
  },
  {
   "cell_type": "markdown",
   "metadata": {},
   "source": [
    "В группе А распределение очень похоже на распределение в полной выборке. Самое значительное уменьшение пользователей наблюдается при переходе с главной страницы на страницу с товарами.\n",
    "<br>\n",
    "<br> Посмотрим на воронку в группе A1"
   ]
  },
  {
   "cell_type": "code",
   "execution_count": 33,
   "metadata": {},
   "outputs": [
    {
     "data": {
      "text/html": [
       "<div>\n",
       "<style scoped>\n",
       "    .dataframe tbody tr th:only-of-type {\n",
       "        vertical-align: middle;\n",
       "    }\n",
       "\n",
       "    .dataframe tbody tr th {\n",
       "        vertical-align: top;\n",
       "    }\n",
       "\n",
       "    .dataframe thead th {\n",
       "        text-align: right;\n",
       "    }\n",
       "</style>\n",
       "<table border=\"1\" class=\"dataframe\">\n",
       "  <thead>\n",
       "    <tr style=\"text-align: right;\">\n",
       "      <th></th>\n",
       "      <th>event_name</th>\n",
       "      <th>event_count</th>\n",
       "      <th>unique_users</th>\n",
       "      <th>next_level_share</th>\n",
       "      <th>next_level_diff</th>\n",
       "    </tr>\n",
       "  </thead>\n",
       "  <tbody>\n",
       "    <tr>\n",
       "      <th>0</th>\n",
       "      <td>MainScreenAppear</td>\n",
       "      <td>38989</td>\n",
       "      <td>2474</td>\n",
       "      <td>0.985265</td>\n",
       "      <td>NaN</td>\n",
       "    </tr>\n",
       "    <tr>\n",
       "      <th>1</th>\n",
       "      <td>OffersScreenAppear</td>\n",
       "      <td>14997</td>\n",
       "      <td>1518</td>\n",
       "      <td>0.604540</td>\n",
       "      <td>0.613581</td>\n",
       "    </tr>\n",
       "    <tr>\n",
       "      <th>2</th>\n",
       "      <td>CartScreenAppear</td>\n",
       "      <td>11060</td>\n",
       "      <td>1236</td>\n",
       "      <td>0.492234</td>\n",
       "      <td>0.814229</td>\n",
       "    </tr>\n",
       "    <tr>\n",
       "      <th>3</th>\n",
       "      <td>PaymentScreenSuccessful</td>\n",
       "      <td>8649</td>\n",
       "      <td>1156</td>\n",
       "      <td>0.460374</td>\n",
       "      <td>0.935275</td>\n",
       "    </tr>\n",
       "  </tbody>\n",
       "</table>\n",
       "</div>"
      ],
      "text/plain": [
       "                event_name  event_count  unique_users  next_level_share  \\\n",
       "0         MainScreenAppear        38989          2474          0.985265   \n",
       "1       OffersScreenAppear        14997          1518          0.604540   \n",
       "2         CartScreenAppear        11060          1236          0.492234   \n",
       "3  PaymentScreenSuccessful         8649          1156          0.460374   \n",
       "\n",
       "   next_level_diff  \n",
       "0              NaN  \n",
       "1         0.613581  \n",
       "2         0.814229  \n",
       "3         0.935275  "
      ]
     },
     "execution_count": 33,
     "metadata": {},
     "output_type": "execute_result"
    }
   ],
   "source": [
    "data_247 = data[data['exp_id'] == 247]\n",
    "total_users = data_247['user_id'].nunique()\n",
    "events_per_type = data_247.groupby('event_name')['user_id'].count().reset_index().sort_values(by='user_id', ascending=False)\n",
    "events_per_type.columns = ['event_name','event_count']\n",
    "users_per_type = data_247.groupby('event_name')['user_id'].nunique().reset_index().sort_values(by='user_id', ascending=False)\n",
    "users_per_type.columns = ['event_name','unique_users']\n",
    "funnel = count_funnel(events_per_type, users_per_type, total_users)\n",
    "funnel"
   ]
  },
  {
   "cell_type": "code",
   "execution_count": 34,
   "metadata": {},
   "outputs": [
    {
     "data": {
      "image/png": "[encoded data removed]",
      "text/plain": [
       "<Figure size 864x432 with 1 Axes>"
      ]
     },
     "metadata": {},
     "output_type": "display_data"
    }
   ],
   "source": [
    "x_max = 4000\n",
    "title = 'Воронка событий для группы A1'\n",
    "\n",
    "vis_funnel(x_max, title)"
   ]
  },
  {
   "cell_type": "markdown",
   "metadata": {},
   "source": [
    "Поведение пользователей в группе A1 похоже на поведение пользователей группы А. Можем предположить, что на группы не влияют аномальные выбросы и траффик распределен корректно."
   ]
  },
  {
   "cell_type": "code",
   "execution_count": 35,
   "metadata": {},
   "outputs": [
    {
     "data": {
      "text/html": [
       "<div>\n",
       "<style scoped>\n",
       "    .dataframe tbody tr th:only-of-type {\n",
       "        vertical-align: middle;\n",
       "    }\n",
       "\n",
       "    .dataframe tbody tr th {\n",
       "        vertical-align: top;\n",
       "    }\n",
       "\n",
       "    .dataframe thead th {\n",
       "        text-align: right;\n",
       "    }\n",
       "</style>\n",
       "<table border=\"1\" class=\"dataframe\">\n",
       "  <thead>\n",
       "    <tr style=\"text-align: right;\">\n",
       "      <th></th>\n",
       "      <th>event_name</th>\n",
       "      <th>event_count</th>\n",
       "      <th>unique_users</th>\n",
       "      <th>next_level_share</th>\n",
       "      <th>next_level_diff</th>\n",
       "    </tr>\n",
       "  </thead>\n",
       "  <tbody>\n",
       "    <tr>\n",
       "      <th>0</th>\n",
       "      <td>MainScreenAppear</td>\n",
       "      <td>40404</td>\n",
       "      <td>2491</td>\n",
       "      <td>0.982643</td>\n",
       "      <td>NaN</td>\n",
       "    </tr>\n",
       "    <tr>\n",
       "      <th>1</th>\n",
       "      <td>OffersScreenAppear</td>\n",
       "      <td>15802</td>\n",
       "      <td>1529</td>\n",
       "      <td>0.603156</td>\n",
       "      <td>0.613810</td>\n",
       "    </tr>\n",
       "    <tr>\n",
       "      <th>2</th>\n",
       "      <td>CartScreenAppear</td>\n",
       "      <td>13662</td>\n",
       "      <td>1228</td>\n",
       "      <td>0.484418</td>\n",
       "      <td>0.803139</td>\n",
       "    </tr>\n",
       "    <tr>\n",
       "      <th>3</th>\n",
       "      <td>PaymentScreenSuccessful</td>\n",
       "      <td>10599</td>\n",
       "      <td>1179</td>\n",
       "      <td>0.465089</td>\n",
       "      <td>0.960098</td>\n",
       "    </tr>\n",
       "  </tbody>\n",
       "</table>\n",
       "</div>"
      ],
      "text/plain": [
       "                event_name  event_count  unique_users  next_level_share  \\\n",
       "0         MainScreenAppear        40404          2491          0.982643   \n",
       "1       OffersScreenAppear        15802          1529          0.603156   \n",
       "2         CartScreenAppear        13662          1228          0.484418   \n",
       "3  PaymentScreenSuccessful        10599          1179          0.465089   \n",
       "\n",
       "   next_level_diff  \n",
       "0              NaN  \n",
       "1         0.613810  \n",
       "2         0.803139  \n",
       "3         0.960098  "
      ]
     },
     "execution_count": 35,
     "metadata": {},
     "output_type": "execute_result"
    }
   ],
   "source": [
    "data_248 = data[data['exp_id'] == 248]\n",
    "total_users = data_248['user_id'].nunique()\n",
    "events_per_type = data_248.groupby('event_name')['user_id'].count().reset_index().sort_values(by='user_id', ascending=False)\n",
    "events_per_type.columns = ['event_name','event_count']\n",
    "users_per_type = data_248.groupby('event_name')['user_id'].nunique().reset_index().sort_values(by='user_id', ascending=False)\n",
    "users_per_type.columns = ['event_name','unique_users']\n",
    "funnel = count_funnel(events_per_type, users_per_type, total_users)\n",
    "funnel"
   ]
  },
  {
   "cell_type": "code",
   "execution_count": 36,
   "metadata": {},
   "outputs": [
    {
     "data": {
      "image/png": "[encoded data removed]",
      "text/plain": [
       "<Figure size 864x432 with 1 Axes>"
      ]
     },
     "metadata": {},
     "output_type": "display_data"
    }
   ],
   "source": [
    "x_max = 4000\n",
    "title = 'Воронка событий для группы B'\n",
    "\n",
    "vis_funnel(x_max, title)"
   ]
  },
  {
   "cell_type": "markdown",
   "metadata": {},
   "source": [
    "Поведение пользователей в контрольной группе исходя из воронки событий также очень похоже. Также, как и в других группах, шагом, где теряется больше всего посетителей, является переход с главной страницы в каталог.\n",
    "<br>\n",
    "<br> Исходя из полученных данных, можно предположить, что посетители в трех группах ведут себя примерно одинаково. Стоит проверить это передположение на статистических тестах."
   ]
  },
  {
   "cell_type": "markdown",
   "metadata": {},
   "source": [
    "## Изучение результата эксперимента"
   ]
  },
  {
   "cell_type": "markdown",
   "metadata": {},
   "source": [
    "Теперь проверим, как показали себя наши группы и выясним, как влияет на активность пользователей изменение шрифта в приложении.\n",
    "<br> Поскольку у нас есть данные о размерах групп и доле пользователей, которые совершили определенные действия, логично использовать z-test и делать проверку гипотезы о равенстве долей. Значение статистической значимости примем на уровне 0.05"
   ]
  },
  {
   "cell_type": "code",
   "execution_count": 37,
   "metadata": {},
   "outputs": [
    {
     "data": {
      "text/html": [
       "<div>\n",
       "<style scoped>\n",
       "    .dataframe tbody tr th:only-of-type {\n",
       "        vertical-align: middle;\n",
       "    }\n",
       "\n",
       "    .dataframe tbody tr th {\n",
       "        vertical-align: top;\n",
       "    }\n",
       "\n",
       "    .dataframe thead th {\n",
       "        text-align: right;\n",
       "    }\n",
       "</style>\n",
       "<table border=\"1\" class=\"dataframe\">\n",
       "  <thead>\n",
       "    <tr style=\"text-align: right;\">\n",
       "      <th></th>\n",
       "      <th>exp_id</th>\n",
       "      <th>user_id</th>\n",
       "    </tr>\n",
       "  </thead>\n",
       "  <tbody>\n",
       "    <tr>\n",
       "      <th>0</th>\n",
       "      <td>246</td>\n",
       "      <td>2482</td>\n",
       "    </tr>\n",
       "    <tr>\n",
       "      <th>1</th>\n",
       "      <td>247</td>\n",
       "      <td>2511</td>\n",
       "    </tr>\n",
       "    <tr>\n",
       "      <th>2</th>\n",
       "      <td>248</td>\n",
       "      <td>2535</td>\n",
       "    </tr>\n",
       "  </tbody>\n",
       "</table>\n",
       "</div>"
      ],
      "text/plain": [
       "   exp_id  user_id\n",
       "0     246     2482\n",
       "1     247     2511\n",
       "2     248     2535"
      ]
     },
     "execution_count": 37,
     "metadata": {},
     "output_type": "execute_result"
    }
   ],
   "source": [
    "data.groupby('exp_id')['user_id'].nunique().reset_index()"
   ]
  },
  {
   "cell_type": "markdown",
   "metadata": {},
   "source": [
    "В каждой группе в районе 2500 пользователей. Проверим, есть ли статистические отличия в контрольных группах.\n",
    "<br>\n",
    "<br> Для начала подготовим данные о долях пользователей, перешедших на следующую страницу. Для проверки будем использовать следующую логику: Сначала пользователь заходит на главную страницу, потом открывает каталог, переходит в корзину, а затем - на страницу успешной оплаты товара. Если в момент оплаты происходит сбой, он идет на страницу с обучением, чтобы разобраться, что пошло не так.\n",
    "<br> Сначала сравним две контрольные группы, чтобы убедиться, что между ними нет существенных различий и на результат эксперимента не влияет ничего, кроме изменения шрифтов в приложении. Проведем сравнение для каждого типа события в выборке. \n",
    "<br>\n",
    "<br> Сформулиреум нулевую и альтернативную гипотезы для каждого типа события:"
   ]
  },
  {
   "cell_type": "code",
   "execution_count": 38,
   "metadata": {},
   "outputs": [
    {
     "data": {
      "text/html": [
       "<div>\n",
       "<style scoped>\n",
       "    .dataframe tbody tr th:only-of-type {\n",
       "        vertical-align: middle;\n",
       "    }\n",
       "\n",
       "    .dataframe tbody tr th {\n",
       "        vertical-align: top;\n",
       "    }\n",
       "\n",
       "    .dataframe thead th {\n",
       "        text-align: right;\n",
       "    }\n",
       "</style>\n",
       "<table border=\"1\" class=\"dataframe\">\n",
       "  <thead>\n",
       "    <tr style=\"text-align: right;\">\n",
       "      <th>exp_id</th>\n",
       "      <th>event_name</th>\n",
       "      <th>246</th>\n",
       "      <th>247</th>\n",
       "      <th>248</th>\n",
       "      <th>246_share</th>\n",
       "      <th>247_share</th>\n",
       "      <th>248_share</th>\n",
       "      <th>246+247</th>\n",
       "      <th>246+247_sahre</th>\n",
       "    </tr>\n",
       "  </thead>\n",
       "  <tbody>\n",
       "    <tr>\n",
       "      <th>1</th>\n",
       "      <td>MainScreenAppear</td>\n",
       "      <td>2448</td>\n",
       "      <td>2474</td>\n",
       "      <td>2491</td>\n",
       "      <td>0.986301</td>\n",
       "      <td>0.985265</td>\n",
       "      <td>0.965680</td>\n",
       "      <td>4922</td>\n",
       "      <td>0.985780</td>\n",
       "    </tr>\n",
       "    <tr>\n",
       "      <th>2</th>\n",
       "      <td>OffersScreenAppear</td>\n",
       "      <td>1540</td>\n",
       "      <td>1518</td>\n",
       "      <td>1529</td>\n",
       "      <td>0.620467</td>\n",
       "      <td>0.604540</td>\n",
       "      <td>0.607495</td>\n",
       "      <td>3058</td>\n",
       "      <td>0.612457</td>\n",
       "    </tr>\n",
       "    <tr>\n",
       "      <th>0</th>\n",
       "      <td>CartScreenAppear</td>\n",
       "      <td>1264</td>\n",
       "      <td>1236</td>\n",
       "      <td>1228</td>\n",
       "      <td>0.509267</td>\n",
       "      <td>0.492234</td>\n",
       "      <td>0.498619</td>\n",
       "      <td>2500</td>\n",
       "      <td>0.500701</td>\n",
       "    </tr>\n",
       "    <tr>\n",
       "      <th>3</th>\n",
       "      <td>PaymentScreenSuccessful</td>\n",
       "      <td>1198</td>\n",
       "      <td>1156</td>\n",
       "      <td>1179</td>\n",
       "      <td>0.482675</td>\n",
       "      <td>0.460374</td>\n",
       "      <td>0.472584</td>\n",
       "      <td>2354</td>\n",
       "      <td>0.471460</td>\n",
       "    </tr>\n",
       "    <tr>\n",
       "      <th>4</th>\n",
       "      <td>Tutorial</td>\n",
       "      <td>278</td>\n",
       "      <td>283</td>\n",
       "      <td>279</td>\n",
       "      <td>0.112006</td>\n",
       "      <td>0.112704</td>\n",
       "      <td>0.109665</td>\n",
       "      <td>561</td>\n",
       "      <td>0.112357</td>\n",
       "    </tr>\n",
       "  </tbody>\n",
       "</table>\n",
       "</div>"
      ],
      "text/plain": [
       "exp_id               event_name   246   247   248  246_share  247_share  \\\n",
       "1              MainScreenAppear  2448  2474  2491   0.986301   0.985265   \n",
       "2            OffersScreenAppear  1540  1518  1529   0.620467   0.604540   \n",
       "0              CartScreenAppear  1264  1236  1228   0.509267   0.492234   \n",
       "3       PaymentScreenSuccessful  1198  1156  1179   0.482675   0.460374   \n",
       "4                      Tutorial   278   283   279   0.112006   0.112704   \n",
       "\n",
       "exp_id  248_share  246+247  246+247_sahre  \n",
       "1        0.965680     4922       0.985780  \n",
       "2        0.607495     3058       0.612457  \n",
       "0        0.498619     2500       0.500701  \n",
       "3        0.472584     2354       0.471460  \n",
       "4        0.109665      561       0.112357  "
      ]
     },
     "execution_count": 38,
     "metadata": {},
     "output_type": "execute_result"
    }
   ],
   "source": [
    "A_unique_users = data[data['exp_id'] == 246]['user_id'].nunique() #общее количество пользователей группы А\n",
    "A1_unique_users = data[data['exp_id'] == 247]['user_id'].nunique() #общее количество пользователей группы А1\n",
    "B_unique_users = data[data['exp_id'] == 248]['user_id'].nunique() #общее количество пользователей группы B\n",
    "\n",
    "groups = (data.pivot_table(index='event_name', columns='exp_id', values='user_id', aggfunc='nunique')\n",
    "          .reset_index()\n",
    "          .sort_values(by=246, ascending=False) #группируем данные по типу события\n",
    "          )\n",
    "groups['246_share'] = groups[246]/A_unique_users #считаем долю переходов для группы A\n",
    "groups['247_share'] = groups[247]/A1_unique_users #считаем долю переходов для группы A1\n",
    "groups['248_share'] = groups[246]/B_unique_users #считаем долю переходов для группы B\n",
    "groups['246+247'] = (groups[246] + groups[247])#считаем суммарное количество уникальных пользователей групп A и A1\n",
    "groups['246+247_sahre'] = (groups[246] + groups[247])/(A_unique_users + A1_unique_users) #считаем долю переходов для групп A и A1\n",
    "\n",
    "groups"
   ]
  },
  {
   "cell_type": "code",
   "execution_count": 39,
   "metadata": {},
   "outputs": [
    {
     "name": "stdout",
     "output_type": "stream",
     "text": [
      "H0: Нет различий между долей пользователей, перешедших на страницу MainScreenAppear в группе А и в группе А1\n",
      "H1: Доля пользователей, перешедших на страницу MainScreenAppear в группе А существенно отличается от доли в группе А1\n",
      "\n",
      "H0: Нет различий между долей пользователей, перешедших на страницу OffersScreenAppear в группе А и в группе А1\n",
      "H1: Доля пользователей, перешедших на страницу OffersScreenAppear в группе А существенно отличается от доли в группе А1\n",
      "\n",
      "H0: Нет различий между долей пользователей, перешедших на страницу CartScreenAppear в группе А и в группе А1\n",
      "H1: Доля пользователей, перешедших на страницу CartScreenAppear в группе А существенно отличается от доли в группе А1\n",
      "\n",
      "H0: Нет различий между долей пользователей, перешедших на страницу PaymentScreenSuccessful в группе А и в группе А1\n",
      "H1: Доля пользователей, перешедших на страницу PaymentScreenSuccessful в группе А существенно отличается от доли в группе А1\n",
      "\n",
      "H0: Нет различий между долей пользователей, перешедших на страницу Tutorial в группе А и в группе А1\n",
      "H1: Доля пользователей, перешедших на страницу Tutorial в группе А существенно отличается от доли в группе А1\n",
      "\n"
     ]
    }
   ],
   "source": [
    "for i in range(len(groups.event_name.values.tolist())):\n",
    "    print('H0: Нет различий между долей пользователей, перешедших на страницу', groups.event_name.values.tolist()[i], 'в группе А и в группе А1')\n",
    "    print('H1: Доля пользователей, перешедших на страницу', groups.event_name.values.tolist()[i], 'в группе А существенно отличается от доли в группе А1')\n",
    "    print()"
   ]
  },
  {
   "cell_type": "code",
   "execution_count": 40,
   "metadata": {},
   "outputs": [],
   "source": [
    "def z_test_check(group_1, group_2, group_1_size, group_2_size, alpha): #задаем формулу для расчета p-value по z-тесту\n",
    "    for i in range(len(groups.event_name.values.tolist())): #определяем длинну цикла по количеству типов событий\n",
    "        count = np.array([group_1[i], group_2[i]]) #задаем значения сравниваемых долей\n",
    "        nobs = np.array([group_1_size, group_2_size]) #задаем значения сравниваемых размеров выборок\n",
    "        value = alpha #задаем уровень значимости\n",
    "        stat, pval = proportions_ztest(count, nobs) #считаем p-value\n",
    "        print('p-value сравнения страниц', groups.event_name.values.tolist()[i] , '{0:0.3f}'.format(pval)) #выводим результат\n"
   ]
  },
  {
   "cell_type": "code",
   "execution_count": 41,
   "metadata": {},
   "outputs": [
    {
     "name": "stdout",
     "output_type": "stream",
     "text": [
      "p-value сравнения страниц MainScreenAppear 0.229\n",
      "p-value сравнения страниц OffersScreenAppear 0.757\n",
      "p-value сравнения страниц CartScreenAppear 0.248\n",
      "p-value сравнения страниц PaymentScreenSuccessful 0.114\n",
      "p-value сравнения страниц Tutorial 0.938\n"
     ]
    }
   ],
   "source": [
    "z_test_check(groups[246], groups[247], A_unique_users, A1_unique_users, .05)"
   ]
  },
  {
   "cell_type": "markdown",
   "metadata": {},
   "source": [
    "p-value в замерах для каждой страницы во всех случаях больше уровня статистической значимости. В случае с переходам на страницу Tutorial p-value стремится к единице. Значит, у нас не получиллось опровергнуть нулевую гипотезу о том, что выборки равны. Можно считать, что между контрольными выборками нет статистически значимых различий,  и мы можем сравнивать их с эксперементальной выборкой.\n",
    "<br>\n",
    "<br> Сформулируем нулевые и альтернативные гипотезы для сравнение контрольной группы А с эскперементальной B"
   ]
  },
  {
   "cell_type": "code",
   "execution_count": 42,
   "metadata": {},
   "outputs": [
    {
     "name": "stdout",
     "output_type": "stream",
     "text": [
      "H0: Нет различий между долей пользователей, перешедших на страницу MainScreenAppear в группе А и в группе B\n",
      "H1: Доля пользователей, перешедших на страницу MainScreenAppear в группе А существенно отличается от доли в группе B\n",
      "\n",
      "H0: Нет различий между долей пользователей, перешедших на страницу OffersScreenAppear в группе А и в группе B\n",
      "H1: Доля пользователей, перешедших на страницу OffersScreenAppear в группе А существенно отличается от доли в группе B\n",
      "\n",
      "H0: Нет различий между долей пользователей, перешедших на страницу CartScreenAppear в группе А и в группе B\n",
      "H1: Доля пользователей, перешедших на страницу CartScreenAppear в группе А существенно отличается от доли в группе B\n",
      "\n",
      "H0: Нет различий между долей пользователей, перешедших на страницу PaymentScreenSuccessful в группе А и в группе B\n",
      "H1: Доля пользователей, перешедших на страницу PaymentScreenSuccessful в группе А существенно отличается от доли в группе B\n",
      "\n",
      "H0: Нет различий между долей пользователей, перешедших на страницу Tutorial в группе А и в группе B\n",
      "H1: Доля пользователей, перешедших на страницу Tutorial в группе А существенно отличается от доли в группе B\n",
      "\n"
     ]
    }
   ],
   "source": [
    "for i in range(len(groups.event_name.values.tolist())):\n",
    "    print('H0: Нет различий между долей пользователей, перешедших на страницу', groups.event_name.values.tolist()[i], 'в группе А и в группе B')\n",
    "    print('H1: Доля пользователей, перешедших на страницу', groups.event_name.values.tolist()[i], 'в группе А существенно отличается от доли в группе B')\n",
    "    print()"
   ]
  },
  {
   "cell_type": "code",
   "execution_count": 43,
   "metadata": {
    "scrolled": true
   },
   "outputs": [
    {
     "name": "stdout",
     "output_type": "stream",
     "text": [
      "p-value сравнения страниц MainScreenAppear 0.078\n",
      "p-value сравнения страниц OffersScreenAppear 0.295\n",
      "p-value сравнения страниц CartScreenAppear 0.208\n",
      "p-value сравнения страниц PaymentScreenSuccessful 0.212\n",
      "p-value сравнения страниц Tutorial 0.826\n"
     ]
    }
   ],
   "source": [
    "z_test_check(groups[246], groups[248], A_unique_users, B_unique_users, .05)"
   ]
  },
  {
   "cell_type": "markdown",
   "metadata": {},
   "source": [
    "Все значения p-value также больше уровня статистической значимости, но для страниц MainScreenAppear значение p-value опасно приближается к заданному альфа. Тем не менее, опровергнуть нулевую гипотезу не получилось. Существенных различий между группами A и B не обнаружено.\n",
    "<br>\n",
    "<br> Сформулируем нулевые и альтернативные гипотезы для сравнение контрольной группы А1 с эскперементальной B"
   ]
  },
  {
   "cell_type": "code",
   "execution_count": 44,
   "metadata": {},
   "outputs": [
    {
     "name": "stdout",
     "output_type": "stream",
     "text": [
      "H0: Нет различий между долей пользователей, перешедших на страницу MainScreenAppear в группе А1 и в группе B\n",
      "H1: Доля пользователей, перешедших на страницу MainScreenAppear в группе А1 существенно отличается от доли в группе B\n",
      "\n",
      "H0: Нет различий между долей пользователей, перешедших на страницу OffersScreenAppear в группе А1 и в группе B\n",
      "H1: Доля пользователей, перешедших на страницу OffersScreenAppear в группе А1 существенно отличается от доли в группе B\n",
      "\n",
      "H0: Нет различий между долей пользователей, перешедших на страницу CartScreenAppear в группе А1 и в группе B\n",
      "H1: Доля пользователей, перешедших на страницу CartScreenAppear в группе А1 существенно отличается от доли в группе B\n",
      "\n",
      "H0: Нет различий между долей пользователей, перешедших на страницу PaymentScreenSuccessful в группе А1 и в группе B\n",
      "H1: Доля пользователей, перешедших на страницу PaymentScreenSuccessful в группе А1 существенно отличается от доли в группе B\n",
      "\n",
      "H0: Нет различий между долей пользователей, перешедших на страницу Tutorial в группе А1 и в группе B\n",
      "H1: Доля пользователей, перешедших на страницу Tutorial в группе А1 существенно отличается от доли в группе B\n",
      "\n"
     ]
    }
   ],
   "source": [
    "for i in range(len(groups.event_name.values.tolist())):\n",
    "    print('H0: Нет различий между долей пользователей, перешедших на страницу', groups.event_name.values.tolist()[i], 'в группе А1 и в группе B')\n",
    "    print('H1: Доля пользователей, перешедших на страницу', groups.event_name.values.tolist()[i], 'в группе А1 существенно отличается от доли в группе B')\n",
    "    print()"
   ]
  },
  {
   "cell_type": "code",
   "execution_count": 45,
   "metadata": {},
   "outputs": [
    {
     "name": "stdout",
     "output_type": "stream",
     "text": [
      "p-value сравнения страниц MainScreenAppear 0.579\n",
      "p-value сравнения страниц OffersScreenAppear 0.459\n",
      "p-value сравнения страниц CartScreenAppear 0.920\n",
      "p-value сравнения страниц PaymentScreenSuccessful 0.737\n",
      "p-value сравнения страниц Tutorial 0.765\n"
     ]
    }
   ],
   "source": [
    "z_test_check(groups[247], groups[248], A1_unique_users, B_unique_users, .05)"
   ]
  },
  {
   "cell_type": "markdown",
   "metadata": {},
   "source": [
    "В сравнении групп A1 и B p-value больше, чем в предыдущем сравнении. Все значения значительно выше уровня статистической значимости, а p-value в выборках по пользователям, перешедшим в корзину стремится к единице. Опровергнуть нулевую гипотезу не получится и можно предположить, что между выборками нет статистически значимых различий.\n",
    "<br>\n",
    "<br> Сформулируем нулевые и альтернативные гипотезы для сравнение объединенной контрольной группы А+А1 с эскперементальной B"
   ]
  },
  {
   "cell_type": "code",
   "execution_count": 46,
   "metadata": {},
   "outputs": [
    {
     "name": "stdout",
     "output_type": "stream",
     "text": [
      "H0: Нет различий между долей пользователей, перешедших на страницу MainScreenAppear в группе А+A1 и в группе B\n",
      "H1: Доля пользователей, перешедших на страницу MainScreenAppear в группе А+A1 существенно отличается от доли в группе B\n",
      "\n",
      "H0: Нет различий между долей пользователей, перешедших на страницу OffersScreenAppear в группе А+A1 и в группе B\n",
      "H1: Доля пользователей, перешедших на страницу OffersScreenAppear в группе А+A1 существенно отличается от доли в группе B\n",
      "\n",
      "H0: Нет различий между долей пользователей, перешедших на страницу CartScreenAppear в группе А+A1 и в группе B\n",
      "H1: Доля пользователей, перешедших на страницу CartScreenAppear в группе А+A1 существенно отличается от доли в группе B\n",
      "\n",
      "H0: Нет различий между долей пользователей, перешедших на страницу PaymentScreenSuccessful в группе А+A1 и в группе B\n",
      "H1: Доля пользователей, перешедших на страницу PaymentScreenSuccessful в группе А+A1 существенно отличается от доли в группе B\n",
      "\n",
      "H0: Нет различий между долей пользователей, перешедших на страницу Tutorial в группе А+A1 и в группе B\n",
      "H1: Доля пользователей, перешедших на страницу Tutorial в группе А+A1 существенно отличается от доли в группе B\n",
      "\n"
     ]
    }
   ],
   "source": [
    "for i in range(len(groups.event_name.values.tolist())):\n",
    "    print('H0: Нет различий между долей пользователей, перешедших на страницу', groups.event_name.values.tolist()[i], 'в группе А+A1 и в группе B')\n",
    "    print('H1: Доля пользователей, перешедших на страницу', groups.event_name.values.tolist()[i], 'в группе А+A1 существенно отличается от доли в группе B')\n",
    "    print()"
   ]
  },
  {
   "cell_type": "code",
   "execution_count": 47,
   "metadata": {},
   "outputs": [
    {
     "name": "stdout",
     "output_type": "stream",
     "text": [
      "p-value сравнения страниц MainScreenAppear 0.182\n",
      "p-value сравнения страниц OffersScreenAppear 0.294\n",
      "p-value сравнения страниц CartScreenAppear 0.434\n",
      "p-value сравнения страниц PaymentScreenSuccessful 0.601\n",
      "p-value сравнения страниц Tutorial 0.765\n"
     ]
    }
   ],
   "source": [
    "z_test_check(groups['246+247'], groups[248], A_unique_users + A1_unique_users, B_unique_users, .05)"
   ]
  },
  {
   "cell_type": "markdown",
   "metadata": {},
   "source": [
    "Результаты сравнения эксперементальной группы с объединенной контрольной группой также находятся в пределах заданного уровня статистической значимости. То есть, и в этих расчетах не получилось опровергнуть нулевую гипотезу, и статистически значимых различий между выборками нет."
   ]
  },
  {
   "cell_type": "markdown",
   "metadata": {},
   "source": [
    "## Вывод"
   ]
  },
  {
   "cell_type": "markdown",
   "metadata": {},
   "source": [
    "Мы изучили выгрузку логов работы приложения, обнаружили в ней дубликаты и аномально активных пользователей, нормализовали данные, построили воронки событий для всей выборки и для каждой группы.\n",
    "<br> Больше всего пользователей заходят на главную страницу, меньше всего - на обучающую страницу.\n",
    "<br> Наибольшие потери в количестве пользователей происходят при переходе с главной страницы в каталог. \n",
    "<br> Меньше всего пользователей уходит при переходе от корзины к странице успешной оплаты товаров. \n",
    "<br> Существуют клиенты, которые не пользуются стандартным маршрутом Главная - Каталог - Корзина - Успешная оплата, а попадают на страницы, не побывав на предыдущем уровне. Стоит изучить такие случаи и найти им объяснения.\n",
    "<br>\n",
    "<br> z-тесты сравнения долей пользователей, переходивших на разные страницы в контрольных и эксперементальной группах не выявили статистически значимых различий между группами. \n",
    "<br> Наибольшее сходство наблюдается в поведении пользователей, переходящих на страницу с обучением, наименьший результат p-value зафиксирован для пользователей, переходящих на главную страницу. \n",
    "<br> Между группами A1 и B обнаружено больше сходства, чем между двумя контрольными группами A и A1. \n",
    "<br> Изменение шрифта приложения не повлияло на поведение пользователей и можно вводить новый внешний вид приложения для всех. С другой стороны, если нет никакой разницы, зачем проводить трудоемкие изменения? Оставим этот вопрос для обсуждения всей командой."
   ]
  }
 ],
 "metadata": {
  "ExecuteTimeLog": [
   {
    "duration": 1251,
    "start_time": "2022-10-22T06:30:22.998Z"
   },
   {
    "duration": 638,
    "start_time": "2022-10-22T06:30:24.252Z"
   },
   {
    "duration": 10,
    "start_time": "2022-10-22T06:30:24.892Z"
   },
   {
    "duration": 20,
    "start_time": "2022-10-22T06:30:24.903Z"
   },
   {
    "duration": 7,
    "start_time": "2022-10-22T06:30:24.925Z"
   },
   {
    "duration": 15,
    "start_time": "2022-10-22T06:30:24.933Z"
   },
   {
    "duration": 59,
    "start_time": "2022-10-22T06:30:24.949Z"
   },
   {
    "duration": 77,
    "start_time": "2022-10-22T06:30:25.010Z"
   },
   {
    "duration": 17,
    "start_time": "2022-10-22T06:30:25.089Z"
   },
   {
    "duration": 36,
    "start_time": "2022-10-22T06:30:25.107Z"
   },
   {
    "duration": 27,
    "start_time": "2022-10-22T06:30:25.144Z"
   },
   {
    "duration": 6,
    "start_time": "2022-10-22T06:30:25.173Z"
   },
   {
    "duration": 1043,
    "start_time": "2022-10-22T06:30:25.181Z"
   },
   {
    "duration": 18,
    "start_time": "2022-10-22T06:30:26.234Z"
   },
   {
    "duration": 11,
    "start_time": "2022-10-22T06:30:26.254Z"
   },
   {
    "duration": 33,
    "start_time": "2022-10-22T06:30:26.267Z"
   },
   {
    "duration": 31,
    "start_time": "2022-10-22T06:30:26.302Z"
   },
   {
    "duration": 5,
    "start_time": "2022-10-22T06:30:26.335Z"
   },
   {
    "duration": 36,
    "start_time": "2022-10-22T06:30:26.341Z"
   },
   {
    "duration": 30,
    "start_time": "2022-10-22T06:30:26.378Z"
   },
   {
    "duration": 32,
    "start_time": "2022-10-22T06:30:26.410Z"
   },
   {
    "duration": 43,
    "start_time": "2022-10-22T06:30:26.443Z"
   },
   {
    "duration": 50,
    "start_time": "2022-10-22T06:30:26.487Z"
   },
   {
    "duration": 34,
    "start_time": "2022-10-22T06:30:26.538Z"
   },
   {
    "duration": 19,
    "start_time": "2022-10-22T06:30:26.574Z"
   },
   {
    "duration": 19,
    "start_time": "2022-10-22T06:30:26.594Z"
   },
   {
    "duration": 3,
    "start_time": "2022-10-22T06:30:26.634Z"
   },
   {
    "duration": 22,
    "start_time": "2022-10-22T06:30:26.638Z"
   },
   {
    "duration": 5,
    "start_time": "2022-10-22T06:30:26.662Z"
   },
   {
    "duration": 154,
    "start_time": "2022-10-22T06:30:26.668Z"
   },
   {
    "duration": 41,
    "start_time": "2022-10-22T06:30:26.823Z"
   },
   {
    "duration": 138,
    "start_time": "2022-10-22T06:30:26.865Z"
   },
   {
    "duration": 53,
    "start_time": "2022-10-22T06:30:27.005Z"
   },
   {
    "duration": 128,
    "start_time": "2022-10-22T06:30:27.059Z"
   },
   {
    "duration": 52,
    "start_time": "2022-10-22T06:30:27.189Z"
   },
   {
    "duration": 135,
    "start_time": "2022-10-22T06:30:27.243Z"
   },
   {
    "duration": 37,
    "start_time": "2022-10-22T06:30:27.380Z"
   },
   {
    "duration": 117,
    "start_time": "2022-10-22T06:30:27.418Z"
   },
   {
    "duration": 5,
    "start_time": "2022-10-22T06:30:27.537Z"
   },
   {
    "duration": 5,
    "start_time": "2022-10-22T06:30:27.544Z"
   },
   {
    "duration": 9,
    "start_time": "2022-10-22T06:30:27.552Z"
   },
   {
    "duration": 10,
    "start_time": "2022-10-22T06:30:27.563Z"
   },
   {
    "duration": 7,
    "start_time": "2022-10-22T06:30:27.574Z"
   },
   {
    "duration": 7,
    "start_time": "2022-10-22T06:30:27.582Z"
   },
   {
    "duration": 46,
    "start_time": "2022-10-22T06:30:27.590Z"
   },
   {
    "duration": 8,
    "start_time": "2022-10-22T06:30:27.638Z"
   },
   {
    "duration": 7,
    "start_time": "2022-10-22T06:30:27.647Z"
   },
   {
    "duration": 1289,
    "start_time": "2022-10-23T13:16:31.279Z"
   },
   {
    "duration": 759,
    "start_time": "2022-10-23T13:16:32.570Z"
   },
   {
    "duration": 11,
    "start_time": "2022-10-23T13:16:33.331Z"
   },
   {
    "duration": 37,
    "start_time": "2022-10-23T13:16:33.344Z"
   },
   {
    "duration": 10,
    "start_time": "2022-10-23T13:16:33.382Z"
   },
   {
    "duration": 34,
    "start_time": "2022-10-23T13:16:33.393Z"
   },
   {
    "duration": 73,
    "start_time": "2022-10-23T13:16:33.428Z"
   },
   {
    "duration": 64,
    "start_time": "2022-10-23T13:16:33.503Z"
   },
   {
    "duration": 17,
    "start_time": "2022-10-23T13:16:33.569Z"
   },
   {
    "duration": 32,
    "start_time": "2022-10-23T13:16:33.589Z"
   },
   {
    "duration": 45,
    "start_time": "2022-10-23T13:16:33.622Z"
   },
   {
    "duration": 6,
    "start_time": "2022-10-23T13:16:33.668Z"
   },
   {
    "duration": 1104,
    "start_time": "2022-10-23T13:16:33.676Z"
   },
   {
    "duration": 14,
    "start_time": "2022-10-23T13:16:34.781Z"
   },
   {
    "duration": 25,
    "start_time": "2022-10-23T13:16:34.797Z"
   },
   {
    "duration": 27,
    "start_time": "2022-10-23T13:16:34.823Z"
   },
   {
    "duration": 16,
    "start_time": "2022-10-23T13:16:34.852Z"
   },
   {
    "duration": 7,
    "start_time": "2022-10-23T13:16:34.869Z"
   },
   {
    "duration": 54,
    "start_time": "2022-10-23T13:16:34.878Z"
   },
   {
    "duration": 30,
    "start_time": "2022-10-23T13:16:34.934Z"
   },
   {
    "duration": 16,
    "start_time": "2022-10-23T13:16:34.966Z"
   },
   {
    "duration": 47,
    "start_time": "2022-10-23T13:16:34.984Z"
   },
   {
    "duration": 55,
    "start_time": "2022-10-23T13:16:35.032Z"
   },
   {
    "duration": 48,
    "start_time": "2022-10-23T13:16:35.089Z"
   },
   {
    "duration": 21,
    "start_time": "2022-10-23T13:16:35.138Z"
   },
   {
    "duration": 35,
    "start_time": "2022-10-23T13:16:35.161Z"
   },
   {
    "duration": 9,
    "start_time": "2022-10-23T13:16:35.198Z"
   },
   {
    "duration": 34,
    "start_time": "2022-10-23T13:16:35.210Z"
   },
   {
    "duration": 8,
    "start_time": "2022-10-23T13:16:35.245Z"
   },
   {
    "duration": 155,
    "start_time": "2022-10-23T13:16:35.255Z"
   },
   {
    "duration": 44,
    "start_time": "2022-10-23T13:16:35.412Z"
   },
   {
    "duration": 144,
    "start_time": "2022-10-23T13:16:35.458Z"
   },
   {
    "duration": 61,
    "start_time": "2022-10-23T13:16:35.604Z"
   },
   {
    "duration": 142,
    "start_time": "2022-10-23T13:16:35.667Z"
   },
   {
    "duration": 49,
    "start_time": "2022-10-23T13:16:35.811Z"
   },
   {
    "duration": 157,
    "start_time": "2022-10-23T13:16:35.862Z"
   },
   {
    "duration": 37,
    "start_time": "2022-10-23T13:16:36.021Z"
   },
   {
    "duration": 130,
    "start_time": "2022-10-23T13:16:36.060Z"
   },
   {
    "duration": 12,
    "start_time": "2022-10-23T13:16:36.192Z"
   },
   {
    "duration": 24,
    "start_time": "2022-10-23T13:16:36.209Z"
   },
   {
    "duration": 16,
    "start_time": "2022-10-23T13:16:36.235Z"
   },
   {
    "duration": 19,
    "start_time": "2022-10-23T13:16:36.252Z"
   },
   {
    "duration": 22,
    "start_time": "2022-10-23T13:16:36.273Z"
   },
   {
    "duration": 16,
    "start_time": "2022-10-23T13:16:36.297Z"
   },
   {
    "duration": 28,
    "start_time": "2022-10-23T13:16:36.315Z"
   },
   {
    "duration": 27,
    "start_time": "2022-10-23T13:16:36.344Z"
   },
   {
    "duration": 15,
    "start_time": "2022-10-23T13:16:36.372Z"
   }
  ],
  "kernelspec": {
   "display_name": "Python 3 (ipykernel)",
   "language": "python",
   "name": "python3"
  },
  "language_info": {
   "codemirror_mode": {
    "name": "ipython",
    "version": 3
   },
   "file_extension": ".py",
   "mimetype": "text/x-python",
   "name": "python",
   "nbconvert_exporter": "python",
   "pygments_lexer": "ipython3",
   "version": "3.9.12"
  },
  "toc": {
   "base_numbering": 1,
   "nav_menu": {},
   "number_sections": true,
   "sideBar": true,
   "skip_h1_title": true,
   "title_cell": "Table of Contents",
   "title_sidebar": "Contents",
   "toc_cell": false,
   "toc_position": {},
   "toc_section_display": true,
   "toc_window_display": false
  }
 },
 "nbformat": 4,
 "nbformat_minor": 2
}
