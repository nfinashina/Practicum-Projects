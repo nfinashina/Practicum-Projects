{
 "cells": [
  {
   "cell_type": "markdown",
   "metadata": {},
   "source": [
    "# Принятие решений в бизнесе"
   ]
  },
  {
   "cell_type": "markdown",
   "metadata": {},
   "source": [
    "Перед нами поставлена задача изучить и приоретизировать гипотезы, которые сформулировали и оценили по критериям Reach, Impact, Confidence, Efforts наши коллеги. Также у нас есть данные о проведении A/B теста одной из гипотез, которые необходимо визуализировать и дать оценку эффективности предлагаемых изменений.\n",
    "<br> У нас есть три исходных файла: гипотезы с критериями, данные о заказах, разделенные по группам и данные о посетителях, разделенные по группам.\n",
    "<br> Перед началом работы с данными мы изучим содержимое исходных файлов и проведем необходимую предобработку.\n",
    "<br> В процессе приоретизации гипотез мы применим фреймворки ICE и RICE и выберем гипотезу, набравшую наибольшее количество баллво в совокупности.\n",
    "<br> В процессе оценки A/B теста мы построим графики для сравнения среднего количества заказов и среднего чека в разных группах используя полные данные, а потом уберем экстремумы.\n",
    "<br> Также посчитаем p-value и относительное различие для каждого варианта, чтобы подтвердить или опровергнуть идентичность выборок по группам.\n",
    "<br> Изучив результат, сделаем вывод о состоятельности гипотезы."
   ]
  },
  {
   "cell_type": "markdown",
   "metadata": {},
   "source": [
    "Для начала выгрузим необходимые библиотеки и загрузим исходные данные."
   ]
  },
  {
   "cell_type": "code",
   "execution_count": 1,
   "metadata": {},
   "outputs": [],
   "source": [
    "import pandas as pd\n",
    "import numpy as np\n",
    "import math as mth\n",
    "import matplotlib.pyplot as plt\n",
    "import seaborn as sns\n",
    "import datetime as dt\n",
    "import openpyxl\n",
    "from pandas.plotting import register_matplotlib_converters\n",
    "from matplotlib.ticker import FormatStrFormatter\n",
    "from matplotlib.pyplot import figure\n",
    "import scipy.stats as stats\n",
    "import warnings\n",
    "\n",
    "register_matplotlib_converters()\n",
    "\n",
    "pd.options.display.max_colwidth = 110"
   ]
  },
  {
   "cell_type": "markdown",
   "metadata": {},
   "source": [
    "Загрузим исходные данные (вырианты для просмотра локально и через браузер)"
   ]
  },
  {
   "cell_type": "code",
   "execution_count": 2,
   "metadata": {},
   "outputs": [],
   "source": [
    "try:\n",
    "    hypothesis = pd.read_csv('hypothesis.csv')\n",
    "except:\n",
    "    hypothesis = pd.read_csv('/datasets/hypothesis.csv')\n",
    "try:\n",
    "    orders = pd.read_csv('orders.csv')\n",
    "except:\n",
    "    orders = pd.read_csv('/datasets/orders.csv')\n",
    "try:\n",
    "    visitors = pd.read_csv('visitors.csv')\n",
    "except:\n",
    "    visitors = pd.read_csv('/datasets/visitors.csv')"
   ]
  },
  {
   "cell_type": "markdown",
   "metadata": {},
   "source": [
    "## Предобработка данных"
   ]
  },
  {
   "cell_type": "markdown",
   "metadata": {},
   "source": [
    "Посмотрим внимательнее на исходные данные. Возможно, там нужны какие-то доработки"
   ]
  },
  {
   "cell_type": "code",
   "execution_count": 3,
   "metadata": {},
   "outputs": [
    {
     "data": {
      "text/html": [
       "<div>\n",
       "<style scoped>\n",
       "    .dataframe tbody tr th:only-of-type {\n",
       "        vertical-align: middle;\n",
       "    }\n",
       "\n",
       "    .dataframe tbody tr th {\n",
       "        vertical-align: top;\n",
       "    }\n",
       "\n",
       "    .dataframe thead th {\n",
       "        text-align: right;\n",
       "    }\n",
       "</style>\n",
       "<table border=\"1\" class=\"dataframe\">\n",
       "  <thead>\n",
       "    <tr style=\"text-align: right;\">\n",
       "      <th></th>\n",
       "      <th>Hypothesis</th>\n",
       "      <th>Reach</th>\n",
       "      <th>Impact</th>\n",
       "      <th>Confidence</th>\n",
       "      <th>Efforts</th>\n",
       "    </tr>\n",
       "  </thead>\n",
       "  <tbody>\n",
       "    <tr>\n",
       "      <th>0</th>\n",
       "      <td>Добавить два новых канала привлечения трафика, что позволит привлекать на 30% больше пользователей</td>\n",
       "      <td>3</td>\n",
       "      <td>10</td>\n",
       "      <td>8</td>\n",
       "      <td>6</td>\n",
       "    </tr>\n",
       "    <tr>\n",
       "      <th>1</th>\n",
       "      <td>Запустить собственную службу доставки, что сократит срок доставки заказов</td>\n",
       "      <td>2</td>\n",
       "      <td>5</td>\n",
       "      <td>4</td>\n",
       "      <td>10</td>\n",
       "    </tr>\n",
       "    <tr>\n",
       "      <th>2</th>\n",
       "      <td>Добавить блоки рекомендаций товаров на сайт интернет магазина, чтобы повысить конверсию и средний чек заказа</td>\n",
       "      <td>8</td>\n",
       "      <td>3</td>\n",
       "      <td>7</td>\n",
       "      <td>3</td>\n",
       "    </tr>\n",
       "    <tr>\n",
       "      <th>3</th>\n",
       "      <td>Изменить структура категорий, что увеличит конверсию, т.к. пользователи быстрее найдут нужный товар</td>\n",
       "      <td>8</td>\n",
       "      <td>3</td>\n",
       "      <td>3</td>\n",
       "      <td>8</td>\n",
       "    </tr>\n",
       "    <tr>\n",
       "      <th>4</th>\n",
       "      <td>Изменить цвет фона главной страницы, чтобы увеличить вовлеченность пользователей</td>\n",
       "      <td>3</td>\n",
       "      <td>1</td>\n",
       "      <td>1</td>\n",
       "      <td>1</td>\n",
       "    </tr>\n",
       "    <tr>\n",
       "      <th>5</th>\n",
       "      <td>Добавить страницу отзывов клиентов о магазине, что позволит увеличить количество заказов</td>\n",
       "      <td>3</td>\n",
       "      <td>2</td>\n",
       "      <td>2</td>\n",
       "      <td>3</td>\n",
       "    </tr>\n",
       "    <tr>\n",
       "      <th>6</th>\n",
       "      <td>Показать на главной странице баннеры с актуальными акциями и распродажами, чтобы увеличить конверсию</td>\n",
       "      <td>5</td>\n",
       "      <td>3</td>\n",
       "      <td>8</td>\n",
       "      <td>3</td>\n",
       "    </tr>\n",
       "    <tr>\n",
       "      <th>7</th>\n",
       "      <td>Добавить форму подписки на все основные страницы, чтобы собрать базу клиентов для email-рассылок</td>\n",
       "      <td>10</td>\n",
       "      <td>7</td>\n",
       "      <td>8</td>\n",
       "      <td>5</td>\n",
       "    </tr>\n",
       "    <tr>\n",
       "      <th>8</th>\n",
       "      <td>Запустить акцию, дающую скидку на товар в день рождения</td>\n",
       "      <td>1</td>\n",
       "      <td>9</td>\n",
       "      <td>9</td>\n",
       "      <td>5</td>\n",
       "    </tr>\n",
       "  </tbody>\n",
       "</table>\n",
       "</div>"
      ],
      "text/plain": [
       "                                                                                                     Hypothesis  \\\n",
       "0            Добавить два новых канала привлечения трафика, что позволит привлекать на 30% больше пользователей   \n",
       "1                                     Запустить собственную службу доставки, что сократит срок доставки заказов   \n",
       "2  Добавить блоки рекомендаций товаров на сайт интернет магазина, чтобы повысить конверсию и средний чек заказа   \n",
       "3           Изменить структура категорий, что увеличит конверсию, т.к. пользователи быстрее найдут нужный товар   \n",
       "4                              Изменить цвет фона главной страницы, чтобы увеличить вовлеченность пользователей   \n",
       "5                      Добавить страницу отзывов клиентов о магазине, что позволит увеличить количество заказов   \n",
       "6          Показать на главной странице баннеры с актуальными акциями и распродажами, чтобы увеличить конверсию   \n",
       "7              Добавить форму подписки на все основные страницы, чтобы собрать базу клиентов для email-рассылок   \n",
       "8                                                       Запустить акцию, дающую скидку на товар в день рождения   \n",
       "\n",
       "   Reach  Impact  Confidence  Efforts  \n",
       "0      3      10           8        6  \n",
       "1      2       5           4       10  \n",
       "2      8       3           7        3  \n",
       "3      8       3           3        8  \n",
       "4      3       1           1        1  \n",
       "5      3       2           2        3  \n",
       "6      5       3           8        3  \n",
       "7     10       7           8        5  \n",
       "8      1       9           9        5  "
      ]
     },
     "execution_count": 3,
     "metadata": {},
     "output_type": "execute_result"
    }
   ],
   "source": [
    "hypothesis"
   ]
  },
  {
   "cell_type": "markdown",
   "metadata": {},
   "source": [
    "Датасет с гипотезами небольшой, его можно просмотреть глазами. Доработок не требуется"
   ]
  },
  {
   "cell_type": "code",
   "execution_count": 4,
   "metadata": {},
   "outputs": [
    {
     "data": {
      "text/html": [
       "<div>\n",
       "<style scoped>\n",
       "    .dataframe tbody tr th:only-of-type {\n",
       "        vertical-align: middle;\n",
       "    }\n",
       "\n",
       "    .dataframe tbody tr th {\n",
       "        vertical-align: top;\n",
       "    }\n",
       "\n",
       "    .dataframe thead th {\n",
       "        text-align: right;\n",
       "    }\n",
       "</style>\n",
       "<table border=\"1\" class=\"dataframe\">\n",
       "  <thead>\n",
       "    <tr style=\"text-align: right;\">\n",
       "      <th></th>\n",
       "      <th>transactionId</th>\n",
       "      <th>visitorId</th>\n",
       "      <th>date</th>\n",
       "      <th>revenue</th>\n",
       "      <th>group</th>\n",
       "    </tr>\n",
       "  </thead>\n",
       "  <tbody>\n",
       "    <tr>\n",
       "      <th>0</th>\n",
       "      <td>3667963787</td>\n",
       "      <td>3312258926</td>\n",
       "      <td>2019-08-15</td>\n",
       "      <td>1650</td>\n",
       "      <td>B</td>\n",
       "    </tr>\n",
       "    <tr>\n",
       "      <th>1</th>\n",
       "      <td>2804400009</td>\n",
       "      <td>3642806036</td>\n",
       "      <td>2019-08-15</td>\n",
       "      <td>730</td>\n",
       "      <td>B</td>\n",
       "    </tr>\n",
       "    <tr>\n",
       "      <th>2</th>\n",
       "      <td>2961555356</td>\n",
       "      <td>4069496402</td>\n",
       "      <td>2019-08-15</td>\n",
       "      <td>400</td>\n",
       "      <td>A</td>\n",
       "    </tr>\n",
       "    <tr>\n",
       "      <th>3</th>\n",
       "      <td>3797467345</td>\n",
       "      <td>1196621759</td>\n",
       "      <td>2019-08-15</td>\n",
       "      <td>9759</td>\n",
       "      <td>B</td>\n",
       "    </tr>\n",
       "    <tr>\n",
       "      <th>4</th>\n",
       "      <td>2282983706</td>\n",
       "      <td>2322279887</td>\n",
       "      <td>2019-08-15</td>\n",
       "      <td>2308</td>\n",
       "      <td>B</td>\n",
       "    </tr>\n",
       "  </tbody>\n",
       "</table>\n",
       "</div>"
      ],
      "text/plain": [
       "   transactionId   visitorId        date  revenue group\n",
       "0     3667963787  3312258926  2019-08-15     1650     B\n",
       "1     2804400009  3642806036  2019-08-15      730     B\n",
       "2     2961555356  4069496402  2019-08-15      400     A\n",
       "3     3797467345  1196621759  2019-08-15     9759     B\n",
       "4     2282983706  2322279887  2019-08-15     2308     B"
      ]
     },
     "execution_count": 4,
     "metadata": {},
     "output_type": "execute_result"
    }
   ],
   "source": [
    "orders.head()"
   ]
  },
  {
   "cell_type": "code",
   "execution_count": 5,
   "metadata": {},
   "outputs": [
    {
     "name": "stdout",
     "output_type": "stream",
     "text": [
      "<class 'pandas.core.frame.DataFrame'>\n",
      "RangeIndex: 1197 entries, 0 to 1196\n",
      "Data columns (total 5 columns):\n",
      " #   Column         Non-Null Count  Dtype \n",
      "---  ------         --------------  ----- \n",
      " 0   transactionId  1197 non-null   int64 \n",
      " 1   visitorId      1197 non-null   int64 \n",
      " 2   date           1197 non-null   object\n",
      " 3   revenue        1197 non-null   int64 \n",
      " 4   group          1197 non-null   object\n",
      "dtypes: int64(3), object(2)\n",
      "memory usage: 46.9+ KB\n"
     ]
    }
   ],
   "source": [
    "orders.info()"
   ]
  },
  {
   "cell_type": "code",
   "execution_count": 6,
   "metadata": {},
   "outputs": [
    {
     "data": {
      "text/plain": [
       "0"
      ]
     },
     "execution_count": 6,
     "metadata": {},
     "output_type": "execute_result"
    }
   ],
   "source": [
    "orders.duplicated().sum()"
   ]
  },
  {
   "cell_type": "markdown",
   "metadata": {},
   "source": [
    "В данных по заказам нет дубликатов и незаполненных строк. Переименуем столбцы и переведем дату в формат даты."
   ]
  },
  {
   "cell_type": "code",
   "execution_count": 7,
   "metadata": {},
   "outputs": [],
   "source": [
    "orders.columns = orders.columns.str.replace('I', '_i')\n",
    "\n",
    "orders['date'] = orders['date'].map(lambda x: dt.datetime.strptime(x, '%Y-%m-%d'))"
   ]
  },
  {
   "cell_type": "code",
   "execution_count": 8,
   "metadata": {},
   "outputs": [
    {
     "data": {
      "text/html": [
       "<div>\n",
       "<style scoped>\n",
       "    .dataframe tbody tr th:only-of-type {\n",
       "        vertical-align: middle;\n",
       "    }\n",
       "\n",
       "    .dataframe tbody tr th {\n",
       "        vertical-align: top;\n",
       "    }\n",
       "\n",
       "    .dataframe thead th {\n",
       "        text-align: right;\n",
       "    }\n",
       "</style>\n",
       "<table border=\"1\" class=\"dataframe\">\n",
       "  <thead>\n",
       "    <tr style=\"text-align: right;\">\n",
       "      <th></th>\n",
       "      <th>date</th>\n",
       "      <th>group</th>\n",
       "      <th>visitors</th>\n",
       "    </tr>\n",
       "  </thead>\n",
       "  <tbody>\n",
       "    <tr>\n",
       "      <th>0</th>\n",
       "      <td>2019-08-01</td>\n",
       "      <td>A</td>\n",
       "      <td>719</td>\n",
       "    </tr>\n",
       "    <tr>\n",
       "      <th>1</th>\n",
       "      <td>2019-08-02</td>\n",
       "      <td>A</td>\n",
       "      <td>619</td>\n",
       "    </tr>\n",
       "    <tr>\n",
       "      <th>2</th>\n",
       "      <td>2019-08-03</td>\n",
       "      <td>A</td>\n",
       "      <td>507</td>\n",
       "    </tr>\n",
       "    <tr>\n",
       "      <th>3</th>\n",
       "      <td>2019-08-04</td>\n",
       "      <td>A</td>\n",
       "      <td>717</td>\n",
       "    </tr>\n",
       "    <tr>\n",
       "      <th>4</th>\n",
       "      <td>2019-08-05</td>\n",
       "      <td>A</td>\n",
       "      <td>756</td>\n",
       "    </tr>\n",
       "    <tr>\n",
       "      <th>...</th>\n",
       "      <td>...</td>\n",
       "      <td>...</td>\n",
       "      <td>...</td>\n",
       "    </tr>\n",
       "    <tr>\n",
       "      <th>57</th>\n",
       "      <td>2019-08-27</td>\n",
       "      <td>B</td>\n",
       "      <td>720</td>\n",
       "    </tr>\n",
       "    <tr>\n",
       "      <th>58</th>\n",
       "      <td>2019-08-28</td>\n",
       "      <td>B</td>\n",
       "      <td>654</td>\n",
       "    </tr>\n",
       "    <tr>\n",
       "      <th>59</th>\n",
       "      <td>2019-08-29</td>\n",
       "      <td>B</td>\n",
       "      <td>531</td>\n",
       "    </tr>\n",
       "    <tr>\n",
       "      <th>60</th>\n",
       "      <td>2019-08-30</td>\n",
       "      <td>B</td>\n",
       "      <td>490</td>\n",
       "    </tr>\n",
       "    <tr>\n",
       "      <th>61</th>\n",
       "      <td>2019-08-31</td>\n",
       "      <td>B</td>\n",
       "      <td>718</td>\n",
       "    </tr>\n",
       "  </tbody>\n",
       "</table>\n",
       "<p>62 rows × 3 columns</p>\n",
       "</div>"
      ],
      "text/plain": [
       "          date group  visitors\n",
       "0   2019-08-01     A       719\n",
       "1   2019-08-02     A       619\n",
       "2   2019-08-03     A       507\n",
       "3   2019-08-04     A       717\n",
       "4   2019-08-05     A       756\n",
       "..         ...   ...       ...\n",
       "57  2019-08-27     B       720\n",
       "58  2019-08-28     B       654\n",
       "59  2019-08-29     B       531\n",
       "60  2019-08-30     B       490\n",
       "61  2019-08-31     B       718\n",
       "\n",
       "[62 rows x 3 columns]"
      ]
     },
     "execution_count": 8,
     "metadata": {},
     "output_type": "execute_result"
    }
   ],
   "source": [
    "visitors"
   ]
  },
  {
   "cell_type": "code",
   "execution_count": 9,
   "metadata": {},
   "outputs": [
    {
     "name": "stdout",
     "output_type": "stream",
     "text": [
      "<class 'pandas.core.frame.DataFrame'>\n",
      "RangeIndex: 62 entries, 0 to 61\n",
      "Data columns (total 3 columns):\n",
      " #   Column    Non-Null Count  Dtype \n",
      "---  ------    --------------  ----- \n",
      " 0   date      62 non-null     object\n",
      " 1   group     62 non-null     object\n",
      " 2   visitors  62 non-null     int64 \n",
      "dtypes: int64(1), object(2)\n",
      "memory usage: 1.6+ KB\n"
     ]
    }
   ],
   "source": [
    "visitors.info()"
   ]
  },
  {
   "cell_type": "code",
   "execution_count": 10,
   "metadata": {},
   "outputs": [
    {
     "data": {
      "text/plain": [
       "0"
      ]
     },
     "execution_count": 10,
     "metadata": {},
     "output_type": "execute_result"
    }
   ],
   "source": [
    "visitors.duplicated().sum()"
   ]
  },
  {
   "cell_type": "markdown",
   "metadata": {},
   "source": [
    "С данными о посетителях проведем аналогичные преобразования - поменяем формат в столбце дата."
   ]
  },
  {
   "cell_type": "code",
   "execution_count": 11,
   "metadata": {},
   "outputs": [],
   "source": [
    "visitors['date'] = visitors['date'].map(lambda x: dt.datetime.strptime(x, '%Y-%m-%d'))"
   ]
  },
  {
   "cell_type": "markdown",
   "metadata": {},
   "source": [
    "Проверим, есть ли посетители, которые попали в обе группы"
   ]
  },
  {
   "cell_type": "code",
   "execution_count": 12,
   "metadata": {},
   "outputs": [
    {
     "data": {
      "text/html": [
       "<div>\n",
       "<style scoped>\n",
       "    .dataframe tbody tr th:only-of-type {\n",
       "        vertical-align: middle;\n",
       "    }\n",
       "\n",
       "    .dataframe tbody tr th {\n",
       "        vertical-align: top;\n",
       "    }\n",
       "\n",
       "    .dataframe thead th {\n",
       "        text-align: right;\n",
       "    }\n",
       "</style>\n",
       "<table border=\"1\" class=\"dataframe\">\n",
       "  <thead>\n",
       "    <tr style=\"text-align: right;\">\n",
       "      <th></th>\n",
       "      <th>visitor_id</th>\n",
       "      <th>group</th>\n",
       "    </tr>\n",
       "  </thead>\n",
       "  <tbody>\n",
       "    <tr>\n",
       "      <th>2</th>\n",
       "      <td>8300375</td>\n",
       "      <td>2</td>\n",
       "    </tr>\n",
       "    <tr>\n",
       "      <th>44</th>\n",
       "      <td>199603092</td>\n",
       "      <td>2</td>\n",
       "    </tr>\n",
       "    <tr>\n",
       "      <th>51</th>\n",
       "      <td>232979603</td>\n",
       "      <td>2</td>\n",
       "    </tr>\n",
       "    <tr>\n",
       "      <th>55</th>\n",
       "      <td>237748145</td>\n",
       "      <td>2</td>\n",
       "    </tr>\n",
       "    <tr>\n",
       "      <th>66</th>\n",
       "      <td>276558944</td>\n",
       "      <td>2</td>\n",
       "    </tr>\n",
       "    <tr>\n",
       "      <th>84</th>\n",
       "      <td>351125977</td>\n",
       "      <td>2</td>\n",
       "    </tr>\n",
       "    <tr>\n",
       "      <th>97</th>\n",
       "      <td>393266494</td>\n",
       "      <td>2</td>\n",
       "    </tr>\n",
       "    <tr>\n",
       "      <th>114</th>\n",
       "      <td>457167155</td>\n",
       "      <td>2</td>\n",
       "    </tr>\n",
       "    <tr>\n",
       "      <th>119</th>\n",
       "      <td>471551937</td>\n",
       "      <td>2</td>\n",
       "    </tr>\n",
       "    <tr>\n",
       "      <th>122</th>\n",
       "      <td>477780734</td>\n",
       "      <td>2</td>\n",
       "    </tr>\n",
       "    <tr>\n",
       "      <th>192</th>\n",
       "      <td>818047933</td>\n",
       "      <td>2</td>\n",
       "    </tr>\n",
       "    <tr>\n",
       "      <th>236</th>\n",
       "      <td>963407295</td>\n",
       "      <td>2</td>\n",
       "    </tr>\n",
       "    <tr>\n",
       "      <th>299</th>\n",
       "      <td>1230306981</td>\n",
       "      <td>2</td>\n",
       "    </tr>\n",
       "    <tr>\n",
       "      <th>311</th>\n",
       "      <td>1294878855</td>\n",
       "      <td>2</td>\n",
       "    </tr>\n",
       "    <tr>\n",
       "      <th>316</th>\n",
       "      <td>1316129916</td>\n",
       "      <td>2</td>\n",
       "    </tr>\n",
       "    <tr>\n",
       "      <th>318</th>\n",
       "      <td>1333886533</td>\n",
       "      <td>2</td>\n",
       "    </tr>\n",
       "    <tr>\n",
       "      <th>340</th>\n",
       "      <td>1404934699</td>\n",
       "      <td>2</td>\n",
       "    </tr>\n",
       "    <tr>\n",
       "      <th>386</th>\n",
       "      <td>1602967004</td>\n",
       "      <td>2</td>\n",
       "    </tr>\n",
       "    <tr>\n",
       "      <th>393</th>\n",
       "      <td>1614305549</td>\n",
       "      <td>2</td>\n",
       "    </tr>\n",
       "    <tr>\n",
       "      <th>402</th>\n",
       "      <td>1648269707</td>\n",
       "      <td>2</td>\n",
       "    </tr>\n",
       "    <tr>\n",
       "      <th>406</th>\n",
       "      <td>1668030113</td>\n",
       "      <td>2</td>\n",
       "    </tr>\n",
       "    <tr>\n",
       "      <th>422</th>\n",
       "      <td>1738359350</td>\n",
       "      <td>2</td>\n",
       "    </tr>\n",
       "    <tr>\n",
       "      <th>436</th>\n",
       "      <td>1801183820</td>\n",
       "      <td>2</td>\n",
       "    </tr>\n",
       "    <tr>\n",
       "      <th>469</th>\n",
       "      <td>1959144690</td>\n",
       "      <td>2</td>\n",
       "    </tr>\n",
       "    <tr>\n",
       "      <th>487</th>\n",
       "      <td>2038680547</td>\n",
       "      <td>2</td>\n",
       "    </tr>\n",
       "    <tr>\n",
       "      <th>491</th>\n",
       "      <td>2044997962</td>\n",
       "      <td>2</td>\n",
       "    </tr>\n",
       "    <tr>\n",
       "      <th>569</th>\n",
       "      <td>2378935119</td>\n",
       "      <td>2</td>\n",
       "    </tr>\n",
       "    <tr>\n",
       "      <th>591</th>\n",
       "      <td>2458001652</td>\n",
       "      <td>2</td>\n",
       "    </tr>\n",
       "    <tr>\n",
       "      <th>614</th>\n",
       "      <td>2579882178</td>\n",
       "      <td>2</td>\n",
       "    </tr>\n",
       "    <tr>\n",
       "      <th>619</th>\n",
       "      <td>2587333274</td>\n",
       "      <td>2</td>\n",
       "    </tr>\n",
       "    <tr>\n",
       "      <th>622</th>\n",
       "      <td>2600415354</td>\n",
       "      <td>2</td>\n",
       "    </tr>\n",
       "    <tr>\n",
       "      <th>639</th>\n",
       "      <td>2654030115</td>\n",
       "      <td>2</td>\n",
       "    </tr>\n",
       "    <tr>\n",
       "      <th>648</th>\n",
       "      <td>2686716486</td>\n",
       "      <td>2</td>\n",
       "    </tr>\n",
       "    <tr>\n",
       "      <th>661</th>\n",
       "      <td>2712142231</td>\n",
       "      <td>2</td>\n",
       "    </tr>\n",
       "    <tr>\n",
       "      <th>662</th>\n",
       "      <td>2716752286</td>\n",
       "      <td>2</td>\n",
       "    </tr>\n",
       "    <tr>\n",
       "      <th>677</th>\n",
       "      <td>2780786433</td>\n",
       "      <td>2</td>\n",
       "    </tr>\n",
       "    <tr>\n",
       "      <th>710</th>\n",
       "      <td>2927087541</td>\n",
       "      <td>2</td>\n",
       "    </tr>\n",
       "    <tr>\n",
       "      <th>715</th>\n",
       "      <td>2949041841</td>\n",
       "      <td>2</td>\n",
       "    </tr>\n",
       "    <tr>\n",
       "      <th>718</th>\n",
       "      <td>2954449915</td>\n",
       "      <td>2</td>\n",
       "    </tr>\n",
       "    <tr>\n",
       "      <th>744</th>\n",
       "      <td>3062433592</td>\n",
       "      <td>2</td>\n",
       "    </tr>\n",
       "    <tr>\n",
       "      <th>784</th>\n",
       "      <td>3202540741</td>\n",
       "      <td>2</td>\n",
       "    </tr>\n",
       "    <tr>\n",
       "      <th>792</th>\n",
       "      <td>3234906277</td>\n",
       "      <td>2</td>\n",
       "    </tr>\n",
       "    <tr>\n",
       "      <th>884</th>\n",
       "      <td>3656415546</td>\n",
       "      <td>2</td>\n",
       "    </tr>\n",
       "    <tr>\n",
       "      <th>897</th>\n",
       "      <td>3717692402</td>\n",
       "      <td>2</td>\n",
       "    </tr>\n",
       "    <tr>\n",
       "      <th>909</th>\n",
       "      <td>3766097110</td>\n",
       "      <td>2</td>\n",
       "    </tr>\n",
       "    <tr>\n",
       "      <th>917</th>\n",
       "      <td>3803269165</td>\n",
       "      <td>2</td>\n",
       "    </tr>\n",
       "    <tr>\n",
       "      <th>932</th>\n",
       "      <td>3891541246</td>\n",
       "      <td>2</td>\n",
       "    </tr>\n",
       "    <tr>\n",
       "      <th>950</th>\n",
       "      <td>3941795274</td>\n",
       "      <td>2</td>\n",
       "    </tr>\n",
       "    <tr>\n",
       "      <th>954</th>\n",
       "      <td>3951559397</td>\n",
       "      <td>2</td>\n",
       "    </tr>\n",
       "    <tr>\n",
       "      <th>957</th>\n",
       "      <td>3957174400</td>\n",
       "      <td>2</td>\n",
       "    </tr>\n",
       "    <tr>\n",
       "      <th>958</th>\n",
       "      <td>3963646447</td>\n",
       "      <td>2</td>\n",
       "    </tr>\n",
       "    <tr>\n",
       "      <th>960</th>\n",
       "      <td>3972127743</td>\n",
       "      <td>2</td>\n",
       "    </tr>\n",
       "    <tr>\n",
       "      <th>963</th>\n",
       "      <td>3984495233</td>\n",
       "      <td>2</td>\n",
       "    </tr>\n",
       "    <tr>\n",
       "      <th>984</th>\n",
       "      <td>4069496402</td>\n",
       "      <td>2</td>\n",
       "    </tr>\n",
       "    <tr>\n",
       "      <th>992</th>\n",
       "      <td>4120364173</td>\n",
       "      <td>2</td>\n",
       "    </tr>\n",
       "    <tr>\n",
       "      <th>1009</th>\n",
       "      <td>4186807279</td>\n",
       "      <td>2</td>\n",
       "    </tr>\n",
       "    <tr>\n",
       "      <th>1023</th>\n",
       "      <td>4256040402</td>\n",
       "      <td>2</td>\n",
       "    </tr>\n",
       "    <tr>\n",
       "      <th>1026</th>\n",
       "      <td>4266935830</td>\n",
       "      <td>2</td>\n",
       "    </tr>\n",
       "  </tbody>\n",
       "</table>\n",
       "</div>"
      ],
      "text/plain": [
       "      visitor_id  group\n",
       "2        8300375      2\n",
       "44     199603092      2\n",
       "51     232979603      2\n",
       "55     237748145      2\n",
       "66     276558944      2\n",
       "84     351125977      2\n",
       "97     393266494      2\n",
       "114    457167155      2\n",
       "119    471551937      2\n",
       "122    477780734      2\n",
       "192    818047933      2\n",
       "236    963407295      2\n",
       "299   1230306981      2\n",
       "311   1294878855      2\n",
       "316   1316129916      2\n",
       "318   1333886533      2\n",
       "340   1404934699      2\n",
       "386   1602967004      2\n",
       "393   1614305549      2\n",
       "402   1648269707      2\n",
       "406   1668030113      2\n",
       "422   1738359350      2\n",
       "436   1801183820      2\n",
       "469   1959144690      2\n",
       "487   2038680547      2\n",
       "491   2044997962      2\n",
       "569   2378935119      2\n",
       "591   2458001652      2\n",
       "614   2579882178      2\n",
       "619   2587333274      2\n",
       "622   2600415354      2\n",
       "639   2654030115      2\n",
       "648   2686716486      2\n",
       "661   2712142231      2\n",
       "662   2716752286      2\n",
       "677   2780786433      2\n",
       "710   2927087541      2\n",
       "715   2949041841      2\n",
       "718   2954449915      2\n",
       "744   3062433592      2\n",
       "784   3202540741      2\n",
       "792   3234906277      2\n",
       "884   3656415546      2\n",
       "897   3717692402      2\n",
       "909   3766097110      2\n",
       "917   3803269165      2\n",
       "932   3891541246      2\n",
       "950   3941795274      2\n",
       "954   3951559397      2\n",
       "957   3957174400      2\n",
       "958   3963646447      2\n",
       "960   3972127743      2\n",
       "963   3984495233      2\n",
       "984   4069496402      2\n",
       "992   4120364173      2\n",
       "1009  4186807279      2\n",
       "1023  4256040402      2\n",
       "1026  4266935830      2"
      ]
     },
     "execution_count": 12,
     "metadata": {},
     "output_type": "execute_result"
    }
   ],
   "source": [
    "users_in_both_groups = orders.groupby('visitor_id')['group'].nunique().reset_index().query('group > 1')\n",
    "users_in_both_groups"
   ]
  },
  {
   "cell_type": "markdown",
   "metadata": {},
   "source": [
    "Нужно уточнить у коллег, почему трафик делится таким образом, а пока удалим этих клиентов, поскольку они могут исказить результаты проверки"
   ]
  },
  {
   "cell_type": "code",
   "execution_count": 13,
   "metadata": {},
   "outputs": [],
   "source": [
    "orders=orders.loc[~((orders.visitor_id.isin(users_in_both_groups['visitor_id'])))]"
   ]
  },
  {
   "cell_type": "markdown",
   "metadata": {},
   "source": [
    "В процессе предобработки мы переименовали столбцы, содержащие загравные буквы, поменяли тип данных для дат и удалили клиентов, которые по каким-то причинам оказались в обеих группах. Теперь можно приступать к приоретизации гипотез."
   ]
  },
  {
   "cell_type": "markdown",
   "metadata": {},
   "source": [
    "## Приоретизация гипотез"
   ]
  },
  {
   "cell_type": "markdown",
   "metadata": {},
   "source": [
    "Посмотрим, какие гипотезы заслуживают внимания, а какие тестировать не стоит. Для начала применим фреймворк ICE"
   ]
  },
  {
   "cell_type": "code",
   "execution_count": 14,
   "metadata": {},
   "outputs": [],
   "source": [
    "hypothesis['ICE'] = hypothesis['Impact'] * hypothesis['Confidence'] / hypothesis['Efforts']"
   ]
  },
  {
   "cell_type": "code",
   "execution_count": 15,
   "metadata": {},
   "outputs": [
    {
     "data": {
      "text/html": [
       "<div>\n",
       "<style scoped>\n",
       "    .dataframe tbody tr th:only-of-type {\n",
       "        vertical-align: middle;\n",
       "    }\n",
       "\n",
       "    .dataframe tbody tr th {\n",
       "        vertical-align: top;\n",
       "    }\n",
       "\n",
       "    .dataframe thead th {\n",
       "        text-align: right;\n",
       "    }\n",
       "</style>\n",
       "<table border=\"1\" class=\"dataframe\">\n",
       "  <thead>\n",
       "    <tr style=\"text-align: right;\">\n",
       "      <th></th>\n",
       "      <th>Hypothesis</th>\n",
       "      <th>ICE</th>\n",
       "    </tr>\n",
       "  </thead>\n",
       "  <tbody>\n",
       "    <tr>\n",
       "      <th>8</th>\n",
       "      <td>Запустить акцию, дающую скидку на товар в день рождения</td>\n",
       "      <td>16.200000</td>\n",
       "    </tr>\n",
       "    <tr>\n",
       "      <th>0</th>\n",
       "      <td>Добавить два новых канала привлечения трафика, что позволит привлекать на 30% больше пользователей</td>\n",
       "      <td>13.333333</td>\n",
       "    </tr>\n",
       "    <tr>\n",
       "      <th>7</th>\n",
       "      <td>Добавить форму подписки на все основные страницы, чтобы собрать базу клиентов для email-рассылок</td>\n",
       "      <td>11.200000</td>\n",
       "    </tr>\n",
       "    <tr>\n",
       "      <th>6</th>\n",
       "      <td>Показать на главной странице баннеры с актуальными акциями и распродажами, чтобы увеличить конверсию</td>\n",
       "      <td>8.000000</td>\n",
       "    </tr>\n",
       "    <tr>\n",
       "      <th>2</th>\n",
       "      <td>Добавить блоки рекомендаций товаров на сайт интернет магазина, чтобы повысить конверсию и средний чек заказа</td>\n",
       "      <td>7.000000</td>\n",
       "    </tr>\n",
       "    <tr>\n",
       "      <th>1</th>\n",
       "      <td>Запустить собственную службу доставки, что сократит срок доставки заказов</td>\n",
       "      <td>2.000000</td>\n",
       "    </tr>\n",
       "    <tr>\n",
       "      <th>5</th>\n",
       "      <td>Добавить страницу отзывов клиентов о магазине, что позволит увеличить количество заказов</td>\n",
       "      <td>1.333333</td>\n",
       "    </tr>\n",
       "    <tr>\n",
       "      <th>3</th>\n",
       "      <td>Изменить структура категорий, что увеличит конверсию, т.к. пользователи быстрее найдут нужный товар</td>\n",
       "      <td>1.125000</td>\n",
       "    </tr>\n",
       "    <tr>\n",
       "      <th>4</th>\n",
       "      <td>Изменить цвет фона главной страницы, чтобы увеличить вовлеченность пользователей</td>\n",
       "      <td>1.000000</td>\n",
       "    </tr>\n",
       "  </tbody>\n",
       "</table>\n",
       "</div>"
      ],
      "text/plain": [
       "                                                                                                     Hypothesis  \\\n",
       "8                                                       Запустить акцию, дающую скидку на товар в день рождения   \n",
       "0            Добавить два новых канала привлечения трафика, что позволит привлекать на 30% больше пользователей   \n",
       "7              Добавить форму подписки на все основные страницы, чтобы собрать базу клиентов для email-рассылок   \n",
       "6          Показать на главной странице баннеры с актуальными акциями и распродажами, чтобы увеличить конверсию   \n",
       "2  Добавить блоки рекомендаций товаров на сайт интернет магазина, чтобы повысить конверсию и средний чек заказа   \n",
       "1                                     Запустить собственную службу доставки, что сократит срок доставки заказов   \n",
       "5                      Добавить страницу отзывов клиентов о магазине, что позволит увеличить количество заказов   \n",
       "3           Изменить структура категорий, что увеличит конверсию, т.к. пользователи быстрее найдут нужный товар   \n",
       "4                              Изменить цвет фона главной страницы, чтобы увеличить вовлеченность пользователей   \n",
       "\n",
       "         ICE  \n",
       "8  16.200000  \n",
       "0  13.333333  \n",
       "7  11.200000  \n",
       "6   8.000000  \n",
       "2   7.000000  \n",
       "1   2.000000  \n",
       "5   1.333333  \n",
       "3   1.125000  \n",
       "4   1.000000  "
      ]
     },
     "execution_count": 15,
     "metadata": {},
     "output_type": "execute_result"
    }
   ],
   "source": [
    "hypothesis[['Hypothesis', 'ICE']].sort_values(by='ICE', ascending=False)"
   ]
  },
  {
   "cell_type": "markdown",
   "metadata": {},
   "source": [
    "Согласно ICE самыми перспективными получаются гипотезы с индексами 8, 0 и 7. Посмотрим, будут ли различия при использовании фреймворка RICE"
   ]
  },
  {
   "cell_type": "code",
   "execution_count": 16,
   "metadata": {},
   "outputs": [
    {
     "data": {
      "text/html": [
       "<style type=\"text/css\">\n",
       "#T_5fd00_row0_col1 {\n",
       "  background-color: #4da64d;\n",
       "  color: #f1f1f1;\n",
       "}\n",
       "#T_5fd00_row0_col2, #T_5fd00_row4_col1 {\n",
       "  background-color: #008000;\n",
       "  color: #f1f1f1;\n",
       "}\n",
       "#T_5fd00_row1_col1 {\n",
       "  background-color: #8ec58e;\n",
       "  color: #000000;\n",
       "}\n",
       "#T_5fd00_row1_col2 {\n",
       "  background-color: #78bb78;\n",
       "  color: #000000;\n",
       "}\n",
       "#T_5fd00_row2_col1 {\n",
       "  background-color: #2c962c;\n",
       "  color: #f1f1f1;\n",
       "}\n",
       "#T_5fd00_row2_col2, #T_5fd00_row3_col2 {\n",
       "  background-color: #9bcc9b;\n",
       "  color: #000000;\n",
       "}\n",
       "#T_5fd00_row3_col1 {\n",
       "  background-color: #7fbe7f;\n",
       "  color: #000000;\n",
       "}\n",
       "#T_5fd00_row4_col2 {\n",
       "  background-color: #cee5ce;\n",
       "  color: #000000;\n",
       "}\n",
       "#T_5fd00_row5_col1, #T_5fd00_row6_col2, #T_5fd00_row7_col2 {\n",
       "  background-color: #e9f2e9;\n",
       "  color: #000000;\n",
       "}\n",
       "#T_5fd00_row5_col2 {\n",
       "  background-color: #deedde;\n",
       "  color: #000000;\n",
       "}\n",
       "#T_5fd00_row6_col1 {\n",
       "  background-color: #dcecdc;\n",
       "  color: #000000;\n",
       "}\n",
       "#T_5fd00_row7_col1 {\n",
       "  background-color: #e6f1e6;\n",
       "  color: #000000;\n",
       "}\n",
       "#T_5fd00_row8_col1, #T_5fd00_row8_col2 {\n",
       "  background-color: #ebf3eb;\n",
       "  color: #000000;\n",
       "}\n",
       "</style>\n",
       "<table id=\"T_5fd00\">\n",
       "  <thead>\n",
       "    <tr>\n",
       "      <th class=\"blank level0\" >&nbsp;</th>\n",
       "      <th id=\"T_5fd00_level0_col0\" class=\"col_heading level0 col0\" >Hypothesis</th>\n",
       "      <th id=\"T_5fd00_level0_col1\" class=\"col_heading level0 col1\" >ICE</th>\n",
       "      <th id=\"T_5fd00_level0_col2\" class=\"col_heading level0 col2\" >RICE</th>\n",
       "    </tr>\n",
       "  </thead>\n",
       "  <tbody>\n",
       "    <tr>\n",
       "      <th id=\"T_5fd00_level0_row0\" class=\"row_heading level0 row0\" >7</th>\n",
       "      <td id=\"T_5fd00_row0_col0\" class=\"data row0 col0\" >Добавить форму подписки на все основные страницы, чтобы собрать базу клиентов для email-рассылок</td>\n",
       "      <td id=\"T_5fd00_row0_col1\" class=\"data row0 col1\" >11.200000</td>\n",
       "      <td id=\"T_5fd00_row0_col2\" class=\"data row0 col2\" >112.000000</td>\n",
       "    </tr>\n",
       "    <tr>\n",
       "      <th id=\"T_5fd00_level0_row1\" class=\"row_heading level0 row1\" >2</th>\n",
       "      <td id=\"T_5fd00_row1_col0\" class=\"data row1 col0\" >Добавить блоки рекомендаций товаров на сайт интернет магазина, чтобы повысить конверсию и средний чек заказа</td>\n",
       "      <td id=\"T_5fd00_row1_col1\" class=\"data row1 col1\" >7.000000</td>\n",
       "      <td id=\"T_5fd00_row1_col2\" class=\"data row1 col2\" >56.000000</td>\n",
       "    </tr>\n",
       "    <tr>\n",
       "      <th id=\"T_5fd00_level0_row2\" class=\"row_heading level0 row2\" >0</th>\n",
       "      <td id=\"T_5fd00_row2_col0\" class=\"data row2 col0\" >Добавить два новых канала привлечения трафика, что позволит привлекать на 30% больше пользователей</td>\n",
       "      <td id=\"T_5fd00_row2_col1\" class=\"data row2 col1\" >13.333333</td>\n",
       "      <td id=\"T_5fd00_row2_col2\" class=\"data row2 col2\" >40.000000</td>\n",
       "    </tr>\n",
       "    <tr>\n",
       "      <th id=\"T_5fd00_level0_row3\" class=\"row_heading level0 row3\" >6</th>\n",
       "      <td id=\"T_5fd00_row3_col0\" class=\"data row3 col0\" >Показать на главной странице баннеры с актуальными акциями и распродажами, чтобы увеличить конверсию</td>\n",
       "      <td id=\"T_5fd00_row3_col1\" class=\"data row3 col1\" >8.000000</td>\n",
       "      <td id=\"T_5fd00_row3_col2\" class=\"data row3 col2\" >40.000000</td>\n",
       "    </tr>\n",
       "    <tr>\n",
       "      <th id=\"T_5fd00_level0_row4\" class=\"row_heading level0 row4\" >8</th>\n",
       "      <td id=\"T_5fd00_row4_col0\" class=\"data row4 col0\" >Запустить акцию, дающую скидку на товар в день рождения</td>\n",
       "      <td id=\"T_5fd00_row4_col1\" class=\"data row4 col1\" >16.200000</td>\n",
       "      <td id=\"T_5fd00_row4_col2\" class=\"data row4 col2\" >16.200000</td>\n",
       "    </tr>\n",
       "    <tr>\n",
       "      <th id=\"T_5fd00_level0_row5\" class=\"row_heading level0 row5\" >3</th>\n",
       "      <td id=\"T_5fd00_row5_col0\" class=\"data row5 col0\" >Изменить структура категорий, что увеличит конверсию, т.к. пользователи быстрее найдут нужный товар</td>\n",
       "      <td id=\"T_5fd00_row5_col1\" class=\"data row5 col1\" >1.125000</td>\n",
       "      <td id=\"T_5fd00_row5_col2\" class=\"data row5 col2\" >9.000000</td>\n",
       "    </tr>\n",
       "    <tr>\n",
       "      <th id=\"T_5fd00_level0_row6\" class=\"row_heading level0 row6\" >1</th>\n",
       "      <td id=\"T_5fd00_row6_col0\" class=\"data row6 col0\" >Запустить собственную службу доставки, что сократит срок доставки заказов</td>\n",
       "      <td id=\"T_5fd00_row6_col1\" class=\"data row6 col1\" >2.000000</td>\n",
       "      <td id=\"T_5fd00_row6_col2\" class=\"data row6 col2\" >4.000000</td>\n",
       "    </tr>\n",
       "    <tr>\n",
       "      <th id=\"T_5fd00_level0_row7\" class=\"row_heading level0 row7\" >5</th>\n",
       "      <td id=\"T_5fd00_row7_col0\" class=\"data row7 col0\" >Добавить страницу отзывов клиентов о магазине, что позволит увеличить количество заказов</td>\n",
       "      <td id=\"T_5fd00_row7_col1\" class=\"data row7 col1\" >1.333333</td>\n",
       "      <td id=\"T_5fd00_row7_col2\" class=\"data row7 col2\" >4.000000</td>\n",
       "    </tr>\n",
       "    <tr>\n",
       "      <th id=\"T_5fd00_level0_row8\" class=\"row_heading level0 row8\" >4</th>\n",
       "      <td id=\"T_5fd00_row8_col0\" class=\"data row8 col0\" >Изменить цвет фона главной страницы, чтобы увеличить вовлеченность пользователей</td>\n",
       "      <td id=\"T_5fd00_row8_col1\" class=\"data row8 col1\" >1.000000</td>\n",
       "      <td id=\"T_5fd00_row8_col2\" class=\"data row8 col2\" >3.000000</td>\n",
       "    </tr>\n",
       "  </tbody>\n",
       "</table>\n"
      ],
      "text/plain": [
       "<pandas.io.formats.style.Styler at 0xca25129220>"
      ]
     },
     "execution_count": 16,
     "metadata": {},
     "output_type": "execute_result"
    }
   ],
   "source": [
    "hypothesis['RICE'] = hypothesis['Reach'] * hypothesis['Impact'] * hypothesis['Confidence'] / hypothesis['Efforts']\n",
    "h1 = hypothesis[['Hypothesis', 'ICE','RICE']].sort_values(by='RICE', ascending=False)\n",
    "\n",
    "cm = sns.light_palette(\"green\", as_cmap=True)\n",
    "h1.style.background_gradient(cmap=cm)"
   ]
  },
  {
   "cell_type": "markdown",
   "metadata": {},
   "source": [
    "В случае использования RICE на первое место попадает гипотеза с индексом 7, в топ-3 также гипотезы 2 и 0. Результат отличается, поскольку у гипотезы с индексами 7, 2 и 3 затронут самое большое количество пользователей. Для A/B теста предлагаю выбрать гипотезу с индексом 7, как набравшую самый высокий рейтинг по двум методам оценки."
   ]
  },
  {
   "cell_type": "markdown",
   "metadata": {},
   "source": [
    "## A/B тесты"
   ]
  },
  {
   "cell_type": "markdown",
   "metadata": {},
   "source": [
    "### Построение графиков"
   ]
  },
  {
   "cell_type": "markdown",
   "metadata": {},
   "source": [
    "Построим график кумулятивной выручки по группам"
   ]
  },
  {
   "cell_type": "code",
   "execution_count": 17,
   "metadata": {},
   "outputs": [
    {
     "data": {
      "image/png": "[encoded data removed]",
      "text/plain": [
       "<Figure size 864x432 with 1 Axes>"
      ]
     },
     "metadata": {
      "needs_background": "light"
     },
     "output_type": "display_data"
    }
   ],
   "source": [
    "datesGroups = orders[['date', 'group']].drop_duplicates()\n",
    "\n",
    "ordersAggregated = datesGroups.apply(\n",
    "    lambda x: orders[\n",
    "        np.logical_and(\n",
    "            orders['date'] <= x['date'], orders['group'] == x['group']\n",
    "        )\n",
    "    ].agg(\n",
    "        {\n",
    "            'date': 'max',\n",
    "            'group': 'max',\n",
    "            'transaction_id': 'nunique',\n",
    "            'visitor_id': 'nunique',\n",
    "            'revenue': 'sum',\n",
    "        }\n",
    "    ),\n",
    "    axis=1,\n",
    ").sort_values(by=['date', 'group'])\n",
    "\n",
    "visitorsAggregated = datesGroups.apply(\n",
    "    lambda x: visitors[\n",
    "        np.logical_and(\n",
    "            visitors['date'] <= x['date'], visitors['group'] == x['group']\n",
    "        )\n",
    "    ].agg({'date': 'max', 'group': 'max', 'visitors': 'sum'}),\n",
    "    axis=1,\n",
    ").sort_values(by=['date', 'group'])\n",
    "\n",
    "cumulativeData = ordersAggregated.merge(\n",
    "    visitorsAggregated, left_on=['date', 'group'], right_on=['date', 'group']\n",
    ")\n",
    "cumulativeData.columns = [\n",
    "    'date',\n",
    "    'group',\n",
    "    'orders',\n",
    "    'buyers',\n",
    "    'revenue',\n",
    "    'visitors',\n",
    "]\n",
    "\n",
    "cumulativeRevenueA = cumulativeData[cumulativeData['group']=='A'][['date','revenue','orders']]\n",
    "cumulativeRevenueB = cumulativeData[cumulativeData['group']=='B'][['date','revenue','orders']]\n",
    "\n",
    "plt.figure(figsize=(12,6))\n",
    "\n",
    "plt.plot(cumulativeRevenueA['date'], cumulativeRevenueA['revenue'], label='A')\n",
    "plt.plot(cumulativeRevenueB['date'], cumulativeRevenueB['revenue'], label='B')\n",
    "plt.ylabel('Выручка')\n",
    "plt.xlabel('Дата')\n",
    "plt.title('Кумулятивная выручка по группам')\n",
    "plt.legend()\n",
    "plt.show()"
   ]
  },
  {
   "cell_type": "markdown",
   "metadata": {},
   "source": [
    "Группа B на всем протящении теста показывает результат лучше, чем группа A. 13 августа показатели почти сравнялись, но потом с 17 по 21 в группе B опять наблюдается резкий рост. Возможно, на результат влияют аномально большие зааказы."
   ]
  },
  {
   "cell_type": "markdown",
   "metadata": {},
   "source": [
    "Рассмотрим данные в разрезе кумулятивного среднего чека"
   ]
  },
  {
   "cell_type": "code",
   "execution_count": 18,
   "metadata": {},
   "outputs": [
    {
     "data": {
      "image/png": "[encoded data removed]",
      "text/plain": [
       "<Figure size 864x432 with 1 Axes>"
      ]
     },
     "metadata": {
      "needs_background": "light"
     },
     "output_type": "display_data"
    }
   ],
   "source": [
    "plt.figure(figsize=(12,6))\n",
    "plt.plot(cumulativeRevenueA['date'],cumulativeRevenueA['revenue']/cumulativeRevenueA['orders'], label='A')\n",
    "plt.plot(cumulativeRevenueB['date'],cumulativeRevenueB['revenue']/cumulativeRevenueB['orders'], label='B')\n",
    "plt.ylabel('Средний чек')\n",
    "plt.xlabel('Дата')\n",
    "plt.title('Кумулятивный средний чек по группам')\n",
    "plt.legend()\n",
    "plt.show()"
   ]
  },
  {
   "cell_type": "markdown",
   "metadata": {},
   "source": [
    "В данных по кумулятивным средним чекам также наблюдается выброс в группе B в районе 19 августа. Похоже, на эту группу вляет какая-то очень большая покупка."
   ]
  },
  {
   "cell_type": "markdown",
   "metadata": {},
   "source": [
    "Построим график относительного изменения кумулятивного среднего чека группы B к группе A."
   ]
  },
  {
   "cell_type": "code",
   "execution_count": 19,
   "metadata": {},
   "outputs": [
    {
     "data": {
      "image/png": "[encoded data removed]",
      "text/plain": [
       "<Figure size 864x432 with 1 Axes>"
      ]
     },
     "metadata": {
      "needs_background": "light"
     },
     "output_type": "display_data"
    }
   ],
   "source": [
    "mergedCumulativeRevenue = cumulativeRevenueA.merge(\n",
    "    cumulativeRevenueB, left_on='date', right_on='date', how='left', suffixes=['A', 'B'])\n",
    "\n",
    "plt.figure(figsize=(12,6))\n",
    "plt.plot(mergedCumulativeRevenue['date'], \n",
    "         (mergedCumulativeRevenue['revenueB']/mergedCumulativeRevenue['ordersB'])/(mergedCumulativeRevenue['revenueA']/mergedCumulativeRevenue['ordersA']) - 1)\n",
    "plt.axhline(y=0, color='black', linestyle='--')\n",
    "plt.ylabel('Изменение, доли')\n",
    "plt.xlabel('Дата')\n",
    "plt.title('Относительное изменение кумулятивного среднего чека группы B к группе A')\n",
    "plt.show()"
   ]
  },
  {
   "cell_type": "markdown",
   "metadata": {},
   "source": [
    "На графике помимо выбороса 19 августа наблюдаются два пика поменьше - 6 и 8 августа."
   ]
  },
  {
   "cell_type": "markdown",
   "metadata": {},
   "source": [
    "Посмотрим на график кумулятивного среднего количества заказов по группам"
   ]
  },
  {
   "cell_type": "code",
   "execution_count": 20,
   "metadata": {},
   "outputs": [
    {
     "data": {
      "text/html": [
       "<div>\n",
       "<style scoped>\n",
       "    .dataframe tbody tr th:only-of-type {\n",
       "        vertical-align: middle;\n",
       "    }\n",
       "\n",
       "    .dataframe tbody tr th {\n",
       "        vertical-align: top;\n",
       "    }\n",
       "\n",
       "    .dataframe thead th {\n",
       "        text-align: right;\n",
       "    }\n",
       "</style>\n",
       "<table border=\"1\" class=\"dataframe\">\n",
       "  <thead>\n",
       "    <tr style=\"text-align: right;\">\n",
       "      <th></th>\n",
       "      <th>date</th>\n",
       "      <th>group</th>\n",
       "      <th>orders</th>\n",
       "      <th>buyers</th>\n",
       "      <th>revenue</th>\n",
       "      <th>visitors</th>\n",
       "    </tr>\n",
       "  </thead>\n",
       "  <tbody>\n",
       "    <tr>\n",
       "      <th>0</th>\n",
       "      <td>2019-08-01</td>\n",
       "      <td>A</td>\n",
       "      <td>23</td>\n",
       "      <td>19</td>\n",
       "      <td>142779</td>\n",
       "      <td>719</td>\n",
       "    </tr>\n",
       "    <tr>\n",
       "      <th>1</th>\n",
       "      <td>2019-08-01</td>\n",
       "      <td>B</td>\n",
       "      <td>17</td>\n",
       "      <td>17</td>\n",
       "      <td>59758</td>\n",
       "      <td>713</td>\n",
       "    </tr>\n",
       "    <tr>\n",
       "      <th>2</th>\n",
       "      <td>2019-08-02</td>\n",
       "      <td>A</td>\n",
       "      <td>42</td>\n",
       "      <td>36</td>\n",
       "      <td>234381</td>\n",
       "      <td>1338</td>\n",
       "    </tr>\n",
       "    <tr>\n",
       "      <th>3</th>\n",
       "      <td>2019-08-02</td>\n",
       "      <td>B</td>\n",
       "      <td>40</td>\n",
       "      <td>39</td>\n",
       "      <td>221801</td>\n",
       "      <td>1294</td>\n",
       "    </tr>\n",
       "    <tr>\n",
       "      <th>4</th>\n",
       "      <td>2019-08-03</td>\n",
       "      <td>A</td>\n",
       "      <td>66</td>\n",
       "      <td>60</td>\n",
       "      <td>346854</td>\n",
       "      <td>1845</td>\n",
       "    </tr>\n",
       "    <tr>\n",
       "      <th>...</th>\n",
       "      <td>...</td>\n",
       "      <td>...</td>\n",
       "      <td>...</td>\n",
       "      <td>...</td>\n",
       "      <td>...</td>\n",
       "      <td>...</td>\n",
       "    </tr>\n",
       "    <tr>\n",
       "      <th>57</th>\n",
       "      <td>2019-08-29</td>\n",
       "      <td>B</td>\n",
       "      <td>510</td>\n",
       "      <td>490</td>\n",
       "      <td>4746610</td>\n",
       "      <td>17708</td>\n",
       "    </tr>\n",
       "    <tr>\n",
       "      <th>58</th>\n",
       "      <td>2019-08-30</td>\n",
       "      <td>A</td>\n",
       "      <td>460</td>\n",
       "      <td>437</td>\n",
       "      <td>3311413</td>\n",
       "      <td>18037</td>\n",
       "    </tr>\n",
       "    <tr>\n",
       "      <th>59</th>\n",
       "      <td>2019-08-30</td>\n",
       "      <td>B</td>\n",
       "      <td>531</td>\n",
       "      <td>511</td>\n",
       "      <td>4955833</td>\n",
       "      <td>18198</td>\n",
       "    </tr>\n",
       "    <tr>\n",
       "      <th>60</th>\n",
       "      <td>2019-08-31</td>\n",
       "      <td>A</td>\n",
       "      <td>468</td>\n",
       "      <td>445</td>\n",
       "      <td>3364656</td>\n",
       "      <td>18736</td>\n",
       "    </tr>\n",
       "    <tr>\n",
       "      <th>61</th>\n",
       "      <td>2019-08-31</td>\n",
       "      <td>B</td>\n",
       "      <td>548</td>\n",
       "      <td>528</td>\n",
       "      <td>5068972</td>\n",
       "      <td>18916</td>\n",
       "    </tr>\n",
       "  </tbody>\n",
       "</table>\n",
       "<p>62 rows × 6 columns</p>\n",
       "</div>"
      ],
      "text/plain": [
       "         date group  orders  buyers  revenue  visitors\n",
       "0  2019-08-01     A      23      19   142779       719\n",
       "1  2019-08-01     B      17      17    59758       713\n",
       "2  2019-08-02     A      42      36   234381      1338\n",
       "3  2019-08-02     B      40      39   221801      1294\n",
       "4  2019-08-03     A      66      60   346854      1845\n",
       "..        ...   ...     ...     ...      ...       ...\n",
       "57 2019-08-29     B     510     490  4746610     17708\n",
       "58 2019-08-30     A     460     437  3311413     18037\n",
       "59 2019-08-30     B     531     511  4955833     18198\n",
       "60 2019-08-31     A     468     445  3364656     18736\n",
       "61 2019-08-31     B     548     528  5068972     18916\n",
       "\n",
       "[62 rows x 6 columns]"
      ]
     },
     "execution_count": 20,
     "metadata": {},
     "output_type": "execute_result"
    }
   ],
   "source": [
    "cumulativeData"
   ]
  },
  {
   "cell_type": "code",
   "execution_count": 21,
   "metadata": {},
   "outputs": [
    {
     "data": {
      "image/png": "[encoded data removed]",
      "text/plain": [
       "<Figure size 864x432 with 1 Axes>"
      ]
     },
     "metadata": {
      "needs_background": "light"
     },
     "output_type": "display_data"
    }
   ],
   "source": [
    "cumulativeOrdersA = cumulativeData[cumulativeData['group']=='A'][['date','visitors','orders']]\n",
    "cumulativeOrdersB = cumulativeData[cumulativeData['group']=='B'][['date','visitors','orders']]\n",
    "\n",
    "plt.figure(figsize=(12,6))\n",
    "\n",
    "plt.plot(cumulativeOrdersA['date'], cumulativeOrdersA['orders']/cumulativeOrdersA['visitors'], label='A')\n",
    "plt.plot(cumulativeOrdersB['date'], cumulativeOrdersB['orders']/cumulativeOrdersB['visitors'], label='B')\n",
    "plt.ylabel('Количество заказов, шт.')\n",
    "plt.xlabel('Дата')\n",
    "plt.title('Кумулятивное среднее количество заказов по группам')\n",
    "plt.legend()\n",
    "plt.show()"
   ]
  },
  {
   "cell_type": "markdown",
   "metadata": {},
   "source": [
    "В начале наблюдения пользователи из группы А делали значительно больше заказов, 6 августа ситуация меняется коренным образом, и группа B ведет до конца эксперемента"
   ]
  },
  {
   "cell_type": "markdown",
   "metadata": {},
   "source": [
    "Посмотрим на график относительного изменения кумулятивного среднего количества заказов группы B к группе A"
   ]
  },
  {
   "cell_type": "code",
   "execution_count": 22,
   "metadata": {},
   "outputs": [
    {
     "data": {
      "image/png": "[encoded data removed]",
      "text/plain": [
       "<Figure size 864x432 with 1 Axes>"
      ]
     },
     "metadata": {
      "needs_background": "light"
     },
     "output_type": "display_data"
    }
   ],
   "source": [
    "mergedCumulativeOrders = cumulativeOrdersA.merge(\n",
    "    cumulativeOrdersB, left_on='date', right_on='date', how='left', suffixes=['A', 'B'])\n",
    "\n",
    "plt.figure(figsize=(12,6))\n",
    "plt.plot(mergedCumulativeOrders['date'], \n",
    "         (mergedCumulativeOrders['ordersB']/mergedCumulativeOrders['visitorsB'])/(mergedCumulativeOrders['ordersA']/mergedCumulativeOrders['visitorsA']) - 1)\n",
    "plt.axhline(y=0, color='black', linestyle='--')\n",
    "plt.ylabel('Изменение, доли')\n",
    "plt.xlabel('Дата')\n",
    "plt.title('Относительное изменение кумулятивного среднего количества заказов группы B к группе A')\n",
    "plt.show()"
   ]
  },
  {
   "cell_type": "markdown",
   "metadata": {},
   "source": [
    "В начале эксперемента кривая находится ниже нулевой отметки, поскольку лидирует группа А. После 6 августа кривая поднимается выше нуля и показывает относительное изменение в районе 15-20%."
   ]
  },
  {
   "cell_type": "markdown",
   "metadata": {},
   "source": [
    "Посмотрим на  точечный график количества заказов по пользователям."
   ]
  },
  {
   "cell_type": "code",
   "execution_count": 23,
   "metadata": {},
   "outputs": [
    {
     "data": {
      "image/png": "[encoded data removed]",
      "text/plain": [
       "<Figure size 864x432 with 1 Axes>"
      ]
     },
     "metadata": {
      "needs_background": "light"
     },
     "output_type": "display_data"
    }
   ],
   "source": [
    "ordersByUsers = (\n",
    "    orders.groupby('visitor_id', as_index=False)\n",
    "    .agg({'transaction_id': 'nunique'})\n",
    ")\n",
    "ordersByUsers.columns = ['visitor_id', 'orders']\n",
    "\n",
    "x_values = pd.Series(range(0, len(ordersByUsers)))\n",
    "plt.figure(figsize=(12,6))\n",
    "plt.scatter(x_values, ordersByUsers['orders'])\n",
    "plt.ylabel('Количество заказов')\n",
    "plt.xlabel('Клиенты')\n",
    "plt.title('Количество заказов по пользователям')\n",
    "plt.show()"
   ]
  },
  {
   "cell_type": "markdown",
   "metadata": {},
   "source": [
    "Подавляющее большинство клиентов делали один заказ, небольшое количество людей сделало 2 или 3 заказа.\n",
    "<br> Посмотрим на аналогичный график стоимости заказов"
   ]
  },
  {
   "cell_type": "code",
   "execution_count": 24,
   "metadata": {},
   "outputs": [
    {
     "data": {
      "image/png": "[encoded data removed]",
      "text/plain": [
       "<Figure size 864x432 with 1 Axes>"
      ]
     },
     "metadata": {
      "needs_background": "light"
     },
     "output_type": "display_data"
    }
   ],
   "source": [
    "revenueByUsers = (\n",
    "    orders.groupby('visitor_id', as_index=False)\n",
    "    .agg({'revenue': 'sum'})\n",
    ")\n",
    "revenueByUsers.columns = ['visitor_id', 'revenue']\n",
    "\n",
    "x_values = pd.Series(range(0, len(revenueByUsers)))\n",
    "plt.figure(figsize=(12,6))\n",
    "plt.scatter(x_values, revenueByUsers['revenue'])\n",
    "plt.ylabel('Стоимость заказов')\n",
    "plt.xlabel('Клиенты')\n",
    "plt.title('Стоимость заказов по пользователям')\n",
    "plt.show()"
   ]
  },
  {
   "cell_type": "markdown",
   "metadata": {},
   "source": [
    "Стоимость большинства заказов находится в диапазоне ниже 30000, но есть выбросы, превышающие эту сумму в несколько раз."
   ]
  },
  {
   "cell_type": "markdown",
   "metadata": {},
   "source": [
    "### Определение экстремумов"
   ]
  },
  {
   "cell_type": "markdown",
   "metadata": {},
   "source": [
    "Для определения аномальных пользователей посчитаем 95-й и 99-й перцентили количества заказов на пользователя."
   ]
  },
  {
   "cell_type": "code",
   "execution_count": 25,
   "metadata": {},
   "outputs": [
    {
     "data": {
      "text/plain": [
       "array([1., 2.])"
      ]
     },
     "execution_count": 25,
     "metadata": {},
     "output_type": "execute_result"
    }
   ],
   "source": [
    "np.percentile(ordersByUsers['orders'], [95, 99])"
   ]
  },
  {
   "cell_type": "markdown",
   "metadata": {},
   "source": [
    "Не более 5% пользователей совершили более 1 заказа. Не более 1% пользователей совершили более 2 заказов. Для того, чтобы убрать выбросы из данных, оставим клиентов, которые сделали 1 заказ."
   ]
  },
  {
   "cell_type": "markdown",
   "metadata": {},
   "source": [
    "Сделаем аналогичный расчет для стоимости заказов."
   ]
  },
  {
   "cell_type": "code",
   "execution_count": 26,
   "metadata": {},
   "outputs": [
    {
     "data": {
      "text/plain": [
       "array([26785., 53904.])"
      ]
     },
     "execution_count": 26,
     "metadata": {},
     "output_type": "execute_result"
    }
   ],
   "source": [
    "np.percentile(orders['revenue'], [95, 99])"
   ]
  },
  {
   "cell_type": "markdown",
   "metadata": {},
   "source": [
    "Не более 5% пользователей делали заказ на сумму более 27000 и не более 1% на сумму более 54000. "
   ]
  },
  {
   "cell_type": "markdown",
   "metadata": {},
   "source": [
    "### Сравнение результатов"
   ]
  },
  {
   "cell_type": "markdown",
   "metadata": {},
   "source": [
    "Посчитаем статистическую значимость различий в среднем количестве заказов между группами по «сырым» данным. Из-за наличия в данных значительных выбросов считаю правильным использовать для сравнения критерий Манна-Уитни. За статистически значимое отличие примем 0.05\n",
    "<br>\n",
    "<br> Сформулируем нулевую и альтернативную гипотезы для первого теста:\n",
    "- H0: Нет различий между неочищенными данными о среднем количестве заказов в группе A и группе B.\n",
    "- H1: Неочищенные данные о среднем количестве заказов в группе A и в группе B существенно различаются"
   ]
  },
  {
   "cell_type": "code",
   "execution_count": 27,
   "metadata": {},
   "outputs": [
    {
     "name": "stdout",
     "output_type": "stream",
     "text": [
      "p-value 0.01102\n",
      "Относительное различие между группами 0.160\n"
     ]
    }
   ],
   "source": [
    "visitorsADaily = visitors[visitors['group'] == 'A'][['date', 'visitors']] #отфильтровываем клиентов группы А\n",
    "visitorsADaily.columns = ['date', 'visitorsPerDateA'] #переименовываем столбцы\n",
    "\n",
    "visitorsACummulative = visitorsADaily.apply(        #считаем количество посетителей в группе A на каждую дату с накоплением\n",
    "    lambda x: visitorsADaily[visitorsADaily['date'] <= x['date']].agg(\n",
    "        {'date': 'max', 'visitorsPerDateA': 'sum'}\n",
    "    ),\n",
    "    axis=1,\n",
    ")\n",
    "visitorsACummulative.columns = ['date', 'visitorsCummulativeA'] #переименовываем столбцы для удобства\n",
    "\n",
    "visitorsBDaily = visitors[visitors['group'] == 'B'][['date', 'visitors']] #отфильтровываем клиентов группы B\n",
    "visitorsBDaily.columns = ['date', 'visitorsPerDateB'] #переименовываем столбцы\n",
    "\n",
    "visitorsBCummulative = visitorsBDaily.apply(       #считаем количество посетителей в группе B на каждую дату с накоплением\n",
    "    lambda x: visitorsBDaily[visitorsBDaily['date'] <= x['date']].agg(\n",
    "        {'date': 'max', 'visitorsPerDateB': 'sum'}\n",
    "    ),\n",
    "    axis=1,\n",
    ")\n",
    "visitorsBCummulative.columns = ['date', 'visitorsCummulativeB'] #переименовываем столбцы\n",
    "\n",
    "\n",
    "ordersADaily = (                           #отфтльтровываем заказы клиентов из группы A\n",
    "    orders[orders['group'] == 'A'][['date', 'transaction_id', 'visitor_id', 'revenue']]\n",
    "    .groupby('date', as_index=False)\n",
    "    .agg({'transaction_id': pd.Series.nunique, 'revenue': 'sum'})\n",
    ")\n",
    "ordersADaily.columns = ['date', 'ordersPerDateA', 'revenuePerDateA'] #переименовываем столбцы\n",
    "\n",
    "ordersACummulative = ordersADaily.apply(              #считаем количество заказов в группе A на каждую дату с накоплением\n",
    "    lambda x: ordersADaily[ordersADaily['date'] <= x['date']].agg(\n",
    "        {'date': 'max', 'ordersPerDateA': 'sum', 'revenuePerDateA': 'sum'}\n",
    "    ),\n",
    "    axis=1,\n",
    ").sort_values(by=['date'])\n",
    "ordersACummulative.columns = ['date', 'ordersCummulativeA', 'revenueCummulativeA'] #переименовываем столбцы\n",
    "\n",
    "ordersBDaily = (     #отфтльтровываем заказы клиентов из группы B\n",
    "    orders[orders['group'] == 'B'][['date', 'transaction_id', 'visitor_id', 'revenue']]\n",
    "    .groupby('date', as_index=False)\n",
    "    .agg({'transaction_id': pd.Series.nunique, 'revenue': 'sum'})\n",
    ")\n",
    "ordersBDaily.columns = ['date', 'ordersPerDateB', 'revenuePerDateB']  #переименовываем столбцы\n",
    "\n",
    "ordersBCummulative = ordersBDaily.apply(    #считаем количество заказов в группе B на каждую дату с накоплением\n",
    "    lambda x: ordersBDaily[ordersBDaily['date'] <= x['date']].agg(\n",
    "        {'date': 'max', 'ordersPerDateB': 'sum', 'revenuePerDateB': 'sum'}\n",
    "    ),\n",
    "    axis=1,\n",
    ").sort_values(by=['date'])\n",
    "ordersBCummulative.columns = ['date','ordersCummulativeB', 'revenueCummulativeB'] #переименовываем столбцы\n",
    "\n",
    "data = ( #объединяем в одну таблицу данные для групп A и B на каждую дату о количестве заказов, \n",
    "    ordersADaily.merge(ordersBDaily, left_on='date', right_on='date', how='left')\n",
    "    .merge(ordersACummulative, left_on='date', right_on='date', how='left') #о количестве заказов с накоплением\n",
    "    .merge(ordersBCummulative, left_on='date', right_on='date', how='left')\n",
    "    .merge(visitorsADaily, left_on='date', right_on='date', how='left') #о количестве посетителей\n",
    "    .merge(visitorsBDaily, left_on='date', right_on='date', how='left')\n",
    "    .merge(visitorsACummulative, left_on='date', right_on='date', how='left') #о количестве посетителей с накоплением\n",
    "    .merge(visitorsBCummulative, left_on='date', right_on='date', how='left')\n",
    ")\n",
    "\n",
    "ordersByUsersA = ( #группируем данные о заказах по клиентам в группе A\n",
    "    orders[orders['group'] == 'A']\n",
    "    .groupby('visitor_id', as_index=False)\n",
    "    .agg({'transaction_id': pd.Series.nunique})\n",
    ")\n",
    "ordersByUsersA.columns = ['visitor_id', 'orders']\n",
    "\n",
    "ordersByUsersB = ( #группируем данные о заказах по клиентам в группе B\n",
    "    orders[orders['group'] == 'B']\n",
    "    .groupby('visitor_id', as_index=False)\n",
    "    .agg({'transaction_id': pd.Series.nunique})\n",
    ")\n",
    "ordersByUsersB.columns = ['visitor_id', 'orders']\n",
    "\n",
    "sampleA = pd.concat(    #создадим таблицу с количеством заказов каждого из пользователей для группы А\n",
    "    [\n",
    "        ordersByUsersA['orders'], #выделим список заказов\n",
    "        pd.Series( #создаем объект Series\n",
    "            0,\n",
    "            index=np.arange(\n",
    "                data['visitorsPerDateA'].sum() - len(ordersByUsersA['orders']) #добавим строки для пользователей, не сделавших ни одного заказа\n",
    "            ),\n",
    "            name='orders', #назовем объект\n",
    "        ),\n",
    "    ],\n",
    "    axis=0, #присоединим данные по строкам\n",
    ")\n",
    "\n",
    "sampleB = pd.concat( #создадим таблицу с количеством заказов каждого из пользователей для группы B\n",
    "    [\n",
    "        ordersByUsersB['orders'], #выделим список заказов\n",
    "        pd.Series( #создаем объект Series\n",
    "            0,\n",
    "            index=np.arange(\n",
    "                data['visitorsPerDateB'].sum() - len(ordersByUsersB['orders']) #добавим строки для пользователей, не сделавших ни одного заказа\n",
    "            ),\n",
    "            name='orders', #назовем объект\n",
    "        ),\n",
    "    ],\n",
    "    axis=0, #присоединим данные по строкам\n",
    ")\n",
    "\n",
    "print(\"p-value {0:.5f}\".format(stats.mannwhitneyu(sampleA, sampleB)[1])) #расчитаем p-value с помощью критерия Манна-Уитни и выведем результат на экран\n",
    "\n",
    "print(\"Относительное различие между группами {0:.3f}\".format(sampleB.mean() / sampleA.mean() - 1)) #расчитаем относительное различие между группами и выведем результат на экран"
   ]
  },
  {
   "cell_type": "markdown",
   "metadata": {},
   "source": [
    "Относительное различие средних заказов между группами - почти 15%. P-value < 0.05, следовательно, опровергаем нулевую гипотезу"
   ]
  },
  {
   "cell_type": "markdown",
   "metadata": {},
   "source": [
    "Сделаем аналогичный расчет для среднего чека.\n",
    "- H0: Нет различий между неочищенными данными о среднем чеке в группе A и группе B.\n",
    "- H1: Неочищенные данные о среднем чеке в группе A и в группе B существенно различаются"
   ]
  },
  {
   "cell_type": "code",
   "execution_count": 28,
   "metadata": {},
   "outputs": [
    {
     "name": "stdout",
     "output_type": "stream",
     "text": [
      "p-value: 0.829\n",
      "Относительное различие между группами: 0.287\n"
     ]
    }
   ],
   "source": [
    "print('p-value: {0:.3f}'.format(stats.mannwhitneyu(orders[orders['group']=='A']['revenue'], orders[orders['group']=='B']['revenue'])[1]))\n",
    "print('Относительное различие между группами: {0:.3f}'.format(orders[orders['group']=='B']['revenue'].mean()/orders[orders['group']=='A']['revenue'].mean()-1))"
   ]
  },
  {
   "cell_type": "markdown",
   "metadata": {},
   "source": [
    "Относительное различие среднего чека между сегментами почти 29%. При этом, p-value больше 0.05, то есть, не получилось опровергнуть нулевую теорию и статистически значимых различий между выборками не обнаружено. Стоит изучить те же данные, убрав аномальные выбросы."
   ]
  },
  {
   "cell_type": "markdown",
   "metadata": {},
   "source": [
    "Посчитаем статистическую значимость различий в среднем количестве заказов между группами по «очищенным» данным. Для этого отбросим пользователей, совершивших больше одного заказа и заказы на сумму более 27000.\n",
    "- H0: Нет различий между очищенными данными о среднем количестве заказов в группе A и группе B\n",
    "- H1: Очищенные данные о среднем количестве заказов в группе A и в группе B существенно различаются"
   ]
  },
  {
   "cell_type": "code",
   "execution_count": 29,
   "metadata": {},
   "outputs": [
    {
     "name": "stdout",
     "output_type": "stream",
     "text": [
      "p-value: 0.01593\n",
      "Относительное различие между группами: 0.174\n"
     ]
    }
   ],
   "source": [
    "usersWithManyOrders = pd.concat(\n",
    "    [\n",
    "        ordersByUsersA[ordersByUsersA['orders'] > 1]['visitor_id'],\n",
    "        ordersByUsersB[ordersByUsersB['orders'] > 1]['visitor_id'],\n",
    "    ],\n",
    "    axis=0,\n",
    ")\n",
    "usersWithExpensiveOrders = orders[orders['revenue'] > 27000]['visitor_id']\n",
    "abnormalUsers = (\n",
    "    pd.concat([usersWithManyOrders, usersWithExpensiveOrders], axis=0)\n",
    "    .drop_duplicates()\n",
    "    .sort_values()\n",
    ")\n",
    "\n",
    "sampleAFiltered = pd.concat(\n",
    "    [\n",
    "        ordersByUsersA[\n",
    "            np.logical_not(ordersByUsersA['visitor_id'].isin(abnormalUsers))\n",
    "        ]['orders'],\n",
    "        pd.Series(\n",
    "            0,\n",
    "            index=np.arange(\n",
    "                data['visitorsPerDateA'].sum() - len(ordersByUsersA['orders'])\n",
    "            ),\n",
    "            name='orders',\n",
    "        ),\n",
    "    ],\n",
    "    axis=0,\n",
    ")\n",
    "\n",
    "sampleBFiltered = pd.concat(\n",
    "    [\n",
    "        ordersByUsersB[\n",
    "            np.logical_not(ordersByUsersB['visitor_id'].isin(abnormalUsers))\n",
    "        ]['orders'],\n",
    "        pd.Series(\n",
    "            0,\n",
    "            index=np.arange(\n",
    "                data['visitorsPerDateB'].sum() - len(ordersByUsersB['orders'])\n",
    "            ),\n",
    "            name='orders',\n",
    "        ),\n",
    "    ],\n",
    "    axis=0,\n",
    ") \n",
    "\n",
    "print('p-value: {0:.5f}'.format(stats.mannwhitneyu(sampleAFiltered, sampleBFiltered)[1]))\n",
    "print('Относительное различие между группами: {0:.3f}'.format(sampleBFiltered.mean()/sampleAFiltered.mean()-1)) "
   ]
  },
  {
   "cell_type": "markdown",
   "metadata": {},
   "source": [
    "Относительное различие на очищенных данных даже увеличилось - более 17%. P-value снова ниже уровня статистической значимости, следовательное, отвергаем нулевую теорию - различия между выборками существенны."
   ]
  },
  {
   "cell_type": "markdown",
   "metadata": {},
   "source": [
    "Посмотрим, как на очищенных данных выглядят выборки по средним чекам\n",
    "- H0: Нет различий между очищенными данными о среднем чеке в группе A и группе B\n",
    "- H1: Очищенные данные о среднем чеке в группе A и в группе B существенно различаются"
   ]
  },
  {
   "cell_type": "code",
   "execution_count": 30,
   "metadata": {},
   "outputs": [
    {
     "name": "stdout",
     "output_type": "stream",
     "text": [
      "p-value: 0.727\n",
      "Относительное различие между группами: -0.034\n"
     ]
    }
   ],
   "source": [
    "sampleAFiltered = orders[np.logical_and(orders['group'] == 'A', np.logical_not(orders['visitor_id']\n",
    "                                                                               .isin(abnormalUsers)))]['revenue']\n",
    "\n",
    "sampleBFiltered = orders[np.logical_and(orders['group'] == 'B', np.logical_not(orders['visitor_id']\n",
    "                                                                               .isin(abnormalUsers)))]['revenue']\n",
    "\n",
    "\n",
    "print('p-value: {0:.3f}'.format(stats.mannwhitneyu(sampleAFiltered, sampleBFiltered)[1]))\n",
    "print('Относительное различие между группами: {0:.3f}'.format(sampleBFiltered.mean()/sampleAFiltered.mean()-1)) \n"
   ]
  },
  {
   "cell_type": "markdown",
   "metadata": {},
   "source": [
    "Относительное различие между группами составляет -3%, то есть,  группа А показывает результат лучше, чем группа B, но это различие невелико. На неочищенных данных казалось, что группа B показывает выручку на 30% больше, но причиной этой разницы оказались аномальные выбросы, которые случились не под воздействием тестируемых изменений.\n",
    "P-value выше статистической значимости, значит, нулевую гипотезу о том, что выборки равны, отвергнуть не получится. "
   ]
  },
  {
   "cell_type": "markdown",
   "metadata": {},
   "source": [
    "## Вывод"
   ]
  },
  {
   "cell_type": "markdown",
   "metadata": {},
   "source": [
    "Мы провели по два теста, сравнивая данные о среднем количестве заказов и о средней выручке в группах на сырых и очищенных данных. Результаты тестов выглядят следующим образом:\n",
    "<br>\n",
    "<br> Среднее количество заказов:\n",
    "<br> До удаления экстремумов: Различия между выборками существенны, относительное различие 15%\n",
    "<br> После удаления экстремумов: Различия существенны, относительное различие 17%\n",
    "<br>\n",
    "<br> Средняя выручка:\n",
    "<br> До удаления экстремумов: Различия между выборками несущественны, относительное различие 29%, что не является статистически значимым, поскольку основная причина возникновения такой разницы - единичные крупные заказы.\n",
    "<br> После удаления экстремумов: Различия между выборками несущественны, относительное различие -3%\n",
    "<br>\n",
    "<br> Анализируя результат теста  можно заключить, что по количеству заказов тест прошел успешно, ведь пользователи в группе, на которой тестировали изменения, сделали на 17% больше заказов, чем контрольная группа. При этом, средняя стоимость заказа в  контрольной группе оказалась больше на 2%. Однако, большее количество заказов, несмотря на небольшое уменьшение среднего чека, приносит больше выручки.\n",
    "<br> На основании этих данных считаю целесообразным остановить тест и зафиксировать преимущество группы B и эффективность предложенной гипотезы."
   ]
  }
 ],
 "metadata": {
  "ExecuteTimeLog": [
   {
    "duration": 1818,
    "start_time": "2022-10-13T13:18:52.934Z"
   },
   {
    "duration": 197,
    "start_time": "2022-10-13T13:18:54.755Z"
   },
   {
    "duration": 13,
    "start_time": "2022-10-13T13:18:54.953Z"
   },
   {
    "duration": 8,
    "start_time": "2022-10-13T13:18:54.968Z"
   },
   {
    "duration": 18,
    "start_time": "2022-10-13T13:18:54.978Z"
   },
   {
    "duration": 10,
    "start_time": "2022-10-13T13:18:54.998Z"
   },
   {
    "duration": 19,
    "start_time": "2022-10-13T13:18:55.010Z"
   },
   {
    "duration": 16,
    "start_time": "2022-10-13T13:18:55.031Z"
   },
   {
    "duration": 14,
    "start_time": "2022-10-13T13:18:55.048Z"
   },
   {
    "duration": 18,
    "start_time": "2022-10-13T13:18:55.064Z"
   },
   {
    "duration": 15,
    "start_time": "2022-10-13T13:18:55.083Z"
   },
   {
    "duration": 30,
    "start_time": "2022-10-13T13:18:55.100Z"
   },
   {
    "duration": 5,
    "start_time": "2022-10-13T13:18:55.132Z"
   },
   {
    "duration": 6,
    "start_time": "2022-10-13T13:18:55.141Z"
   },
   {
    "duration": 14,
    "start_time": "2022-10-13T13:18:55.149Z"
   },
   {
    "duration": 15,
    "start_time": "2022-10-13T13:18:55.165Z"
   },
   {
    "duration": 621,
    "start_time": "2022-10-13T13:18:55.182Z"
   },
   {
    "duration": 229,
    "start_time": "2022-10-13T13:18:55.805Z"
   },
   {
    "duration": 357,
    "start_time": "2022-10-13T13:18:56.036Z"
   },
   {
    "duration": 238,
    "start_time": "2022-10-13T13:18:56.395Z"
   },
   {
    "duration": 428,
    "start_time": "2022-10-13T13:18:56.635Z"
   },
   {
    "duration": 158,
    "start_time": "2022-10-13T13:18:57.065Z"
   },
   {
    "duration": 5,
    "start_time": "2022-10-13T13:18:57.225Z"
   },
   {
    "duration": 11,
    "start_time": "2022-10-13T13:18:57.232Z"
   },
   {
    "duration": 391,
    "start_time": "2022-10-13T13:18:57.244Z"
   },
   {
    "duration": 10,
    "start_time": "2022-10-13T13:18:57.637Z"
   },
   {
    "duration": 45,
    "start_time": "2022-10-13T13:18:57.649Z"
   },
   {
    "duration": 33,
    "start_time": "2022-10-13T13:18:57.696Z"
   },
   {
    "duration": 1357,
    "start_time": "2022-10-13T13:31:44.101Z"
   },
   {
    "duration": 185,
    "start_time": "2022-10-13T13:31:45.460Z"
   },
   {
    "duration": 12,
    "start_time": "2022-10-13T13:31:45.651Z"
   },
   {
    "duration": 12,
    "start_time": "2022-10-13T13:31:45.664Z"
   },
   {
    "duration": 27,
    "start_time": "2022-10-13T13:31:45.678Z"
   },
   {
    "duration": 14,
    "start_time": "2022-10-13T13:31:45.707Z"
   },
   {
    "duration": 21,
    "start_time": "2022-10-13T13:31:45.723Z"
   },
   {
    "duration": 17,
    "start_time": "2022-10-13T13:31:45.746Z"
   },
   {
    "duration": 16,
    "start_time": "2022-10-13T13:31:45.766Z"
   },
   {
    "duration": 17,
    "start_time": "2022-10-13T13:31:45.785Z"
   },
   {
    "duration": 9,
    "start_time": "2022-10-13T13:31:45.804Z"
   },
   {
    "duration": 51,
    "start_time": "2022-10-13T13:31:45.815Z"
   },
   {
    "duration": 4,
    "start_time": "2022-10-13T13:31:45.868Z"
   },
   {
    "duration": 12,
    "start_time": "2022-10-13T13:31:45.873Z"
   },
   {
    "duration": 22,
    "start_time": "2022-10-13T13:31:45.887Z"
   },
   {
    "duration": 17,
    "start_time": "2022-10-13T13:31:45.911Z"
   },
   {
    "duration": 653,
    "start_time": "2022-10-13T13:31:45.930Z"
   },
   {
    "duration": 228,
    "start_time": "2022-10-13T13:31:46.584Z"
   },
   {
    "duration": 327,
    "start_time": "2022-10-13T13:31:46.820Z"
   },
   {
    "duration": 235,
    "start_time": "2022-10-13T13:31:47.149Z"
   },
   {
    "duration": 373,
    "start_time": "2022-10-13T13:31:47.386Z"
   },
   {
    "duration": 164,
    "start_time": "2022-10-13T13:31:47.761Z"
   },
   {
    "duration": 6,
    "start_time": "2022-10-13T13:31:47.927Z"
   },
   {
    "duration": 11,
    "start_time": "2022-10-13T13:31:47.935Z"
   },
   {
    "duration": 362,
    "start_time": "2022-10-13T13:31:47.948Z"
   },
   {
    "duration": 16,
    "start_time": "2022-10-13T13:31:48.311Z"
   },
   {
    "duration": 34,
    "start_time": "2022-10-13T13:31:48.331Z"
   },
   {
    "duration": 12,
    "start_time": "2022-10-13T13:31:48.367Z"
   },
   {
    "duration": 140,
    "start_time": "2022-10-13T13:37:27.210Z"
   },
   {
    "duration": 9,
    "start_time": "2022-10-13T13:37:33.592Z"
   },
   {
    "duration": 55,
    "start_time": "2022-10-13T13:38:10.430Z"
   },
   {
    "duration": 17,
    "start_time": "2022-10-13T13:38:22.799Z"
   },
   {
    "duration": 134,
    "start_time": "2022-10-13T13:38:30.737Z"
   },
   {
    "duration": 8,
    "start_time": "2022-10-13T13:38:31.672Z"
   },
   {
    "duration": 9,
    "start_time": "2022-10-13T13:38:32.130Z"
   },
   {
    "duration": 12,
    "start_time": "2022-10-13T13:38:32.467Z"
   },
   {
    "duration": 7,
    "start_time": "2022-10-13T13:38:33.159Z"
   },
   {
    "duration": 12,
    "start_time": "2022-10-13T13:38:34.240Z"
   },
   {
    "duration": 11,
    "start_time": "2022-10-13T13:38:35.126Z"
   },
   {
    "duration": 11,
    "start_time": "2022-10-13T13:38:35.577Z"
   },
   {
    "duration": 7,
    "start_time": "2022-10-13T13:38:35.859Z"
   },
   {
    "duration": 4,
    "start_time": "2022-10-13T13:38:36.964Z"
   },
   {
    "duration": 14,
    "start_time": "2022-10-13T13:38:37.530Z"
   },
   {
    "duration": 5,
    "start_time": "2022-10-13T13:38:38.868Z"
   },
   {
    "duration": 4,
    "start_time": "2022-10-13T13:38:45.623Z"
   },
   {
    "duration": 156,
    "start_time": "2022-10-13T13:38:46.504Z"
   },
   {
    "duration": 7,
    "start_time": "2022-10-13T13:38:48.124Z"
   },
   {
    "duration": 8,
    "start_time": "2022-10-13T13:38:49.602Z"
   },
   {
    "duration": 12,
    "start_time": "2022-10-13T13:38:50.457Z"
   },
   {
    "duration": 5,
    "start_time": "2022-10-13T13:38:51.244Z"
   },
   {
    "duration": 12,
    "start_time": "2022-10-13T13:38:53.111Z"
   },
   {
    "duration": 10,
    "start_time": "2022-10-13T13:38:54.005Z"
   },
   {
    "duration": 10,
    "start_time": "2022-10-13T13:38:57.448Z"
   },
   {
    "duration": 5,
    "start_time": "2022-10-13T13:38:58.107Z"
   },
   {
    "duration": 6,
    "start_time": "2022-10-13T13:38:59.200Z"
   },
   {
    "duration": 16,
    "start_time": "2022-10-13T13:39:05.770Z"
   },
   {
    "duration": 24,
    "start_time": "2022-10-13T13:39:43.269Z"
   },
   {
    "duration": 18,
    "start_time": "2022-10-13T13:39:49.186Z"
   },
   {
    "duration": 10,
    "start_time": "2022-10-13T13:39:59.792Z"
   },
   {
    "duration": 1279,
    "start_time": "2022-10-13T13:41:24.281Z"
   },
   {
    "duration": 136,
    "start_time": "2022-10-13T13:41:25.562Z"
   },
   {
    "duration": 13,
    "start_time": "2022-10-13T13:41:25.700Z"
   },
   {
    "duration": 13,
    "start_time": "2022-10-13T13:41:25.716Z"
   },
   {
    "duration": 16,
    "start_time": "2022-10-13T13:41:25.731Z"
   },
   {
    "duration": 9,
    "start_time": "2022-10-13T13:41:25.749Z"
   },
   {
    "duration": 20,
    "start_time": "2022-10-13T13:41:25.760Z"
   },
   {
    "duration": 13,
    "start_time": "2022-10-13T13:41:25.782Z"
   },
   {
    "duration": 17,
    "start_time": "2022-10-13T13:41:25.797Z"
   },
   {
    "duration": 9,
    "start_time": "2022-10-13T13:41:25.822Z"
   },
   {
    "duration": 12,
    "start_time": "2022-10-13T13:41:25.833Z"
   },
   {
    "duration": 32,
    "start_time": "2022-10-13T13:41:25.847Z"
   },
   {
    "duration": 5,
    "start_time": "2022-10-13T13:41:25.880Z"
   },
   {
    "duration": 10,
    "start_time": "2022-10-13T13:41:25.886Z"
   },
   {
    "duration": 23,
    "start_time": "2022-10-13T13:41:25.898Z"
   },
   {
    "duration": 19,
    "start_time": "2022-10-13T13:41:25.923Z"
   },
   {
    "duration": 591,
    "start_time": "2022-10-13T13:41:25.944Z"
   },
   {
    "duration": 214,
    "start_time": "2022-10-13T13:41:26.537Z"
   },
   {
    "duration": 317,
    "start_time": "2022-10-13T13:41:26.754Z"
   },
   {
    "duration": 236,
    "start_time": "2022-10-13T13:41:27.073Z"
   },
   {
    "duration": 451,
    "start_time": "2022-10-13T13:41:27.311Z"
   },
   {
    "duration": 181,
    "start_time": "2022-10-13T13:41:27.764Z"
   },
   {
    "duration": 6,
    "start_time": "2022-10-13T13:41:27.946Z"
   },
   {
    "duration": 7,
    "start_time": "2022-10-13T13:41:27.953Z"
   },
   {
    "duration": 397,
    "start_time": "2022-10-13T13:41:27.962Z"
   },
   {
    "duration": 10,
    "start_time": "2022-10-13T13:41:28.361Z"
   },
   {
    "duration": 32,
    "start_time": "2022-10-13T13:41:28.372Z"
   },
   {
    "duration": 10,
    "start_time": "2022-10-13T13:41:28.423Z"
   },
   {
    "duration": 1756,
    "start_time": "2022-10-16T06:09:00.072Z"
   },
   {
    "duration": 196,
    "start_time": "2022-10-16T06:09:01.831Z"
   },
   {
    "duration": 12,
    "start_time": "2022-10-16T06:09:02.029Z"
   },
   {
    "duration": 30,
    "start_time": "2022-10-16T06:09:02.043Z"
   },
   {
    "duration": 26,
    "start_time": "2022-10-16T06:09:02.076Z"
   },
   {
    "duration": 16,
    "start_time": "2022-10-16T06:09:02.104Z"
   },
   {
    "duration": 19,
    "start_time": "2022-10-16T06:09:02.122Z"
   },
   {
    "duration": 38,
    "start_time": "2022-10-16T06:09:02.143Z"
   },
   {
    "duration": 60,
    "start_time": "2022-10-16T06:09:02.182Z"
   },
   {
    "duration": 32,
    "start_time": "2022-10-16T06:09:02.244Z"
   },
   {
    "duration": 31,
    "start_time": "2022-10-16T06:09:02.278Z"
   },
   {
    "duration": 43,
    "start_time": "2022-10-16T06:09:02.311Z"
   },
   {
    "duration": 9,
    "start_time": "2022-10-16T06:09:02.356Z"
   },
   {
    "duration": 35,
    "start_time": "2022-10-16T06:09:02.367Z"
   },
   {
    "duration": 20,
    "start_time": "2022-10-16T06:09:02.405Z"
   },
   {
    "duration": 212,
    "start_time": "2022-10-16T06:09:02.428Z"
   },
   {
    "duration": 0,
    "start_time": "2022-10-16T06:09:02.643Z"
   },
   {
    "duration": 0,
    "start_time": "2022-10-16T06:09:02.644Z"
   },
   {
    "duration": 0,
    "start_time": "2022-10-16T06:09:02.646Z"
   },
   {
    "duration": 0,
    "start_time": "2022-10-16T06:09:02.653Z"
   },
   {
    "duration": 0,
    "start_time": "2022-10-16T06:09:02.655Z"
   },
   {
    "duration": 0,
    "start_time": "2022-10-16T06:09:02.656Z"
   },
   {
    "duration": 0,
    "start_time": "2022-10-16T06:09:02.657Z"
   },
   {
    "duration": 0,
    "start_time": "2022-10-16T06:09:02.658Z"
   },
   {
    "duration": 0,
    "start_time": "2022-10-16T06:09:02.666Z"
   },
   {
    "duration": 0,
    "start_time": "2022-10-16T06:09:02.667Z"
   },
   {
    "duration": 0,
    "start_time": "2022-10-16T06:09:02.669Z"
   },
   {
    "duration": 0,
    "start_time": "2022-10-16T06:09:02.670Z"
   },
   {
    "duration": 0,
    "start_time": "2022-10-16T06:09:02.672Z"
   },
   {
    "duration": 0,
    "start_time": "2022-10-16T06:09:02.673Z"
   },
   {
    "duration": 588,
    "start_time": "2022-10-16T06:11:52.213Z"
   },
   {
    "duration": 232,
    "start_time": "2022-10-16T06:11:52.834Z"
   },
   {
    "duration": 344,
    "start_time": "2022-10-16T06:11:53.652Z"
   },
   {
    "duration": 13,
    "start_time": "2022-10-16T06:11:54.210Z"
   },
   {
    "duration": 239,
    "start_time": "2022-10-16T06:11:54.331Z"
   },
   {
    "duration": 442,
    "start_time": "2022-10-16T06:11:55.260Z"
   },
   {
    "duration": 177,
    "start_time": "2022-10-16T06:11:56.142Z"
   },
   {
    "duration": 165,
    "start_time": "2022-10-16T06:11:56.582Z"
   },
   {
    "duration": 5,
    "start_time": "2022-10-16T06:11:57.446Z"
   },
   {
    "duration": 5,
    "start_time": "2022-10-16T06:11:58.317Z"
   },
   {
    "duration": 381,
    "start_time": "2022-10-16T06:12:00.340Z"
   },
   {
    "duration": 11,
    "start_time": "2022-10-16T06:12:02.040Z"
   },
   {
    "duration": 39,
    "start_time": "2022-10-16T06:12:03.356Z"
   },
   {
    "duration": 11,
    "start_time": "2022-10-16T06:12:04.822Z"
   }
  ],
  "kernelspec": {
   "display_name": "Python 3 (ipykernel)",
   "language": "python",
   "name": "python3"
  },
  "language_info": {
   "codemirror_mode": {
    "name": "ipython",
    "version": 3
   },
   "file_extension": ".py",
   "mimetype": "text/x-python",
   "name": "python",
   "nbconvert_exporter": "python",
   "pygments_lexer": "ipython3",
   "version": "3.9.12"
  },
  "toc": {
   "base_numbering": 1,
   "nav_menu": {},
   "number_sections": true,
   "sideBar": true,
   "skip_h1_title": true,
   "title_cell": "Table of Contents",
   "title_sidebar": "Contents",
   "toc_cell": false,
   "toc_position": {},
   "toc_section_display": true,
   "toc_window_display": true
  }
 },
 "nbformat": 4,
 "nbformat_minor": 2
}
