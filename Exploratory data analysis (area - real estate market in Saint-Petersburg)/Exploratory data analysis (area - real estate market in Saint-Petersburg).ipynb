{
 "cells": [
  {
   "cell_type": "markdown",
   "metadata": {},
   "source": [
    "# Исследование объявлений о продаже квартир\n",
    "\n",
    "В вашем распоряжении данные сервиса Яндекс.Недвижимость — архив объявлений о продаже квартир в Санкт-Петербурге и соседних населённых пунктов за несколько лет. Нужно научиться определять рыночную стоимость объектов недвижимости. Ваша задача — установить параметры. Это позволит построить автоматизированную систему: она отследит аномалии и мошенническую деятельность. \n",
    "\n",
    "По каждой квартире на продажу доступны два вида данных. Первые вписаны пользователем, вторые — получены автоматически на основе картографических данных. Например, расстояние до центра, аэропорта, ближайшего парка и водоёма. "
   ]
  },
  {
   "cell_type": "markdown",
   "metadata": {},
   "source": [
    "## Введение"
   ]
  },
  {
   "cell_type": "markdown",
   "metadata": {},
   "source": [
    "Нам предстоит изучить датасет с информацией о квартирах, которые были выставлены на продажу в Санкт-Петербурге и Ленинградской области с 2014 по начало 2019 года. Посмотрим на качество исходных  данных: есть ли пропуски, аномалии и дубликаты. Изучим, какие факторы влияют на цену квартиры, какие варианты жилой недвижимости можно считать типичными и какие интересные закономерности можно выявить на основании предложенных данных."
   ]
  },
  {
   "cell_type": "markdown",
   "metadata": {},
   "source": [
    "## Загрузка библиотек и исходных данных"
   ]
  },
  {
   "cell_type": "code",
   "execution_count": 1,
   "metadata": {
    "scrolled": true
   },
   "outputs": [],
   "source": [
    "import pandas as pd\n",
    "import numpy as np\n",
    "import matplotlib.pyplot as plt\n",
    "import seaborn as sns\n",
    "from matplotlib.ticker import FormatStrFormatter\n",
    "import warnings\n",
    "warnings.filterwarnings('ignore')"
   ]
  },
  {
   "cell_type": "code",
   "execution_count": 2,
   "metadata": {},
   "outputs": [
    {
     "data": {
      "text/html": [
       "<div>\n",
       "<style scoped>\n",
       "    .dataframe tbody tr th:only-of-type {\n",
       "        vertical-align: middle;\n",
       "    }\n",
       "\n",
       "    .dataframe tbody tr th {\n",
       "        vertical-align: top;\n",
       "    }\n",
       "\n",
       "    .dataframe thead th {\n",
       "        text-align: right;\n",
       "    }\n",
       "</style>\n",
       "<table border=\"1\" class=\"dataframe\">\n",
       "  <thead>\n",
       "    <tr style=\"text-align: right;\">\n",
       "      <th></th>\n",
       "      <th>total_images</th>\n",
       "      <th>last_price</th>\n",
       "      <th>total_area</th>\n",
       "      <th>first_day_exposition</th>\n",
       "      <th>rooms</th>\n",
       "      <th>ceiling_height</th>\n",
       "      <th>floors_total</th>\n",
       "      <th>living_area</th>\n",
       "      <th>floor</th>\n",
       "      <th>is_apartment</th>\n",
       "      <th>...</th>\n",
       "      <th>kitchen_area</th>\n",
       "      <th>balcony</th>\n",
       "      <th>locality_name</th>\n",
       "      <th>airports_nearest</th>\n",
       "      <th>cityCenters_nearest</th>\n",
       "      <th>parks_around3000</th>\n",
       "      <th>parks_nearest</th>\n",
       "      <th>ponds_around3000</th>\n",
       "      <th>ponds_nearest</th>\n",
       "      <th>days_exposition</th>\n",
       "    </tr>\n",
       "  </thead>\n",
       "  <tbody>\n",
       "    <tr>\n",
       "      <th>0</th>\n",
       "      <td>20</td>\n",
       "      <td>13000000.0</td>\n",
       "      <td>108.0</td>\n",
       "      <td>2019-03-07T00:00:00</td>\n",
       "      <td>3</td>\n",
       "      <td>2.70</td>\n",
       "      <td>16.0</td>\n",
       "      <td>51.0</td>\n",
       "      <td>8</td>\n",
       "      <td>NaN</td>\n",
       "      <td>...</td>\n",
       "      <td>25.0</td>\n",
       "      <td>NaN</td>\n",
       "      <td>Санкт-Петербург</td>\n",
       "      <td>18863.0</td>\n",
       "      <td>16028.0</td>\n",
       "      <td>1.0</td>\n",
       "      <td>482.0</td>\n",
       "      <td>2.0</td>\n",
       "      <td>755.0</td>\n",
       "      <td>NaN</td>\n",
       "    </tr>\n",
       "    <tr>\n",
       "      <th>1</th>\n",
       "      <td>7</td>\n",
       "      <td>3350000.0</td>\n",
       "      <td>40.4</td>\n",
       "      <td>2018-12-04T00:00:00</td>\n",
       "      <td>1</td>\n",
       "      <td>NaN</td>\n",
       "      <td>11.0</td>\n",
       "      <td>18.6</td>\n",
       "      <td>1</td>\n",
       "      <td>NaN</td>\n",
       "      <td>...</td>\n",
       "      <td>11.0</td>\n",
       "      <td>2.0</td>\n",
       "      <td>посёлок Шушары</td>\n",
       "      <td>12817.0</td>\n",
       "      <td>18603.0</td>\n",
       "      <td>0.0</td>\n",
       "      <td>NaN</td>\n",
       "      <td>0.0</td>\n",
       "      <td>NaN</td>\n",
       "      <td>81.0</td>\n",
       "    </tr>\n",
       "    <tr>\n",
       "      <th>2</th>\n",
       "      <td>10</td>\n",
       "      <td>5196000.0</td>\n",
       "      <td>56.0</td>\n",
       "      <td>2015-08-20T00:00:00</td>\n",
       "      <td>2</td>\n",
       "      <td>NaN</td>\n",
       "      <td>5.0</td>\n",
       "      <td>34.3</td>\n",
       "      <td>4</td>\n",
       "      <td>NaN</td>\n",
       "      <td>...</td>\n",
       "      <td>8.3</td>\n",
       "      <td>0.0</td>\n",
       "      <td>Санкт-Петербург</td>\n",
       "      <td>21741.0</td>\n",
       "      <td>13933.0</td>\n",
       "      <td>1.0</td>\n",
       "      <td>90.0</td>\n",
       "      <td>2.0</td>\n",
       "      <td>574.0</td>\n",
       "      <td>558.0</td>\n",
       "    </tr>\n",
       "    <tr>\n",
       "      <th>3</th>\n",
       "      <td>0</td>\n",
       "      <td>64900000.0</td>\n",
       "      <td>159.0</td>\n",
       "      <td>2015-07-24T00:00:00</td>\n",
       "      <td>3</td>\n",
       "      <td>NaN</td>\n",
       "      <td>14.0</td>\n",
       "      <td>NaN</td>\n",
       "      <td>9</td>\n",
       "      <td>NaN</td>\n",
       "      <td>...</td>\n",
       "      <td>NaN</td>\n",
       "      <td>0.0</td>\n",
       "      <td>Санкт-Петербург</td>\n",
       "      <td>28098.0</td>\n",
       "      <td>6800.0</td>\n",
       "      <td>2.0</td>\n",
       "      <td>84.0</td>\n",
       "      <td>3.0</td>\n",
       "      <td>234.0</td>\n",
       "      <td>424.0</td>\n",
       "    </tr>\n",
       "    <tr>\n",
       "      <th>4</th>\n",
       "      <td>2</td>\n",
       "      <td>10000000.0</td>\n",
       "      <td>100.0</td>\n",
       "      <td>2018-06-19T00:00:00</td>\n",
       "      <td>2</td>\n",
       "      <td>3.03</td>\n",
       "      <td>14.0</td>\n",
       "      <td>32.0</td>\n",
       "      <td>13</td>\n",
       "      <td>NaN</td>\n",
       "      <td>...</td>\n",
       "      <td>41.0</td>\n",
       "      <td>NaN</td>\n",
       "      <td>Санкт-Петербург</td>\n",
       "      <td>31856.0</td>\n",
       "      <td>8098.0</td>\n",
       "      <td>2.0</td>\n",
       "      <td>112.0</td>\n",
       "      <td>1.0</td>\n",
       "      <td>48.0</td>\n",
       "      <td>121.0</td>\n",
       "    </tr>\n",
       "  </tbody>\n",
       "</table>\n",
       "<p>5 rows × 22 columns</p>\n",
       "</div>"
      ],
      "text/plain": [
       "   total_images  last_price  total_area first_day_exposition  rooms  \\\n",
       "0            20  13000000.0       108.0  2019-03-07T00:00:00      3   \n",
       "1             7   3350000.0        40.4  2018-12-04T00:00:00      1   \n",
       "2            10   5196000.0        56.0  2015-08-20T00:00:00      2   \n",
       "3             0  64900000.0       159.0  2015-07-24T00:00:00      3   \n",
       "4             2  10000000.0       100.0  2018-06-19T00:00:00      2   \n",
       "\n",
       "   ceiling_height  floors_total  living_area  floor is_apartment  ...  \\\n",
       "0            2.70          16.0         51.0      8          NaN  ...   \n",
       "1             NaN          11.0         18.6      1          NaN  ...   \n",
       "2             NaN           5.0         34.3      4          NaN  ...   \n",
       "3             NaN          14.0          NaN      9          NaN  ...   \n",
       "4            3.03          14.0         32.0     13          NaN  ...   \n",
       "\n",
       "   kitchen_area  balcony    locality_name  airports_nearest  \\\n",
       "0          25.0      NaN  Санкт-Петербург           18863.0   \n",
       "1          11.0      2.0   посёлок Шушары           12817.0   \n",
       "2           8.3      0.0  Санкт-Петербург           21741.0   \n",
       "3           NaN      0.0  Санкт-Петербург           28098.0   \n",
       "4          41.0      NaN  Санкт-Петербург           31856.0   \n",
       "\n",
       "  cityCenters_nearest  parks_around3000  parks_nearest  ponds_around3000  \\\n",
       "0             16028.0               1.0          482.0               2.0   \n",
       "1             18603.0               0.0            NaN               0.0   \n",
       "2             13933.0               1.0           90.0               2.0   \n",
       "3              6800.0               2.0           84.0               3.0   \n",
       "4              8098.0               2.0          112.0               1.0   \n",
       "\n",
       "   ponds_nearest  days_exposition  \n",
       "0          755.0              NaN  \n",
       "1            NaN             81.0  \n",
       "2          574.0            558.0  \n",
       "3          234.0            424.0  \n",
       "4           48.0            121.0  \n",
       "\n",
       "[5 rows x 22 columns]"
      ]
     },
     "execution_count": 2,
     "metadata": {},
     "output_type": "execute_result"
    }
   ],
   "source": [
    "data = pd.read_csv('real_estate_data.csv', sep='\\t')\n",
    "data.head()"
   ]
  },
  {
   "cell_type": "code",
   "execution_count": 3,
   "metadata": {},
   "outputs": [
    {
     "name": "stdout",
     "output_type": "stream",
     "text": [
      "<class 'pandas.core.frame.DataFrame'>\n",
      "RangeIndex: 23699 entries, 0 to 23698\n",
      "Data columns (total 22 columns):\n",
      " #   Column                Non-Null Count  Dtype  \n",
      "---  ------                --------------  -----  \n",
      " 0   total_images          23699 non-null  int64  \n",
      " 1   last_price            23699 non-null  float64\n",
      " 2   total_area            23699 non-null  float64\n",
      " 3   first_day_exposition  23699 non-null  object \n",
      " 4   rooms                 23699 non-null  int64  \n",
      " 5   ceiling_height        14504 non-null  float64\n",
      " 6   floors_total          23613 non-null  float64\n",
      " 7   living_area           21796 non-null  float64\n",
      " 8   floor                 23699 non-null  int64  \n",
      " 9   is_apartment          2775 non-null   object \n",
      " 10  studio                23699 non-null  bool   \n",
      " 11  open_plan             23699 non-null  bool   \n",
      " 12  kitchen_area          21421 non-null  float64\n",
      " 13  balcony               12180 non-null  float64\n",
      " 14  locality_name         23650 non-null  object \n",
      " 15  airports_nearest      18157 non-null  float64\n",
      " 16  cityCenters_nearest   18180 non-null  float64\n",
      " 17  parks_around3000      18181 non-null  float64\n",
      " 18  parks_nearest         8079 non-null   float64\n",
      " 19  ponds_around3000      18181 non-null  float64\n",
      " 20  ponds_nearest         9110 non-null   float64\n",
      " 21  days_exposition       20518 non-null  float64\n",
      "dtypes: bool(2), float64(14), int64(3), object(3)\n",
      "memory usage: 3.7+ MB\n"
     ]
    }
   ],
   "source": [
    "data.info()"
   ]
  },
  {
   "cell_type": "code",
   "execution_count": 4,
   "metadata": {},
   "outputs": [
    {
     "data": {
      "text/html": [
       "<div>\n",
       "<style scoped>\n",
       "    .dataframe tbody tr th:only-of-type {\n",
       "        vertical-align: middle;\n",
       "    }\n",
       "\n",
       "    .dataframe tbody tr th {\n",
       "        vertical-align: top;\n",
       "    }\n",
       "\n",
       "    .dataframe thead th {\n",
       "        text-align: right;\n",
       "    }\n",
       "</style>\n",
       "<table border=\"1\" class=\"dataframe\">\n",
       "  <thead>\n",
       "    <tr style=\"text-align: right;\">\n",
       "      <th></th>\n",
       "      <th>count</th>\n",
       "      <th>mean</th>\n",
       "      <th>std</th>\n",
       "      <th>min</th>\n",
       "      <th>25%</th>\n",
       "      <th>50%</th>\n",
       "      <th>75%</th>\n",
       "      <th>max</th>\n",
       "    </tr>\n",
       "  </thead>\n",
       "  <tbody>\n",
       "    <tr>\n",
       "      <th>total_images</th>\n",
       "      <td>23699.0</td>\n",
       "      <td>9.858475e+00</td>\n",
       "      <td>5.682529e+00</td>\n",
       "      <td>0.0</td>\n",
       "      <td>6.00</td>\n",
       "      <td>9.00</td>\n",
       "      <td>14.0</td>\n",
       "      <td>50.0</td>\n",
       "    </tr>\n",
       "    <tr>\n",
       "      <th>last_price</th>\n",
       "      <td>23699.0</td>\n",
       "      <td>6.541549e+06</td>\n",
       "      <td>1.088701e+07</td>\n",
       "      <td>12190.0</td>\n",
       "      <td>3400000.00</td>\n",
       "      <td>4650000.00</td>\n",
       "      <td>6800000.0</td>\n",
       "      <td>763000000.0</td>\n",
       "    </tr>\n",
       "    <tr>\n",
       "      <th>total_area</th>\n",
       "      <td>23699.0</td>\n",
       "      <td>6.034865e+01</td>\n",
       "      <td>3.565408e+01</td>\n",
       "      <td>12.0</td>\n",
       "      <td>40.00</td>\n",
       "      <td>52.00</td>\n",
       "      <td>69.9</td>\n",
       "      <td>900.0</td>\n",
       "    </tr>\n",
       "    <tr>\n",
       "      <th>rooms</th>\n",
       "      <td>23699.0</td>\n",
       "      <td>2.070636e+00</td>\n",
       "      <td>1.078405e+00</td>\n",
       "      <td>0.0</td>\n",
       "      <td>1.00</td>\n",
       "      <td>2.00</td>\n",
       "      <td>3.0</td>\n",
       "      <td>19.0</td>\n",
       "    </tr>\n",
       "    <tr>\n",
       "      <th>ceiling_height</th>\n",
       "      <td>14504.0</td>\n",
       "      <td>2.771499e+00</td>\n",
       "      <td>1.261056e+00</td>\n",
       "      <td>1.0</td>\n",
       "      <td>2.52</td>\n",
       "      <td>2.65</td>\n",
       "      <td>2.8</td>\n",
       "      <td>100.0</td>\n",
       "    </tr>\n",
       "    <tr>\n",
       "      <th>floors_total</th>\n",
       "      <td>23613.0</td>\n",
       "      <td>1.067382e+01</td>\n",
       "      <td>6.597173e+00</td>\n",
       "      <td>1.0</td>\n",
       "      <td>5.00</td>\n",
       "      <td>9.00</td>\n",
       "      <td>16.0</td>\n",
       "      <td>60.0</td>\n",
       "    </tr>\n",
       "    <tr>\n",
       "      <th>living_area</th>\n",
       "      <td>21796.0</td>\n",
       "      <td>3.445785e+01</td>\n",
       "      <td>2.203045e+01</td>\n",
       "      <td>2.0</td>\n",
       "      <td>18.60</td>\n",
       "      <td>30.00</td>\n",
       "      <td>42.3</td>\n",
       "      <td>409.7</td>\n",
       "    </tr>\n",
       "    <tr>\n",
       "      <th>floor</th>\n",
       "      <td>23699.0</td>\n",
       "      <td>5.892358e+00</td>\n",
       "      <td>4.885249e+00</td>\n",
       "      <td>1.0</td>\n",
       "      <td>2.00</td>\n",
       "      <td>4.00</td>\n",
       "      <td>8.0</td>\n",
       "      <td>33.0</td>\n",
       "    </tr>\n",
       "    <tr>\n",
       "      <th>kitchen_area</th>\n",
       "      <td>21421.0</td>\n",
       "      <td>1.056981e+01</td>\n",
       "      <td>5.905438e+00</td>\n",
       "      <td>1.3</td>\n",
       "      <td>7.00</td>\n",
       "      <td>9.10</td>\n",
       "      <td>12.0</td>\n",
       "      <td>112.0</td>\n",
       "    </tr>\n",
       "    <tr>\n",
       "      <th>balcony</th>\n",
       "      <td>12180.0</td>\n",
       "      <td>1.150082e+00</td>\n",
       "      <td>1.071300e+00</td>\n",
       "      <td>0.0</td>\n",
       "      <td>0.00</td>\n",
       "      <td>1.00</td>\n",
       "      <td>2.0</td>\n",
       "      <td>5.0</td>\n",
       "    </tr>\n",
       "    <tr>\n",
       "      <th>airports_nearest</th>\n",
       "      <td>18157.0</td>\n",
       "      <td>2.879367e+04</td>\n",
       "      <td>1.263088e+04</td>\n",
       "      <td>0.0</td>\n",
       "      <td>18585.00</td>\n",
       "      <td>26726.00</td>\n",
       "      <td>37273.0</td>\n",
       "      <td>84869.0</td>\n",
       "    </tr>\n",
       "    <tr>\n",
       "      <th>cityCenters_nearest</th>\n",
       "      <td>18180.0</td>\n",
       "      <td>1.419128e+04</td>\n",
       "      <td>8.608386e+03</td>\n",
       "      <td>181.0</td>\n",
       "      <td>9238.00</td>\n",
       "      <td>13098.50</td>\n",
       "      <td>16293.0</td>\n",
       "      <td>65968.0</td>\n",
       "    </tr>\n",
       "    <tr>\n",
       "      <th>parks_around3000</th>\n",
       "      <td>18181.0</td>\n",
       "      <td>6.114075e-01</td>\n",
       "      <td>8.020736e-01</td>\n",
       "      <td>0.0</td>\n",
       "      <td>0.00</td>\n",
       "      <td>0.00</td>\n",
       "      <td>1.0</td>\n",
       "      <td>3.0</td>\n",
       "    </tr>\n",
       "    <tr>\n",
       "      <th>parks_nearest</th>\n",
       "      <td>8079.0</td>\n",
       "      <td>4.908046e+02</td>\n",
       "      <td>3.423180e+02</td>\n",
       "      <td>1.0</td>\n",
       "      <td>288.00</td>\n",
       "      <td>455.00</td>\n",
       "      <td>612.0</td>\n",
       "      <td>3190.0</td>\n",
       "    </tr>\n",
       "    <tr>\n",
       "      <th>ponds_around3000</th>\n",
       "      <td>18181.0</td>\n",
       "      <td>7.702547e-01</td>\n",
       "      <td>9.383456e-01</td>\n",
       "      <td>0.0</td>\n",
       "      <td>0.00</td>\n",
       "      <td>1.00</td>\n",
       "      <td>1.0</td>\n",
       "      <td>3.0</td>\n",
       "    </tr>\n",
       "    <tr>\n",
       "      <th>ponds_nearest</th>\n",
       "      <td>9110.0</td>\n",
       "      <td>5.179809e+02</td>\n",
       "      <td>2.777206e+02</td>\n",
       "      <td>13.0</td>\n",
       "      <td>294.00</td>\n",
       "      <td>502.00</td>\n",
       "      <td>729.0</td>\n",
       "      <td>1344.0</td>\n",
       "    </tr>\n",
       "    <tr>\n",
       "      <th>days_exposition</th>\n",
       "      <td>20518.0</td>\n",
       "      <td>1.808886e+02</td>\n",
       "      <td>2.197280e+02</td>\n",
       "      <td>1.0</td>\n",
       "      <td>45.00</td>\n",
       "      <td>95.00</td>\n",
       "      <td>232.0</td>\n",
       "      <td>1580.0</td>\n",
       "    </tr>\n",
       "  </tbody>\n",
       "</table>\n",
       "</div>"
      ],
      "text/plain": [
       "                       count          mean           std      min         25%  \\\n",
       "total_images         23699.0  9.858475e+00  5.682529e+00      0.0        6.00   \n",
       "last_price           23699.0  6.541549e+06  1.088701e+07  12190.0  3400000.00   \n",
       "total_area           23699.0  6.034865e+01  3.565408e+01     12.0       40.00   \n",
       "rooms                23699.0  2.070636e+00  1.078405e+00      0.0        1.00   \n",
       "ceiling_height       14504.0  2.771499e+00  1.261056e+00      1.0        2.52   \n",
       "floors_total         23613.0  1.067382e+01  6.597173e+00      1.0        5.00   \n",
       "living_area          21796.0  3.445785e+01  2.203045e+01      2.0       18.60   \n",
       "floor                23699.0  5.892358e+00  4.885249e+00      1.0        2.00   \n",
       "kitchen_area         21421.0  1.056981e+01  5.905438e+00      1.3        7.00   \n",
       "balcony              12180.0  1.150082e+00  1.071300e+00      0.0        0.00   \n",
       "airports_nearest     18157.0  2.879367e+04  1.263088e+04      0.0    18585.00   \n",
       "cityCenters_nearest  18180.0  1.419128e+04  8.608386e+03    181.0     9238.00   \n",
       "parks_around3000     18181.0  6.114075e-01  8.020736e-01      0.0        0.00   \n",
       "parks_nearest         8079.0  4.908046e+02  3.423180e+02      1.0      288.00   \n",
       "ponds_around3000     18181.0  7.702547e-01  9.383456e-01      0.0        0.00   \n",
       "ponds_nearest         9110.0  5.179809e+02  2.777206e+02     13.0      294.00   \n",
       "days_exposition      20518.0  1.808886e+02  2.197280e+02      1.0       45.00   \n",
       "\n",
       "                            50%        75%          max  \n",
       "total_images               9.00       14.0         50.0  \n",
       "last_price           4650000.00  6800000.0  763000000.0  \n",
       "total_area                52.00       69.9        900.0  \n",
       "rooms                      2.00        3.0         19.0  \n",
       "ceiling_height             2.65        2.8        100.0  \n",
       "floors_total               9.00       16.0         60.0  \n",
       "living_area               30.00       42.3        409.7  \n",
       "floor                      4.00        8.0         33.0  \n",
       "kitchen_area               9.10       12.0        112.0  \n",
       "balcony                    1.00        2.0          5.0  \n",
       "airports_nearest       26726.00    37273.0      84869.0  \n",
       "cityCenters_nearest    13098.50    16293.0      65968.0  \n",
       "parks_around3000           0.00        1.0          3.0  \n",
       "parks_nearest            455.00      612.0       3190.0  \n",
       "ponds_around3000           1.00        1.0          3.0  \n",
       "ponds_nearest            502.00      729.0       1344.0  \n",
       "days_exposition           95.00      232.0       1580.0  "
      ]
     },
     "execution_count": 4,
     "metadata": {},
     "output_type": "execute_result"
    }
   ],
   "source": [
    "data.describe().T"
   ]
  },
  {
   "cell_type": "code",
   "execution_count": 5,
   "metadata": {},
   "outputs": [
    {
     "data": {
      "image/png": "[encoded data removed]",
      "text/plain": [
       "<Figure size 1080x1440 with 20 Axes>"
      ]
     },
     "metadata": {
      "needs_background": "light"
     },
     "output_type": "display_data"
    }
   ],
   "source": [
    " data_hist = data.hist(figsize=(15, 20))"
   ]
  },
  {
   "cell_type": "markdown",
   "metadata": {},
   "source": [
    "Просмотрев исходные данные, можно сформулировать задачи по предобработке. Нам предстоит поработать со следующими столбцами:\n",
    "<br>**last_price**\tПроверить на аномалии. Подозрительная минимальная цена\n",
    "<br>**rooms**\tПроверить на аномалии и возможно убрать квартиры с очень большим количеством комнат\n",
    "<br>**ceiling_height**\tЗаполнить пустые ячейки медианами и проверить аномалии\n",
    "<br>**floors_total**\tПроверить аномалии и убрать пустые ячейки (заполнить не получится)\n",
    "<br>**living_area**\tЗаполнить пустые ячейки и проверить аномалии\n",
    "<br>**is_apartment** Заполнить пустые значения False и изменить тип данных\n",
    "<br>**kitchen_area**\tЗаполнить пустые ячейки и проверить аномалии\n",
    "<br>**balcony**\tЗаполнить пустые ячейки нулями\n",
    "<br>**cityCenters_nearest**\tПереименовать\n",
    "<br>**locality_name** Удалить неявные дубликаты\t\n",
    "**days_exposition** Изменить тип данных"
   ]
  },
  {
   "cell_type": "markdown",
   "metadata": {},
   "source": [
    "## Предобработка данных"
   ]
  },
  {
   "cell_type": "markdown",
   "metadata": {},
   "source": [
    "Посмотрим, есть ли в данных полные дубликаты"
   ]
  },
  {
   "cell_type": "code",
   "execution_count": 6,
   "metadata": {},
   "outputs": [
    {
     "data": {
      "text/plain": [
       "0"
      ]
     },
     "execution_count": 6,
     "metadata": {},
     "output_type": "execute_result"
    }
   ],
   "source": [
    "data.duplicated().sum()"
   ]
  },
  {
   "cell_type": "markdown",
   "metadata": {},
   "source": [
    "Переименуем столбец cityCenters_nearest, чтобы он соответствовал правилам хорошего стиля"
   ]
  },
  {
   "cell_type": "code",
   "execution_count": 7,
   "metadata": {},
   "outputs": [],
   "source": [
    "data = data.rename(\n",
    "    columns={\n",
    "        'cityCenters_nearest' : 'city_centers_nearest'\n",
    "    }\n",
    "\n",
    ")"
   ]
  },
  {
   "cell_type": "markdown",
   "metadata": {},
   "source": [
    "**Заполнение пропусков**\n",
    "<br>Сначала заполним пропуски в тех столбцах, где отсутствующие значения можно заменить на ноль. Это is_apartment и balcony."
   ]
  },
  {
   "cell_type": "code",
   "execution_count": 8,
   "metadata": {},
   "outputs": [
    {
     "name": "stdout",
     "output_type": "stream",
     "text": [
      "<class 'pandas.core.frame.DataFrame'>\n",
      "RangeIndex: 23699 entries, 0 to 23698\n",
      "Data columns (total 22 columns):\n",
      " #   Column                Non-Null Count  Dtype  \n",
      "---  ------                --------------  -----  \n",
      " 0   total_images          23699 non-null  int64  \n",
      " 1   last_price            23699 non-null  float64\n",
      " 2   total_area            23699 non-null  float64\n",
      " 3   first_day_exposition  23699 non-null  object \n",
      " 4   rooms                 23699 non-null  int64  \n",
      " 5   ceiling_height        14504 non-null  float64\n",
      " 6   floors_total          23613 non-null  float64\n",
      " 7   living_area           21796 non-null  float64\n",
      " 8   floor                 23699 non-null  int64  \n",
      " 9   is_apartment          23699 non-null  bool   \n",
      " 10  studio                23699 non-null  bool   \n",
      " 11  open_plan             23699 non-null  bool   \n",
      " 12  kitchen_area          21421 non-null  float64\n",
      " 13  balcony               23699 non-null  float64\n",
      " 14  locality_name         23650 non-null  object \n",
      " 15  airports_nearest      18157 non-null  float64\n",
      " 16  city_centers_nearest  18180 non-null  float64\n",
      " 17  parks_around3000      18181 non-null  float64\n",
      " 18  parks_nearest         8079 non-null   float64\n",
      " 19  ponds_around3000      18181 non-null  float64\n",
      " 20  ponds_nearest         9110 non-null   float64\n",
      " 21  days_exposition       20518 non-null  float64\n",
      "dtypes: bool(3), float64(14), int64(3), object(2)\n",
      "memory usage: 3.5+ MB\n"
     ]
    }
   ],
   "source": [
    "data.is_apartment = data.is_apartment.fillna(False)\n",
    "data.balcony = data.balcony.fillna(0)\n",
    "data.info()"
   ]
  },
  {
   "cell_type": "markdown",
   "metadata": {},
   "source": [
    "Посмотрим, в каком диапазоне цены в выборке"
   ]
  },
  {
   "cell_type": "code",
   "execution_count": 9,
   "metadata": {},
   "outputs": [
    {
     "data": {
      "text/plain": [
       "count    2.369900e+04\n",
       "mean     6.541549e+06\n",
       "std      1.088701e+07\n",
       "min      1.219000e+04\n",
       "25%      3.400000e+06\n",
       "50%      4.650000e+06\n",
       "75%      6.800000e+06\n",
       "max      7.630000e+08\n",
       "Name: last_price, dtype: float64"
      ]
     },
     "execution_count": 9,
     "metadata": {},
     "output_type": "execute_result"
    }
   ],
   "source": [
    "data.last_price.describe()"
   ]
  },
  {
   "cell_type": "markdown",
   "metadata": {},
   "source": [
    "О максимальной цене судить трудно, но минимальная подозрительно мала. Возможно, кто-то указал цену в валюте.\n",
    "Посмотрим, какие еще есть низкие цены."
   ]
  },
  {
   "cell_type": "code",
   "execution_count": 10,
   "metadata": {},
   "outputs": [
    {
     "data": {
      "text/html": [
       "<div>\n",
       "<style scoped>\n",
       "    .dataframe tbody tr th:only-of-type {\n",
       "        vertical-align: middle;\n",
       "    }\n",
       "\n",
       "    .dataframe tbody tr th {\n",
       "        vertical-align: top;\n",
       "    }\n",
       "\n",
       "    .dataframe thead th {\n",
       "        text-align: right;\n",
       "    }\n",
       "</style>\n",
       "<table border=\"1\" class=\"dataframe\">\n",
       "  <thead>\n",
       "    <tr style=\"text-align: right;\">\n",
       "      <th></th>\n",
       "      <th>total_images</th>\n",
       "      <th>last_price</th>\n",
       "      <th>total_area</th>\n",
       "      <th>first_day_exposition</th>\n",
       "      <th>rooms</th>\n",
       "      <th>ceiling_height</th>\n",
       "      <th>floors_total</th>\n",
       "      <th>living_area</th>\n",
       "      <th>floor</th>\n",
       "      <th>is_apartment</th>\n",
       "      <th>...</th>\n",
       "      <th>kitchen_area</th>\n",
       "      <th>balcony</th>\n",
       "      <th>locality_name</th>\n",
       "      <th>airports_nearest</th>\n",
       "      <th>city_centers_nearest</th>\n",
       "      <th>parks_around3000</th>\n",
       "      <th>parks_nearest</th>\n",
       "      <th>ponds_around3000</th>\n",
       "      <th>ponds_nearest</th>\n",
       "      <th>days_exposition</th>\n",
       "    </tr>\n",
       "  </thead>\n",
       "  <tbody>\n",
       "    <tr>\n",
       "      <th>5698</th>\n",
       "      <td>7</td>\n",
       "      <td>450000.0</td>\n",
       "      <td>42.0</td>\n",
       "      <td>2017-07-31T00:00:00</td>\n",
       "      <td>2</td>\n",
       "      <td>NaN</td>\n",
       "      <td>1.0</td>\n",
       "      <td>23.0</td>\n",
       "      <td>1</td>\n",
       "      <td>False</td>\n",
       "      <td>...</td>\n",
       "      <td>5.8</td>\n",
       "      <td>0.0</td>\n",
       "      <td>городской посёлок Будогощь</td>\n",
       "      <td>NaN</td>\n",
       "      <td>NaN</td>\n",
       "      <td>NaN</td>\n",
       "      <td>NaN</td>\n",
       "      <td>NaN</td>\n",
       "      <td>NaN</td>\n",
       "      <td>233.0</td>\n",
       "    </tr>\n",
       "    <tr>\n",
       "      <th>6859</th>\n",
       "      <td>6</td>\n",
       "      <td>490000.0</td>\n",
       "      <td>40.0</td>\n",
       "      <td>2017-12-11T00:00:00</td>\n",
       "      <td>1</td>\n",
       "      <td>NaN</td>\n",
       "      <td>5.0</td>\n",
       "      <td>NaN</td>\n",
       "      <td>3</td>\n",
       "      <td>False</td>\n",
       "      <td>...</td>\n",
       "      <td>NaN</td>\n",
       "      <td>0.0</td>\n",
       "      <td>деревня Старополье</td>\n",
       "      <td>NaN</td>\n",
       "      <td>NaN</td>\n",
       "      <td>NaN</td>\n",
       "      <td>NaN</td>\n",
       "      <td>NaN</td>\n",
       "      <td>NaN</td>\n",
       "      <td>43.0</td>\n",
       "    </tr>\n",
       "    <tr>\n",
       "      <th>8793</th>\n",
       "      <td>7</td>\n",
       "      <td>12190.0</td>\n",
       "      <td>109.0</td>\n",
       "      <td>2019-03-20T00:00:00</td>\n",
       "      <td>2</td>\n",
       "      <td>2.75</td>\n",
       "      <td>25.0</td>\n",
       "      <td>32.0</td>\n",
       "      <td>25</td>\n",
       "      <td>False</td>\n",
       "      <td>...</td>\n",
       "      <td>40.5</td>\n",
       "      <td>0.0</td>\n",
       "      <td>Санкт-Петербург</td>\n",
       "      <td>36421.0</td>\n",
       "      <td>9176.0</td>\n",
       "      <td>1.0</td>\n",
       "      <td>805.0</td>\n",
       "      <td>0.0</td>\n",
       "      <td>NaN</td>\n",
       "      <td>8.0</td>\n",
       "    </tr>\n",
       "    <tr>\n",
       "      <th>9581</th>\n",
       "      <td>7</td>\n",
       "      <td>450000.0</td>\n",
       "      <td>43.4</td>\n",
       "      <td>2018-08-31T00:00:00</td>\n",
       "      <td>2</td>\n",
       "      <td>NaN</td>\n",
       "      <td>5.0</td>\n",
       "      <td>30.3</td>\n",
       "      <td>3</td>\n",
       "      <td>False</td>\n",
       "      <td>...</td>\n",
       "      <td>5.5</td>\n",
       "      <td>0.0</td>\n",
       "      <td>деревня Старополье</td>\n",
       "      <td>NaN</td>\n",
       "      <td>NaN</td>\n",
       "      <td>NaN</td>\n",
       "      <td>NaN</td>\n",
       "      <td>NaN</td>\n",
       "      <td>NaN</td>\n",
       "      <td>96.0</td>\n",
       "    </tr>\n",
       "    <tr>\n",
       "      <th>10782</th>\n",
       "      <td>3</td>\n",
       "      <td>490000.0</td>\n",
       "      <td>29.1</td>\n",
       "      <td>2016-05-05T00:00:00</td>\n",
       "      <td>1</td>\n",
       "      <td>2.50</td>\n",
       "      <td>5.0</td>\n",
       "      <td>17.0</td>\n",
       "      <td>5</td>\n",
       "      <td>False</td>\n",
       "      <td>...</td>\n",
       "      <td>5.5</td>\n",
       "      <td>0.0</td>\n",
       "      <td>Сланцы</td>\n",
       "      <td>NaN</td>\n",
       "      <td>NaN</td>\n",
       "      <td>NaN</td>\n",
       "      <td>NaN</td>\n",
       "      <td>NaN</td>\n",
       "      <td>NaN</td>\n",
       "      <td>719.0</td>\n",
       "    </tr>\n",
       "    <tr>\n",
       "      <th>14911</th>\n",
       "      <td>5</td>\n",
       "      <td>430000.0</td>\n",
       "      <td>54.0</td>\n",
       "      <td>2018-06-26T00:00:00</td>\n",
       "      <td>2</td>\n",
       "      <td>NaN</td>\n",
       "      <td>3.0</td>\n",
       "      <td>NaN</td>\n",
       "      <td>3</td>\n",
       "      <td>False</td>\n",
       "      <td>...</td>\n",
       "      <td>NaN</td>\n",
       "      <td>0.0</td>\n",
       "      <td>посёлок станции Свирь</td>\n",
       "      <td>NaN</td>\n",
       "      <td>NaN</td>\n",
       "      <td>NaN</td>\n",
       "      <td>NaN</td>\n",
       "      <td>NaN</td>\n",
       "      <td>NaN</td>\n",
       "      <td>44.0</td>\n",
       "    </tr>\n",
       "    <tr>\n",
       "      <th>16032</th>\n",
       "      <td>8</td>\n",
       "      <td>480000.0</td>\n",
       "      <td>32.0</td>\n",
       "      <td>2019-01-06T00:00:00</td>\n",
       "      <td>1</td>\n",
       "      <td>NaN</td>\n",
       "      <td>2.0</td>\n",
       "      <td>16.0</td>\n",
       "      <td>1</td>\n",
       "      <td>False</td>\n",
       "      <td>...</td>\n",
       "      <td>NaN</td>\n",
       "      <td>0.0</td>\n",
       "      <td>Сланцы</td>\n",
       "      <td>NaN</td>\n",
       "      <td>NaN</td>\n",
       "      <td>NaN</td>\n",
       "      <td>NaN</td>\n",
       "      <td>NaN</td>\n",
       "      <td>NaN</td>\n",
       "      <td>83.0</td>\n",
       "    </tr>\n",
       "    <tr>\n",
       "      <th>16219</th>\n",
       "      <td>14</td>\n",
       "      <td>450000.0</td>\n",
       "      <td>38.5</td>\n",
       "      <td>2018-07-11T00:00:00</td>\n",
       "      <td>2</td>\n",
       "      <td>2.65</td>\n",
       "      <td>2.0</td>\n",
       "      <td>NaN</td>\n",
       "      <td>1</td>\n",
       "      <td>False</td>\n",
       "      <td>...</td>\n",
       "      <td>NaN</td>\n",
       "      <td>0.0</td>\n",
       "      <td>деревня Вахнова Кара</td>\n",
       "      <td>NaN</td>\n",
       "      <td>NaN</td>\n",
       "      <td>NaN</td>\n",
       "      <td>NaN</td>\n",
       "      <td>NaN</td>\n",
       "      <td>NaN</td>\n",
       "      <td>45.0</td>\n",
       "    </tr>\n",
       "    <tr>\n",
       "      <th>16274</th>\n",
       "      <td>18</td>\n",
       "      <td>440000.0</td>\n",
       "      <td>40.0</td>\n",
       "      <td>2018-07-10T00:00:00</td>\n",
       "      <td>1</td>\n",
       "      <td>NaN</td>\n",
       "      <td>5.0</td>\n",
       "      <td>NaN</td>\n",
       "      <td>1</td>\n",
       "      <td>False</td>\n",
       "      <td>...</td>\n",
       "      <td>NaN</td>\n",
       "      <td>0.0</td>\n",
       "      <td>деревня Старополье</td>\n",
       "      <td>NaN</td>\n",
       "      <td>NaN</td>\n",
       "      <td>NaN</td>\n",
       "      <td>NaN</td>\n",
       "      <td>NaN</td>\n",
       "      <td>NaN</td>\n",
       "      <td>45.0</td>\n",
       "    </tr>\n",
       "    <tr>\n",
       "      <th>17456</th>\n",
       "      <td>7</td>\n",
       "      <td>430000.0</td>\n",
       "      <td>30.4</td>\n",
       "      <td>2019-04-22T00:00:00</td>\n",
       "      <td>1</td>\n",
       "      <td>NaN</td>\n",
       "      <td>2.0</td>\n",
       "      <td>16.0</td>\n",
       "      <td>1</td>\n",
       "      <td>False</td>\n",
       "      <td>...</td>\n",
       "      <td>6.0</td>\n",
       "      <td>0.0</td>\n",
       "      <td>Сланцы</td>\n",
       "      <td>NaN</td>\n",
       "      <td>NaN</td>\n",
       "      <td>NaN</td>\n",
       "      <td>NaN</td>\n",
       "      <td>NaN</td>\n",
       "      <td>NaN</td>\n",
       "      <td>NaN</td>\n",
       "    </tr>\n",
       "    <tr>\n",
       "      <th>17676</th>\n",
       "      <td>0</td>\n",
       "      <td>450000.0</td>\n",
       "      <td>36.5</td>\n",
       "      <td>2018-02-01T00:00:00</td>\n",
       "      <td>1</td>\n",
       "      <td>NaN</td>\n",
       "      <td>5.0</td>\n",
       "      <td>17.3</td>\n",
       "      <td>4</td>\n",
       "      <td>False</td>\n",
       "      <td>...</td>\n",
       "      <td>8.5</td>\n",
       "      <td>1.0</td>\n",
       "      <td>деревня Ям-Тесово</td>\n",
       "      <td>NaN</td>\n",
       "      <td>NaN</td>\n",
       "      <td>NaN</td>\n",
       "      <td>NaN</td>\n",
       "      <td>NaN</td>\n",
       "      <td>NaN</td>\n",
       "      <td>120.0</td>\n",
       "    </tr>\n",
       "    <tr>\n",
       "      <th>18867</th>\n",
       "      <td>1</td>\n",
       "      <td>470000.0</td>\n",
       "      <td>41.0</td>\n",
       "      <td>2018-02-11T00:00:00</td>\n",
       "      <td>1</td>\n",
       "      <td>NaN</td>\n",
       "      <td>5.0</td>\n",
       "      <td>32.0</td>\n",
       "      <td>3</td>\n",
       "      <td>False</td>\n",
       "      <td>...</td>\n",
       "      <td>9.0</td>\n",
       "      <td>0.0</td>\n",
       "      <td>деревня Выскатка</td>\n",
       "      <td>NaN</td>\n",
       "      <td>NaN</td>\n",
       "      <td>NaN</td>\n",
       "      <td>NaN</td>\n",
       "      <td>NaN</td>\n",
       "      <td>NaN</td>\n",
       "      <td>46.0</td>\n",
       "    </tr>\n",
       "    <tr>\n",
       "      <th>21912</th>\n",
       "      <td>0</td>\n",
       "      <td>470000.0</td>\n",
       "      <td>37.0</td>\n",
       "      <td>2018-02-18T00:00:00</td>\n",
       "      <td>1</td>\n",
       "      <td>NaN</td>\n",
       "      <td>3.0</td>\n",
       "      <td>NaN</td>\n",
       "      <td>3</td>\n",
       "      <td>False</td>\n",
       "      <td>...</td>\n",
       "      <td>NaN</td>\n",
       "      <td>0.0</td>\n",
       "      <td>поселок Совхозный</td>\n",
       "      <td>NaN</td>\n",
       "      <td>NaN</td>\n",
       "      <td>NaN</td>\n",
       "      <td>NaN</td>\n",
       "      <td>NaN</td>\n",
       "      <td>NaN</td>\n",
       "      <td>45.0</td>\n",
       "    </tr>\n",
       "    <tr>\n",
       "      <th>23484</th>\n",
       "      <td>11</td>\n",
       "      <td>470000.0</td>\n",
       "      <td>44.5</td>\n",
       "      <td>2018-07-02T00:00:00</td>\n",
       "      <td>2</td>\n",
       "      <td>NaN</td>\n",
       "      <td>2.0</td>\n",
       "      <td>28.0</td>\n",
       "      <td>2</td>\n",
       "      <td>False</td>\n",
       "      <td>...</td>\n",
       "      <td>7.5</td>\n",
       "      <td>0.0</td>\n",
       "      <td>Сланцы</td>\n",
       "      <td>NaN</td>\n",
       "      <td>NaN</td>\n",
       "      <td>NaN</td>\n",
       "      <td>NaN</td>\n",
       "      <td>NaN</td>\n",
       "      <td>NaN</td>\n",
       "      <td>298.0</td>\n",
       "    </tr>\n",
       "  </tbody>\n",
       "</table>\n",
       "<p>14 rows × 22 columns</p>\n",
       "</div>"
      ],
      "text/plain": [
       "       total_images  last_price  total_area first_day_exposition  rooms  \\\n",
       "5698              7    450000.0        42.0  2017-07-31T00:00:00      2   \n",
       "6859              6    490000.0        40.0  2017-12-11T00:00:00      1   \n",
       "8793              7     12190.0       109.0  2019-03-20T00:00:00      2   \n",
       "9581              7    450000.0        43.4  2018-08-31T00:00:00      2   \n",
       "10782             3    490000.0        29.1  2016-05-05T00:00:00      1   \n",
       "14911             5    430000.0        54.0  2018-06-26T00:00:00      2   \n",
       "16032             8    480000.0        32.0  2019-01-06T00:00:00      1   \n",
       "16219            14    450000.0        38.5  2018-07-11T00:00:00      2   \n",
       "16274            18    440000.0        40.0  2018-07-10T00:00:00      1   \n",
       "17456             7    430000.0        30.4  2019-04-22T00:00:00      1   \n",
       "17676             0    450000.0        36.5  2018-02-01T00:00:00      1   \n",
       "18867             1    470000.0        41.0  2018-02-11T00:00:00      1   \n",
       "21912             0    470000.0        37.0  2018-02-18T00:00:00      1   \n",
       "23484            11    470000.0        44.5  2018-07-02T00:00:00      2   \n",
       "\n",
       "       ceiling_height  floors_total  living_area  floor  is_apartment  ...  \\\n",
       "5698              NaN           1.0         23.0      1         False  ...   \n",
       "6859              NaN           5.0          NaN      3         False  ...   \n",
       "8793             2.75          25.0         32.0     25         False  ...   \n",
       "9581              NaN           5.0         30.3      3         False  ...   \n",
       "10782            2.50           5.0         17.0      5         False  ...   \n",
       "14911             NaN           3.0          NaN      3         False  ...   \n",
       "16032             NaN           2.0         16.0      1         False  ...   \n",
       "16219            2.65           2.0          NaN      1         False  ...   \n",
       "16274             NaN           5.0          NaN      1         False  ...   \n",
       "17456             NaN           2.0         16.0      1         False  ...   \n",
       "17676             NaN           5.0         17.3      4         False  ...   \n",
       "18867             NaN           5.0         32.0      3         False  ...   \n",
       "21912             NaN           3.0          NaN      3         False  ...   \n",
       "23484             NaN           2.0         28.0      2         False  ...   \n",
       "\n",
       "       kitchen_area  balcony               locality_name  airports_nearest  \\\n",
       "5698            5.8      0.0  городской посёлок Будогощь               NaN   \n",
       "6859            NaN      0.0          деревня Старополье               NaN   \n",
       "8793           40.5      0.0             Санкт-Петербург           36421.0   \n",
       "9581            5.5      0.0          деревня Старополье               NaN   \n",
       "10782           5.5      0.0                      Сланцы               NaN   \n",
       "14911           NaN      0.0       посёлок станции Свирь               NaN   \n",
       "16032           NaN      0.0                      Сланцы               NaN   \n",
       "16219           NaN      0.0        деревня Вахнова Кара               NaN   \n",
       "16274           NaN      0.0          деревня Старополье               NaN   \n",
       "17456           6.0      0.0                      Сланцы               NaN   \n",
       "17676           8.5      1.0           деревня Ям-Тесово               NaN   \n",
       "18867           9.0      0.0            деревня Выскатка               NaN   \n",
       "21912           NaN      0.0           поселок Совхозный               NaN   \n",
       "23484           7.5      0.0                      Сланцы               NaN   \n",
       "\n",
       "      city_centers_nearest  parks_around3000  parks_nearest  ponds_around3000  \\\n",
       "5698                   NaN               NaN            NaN               NaN   \n",
       "6859                   NaN               NaN            NaN               NaN   \n",
       "8793                9176.0               1.0          805.0               0.0   \n",
       "9581                   NaN               NaN            NaN               NaN   \n",
       "10782                  NaN               NaN            NaN               NaN   \n",
       "14911                  NaN               NaN            NaN               NaN   \n",
       "16032                  NaN               NaN            NaN               NaN   \n",
       "16219                  NaN               NaN            NaN               NaN   \n",
       "16274                  NaN               NaN            NaN               NaN   \n",
       "17456                  NaN               NaN            NaN               NaN   \n",
       "17676                  NaN               NaN            NaN               NaN   \n",
       "18867                  NaN               NaN            NaN               NaN   \n",
       "21912                  NaN               NaN            NaN               NaN   \n",
       "23484                  NaN               NaN            NaN               NaN   \n",
       "\n",
       "       ponds_nearest  days_exposition  \n",
       "5698             NaN            233.0  \n",
       "6859             NaN             43.0  \n",
       "8793             NaN              8.0  \n",
       "9581             NaN             96.0  \n",
       "10782            NaN            719.0  \n",
       "14911            NaN             44.0  \n",
       "16032            NaN             83.0  \n",
       "16219            NaN             45.0  \n",
       "16274            NaN             45.0  \n",
       "17456            NaN              NaN  \n",
       "17676            NaN            120.0  \n",
       "18867            NaN             46.0  \n",
       "21912            NaN             45.0  \n",
       "23484            NaN            298.0  \n",
       "\n",
       "[14 rows x 22 columns]"
      ]
     },
     "execution_count": 10,
     "metadata": {},
     "output_type": "execute_result"
    }
   ],
   "source": [
    "data[data['last_price']<500000]"
   ]
  },
  {
   "cell_type": "markdown",
   "metadata": {},
   "source": [
    "Остальные данные в пределах нормы. Отсечем строку с ценой 12190"
   ]
  },
  {
   "cell_type": "code",
   "execution_count": 11,
   "metadata": {},
   "outputs": [],
   "source": [
    "data = data[data['last_price'] != 12190]"
   ]
  },
  {
   "cell_type": "markdown",
   "metadata": {},
   "source": [
    "Проанализируем столбец rooms. Посмотрим, какие значения есть в столбце"
   ]
  },
  {
   "cell_type": "code",
   "execution_count": 12,
   "metadata": {},
   "outputs": [
    {
     "data": {
      "text/plain": [
       "array([ 3,  1,  2,  4,  5,  6,  0,  7, 11,  8, 14, 10, 15,  9, 19, 16, 12],\n",
       "      dtype=int64)"
      ]
     },
     "execution_count": 12,
     "metadata": {},
     "output_type": "execute_result"
    }
   ],
   "source": [
    "data.rooms.unique()"
   ]
  },
  {
   "cell_type": "markdown",
   "metadata": {},
   "source": [
    "Изучим, какие варианты жилья имеют 0 комнат. Часть из них - студии. Это правдоподобно и данные корректны"
   ]
  },
  {
   "cell_type": "code",
   "execution_count": 13,
   "metadata": {},
   "outputs": [
    {
     "data": {
      "text/html": [
       "<div>\n",
       "<style scoped>\n",
       "    .dataframe tbody tr th:only-of-type {\n",
       "        vertical-align: middle;\n",
       "    }\n",
       "\n",
       "    .dataframe tbody tr th {\n",
       "        vertical-align: top;\n",
       "    }\n",
       "\n",
       "    .dataframe thead th {\n",
       "        text-align: right;\n",
       "    }\n",
       "</style>\n",
       "<table border=\"1\" class=\"dataframe\">\n",
       "  <thead>\n",
       "    <tr style=\"text-align: right;\">\n",
       "      <th></th>\n",
       "      <th>total_images</th>\n",
       "      <th>last_price</th>\n",
       "      <th>total_area</th>\n",
       "      <th>first_day_exposition</th>\n",
       "      <th>rooms</th>\n",
       "      <th>ceiling_height</th>\n",
       "      <th>floors_total</th>\n",
       "      <th>living_area</th>\n",
       "      <th>floor</th>\n",
       "      <th>is_apartment</th>\n",
       "      <th>...</th>\n",
       "      <th>kitchen_area</th>\n",
       "      <th>balcony</th>\n",
       "      <th>locality_name</th>\n",
       "      <th>airports_nearest</th>\n",
       "      <th>city_centers_nearest</th>\n",
       "      <th>parks_around3000</th>\n",
       "      <th>parks_nearest</th>\n",
       "      <th>ponds_around3000</th>\n",
       "      <th>ponds_nearest</th>\n",
       "      <th>days_exposition</th>\n",
       "    </tr>\n",
       "  </thead>\n",
       "  <tbody>\n",
       "    <tr>\n",
       "      <th>144</th>\n",
       "      <td>1</td>\n",
       "      <td>2450000.0</td>\n",
       "      <td>27.00</td>\n",
       "      <td>2017-03-30T00:00:00</td>\n",
       "      <td>0</td>\n",
       "      <td>NaN</td>\n",
       "      <td>24.0</td>\n",
       "      <td>15.50</td>\n",
       "      <td>2</td>\n",
       "      <td>False</td>\n",
       "      <td>...</td>\n",
       "      <td>NaN</td>\n",
       "      <td>2.0</td>\n",
       "      <td>посёлок Мурино</td>\n",
       "      <td>NaN</td>\n",
       "      <td>NaN</td>\n",
       "      <td>NaN</td>\n",
       "      <td>NaN</td>\n",
       "      <td>NaN</td>\n",
       "      <td>NaN</td>\n",
       "      <td>181.0</td>\n",
       "    </tr>\n",
       "    <tr>\n",
       "      <th>440</th>\n",
       "      <td>8</td>\n",
       "      <td>2480000.0</td>\n",
       "      <td>27.11</td>\n",
       "      <td>2018-03-12T00:00:00</td>\n",
       "      <td>0</td>\n",
       "      <td>NaN</td>\n",
       "      <td>17.0</td>\n",
       "      <td>24.75</td>\n",
       "      <td>4</td>\n",
       "      <td>False</td>\n",
       "      <td>...</td>\n",
       "      <td>NaN</td>\n",
       "      <td>2.0</td>\n",
       "      <td>Санкт-Петербург</td>\n",
       "      <td>38171.0</td>\n",
       "      <td>15015.0</td>\n",
       "      <td>0.0</td>\n",
       "      <td>NaN</td>\n",
       "      <td>2.0</td>\n",
       "      <td>982.0</td>\n",
       "      <td>64.0</td>\n",
       "    </tr>\n",
       "    <tr>\n",
       "      <th>608</th>\n",
       "      <td>2</td>\n",
       "      <td>1850000.0</td>\n",
       "      <td>25.00</td>\n",
       "      <td>2019-02-20T00:00:00</td>\n",
       "      <td>0</td>\n",
       "      <td>NaN</td>\n",
       "      <td>10.0</td>\n",
       "      <td>NaN</td>\n",
       "      <td>7</td>\n",
       "      <td>False</td>\n",
       "      <td>...</td>\n",
       "      <td>NaN</td>\n",
       "      <td>0.0</td>\n",
       "      <td>посёлок Шушары</td>\n",
       "      <td>NaN</td>\n",
       "      <td>NaN</td>\n",
       "      <td>NaN</td>\n",
       "      <td>NaN</td>\n",
       "      <td>NaN</td>\n",
       "      <td>NaN</td>\n",
       "      <td>29.0</td>\n",
       "    </tr>\n",
       "    <tr>\n",
       "      <th>697</th>\n",
       "      <td>12</td>\n",
       "      <td>2500000.0</td>\n",
       "      <td>24.10</td>\n",
       "      <td>2017-12-01T00:00:00</td>\n",
       "      <td>0</td>\n",
       "      <td>2.75</td>\n",
       "      <td>25.0</td>\n",
       "      <td>17.50</td>\n",
       "      <td>21</td>\n",
       "      <td>False</td>\n",
       "      <td>...</td>\n",
       "      <td>NaN</td>\n",
       "      <td>0.0</td>\n",
       "      <td>деревня Кудрово</td>\n",
       "      <td>NaN</td>\n",
       "      <td>NaN</td>\n",
       "      <td>NaN</td>\n",
       "      <td>NaN</td>\n",
       "      <td>NaN</td>\n",
       "      <td>NaN</td>\n",
       "      <td>201.0</td>\n",
       "    </tr>\n",
       "    <tr>\n",
       "      <th>716</th>\n",
       "      <td>5</td>\n",
       "      <td>1500000.0</td>\n",
       "      <td>17.00</td>\n",
       "      <td>2017-06-07T00:00:00</td>\n",
       "      <td>0</td>\n",
       "      <td>2.70</td>\n",
       "      <td>9.0</td>\n",
       "      <td>12.00</td>\n",
       "      <td>1</td>\n",
       "      <td>False</td>\n",
       "      <td>...</td>\n",
       "      <td>NaN</td>\n",
       "      <td>0.0</td>\n",
       "      <td>посёлок Шушары</td>\n",
       "      <td>18654.0</td>\n",
       "      <td>29846.0</td>\n",
       "      <td>0.0</td>\n",
       "      <td>NaN</td>\n",
       "      <td>0.0</td>\n",
       "      <td>NaN</td>\n",
       "      <td>40.0</td>\n",
       "    </tr>\n",
       "  </tbody>\n",
       "</table>\n",
       "<p>5 rows × 22 columns</p>\n",
       "</div>"
      ],
      "text/plain": [
       "     total_images  last_price  total_area first_day_exposition  rooms  \\\n",
       "144             1   2450000.0       27.00  2017-03-30T00:00:00      0   \n",
       "440             8   2480000.0       27.11  2018-03-12T00:00:00      0   \n",
       "608             2   1850000.0       25.00  2019-02-20T00:00:00      0   \n",
       "697            12   2500000.0       24.10  2017-12-01T00:00:00      0   \n",
       "716             5   1500000.0       17.00  2017-06-07T00:00:00      0   \n",
       "\n",
       "     ceiling_height  floors_total  living_area  floor  is_apartment  ...  \\\n",
       "144             NaN          24.0        15.50      2         False  ...   \n",
       "440             NaN          17.0        24.75      4         False  ...   \n",
       "608             NaN          10.0          NaN      7         False  ...   \n",
       "697            2.75          25.0        17.50     21         False  ...   \n",
       "716            2.70           9.0        12.00      1         False  ...   \n",
       "\n",
       "     kitchen_area  balcony    locality_name  airports_nearest  \\\n",
       "144           NaN      2.0   посёлок Мурино               NaN   \n",
       "440           NaN      2.0  Санкт-Петербург           38171.0   \n",
       "608           NaN      0.0   посёлок Шушары               NaN   \n",
       "697           NaN      0.0  деревня Кудрово               NaN   \n",
       "716           NaN      0.0   посёлок Шушары           18654.0   \n",
       "\n",
       "    city_centers_nearest  parks_around3000  parks_nearest  ponds_around3000  \\\n",
       "144                  NaN               NaN            NaN               NaN   \n",
       "440              15015.0               0.0            NaN               2.0   \n",
       "608                  NaN               NaN            NaN               NaN   \n",
       "697                  NaN               NaN            NaN               NaN   \n",
       "716              29846.0               0.0            NaN               0.0   \n",
       "\n",
       "     ponds_nearest  days_exposition  \n",
       "144            NaN            181.0  \n",
       "440          982.0             64.0  \n",
       "608            NaN             29.0  \n",
       "697            NaN            201.0  \n",
       "716            NaN             40.0  \n",
       "\n",
       "[5 rows x 22 columns]"
      ]
     },
     "execution_count": 13,
     "metadata": {},
     "output_type": "execute_result"
    }
   ],
   "source": [
    "data_0_rooms = data.query('rooms == 0')\n",
    "data_0_rooms[data_0_rooms['studio'] == True].head()"
   ]
  },
  {
   "cell_type": "markdown",
   "metadata": {},
   "source": [
    "Оставшиеся квартиры имеют свободную планировку."
   ]
  },
  {
   "cell_type": "code",
   "execution_count": 14,
   "metadata": {},
   "outputs": [
    {
     "data": {
      "text/plain": [
       "array([ True])"
      ]
     },
     "execution_count": 14,
     "metadata": {},
     "output_type": "execute_result"
    }
   ],
   "source": [
    "data_0_rooms[data_0_rooms['studio'] == False]['open_plan'].unique()\n"
   ]
  },
  {
   "cell_type": "markdown",
   "metadata": {},
   "source": [
    "Высота потолков ceiling_height указана не для всех вариантов жилья. Возможно, не все продавцы указывают этот параметр при публикации объявления. Заполним отсутствующие данные медианными значениями."
   ]
  },
  {
   "cell_type": "code",
   "execution_count": 15,
   "metadata": {},
   "outputs": [],
   "source": [
    "data['ceiling_height'] = data['ceiling_height'].fillna(data['ceiling_height'].median())"
   ]
  },
  {
   "cell_type": "markdown",
   "metadata": {},
   "source": [
    "Для некоторых данных не указано общее количество этажей. Возможно, люди не заполнили эти поля или данные потерялись из-за технического сбоя. Объем данных небольшой, корректно заполнить их не получится. Можно убрать такие строки из выборки."
   ]
  },
  {
   "cell_type": "code",
   "execution_count": 16,
   "metadata": {},
   "outputs": [],
   "source": [
    "data = data[~data['floors_total'].isna()]"
   ]
  },
  {
   "cell_type": "markdown",
   "metadata": {},
   "source": [
    "Перед тем, как заполнять пропуски в данных о жилой площади и площади кухни, проверим, есть ли квартиры, где сумма этих параметров превышают общую площадь"
   ]
  },
  {
   "cell_type": "code",
   "execution_count": 17,
   "metadata": {},
   "outputs": [
    {
     "data": {
      "text/html": [
       "<div>\n",
       "<style scoped>\n",
       "    .dataframe tbody tr th:only-of-type {\n",
       "        vertical-align: middle;\n",
       "    }\n",
       "\n",
       "    .dataframe tbody tr th {\n",
       "        vertical-align: top;\n",
       "    }\n",
       "\n",
       "    .dataframe thead th {\n",
       "        text-align: right;\n",
       "    }\n",
       "</style>\n",
       "<table border=\"1\" class=\"dataframe\">\n",
       "  <thead>\n",
       "    <tr style=\"text-align: right;\">\n",
       "      <th></th>\n",
       "      <th>total_images</th>\n",
       "      <th>last_price</th>\n",
       "      <th>total_area</th>\n",
       "      <th>first_day_exposition</th>\n",
       "      <th>rooms</th>\n",
       "      <th>ceiling_height</th>\n",
       "      <th>floors_total</th>\n",
       "      <th>living_area</th>\n",
       "      <th>floor</th>\n",
       "      <th>is_apartment</th>\n",
       "      <th>...</th>\n",
       "      <th>balcony</th>\n",
       "      <th>locality_name</th>\n",
       "      <th>airports_nearest</th>\n",
       "      <th>city_centers_nearest</th>\n",
       "      <th>parks_around3000</th>\n",
       "      <th>parks_nearest</th>\n",
       "      <th>ponds_around3000</th>\n",
       "      <th>ponds_nearest</th>\n",
       "      <th>days_exposition</th>\n",
       "      <th>kitchen+lr</th>\n",
       "    </tr>\n",
       "  </thead>\n",
       "  <tbody>\n",
       "    <tr>\n",
       "      <th>184</th>\n",
       "      <td>7</td>\n",
       "      <td>2600000.0</td>\n",
       "      <td>30.20</td>\n",
       "      <td>2018-02-14T00:00:00</td>\n",
       "      <td>1</td>\n",
       "      <td>2.65</td>\n",
       "      <td>9.0</td>\n",
       "      <td>26.10</td>\n",
       "      <td>5</td>\n",
       "      <td>False</td>\n",
       "      <td>...</td>\n",
       "      <td>0.0</td>\n",
       "      <td>Санкт-Петербург</td>\n",
       "      <td>13952.0</td>\n",
       "      <td>15031.0</td>\n",
       "      <td>0.0</td>\n",
       "      <td>NaN</td>\n",
       "      <td>1.0</td>\n",
       "      <td>824.0</td>\n",
       "      <td>12.0</td>\n",
       "      <td>32.30</td>\n",
       "    </tr>\n",
       "    <tr>\n",
       "      <th>545</th>\n",
       "      <td>9</td>\n",
       "      <td>4700000.0</td>\n",
       "      <td>23.80</td>\n",
       "      <td>2018-12-28T00:00:00</td>\n",
       "      <td>1</td>\n",
       "      <td>2.65</td>\n",
       "      <td>18.0</td>\n",
       "      <td>20.00</td>\n",
       "      <td>9</td>\n",
       "      <td>False</td>\n",
       "      <td>...</td>\n",
       "      <td>0.0</td>\n",
       "      <td>Санкт-Петербург</td>\n",
       "      <td>9731.0</td>\n",
       "      <td>11849.0</td>\n",
       "      <td>0.0</td>\n",
       "      <td>NaN</td>\n",
       "      <td>0.0</td>\n",
       "      <td>NaN</td>\n",
       "      <td>108.0</td>\n",
       "      <td>25.00</td>\n",
       "    </tr>\n",
       "    <tr>\n",
       "      <th>551</th>\n",
       "      <td>8</td>\n",
       "      <td>3100000.0</td>\n",
       "      <td>31.59</td>\n",
       "      <td>2018-03-08T00:00:00</td>\n",
       "      <td>1</td>\n",
       "      <td>2.70</td>\n",
       "      <td>19.0</td>\n",
       "      <td>30.55</td>\n",
       "      <td>2</td>\n",
       "      <td>False</td>\n",
       "      <td>...</td>\n",
       "      <td>2.0</td>\n",
       "      <td>посёлок Мурино</td>\n",
       "      <td>NaN</td>\n",
       "      <td>NaN</td>\n",
       "      <td>NaN</td>\n",
       "      <td>NaN</td>\n",
       "      <td>NaN</td>\n",
       "      <td>NaN</td>\n",
       "      <td>70.0</td>\n",
       "      <td>39.83</td>\n",
       "    </tr>\n",
       "    <tr>\n",
       "      <th>601</th>\n",
       "      <td>12</td>\n",
       "      <td>5600000.0</td>\n",
       "      <td>53.70</td>\n",
       "      <td>2017-04-18T00:00:00</td>\n",
       "      <td>2</td>\n",
       "      <td>2.50</td>\n",
       "      <td>12.0</td>\n",
       "      <td>48.30</td>\n",
       "      <td>5</td>\n",
       "      <td>False</td>\n",
       "      <td>...</td>\n",
       "      <td>2.0</td>\n",
       "      <td>Санкт-Петербург</td>\n",
       "      <td>50477.0</td>\n",
       "      <td>13252.0</td>\n",
       "      <td>2.0</td>\n",
       "      <td>220.0</td>\n",
       "      <td>1.0</td>\n",
       "      <td>1250.0</td>\n",
       "      <td>167.0</td>\n",
       "      <td>55.30</td>\n",
       "    </tr>\n",
       "    <tr>\n",
       "      <th>696</th>\n",
       "      <td>1</td>\n",
       "      <td>3364930.0</td>\n",
       "      <td>34.69</td>\n",
       "      <td>2014-11-27T00:00:00</td>\n",
       "      <td>1</td>\n",
       "      <td>2.64</td>\n",
       "      <td>25.0</td>\n",
       "      <td>23.43</td>\n",
       "      <td>25</td>\n",
       "      <td>False</td>\n",
       "      <td>...</td>\n",
       "      <td>2.0</td>\n",
       "      <td>Санкт-Петербург</td>\n",
       "      <td>43396.0</td>\n",
       "      <td>12153.0</td>\n",
       "      <td>0.0</td>\n",
       "      <td>NaN</td>\n",
       "      <td>0.0</td>\n",
       "      <td>NaN</td>\n",
       "      <td>574.0</td>\n",
       "      <td>46.86</td>\n",
       "    </tr>\n",
       "    <tr>\n",
       "      <th>...</th>\n",
       "      <td>...</td>\n",
       "      <td>...</td>\n",
       "      <td>...</td>\n",
       "      <td>...</td>\n",
       "      <td>...</td>\n",
       "      <td>...</td>\n",
       "      <td>...</td>\n",
       "      <td>...</td>\n",
       "      <td>...</td>\n",
       "      <td>...</td>\n",
       "      <td>...</td>\n",
       "      <td>...</td>\n",
       "      <td>...</td>\n",
       "      <td>...</td>\n",
       "      <td>...</td>\n",
       "      <td>...</td>\n",
       "      <td>...</td>\n",
       "      <td>...</td>\n",
       "      <td>...</td>\n",
       "      <td>...</td>\n",
       "      <td>...</td>\n",
       "    </tr>\n",
       "    <tr>\n",
       "      <th>21824</th>\n",
       "      <td>20</td>\n",
       "      <td>2450000.0</td>\n",
       "      <td>44.00</td>\n",
       "      <td>2019-02-12T00:00:00</td>\n",
       "      <td>2</td>\n",
       "      <td>27.00</td>\n",
       "      <td>2.0</td>\n",
       "      <td>38.00</td>\n",
       "      <td>2</td>\n",
       "      <td>False</td>\n",
       "      <td>...</td>\n",
       "      <td>2.0</td>\n",
       "      <td>городской поселок Большая Ижора</td>\n",
       "      <td>NaN</td>\n",
       "      <td>NaN</td>\n",
       "      <td>NaN</td>\n",
       "      <td>NaN</td>\n",
       "      <td>NaN</td>\n",
       "      <td>NaN</td>\n",
       "      <td>NaN</td>\n",
       "      <td>46.60</td>\n",
       "    </tr>\n",
       "    <tr>\n",
       "      <th>21868</th>\n",
       "      <td>12</td>\n",
       "      <td>2600000.0</td>\n",
       "      <td>34.30</td>\n",
       "      <td>2018-09-26T00:00:00</td>\n",
       "      <td>1</td>\n",
       "      <td>2.50</td>\n",
       "      <td>9.0</td>\n",
       "      <td>30.60</td>\n",
       "      <td>6</td>\n",
       "      <td>False</td>\n",
       "      <td>...</td>\n",
       "      <td>2.0</td>\n",
       "      <td>Сосновый Бор</td>\n",
       "      <td>NaN</td>\n",
       "      <td>NaN</td>\n",
       "      <td>NaN</td>\n",
       "      <td>NaN</td>\n",
       "      <td>NaN</td>\n",
       "      <td>NaN</td>\n",
       "      <td>107.0</td>\n",
       "      <td>38.60</td>\n",
       "    </tr>\n",
       "    <tr>\n",
       "      <th>21915</th>\n",
       "      <td>14</td>\n",
       "      <td>11990000.0</td>\n",
       "      <td>91.40</td>\n",
       "      <td>2016-05-16T00:00:00</td>\n",
       "      <td>2</td>\n",
       "      <td>2.65</td>\n",
       "      <td>16.0</td>\n",
       "      <td>62.00</td>\n",
       "      <td>12</td>\n",
       "      <td>False</td>\n",
       "      <td>...</td>\n",
       "      <td>0.0</td>\n",
       "      <td>Санкт-Петербург</td>\n",
       "      <td>10934.0</td>\n",
       "      <td>12551.0</td>\n",
       "      <td>0.0</td>\n",
       "      <td>NaN</td>\n",
       "      <td>0.0</td>\n",
       "      <td>NaN</td>\n",
       "      <td>93.0</td>\n",
       "      <td>94.40</td>\n",
       "    </tr>\n",
       "    <tr>\n",
       "      <th>21956</th>\n",
       "      <td>0</td>\n",
       "      <td>5200000.0</td>\n",
       "      <td>46.00</td>\n",
       "      <td>2018-07-20T00:00:00</td>\n",
       "      <td>2</td>\n",
       "      <td>2.65</td>\n",
       "      <td>5.0</td>\n",
       "      <td>44.00</td>\n",
       "      <td>5</td>\n",
       "      <td>False</td>\n",
       "      <td>...</td>\n",
       "      <td>1.0</td>\n",
       "      <td>Санкт-Петербург</td>\n",
       "      <td>14103.0</td>\n",
       "      <td>15182.0</td>\n",
       "      <td>1.0</td>\n",
       "      <td>488.0</td>\n",
       "      <td>0.0</td>\n",
       "      <td>NaN</td>\n",
       "      <td>7.0</td>\n",
       "      <td>52.00</td>\n",
       "    </tr>\n",
       "    <tr>\n",
       "      <th>23202</th>\n",
       "      <td>13</td>\n",
       "      <td>4919880.0</td>\n",
       "      <td>67.92</td>\n",
       "      <td>2018-10-23T00:00:00</td>\n",
       "      <td>2</td>\n",
       "      <td>2.65</td>\n",
       "      <td>3.0</td>\n",
       "      <td>63.00</td>\n",
       "      <td>3</td>\n",
       "      <td>False</td>\n",
       "      <td>...</td>\n",
       "      <td>0.0</td>\n",
       "      <td>Всеволожск</td>\n",
       "      <td>NaN</td>\n",
       "      <td>NaN</td>\n",
       "      <td>NaN</td>\n",
       "      <td>NaN</td>\n",
       "      <td>NaN</td>\n",
       "      <td>NaN</td>\n",
       "      <td>60.0</td>\n",
       "      <td>76.04</td>\n",
       "    </tr>\n",
       "  </tbody>\n",
       "</table>\n",
       "<p>64 rows × 23 columns</p>\n",
       "</div>"
      ],
      "text/plain": [
       "       total_images  last_price  total_area first_day_exposition  rooms  \\\n",
       "184               7   2600000.0       30.20  2018-02-14T00:00:00      1   \n",
       "545               9   4700000.0       23.80  2018-12-28T00:00:00      1   \n",
       "551               8   3100000.0       31.59  2018-03-08T00:00:00      1   \n",
       "601              12   5600000.0       53.70  2017-04-18T00:00:00      2   \n",
       "696               1   3364930.0       34.69  2014-11-27T00:00:00      1   \n",
       "...             ...         ...         ...                  ...    ...   \n",
       "21824            20   2450000.0       44.00  2019-02-12T00:00:00      2   \n",
       "21868            12   2600000.0       34.30  2018-09-26T00:00:00      1   \n",
       "21915            14  11990000.0       91.40  2016-05-16T00:00:00      2   \n",
       "21956             0   5200000.0       46.00  2018-07-20T00:00:00      2   \n",
       "23202            13   4919880.0       67.92  2018-10-23T00:00:00      2   \n",
       "\n",
       "       ceiling_height  floors_total  living_area  floor  is_apartment  ...  \\\n",
       "184              2.65           9.0        26.10      5         False  ...   \n",
       "545              2.65          18.0        20.00      9         False  ...   \n",
       "551              2.70          19.0        30.55      2         False  ...   \n",
       "601              2.50          12.0        48.30      5         False  ...   \n",
       "696              2.64          25.0        23.43     25         False  ...   \n",
       "...               ...           ...          ...    ...           ...  ...   \n",
       "21824           27.00           2.0        38.00      2         False  ...   \n",
       "21868            2.50           9.0        30.60      6         False  ...   \n",
       "21915            2.65          16.0        62.00     12         False  ...   \n",
       "21956            2.65           5.0        44.00      5         False  ...   \n",
       "23202            2.65           3.0        63.00      3         False  ...   \n",
       "\n",
       "       balcony                    locality_name  airports_nearest  \\\n",
       "184        0.0                  Санкт-Петербург           13952.0   \n",
       "545        0.0                  Санкт-Петербург            9731.0   \n",
       "551        2.0                   посёлок Мурино               NaN   \n",
       "601        2.0                  Санкт-Петербург           50477.0   \n",
       "696        2.0                  Санкт-Петербург           43396.0   \n",
       "...        ...                              ...               ...   \n",
       "21824      2.0  городской поселок Большая Ижора               NaN   \n",
       "21868      2.0                     Сосновый Бор               NaN   \n",
       "21915      0.0                  Санкт-Петербург           10934.0   \n",
       "21956      1.0                  Санкт-Петербург           14103.0   \n",
       "23202      0.0                       Всеволожск               NaN   \n",
       "\n",
       "       city_centers_nearest parks_around3000  parks_nearest  ponds_around3000  \\\n",
       "184                 15031.0              0.0            NaN               1.0   \n",
       "545                 11849.0              0.0            NaN               0.0   \n",
       "551                     NaN              NaN            NaN               NaN   \n",
       "601                 13252.0              2.0          220.0               1.0   \n",
       "696                 12153.0              0.0            NaN               0.0   \n",
       "...                     ...              ...            ...               ...   \n",
       "21824                   NaN              NaN            NaN               NaN   \n",
       "21868                   NaN              NaN            NaN               NaN   \n",
       "21915               12551.0              0.0            NaN               0.0   \n",
       "21956               15182.0              1.0          488.0               0.0   \n",
       "23202                   NaN              NaN            NaN               NaN   \n",
       "\n",
       "       ponds_nearest  days_exposition  kitchen+lr  \n",
       "184            824.0             12.0       32.30  \n",
       "545              NaN            108.0       25.00  \n",
       "551              NaN             70.0       39.83  \n",
       "601           1250.0            167.0       55.30  \n",
       "696              NaN            574.0       46.86  \n",
       "...              ...              ...         ...  \n",
       "21824            NaN              NaN       46.60  \n",
       "21868            NaN            107.0       38.60  \n",
       "21915            NaN             93.0       94.40  \n",
       "21956            NaN              7.0       52.00  \n",
       "23202            NaN             60.0       76.04  \n",
       "\n",
       "[64 rows x 23 columns]"
      ]
     },
     "execution_count": 17,
     "metadata": {},
     "output_type": "execute_result"
    }
   ],
   "source": [
    "data['kitchen+lr']=data['kitchen_area']+data['living_area']\n",
    "data[data['kitchen+lr']>data['total_area']]"
   ]
  },
  {
   "cell_type": "markdown",
   "metadata": {},
   "source": [
    "Посмотрим внимательнее на зничения living_area"
   ]
  },
  {
   "cell_type": "code",
   "execution_count": 18,
   "metadata": {
    "scrolled": true
   },
   "outputs": [
    {
     "data": {
      "text/plain": [
       "count    21742.000000\n",
       "mean        34.462894\n",
       "std         22.037933\n",
       "min          2.000000\n",
       "25%         18.600000\n",
       "50%         30.000000\n",
       "75%         42.300000\n",
       "max        409.700000\n",
       "Name: living_area, dtype: float64"
      ]
     },
     "execution_count": 18,
     "metadata": {},
     "output_type": "execute_result"
    }
   ],
   "source": [
    "data.living_area.describe()"
   ]
  },
  {
   "cell_type": "markdown",
   "metadata": {},
   "source": [
    "Минимальное значение - 2. Это как-то маловато посмотрим, сколько квартир с жилой площадью меньше 5"
   ]
  },
  {
   "cell_type": "code",
   "execution_count": 19,
   "metadata": {
    "scrolled": true
   },
   "outputs": [
    {
     "data": {
      "text/html": [
       "<div>\n",
       "<style scoped>\n",
       "    .dataframe tbody tr th:only-of-type {\n",
       "        vertical-align: middle;\n",
       "    }\n",
       "\n",
       "    .dataframe tbody tr th {\n",
       "        vertical-align: top;\n",
       "    }\n",
       "\n",
       "    .dataframe thead th {\n",
       "        text-align: right;\n",
       "    }\n",
       "</style>\n",
       "<table border=\"1\" class=\"dataframe\">\n",
       "  <thead>\n",
       "    <tr style=\"text-align: right;\">\n",
       "      <th></th>\n",
       "      <th>total_images</th>\n",
       "      <th>last_price</th>\n",
       "      <th>total_area</th>\n",
       "      <th>first_day_exposition</th>\n",
       "      <th>rooms</th>\n",
       "      <th>ceiling_height</th>\n",
       "      <th>floors_total</th>\n",
       "      <th>living_area</th>\n",
       "      <th>floor</th>\n",
       "      <th>is_apartment</th>\n",
       "      <th>...</th>\n",
       "      <th>balcony</th>\n",
       "      <th>locality_name</th>\n",
       "      <th>airports_nearest</th>\n",
       "      <th>city_centers_nearest</th>\n",
       "      <th>parks_around3000</th>\n",
       "      <th>parks_nearest</th>\n",
       "      <th>ponds_around3000</th>\n",
       "      <th>ponds_nearest</th>\n",
       "      <th>days_exposition</th>\n",
       "      <th>kitchen+lr</th>\n",
       "    </tr>\n",
       "  </thead>\n",
       "  <tbody>\n",
       "    <tr>\n",
       "      <th>3242</th>\n",
       "      <td>7</td>\n",
       "      <td>4440000.0</td>\n",
       "      <td>41.0</td>\n",
       "      <td>2017-07-02T00:00:00</td>\n",
       "      <td>1</td>\n",
       "      <td>2.65</td>\n",
       "      <td>17.0</td>\n",
       "      <td>3.0</td>\n",
       "      <td>17</td>\n",
       "      <td>False</td>\n",
       "      <td>...</td>\n",
       "      <td>0.0</td>\n",
       "      <td>Санкт-Петербург</td>\n",
       "      <td>19272.0</td>\n",
       "      <td>13073.0</td>\n",
       "      <td>0.0</td>\n",
       "      <td>NaN</td>\n",
       "      <td>0.0</td>\n",
       "      <td>NaN</td>\n",
       "      <td>216.0</td>\n",
       "      <td>14.0</td>\n",
       "    </tr>\n",
       "    <tr>\n",
       "      <th>13915</th>\n",
       "      <td>20</td>\n",
       "      <td>6350000.0</td>\n",
       "      <td>52.0</td>\n",
       "      <td>2018-02-06T00:00:00</td>\n",
       "      <td>2</td>\n",
       "      <td>3.00</td>\n",
       "      <td>6.0</td>\n",
       "      <td>2.0</td>\n",
       "      <td>2</td>\n",
       "      <td>False</td>\n",
       "      <td>...</td>\n",
       "      <td>0.0</td>\n",
       "      <td>Санкт-Петербург</td>\n",
       "      <td>32453.0</td>\n",
       "      <td>6521.0</td>\n",
       "      <td>0.0</td>\n",
       "      <td>NaN</td>\n",
       "      <td>1.0</td>\n",
       "      <td>1012.0</td>\n",
       "      <td>91.0</td>\n",
       "      <td>11.0</td>\n",
       "    </tr>\n",
       "    <tr>\n",
       "      <th>21758</th>\n",
       "      <td>0</td>\n",
       "      <td>2330000.0</td>\n",
       "      <td>23.0</td>\n",
       "      <td>2018-01-01T00:00:00</td>\n",
       "      <td>0</td>\n",
       "      <td>2.65</td>\n",
       "      <td>24.0</td>\n",
       "      <td>2.0</td>\n",
       "      <td>22</td>\n",
       "      <td>False</td>\n",
       "      <td>...</td>\n",
       "      <td>0.0</td>\n",
       "      <td>посёлок Мурино</td>\n",
       "      <td>NaN</td>\n",
       "      <td>NaN</td>\n",
       "      <td>NaN</td>\n",
       "      <td>NaN</td>\n",
       "      <td>NaN</td>\n",
       "      <td>NaN</td>\n",
       "      <td>66.0</td>\n",
       "      <td>NaN</td>\n",
       "    </tr>\n",
       "    <tr>\n",
       "      <th>23574</th>\n",
       "      <td>14</td>\n",
       "      <td>64990000.0</td>\n",
       "      <td>139.0</td>\n",
       "      <td>2015-11-24T00:00:00</td>\n",
       "      <td>3</td>\n",
       "      <td>3.00</td>\n",
       "      <td>8.0</td>\n",
       "      <td>3.0</td>\n",
       "      <td>8</td>\n",
       "      <td>False</td>\n",
       "      <td>...</td>\n",
       "      <td>1.0</td>\n",
       "      <td>Санкт-Петербург</td>\n",
       "      <td>33255.0</td>\n",
       "      <td>5975.0</td>\n",
       "      <td>1.0</td>\n",
       "      <td>630.0</td>\n",
       "      <td>3.0</td>\n",
       "      <td>100.0</td>\n",
       "      <td>280.0</td>\n",
       "      <td>19.0</td>\n",
       "    </tr>\n",
       "  </tbody>\n",
       "</table>\n",
       "<p>4 rows × 23 columns</p>\n",
       "</div>"
      ],
      "text/plain": [
       "       total_images  last_price  total_area first_day_exposition  rooms  \\\n",
       "3242              7   4440000.0        41.0  2017-07-02T00:00:00      1   \n",
       "13915            20   6350000.0        52.0  2018-02-06T00:00:00      2   \n",
       "21758             0   2330000.0        23.0  2018-01-01T00:00:00      0   \n",
       "23574            14  64990000.0       139.0  2015-11-24T00:00:00      3   \n",
       "\n",
       "       ceiling_height  floors_total  living_area  floor  is_apartment  ...  \\\n",
       "3242             2.65          17.0          3.0     17         False  ...   \n",
       "13915            3.00           6.0          2.0      2         False  ...   \n",
       "21758            2.65          24.0          2.0     22         False  ...   \n",
       "23574            3.00           8.0          3.0      8         False  ...   \n",
       "\n",
       "       balcony    locality_name  airports_nearest  city_centers_nearest  \\\n",
       "3242       0.0  Санкт-Петербург           19272.0               13073.0   \n",
       "13915      0.0  Санкт-Петербург           32453.0                6521.0   \n",
       "21758      0.0   посёлок Мурино               NaN                   NaN   \n",
       "23574      1.0  Санкт-Петербург           33255.0                5975.0   \n",
       "\n",
       "      parks_around3000  parks_nearest  ponds_around3000  ponds_nearest  \\\n",
       "3242               0.0            NaN               0.0            NaN   \n",
       "13915              0.0            NaN               1.0         1012.0   \n",
       "21758              NaN            NaN               NaN            NaN   \n",
       "23574              1.0          630.0               3.0          100.0   \n",
       "\n",
       "       days_exposition  kitchen+lr  \n",
       "3242             216.0        14.0  \n",
       "13915             91.0        11.0  \n",
       "21758             66.0         NaN  \n",
       "23574            280.0        19.0  \n",
       "\n",
       "[4 rows x 23 columns]"
      ]
     },
     "execution_count": 19,
     "metadata": {},
     "output_type": "execute_result"
    }
   ],
   "source": [
    "data[data['living_area'] < 5]"
   ]
  },
  {
   "cell_type": "markdown",
   "metadata": {},
   "source": [
    "Посмотрим на кухни меньше 3 м"
   ]
  },
  {
   "cell_type": "code",
   "execution_count": 20,
   "metadata": {},
   "outputs": [
    {
     "data": {
      "text/html": [
       "<div>\n",
       "<style scoped>\n",
       "    .dataframe tbody tr th:only-of-type {\n",
       "        vertical-align: middle;\n",
       "    }\n",
       "\n",
       "    .dataframe tbody tr th {\n",
       "        vertical-align: top;\n",
       "    }\n",
       "\n",
       "    .dataframe thead th {\n",
       "        text-align: right;\n",
       "    }\n",
       "</style>\n",
       "<table border=\"1\" class=\"dataframe\">\n",
       "  <thead>\n",
       "    <tr style=\"text-align: right;\">\n",
       "      <th></th>\n",
       "      <th>total_images</th>\n",
       "      <th>last_price</th>\n",
       "      <th>total_area</th>\n",
       "      <th>first_day_exposition</th>\n",
       "      <th>rooms</th>\n",
       "      <th>ceiling_height</th>\n",
       "      <th>floors_total</th>\n",
       "      <th>living_area</th>\n",
       "      <th>floor</th>\n",
       "      <th>is_apartment</th>\n",
       "      <th>...</th>\n",
       "      <th>balcony</th>\n",
       "      <th>locality_name</th>\n",
       "      <th>airports_nearest</th>\n",
       "      <th>city_centers_nearest</th>\n",
       "      <th>parks_around3000</th>\n",
       "      <th>parks_nearest</th>\n",
       "      <th>ponds_around3000</th>\n",
       "      <th>ponds_nearest</th>\n",
       "      <th>days_exposition</th>\n",
       "      <th>kitchen+lr</th>\n",
       "    </tr>\n",
       "  </thead>\n",
       "  <tbody>\n",
       "    <tr>\n",
       "      <th>906</th>\n",
       "      <td>15</td>\n",
       "      <td>2600000.0</td>\n",
       "      <td>27.00</td>\n",
       "      <td>2017-07-10T00:00:00</td>\n",
       "      <td>1</td>\n",
       "      <td>2.75</td>\n",
       "      <td>23.0</td>\n",
       "      <td>18.0</td>\n",
       "      <td>18</td>\n",
       "      <td>False</td>\n",
       "      <td>...</td>\n",
       "      <td>0.0</td>\n",
       "      <td>Санкт-Петербург</td>\n",
       "      <td>22131.0</td>\n",
       "      <td>17459.0</td>\n",
       "      <td>0.0</td>\n",
       "      <td>NaN</td>\n",
       "      <td>1.0</td>\n",
       "      <td>411.0</td>\n",
       "      <td>10.0</td>\n",
       "      <td>20.00</td>\n",
       "    </tr>\n",
       "    <tr>\n",
       "      <th>6262</th>\n",
       "      <td>9</td>\n",
       "      <td>3100000.0</td>\n",
       "      <td>24.00</td>\n",
       "      <td>2018-06-25T00:00:00</td>\n",
       "      <td>2</td>\n",
       "      <td>3.00</td>\n",
       "      <td>5.0</td>\n",
       "      <td>16.0</td>\n",
       "      <td>5</td>\n",
       "      <td>False</td>\n",
       "      <td>...</td>\n",
       "      <td>0.0</td>\n",
       "      <td>Санкт-Петербург</td>\n",
       "      <td>31960.0</td>\n",
       "      <td>4914.0</td>\n",
       "      <td>2.0</td>\n",
       "      <td>426.0</td>\n",
       "      <td>1.0</td>\n",
       "      <td>936.0</td>\n",
       "      <td>54.0</td>\n",
       "      <td>18.00</td>\n",
       "    </tr>\n",
       "    <tr>\n",
       "      <th>7950</th>\n",
       "      <td>3</td>\n",
       "      <td>5967734.0</td>\n",
       "      <td>66.40</td>\n",
       "      <td>2017-02-07T00:00:00</td>\n",
       "      <td>2</td>\n",
       "      <td>2.65</td>\n",
       "      <td>4.0</td>\n",
       "      <td>44.4</td>\n",
       "      <td>2</td>\n",
       "      <td>False</td>\n",
       "      <td>...</td>\n",
       "      <td>0.0</td>\n",
       "      <td>Санкт-Петербург</td>\n",
       "      <td>44870.0</td>\n",
       "      <td>20802.0</td>\n",
       "      <td>0.0</td>\n",
       "      <td>NaN</td>\n",
       "      <td>0.0</td>\n",
       "      <td>NaN</td>\n",
       "      <td>335.0</td>\n",
       "      <td>47.29</td>\n",
       "    </tr>\n",
       "    <tr>\n",
       "      <th>8729</th>\n",
       "      <td>9</td>\n",
       "      <td>2200000.0</td>\n",
       "      <td>18.40</td>\n",
       "      <td>2018-08-20T00:00:00</td>\n",
       "      <td>1</td>\n",
       "      <td>2.52</td>\n",
       "      <td>3.0</td>\n",
       "      <td>14.0</td>\n",
       "      <td>3</td>\n",
       "      <td>False</td>\n",
       "      <td>...</td>\n",
       "      <td>0.0</td>\n",
       "      <td>Пушкин</td>\n",
       "      <td>20710.0</td>\n",
       "      <td>30687.0</td>\n",
       "      <td>0.0</td>\n",
       "      <td>NaN</td>\n",
       "      <td>1.0</td>\n",
       "      <td>155.0</td>\n",
       "      <td>59.0</td>\n",
       "      <td>16.40</td>\n",
       "    </tr>\n",
       "    <tr>\n",
       "      <th>9138</th>\n",
       "      <td>17</td>\n",
       "      <td>2920000.0</td>\n",
       "      <td>23.29</td>\n",
       "      <td>2018-12-12T00:00:00</td>\n",
       "      <td>1</td>\n",
       "      <td>2.65</td>\n",
       "      <td>3.0</td>\n",
       "      <td>21.0</td>\n",
       "      <td>1</td>\n",
       "      <td>False</td>\n",
       "      <td>...</td>\n",
       "      <td>0.0</td>\n",
       "      <td>Санкт-Петербург</td>\n",
       "      <td>19506.0</td>\n",
       "      <td>4008.0</td>\n",
       "      <td>0.0</td>\n",
       "      <td>NaN</td>\n",
       "      <td>2.0</td>\n",
       "      <td>45.0</td>\n",
       "      <td>107.0</td>\n",
       "      <td>23.00</td>\n",
       "    </tr>\n",
       "    <tr>\n",
       "      <th>11033</th>\n",
       "      <td>6</td>\n",
       "      <td>5350000.0</td>\n",
       "      <td>32.00</td>\n",
       "      <td>2016-04-20T00:00:00</td>\n",
       "      <td>1</td>\n",
       "      <td>2.65</td>\n",
       "      <td>14.0</td>\n",
       "      <td>16.0</td>\n",
       "      <td>10</td>\n",
       "      <td>False</td>\n",
       "      <td>...</td>\n",
       "      <td>0.0</td>\n",
       "      <td>Санкт-Петербург</td>\n",
       "      <td>19008.0</td>\n",
       "      <td>3953.0</td>\n",
       "      <td>0.0</td>\n",
       "      <td>NaN</td>\n",
       "      <td>1.0</td>\n",
       "      <td>69.0</td>\n",
       "      <td>210.0</td>\n",
       "      <td>18.00</td>\n",
       "    </tr>\n",
       "    <tr>\n",
       "      <th>16367</th>\n",
       "      <td>2</td>\n",
       "      <td>2720000.0</td>\n",
       "      <td>25.70</td>\n",
       "      <td>2017-10-30T00:00:00</td>\n",
       "      <td>1</td>\n",
       "      <td>2.65</td>\n",
       "      <td>19.0</td>\n",
       "      <td>22.6</td>\n",
       "      <td>11</td>\n",
       "      <td>False</td>\n",
       "      <td>...</td>\n",
       "      <td>0.0</td>\n",
       "      <td>Санкт-Петербург</td>\n",
       "      <td>14472.0</td>\n",
       "      <td>13268.0</td>\n",
       "      <td>0.0</td>\n",
       "      <td>NaN</td>\n",
       "      <td>0.0</td>\n",
       "      <td>NaN</td>\n",
       "      <td>109.0</td>\n",
       "      <td>24.60</td>\n",
       "    </tr>\n",
       "    <tr>\n",
       "      <th>17834</th>\n",
       "      <td>5</td>\n",
       "      <td>2940000.0</td>\n",
       "      <td>34.70</td>\n",
       "      <td>2017-10-09T00:00:00</td>\n",
       "      <td>1</td>\n",
       "      <td>2.65</td>\n",
       "      <td>26.0</td>\n",
       "      <td>15.5</td>\n",
       "      <td>14</td>\n",
       "      <td>False</td>\n",
       "      <td>...</td>\n",
       "      <td>1.0</td>\n",
       "      <td>посёлок Мурино</td>\n",
       "      <td>NaN</td>\n",
       "      <td>NaN</td>\n",
       "      <td>NaN</td>\n",
       "      <td>NaN</td>\n",
       "      <td>NaN</td>\n",
       "      <td>NaN</td>\n",
       "      <td>318.0</td>\n",
       "      <td>17.80</td>\n",
       "    </tr>\n",
       "    <tr>\n",
       "      <th>19642</th>\n",
       "      <td>5</td>\n",
       "      <td>1190000.0</td>\n",
       "      <td>14.00</td>\n",
       "      <td>2018-07-29T00:00:00</td>\n",
       "      <td>1</td>\n",
       "      <td>2.65</td>\n",
       "      <td>5.0</td>\n",
       "      <td>11.0</td>\n",
       "      <td>1</td>\n",
       "      <td>False</td>\n",
       "      <td>...</td>\n",
       "      <td>0.0</td>\n",
       "      <td>Санкт-Петербург</td>\n",
       "      <td>9898.0</td>\n",
       "      <td>11122.0</td>\n",
       "      <td>0.0</td>\n",
       "      <td>NaN</td>\n",
       "      <td>0.0</td>\n",
       "      <td>NaN</td>\n",
       "      <td>4.0</td>\n",
       "      <td>13.00</td>\n",
       "    </tr>\n",
       "    <tr>\n",
       "      <th>20217</th>\n",
       "      <td>7</td>\n",
       "      <td>4250000.0</td>\n",
       "      <td>28.50</td>\n",
       "      <td>2019-05-01T00:00:00</td>\n",
       "      <td>1</td>\n",
       "      <td>2.80</td>\n",
       "      <td>14.0</td>\n",
       "      <td>19.5</td>\n",
       "      <td>10</td>\n",
       "      <td>False</td>\n",
       "      <td>...</td>\n",
       "      <td>0.0</td>\n",
       "      <td>Санкт-Петербург</td>\n",
       "      <td>37199.0</td>\n",
       "      <td>12721.0</td>\n",
       "      <td>0.0</td>\n",
       "      <td>NaN</td>\n",
       "      <td>0.0</td>\n",
       "      <td>NaN</td>\n",
       "      <td>NaN</td>\n",
       "      <td>20.80</td>\n",
       "    </tr>\n",
       "    <tr>\n",
       "      <th>21419</th>\n",
       "      <td>4</td>\n",
       "      <td>1870000.0</td>\n",
       "      <td>20.00</td>\n",
       "      <td>2018-03-06T00:00:00</td>\n",
       "      <td>1</td>\n",
       "      <td>2.50</td>\n",
       "      <td>5.0</td>\n",
       "      <td>14.0</td>\n",
       "      <td>1</td>\n",
       "      <td>False</td>\n",
       "      <td>...</td>\n",
       "      <td>0.0</td>\n",
       "      <td>Санкт-Петербург</td>\n",
       "      <td>16652.0</td>\n",
       "      <td>15654.0</td>\n",
       "      <td>1.0</td>\n",
       "      <td>619.0</td>\n",
       "      <td>1.0</td>\n",
       "      <td>937.0</td>\n",
       "      <td>45.0</td>\n",
       "      <td>16.00</td>\n",
       "    </tr>\n",
       "  </tbody>\n",
       "</table>\n",
       "<p>11 rows × 23 columns</p>\n",
       "</div>"
      ],
      "text/plain": [
       "       total_images  last_price  total_area first_day_exposition  rooms  \\\n",
       "906              15   2600000.0       27.00  2017-07-10T00:00:00      1   \n",
       "6262              9   3100000.0       24.00  2018-06-25T00:00:00      2   \n",
       "7950              3   5967734.0       66.40  2017-02-07T00:00:00      2   \n",
       "8729              9   2200000.0       18.40  2018-08-20T00:00:00      1   \n",
       "9138             17   2920000.0       23.29  2018-12-12T00:00:00      1   \n",
       "11033             6   5350000.0       32.00  2016-04-20T00:00:00      1   \n",
       "16367             2   2720000.0       25.70  2017-10-30T00:00:00      1   \n",
       "17834             5   2940000.0       34.70  2017-10-09T00:00:00      1   \n",
       "19642             5   1190000.0       14.00  2018-07-29T00:00:00      1   \n",
       "20217             7   4250000.0       28.50  2019-05-01T00:00:00      1   \n",
       "21419             4   1870000.0       20.00  2018-03-06T00:00:00      1   \n",
       "\n",
       "       ceiling_height  floors_total  living_area  floor  is_apartment  ...  \\\n",
       "906              2.75          23.0         18.0     18         False  ...   \n",
       "6262             3.00           5.0         16.0      5         False  ...   \n",
       "7950             2.65           4.0         44.4      2         False  ...   \n",
       "8729             2.52           3.0         14.0      3         False  ...   \n",
       "9138             2.65           3.0         21.0      1         False  ...   \n",
       "11033            2.65          14.0         16.0     10         False  ...   \n",
       "16367            2.65          19.0         22.6     11         False  ...   \n",
       "17834            2.65          26.0         15.5     14         False  ...   \n",
       "19642            2.65           5.0         11.0      1         False  ...   \n",
       "20217            2.80          14.0         19.5     10         False  ...   \n",
       "21419            2.50           5.0         14.0      1         False  ...   \n",
       "\n",
       "       balcony    locality_name  airports_nearest  city_centers_nearest  \\\n",
       "906        0.0  Санкт-Петербург           22131.0               17459.0   \n",
       "6262       0.0  Санкт-Петербург           31960.0                4914.0   \n",
       "7950       0.0  Санкт-Петербург           44870.0               20802.0   \n",
       "8729       0.0           Пушкин           20710.0               30687.0   \n",
       "9138       0.0  Санкт-Петербург           19506.0                4008.0   \n",
       "11033      0.0  Санкт-Петербург           19008.0                3953.0   \n",
       "16367      0.0  Санкт-Петербург           14472.0               13268.0   \n",
       "17834      1.0   посёлок Мурино               NaN                   NaN   \n",
       "19642      0.0  Санкт-Петербург            9898.0               11122.0   \n",
       "20217      0.0  Санкт-Петербург           37199.0               12721.0   \n",
       "21419      0.0  Санкт-Петербург           16652.0               15654.0   \n",
       "\n",
       "      parks_around3000  parks_nearest  ponds_around3000  ponds_nearest  \\\n",
       "906                0.0            NaN               1.0          411.0   \n",
       "6262               2.0          426.0               1.0          936.0   \n",
       "7950               0.0            NaN               0.0            NaN   \n",
       "8729               0.0            NaN               1.0          155.0   \n",
       "9138               0.0            NaN               2.0           45.0   \n",
       "11033              0.0            NaN               1.0           69.0   \n",
       "16367              0.0            NaN               0.0            NaN   \n",
       "17834              NaN            NaN               NaN            NaN   \n",
       "19642              0.0            NaN               0.0            NaN   \n",
       "20217              0.0            NaN               0.0            NaN   \n",
       "21419              1.0          619.0               1.0          937.0   \n",
       "\n",
       "       days_exposition  kitchen+lr  \n",
       "906               10.0       20.00  \n",
       "6262              54.0       18.00  \n",
       "7950             335.0       47.29  \n",
       "8729              59.0       16.40  \n",
       "9138             107.0       23.00  \n",
       "11033            210.0       18.00  \n",
       "16367            109.0       24.60  \n",
       "17834            318.0       17.80  \n",
       "19642              4.0       13.00  \n",
       "20217              NaN       20.80  \n",
       "21419             45.0       16.00  \n",
       "\n",
       "[11 rows x 23 columns]"
      ]
     },
     "execution_count": 20,
     "metadata": {},
     "output_type": "execute_result"
    }
   ],
   "source": [
    "data[data['kitchen_area'] < 3]"
   ]
  },
  {
   "cell_type": "markdown",
   "metadata": {},
   "source": [
    "Грустно думать, что где-то существуют такие кухни. Для квартир больше 30 кв. м это выглядит как ошибка."
   ]
  },
  {
   "cell_type": "markdown",
   "metadata": {},
   "source": [
    "Исправим эти данные вместе с заполнением пустых значений по следующему принципу:\n",
    "<br> Выведем коэффициент кухни разделив медианный размер кухни на медианную общую площадь\n",
    "<br> Также поступим с жилой площадью"
   ]
  },
  {
   "cell_type": "code",
   "execution_count": 21,
   "metadata": {},
   "outputs": [
    {
     "data": {
      "text/plain": [
       "0.5711581704808281"
      ]
     },
     "metadata": {},
     "output_type": "display_data"
    },
    {
     "data": {
      "text/plain": [
       "0.17505750158725575"
      ]
     },
     "metadata": {},
     "output_type": "display_data"
    }
   ],
   "source": [
    "living_area_mult = data['living_area'].mean()/data['total_area'].mean()\n",
    "kitchen_area_mult = data['kitchen_area'].mean()/data['total_area'].mean()\n",
    "display(living_area_mult, kitchen_area_mult)"
   ]
  },
  {
   "cell_type": "markdown",
   "metadata": {},
   "source": [
    "Заполним пустые и некорректные значения, умножив общую площадь квартиры на соответствующий коэффициент"
   ]
  },
  {
   "cell_type": "code",
   "execution_count": 22,
   "metadata": {},
   "outputs": [],
   "source": [
    "data = data.fillna(\n",
    "    {\n",
    "        'living_area': data['total_area']*living_area_mult,\n",
    "        'kitchen_area': data['total_area']*kitchen_area_mult\n",
    "    }\n",
    ") #Заполним пустые ячейки"
   ]
  },
  {
   "cell_type": "code",
   "execution_count": 23,
   "metadata": {},
   "outputs": [],
   "source": [
    "#Исправим жилую площадь меньше 5 и кухни меньше 3 в квартирах более 30 кв. м\n",
    "data.loc[(data['living_area'] < 5),'living_area'] = data['total_area']*living_area_mult\n",
    "data.loc[(data['kitchen_area'] < 3) & (data['total_area'] > 30) ,'kitchen_area'] = data['total_area']*kitchen_area_mult"
   ]
  },
  {
   "cell_type": "code",
   "execution_count": 24,
   "metadata": {},
   "outputs": [],
   "source": [
    "data['kitchen+lr']=data['kitchen_area']+data['living_area'] #Пересчитаем значения 'kitchen+lr' с учетом новых данных"
   ]
  },
  {
   "cell_type": "code",
   "execution_count": 25,
   "metadata": {},
   "outputs": [],
   "source": [
    "#Исправим значения 'kitchen_area' для строк, где общая площадь меньше суммы кухни и жилой площади\n",
    "data.loc[(data['kitchen+lr'] > data['total_area']), 'kitchen_area'] = data['total_area']*kitchen_area_mult"
   ]
  },
  {
   "cell_type": "code",
   "execution_count": 26,
   "metadata": {},
   "outputs": [],
   "source": [
    "data['kitchen+lr']=data['kitchen_area']+data['living_area'] #Пересчитаем значения 'kitchen+lr' с учетом новых данных"
   ]
  },
  {
   "cell_type": "code",
   "execution_count": 27,
   "metadata": {},
   "outputs": [],
   "source": [
    "#Исправим значения 'living_area' для строк, где общая площадь меньше суммы кухни и жилой площади\n",
    "data.loc[(data['kitchen+lr'] > data['total_area']), 'living_area'] = data['total_area']*living_area_mult"
   ]
  },
  {
   "cell_type": "code",
   "execution_count": 28,
   "metadata": {},
   "outputs": [],
   "source": [
    "data['kitchen+lr']=data['kitchen_area']+data['living_area'] #Пересчитаем значения 'kitchen+lr' с учетом новых данных"
   ]
  },
  {
   "cell_type": "code",
   "execution_count": 29,
   "metadata": {},
   "outputs": [
    {
     "data": {
      "text/html": [
       "<div>\n",
       "<style scoped>\n",
       "    .dataframe tbody tr th:only-of-type {\n",
       "        vertical-align: middle;\n",
       "    }\n",
       "\n",
       "    .dataframe tbody tr th {\n",
       "        vertical-align: top;\n",
       "    }\n",
       "\n",
       "    .dataframe thead th {\n",
       "        text-align: right;\n",
       "    }\n",
       "</style>\n",
       "<table border=\"1\" class=\"dataframe\">\n",
       "  <thead>\n",
       "    <tr style=\"text-align: right;\">\n",
       "      <th></th>\n",
       "      <th>count</th>\n",
       "      <th>mean</th>\n",
       "      <th>std</th>\n",
       "      <th>min</th>\n",
       "      <th>25%</th>\n",
       "      <th>50%</th>\n",
       "      <th>75%</th>\n",
       "      <th>max</th>\n",
       "    </tr>\n",
       "  </thead>\n",
       "  <tbody>\n",
       "    <tr>\n",
       "      <th>kitchen_area</th>\n",
       "      <td>23612.0</td>\n",
       "      <td>10.477939</td>\n",
       "      <td>6.001800</td>\n",
       "      <td>1.3</td>\n",
       "      <td>7.0</td>\n",
       "      <td>9.0</td>\n",
       "      <td>12.0</td>\n",
       "      <td>112.0</td>\n",
       "    </tr>\n",
       "    <tr>\n",
       "      <th>living_area</th>\n",
       "      <td>23612.0</td>\n",
       "      <td>34.550981</td>\n",
       "      <td>22.312479</td>\n",
       "      <td>5.0</td>\n",
       "      <td>19.0</td>\n",
       "      <td>30.0</td>\n",
       "      <td>42.1</td>\n",
       "      <td>409.7</td>\n",
       "    </tr>\n",
       "  </tbody>\n",
       "</table>\n",
       "</div>"
      ],
      "text/plain": [
       "                count       mean        std  min   25%   50%   75%    max\n",
       "kitchen_area  23612.0  10.477939   6.001800  1.3   7.0   9.0  12.0  112.0\n",
       "living_area   23612.0  34.550981  22.312479  5.0  19.0  30.0  42.1  409.7"
      ]
     },
     "execution_count": 29,
     "metadata": {},
     "output_type": "execute_result"
    }
   ],
   "source": [
    "data[['kitchen_area','living_area']].describe().T"
   ]
  },
  {
   "cell_type": "markdown",
   "metadata": {},
   "source": [
    "Теперь проверим, есть ли квартиры, где сумма жилой площади и кухни превышают общую площадь"
   ]
  },
  {
   "cell_type": "code",
   "execution_count": 30,
   "metadata": {},
   "outputs": [
    {
     "data": {
      "text/html": [
       "<div>\n",
       "<style scoped>\n",
       "    .dataframe tbody tr th:only-of-type {\n",
       "        vertical-align: middle;\n",
       "    }\n",
       "\n",
       "    .dataframe tbody tr th {\n",
       "        vertical-align: top;\n",
       "    }\n",
       "\n",
       "    .dataframe thead th {\n",
       "        text-align: right;\n",
       "    }\n",
       "</style>\n",
       "<table border=\"1\" class=\"dataframe\">\n",
       "  <thead>\n",
       "    <tr style=\"text-align: right;\">\n",
       "      <th></th>\n",
       "      <th>total_images</th>\n",
       "      <th>last_price</th>\n",
       "      <th>total_area</th>\n",
       "      <th>first_day_exposition</th>\n",
       "      <th>rooms</th>\n",
       "      <th>ceiling_height</th>\n",
       "      <th>floors_total</th>\n",
       "      <th>living_area</th>\n",
       "      <th>floor</th>\n",
       "      <th>is_apartment</th>\n",
       "      <th>...</th>\n",
       "      <th>balcony</th>\n",
       "      <th>locality_name</th>\n",
       "      <th>airports_nearest</th>\n",
       "      <th>city_centers_nearest</th>\n",
       "      <th>parks_around3000</th>\n",
       "      <th>parks_nearest</th>\n",
       "      <th>ponds_around3000</th>\n",
       "      <th>ponds_nearest</th>\n",
       "      <th>days_exposition</th>\n",
       "      <th>kitchen+lr</th>\n",
       "    </tr>\n",
       "  </thead>\n",
       "  <tbody>\n",
       "  </tbody>\n",
       "</table>\n",
       "<p>0 rows × 23 columns</p>\n",
       "</div>"
      ],
      "text/plain": [
       "Empty DataFrame\n",
       "Columns: [total_images, last_price, total_area, first_day_exposition, rooms, ceiling_height, floors_total, living_area, floor, is_apartment, studio, open_plan, kitchen_area, balcony, locality_name, airports_nearest, city_centers_nearest, parks_around3000, parks_nearest, ponds_around3000, ponds_nearest, days_exposition, kitchen+lr]\n",
       "Index: []\n",
       "\n",
       "[0 rows x 23 columns]"
      ]
     },
     "execution_count": 30,
     "metadata": {},
     "output_type": "execute_result"
    }
   ],
   "source": [
    "data[data['kitchen+lr']>data['total_area']]"
   ]
  },
  {
   "cell_type": "markdown",
   "metadata": {},
   "source": [
    "Вспомогательный столбец kitchen+lr больше не нужен, удалим его"
   ]
  },
  {
   "cell_type": "code",
   "execution_count": 31,
   "metadata": {},
   "outputs": [],
   "source": [
    "data = data.drop('kitchen+lr', axis=1)"
   ]
  },
  {
   "cell_type": "markdown",
   "metadata": {},
   "source": [
    "Посмотрим, можно ли заполнить отсутствующие данные в столбце locality_name. Возможно, информация о расстоянии до центра города есть только у квартир в Санкт-Петербурге."
   ]
  },
  {
   "cell_type": "code",
   "execution_count": 32,
   "metadata": {},
   "outputs": [
    {
     "data": {
      "text/plain": [
       "array([17012., 17017., 17231., ..., 65952., 65968.,    nan])"
      ]
     },
     "metadata": {},
     "output_type": "display_data"
    }
   ],
   "source": [
    "data_city = data.query('locality_name != \"Санкт-Петербург\"')\n",
    "data_city_no_null = data_city[~data_city['locality_name'].isna()]\n",
    "data_city_array = data_city_no_null['city_centers_nearest'].unique()\n",
    "display(np.sort(data_city_array))"
   ]
  },
  {
   "cell_type": "markdown",
   "metadata": {},
   "source": [
    "Мы видим, что информаци о расстоянии до центра города есть не только в СПб, но цифры начинаются с 17 км. Для строк, где расстояние до центра меньше 15 км можно указать СПб, остальные значения отсечь."
   ]
  },
  {
   "cell_type": "code",
   "execution_count": 33,
   "metadata": {},
   "outputs": [],
   "source": [
    "data.loc[(data['city_centers_nearest'] < 15000) & (data['locality_name'].isna()), 'locality_name'] = 'Санкт-Петербург'\n",
    "data = data[~data['locality_name'].isna()]"
   ]
  },
  {
   "cell_type": "markdown",
   "metadata": {},
   "source": [
    "Откорректируем данные высоты потолков. Высоту потолков от 20 до 33, скорее всего нужно разделить на 10 для получения корректного значения. Остальные значения меньше 2 и больше 6 м исправить не получится, отсечем их."
   ]
  },
  {
   "cell_type": "code",
   "execution_count": 34,
   "metadata": {},
   "outputs": [],
   "source": [
    "ceiling_for_correction = data.query('ceiling_height >= 20 & ceiling_height < 33')\n",
    "ceiling_for_correction = ceiling_for_correction['ceiling_height']\n",
    "\n",
    "for row in ceiling_for_correction:\n",
    "    data.loc[(data['ceiling_height'] == row), 'ceiling_height'] = row/10"
   ]
  },
  {
   "cell_type": "code",
   "execution_count": 35,
   "metadata": {},
   "outputs": [],
   "source": [
    "data = data[(data['ceiling_height'] > 2) & (data['ceiling_height'] < 6)]"
   ]
  },
  {
   "cell_type": "markdown",
   "metadata": {},
   "source": [
    "Изменим тип данных в столбцах first_day_exposition, чтобы сделать дату более читаемой и is_apartment, поскольку это логическое значение."
   ]
  },
  {
   "cell_type": "code",
   "execution_count": 36,
   "metadata": {},
   "outputs": [],
   "source": [
    "DATA_FORMAT = '%Y-%m-%dT%H:%M:%S'\n",
    "data['first_day_exposition'] = pd.to_datetime(data['first_day_exposition'], format=DATA_FORMAT)\n",
    "data['is_apartment'] = data['is_apartment'].astype(bool)"
   ]
  },
  {
   "cell_type": "markdown",
   "metadata": {},
   "source": [
    "Избавимся от неявных дубликотов в столбце locality_name. В нашем случе дубликаты связаны с разным написанием типа населенных пунктов. Для текущего исследования не важен тип населенного пункта (поселок это или деревня), также нет возможности проверить корректность указанных типов. Лучше всего убрать информацию о типе нас. пункта, оставив лишь названия."
   ]
  },
  {
   "cell_type": "code",
   "execution_count": 37,
   "metadata": {},
   "outputs": [
    {
     "data": {
      "text/plain": [
       "array(['Агалатово', 'Александровская', 'Алексеевка', 'Аннино', 'Аро',\n",
       "       'Барышево', 'Батово', 'Бегуницы', 'Белогорка', 'Белоостров',\n",
       "       'Бокситогорск', 'Большая Вруда', 'Большая Ижора',\n",
       "       'Большая Пустомержа', 'Большие Колпаны', 'Большое Рейзино',\n",
       "       'Большой Сабск', 'Бор', 'Борисова Грива', 'Бугры', 'Будогощь',\n",
       "       'Ваганово', 'Важины', 'Вартемяги', 'Вахнова Кара', 'Вещево',\n",
       "       'Виллози', 'Вознесенье', 'Возрождение', 'Войсковицы', 'Войскорово',\n",
       "       'Володарское', 'Волосово', 'Волхов', 'Всеволожск', 'Выборг',\n",
       "       'Вырица', 'Выскатка', 'Высокоключевой', 'Высоцк', 'Гаврилово',\n",
       "       'Гарболово', 'Гатчина', 'Гладкое', 'Глажево', 'Глебычево',\n",
       "       'Глинка', 'Гончарово', 'Горбунки', 'Гостилицы', 'Громово',\n",
       "       'Дзержинского', 'Дружная Горка', 'Дружноселье', 'Дубровка',\n",
       "       'Елизаветино', 'Ефимовский', 'Жилгородок', 'Жилпосёлок', 'Житково',\n",
       "       'Заводской', 'Заклинье', 'Заневка', 'Запорожское', 'Зеленогорск',\n",
       "       'Зимитицы', 'Ивангород', 'Извара', 'Ильичёво', 'Иссад', 'Калитино',\n",
       "       'Каложицы', 'Кальтино', 'Каменногорск', 'Камышовка', 'Каськово',\n",
       "       'Келози', 'Кивеннапа Север', 'Кикерино', 'Кингисепп',\n",
       "       'Кингисеппский', 'Кипень', 'Кириши', 'Кировск', 'Кирпичное',\n",
       "       'Кисельня', 'Кобралово', 'Кобринское', 'Колпино', 'Колтуши',\n",
       "       'Коммунар', 'Коммунары', 'Кондратьево', 'Копорье', 'Коркино',\n",
       "       'Корнево', 'Коробицыно', 'Котельский', 'Котлы', 'Красная Долина',\n",
       "       'Красное Село', 'Красносельское', 'Красный Бор', 'Кривко',\n",
       "       'Кронштадт', 'Кудрово', 'Кузнечное', 'Кузьмолово', 'Кузьмоловский',\n",
       "       'Курковицы', 'Куровицы', 'Куттузи', 'Лаврики', 'Лаголово',\n",
       "       'Лампово', 'Лебяжье', 'Левашово', 'Ленинское', 'Лесколово',\n",
       "       'Лесная Поляна', 'Лесное', 'Лесогорский', 'Лисий Нос',\n",
       "       'Лодейное Поле', 'Ломоносов', 'Лопухинка', 'Луга', 'Лужайка',\n",
       "       'Лукаши', 'Лупполово', 'Любань', 'Малая Романовка', 'Малое Верево',\n",
       "       'Малое Карлино', 'Малые Колпаны', 'Мануйлово', 'Мга', 'Мельниково',\n",
       "       'Меньково', 'Металлострой', 'Мины', 'Мистолово', 'Мичуринское',\n",
       "       'Молодцово', 'Молодёжное', 'Мурино', 'Мыза-Ивановка', 'Назия',\n",
       "       'Ненимяки', 'Нижние Осельки', 'Нижняя', 'Низино', 'Никольский',\n",
       "       'Никольское', 'Новая Ладога', 'Новая Ропша', 'Новогорелово',\n",
       "       'Новое Девяткино', 'Новолисино', 'Новоселье', 'Новый Свет',\n",
       "       'Новый Учхоз', 'Нурма', 'Оредеж', 'Оржицы', 'Отрадное', 'Павлово',\n",
       "       'Павловск', 'Пансионат Зелёный Бор', 'Парголово', 'Парицы', 'Паша',\n",
       "       'Пельгора', 'Пеники', 'Первомайское', 'Перово', 'Песочный',\n",
       "       'Петергоф', 'Петро-Славянка', 'Петровское', 'Пижма', 'Пикалёво',\n",
       "       'Пикколово', 'Платформа 69-й километр', 'Плодовое', 'Плоское',\n",
       "       'Победа', 'Подпорожье', 'Поляны', 'Понтонный', 'Почап', 'Починок',\n",
       "       'Приветнинское', 'Пригородный', 'Приладожский', 'Приморск',\n",
       "       'Приозерск', 'Пудомяги', 'Пудость', 'Пустынка', 'Путилово',\n",
       "       'Пушкин', 'Пушное', 'Пчева', 'Пчевжа', 'Рабитицы', 'Разбегаево',\n",
       "       'Раздолье', 'Разметелево', 'Рапполово', 'Рахья', 'Реброво',\n",
       "       'Репино', 'Рождествено', 'Романовка', 'Ромашки', 'Ропша', 'Рощино',\n",
       "       'Русско', 'Русско-Высоцкое', 'Рябово', 'Садко', 'Санкт-Петербург',\n",
       "       'Сапёрное', 'Сапёрный', 'Светогорск', 'Свирь', 'Свирьстрой',\n",
       "       'Севастьяново', 'Селезнёво', 'Сельцо', 'Семиозерье', 'Семрино',\n",
       "       'Серебрянский', 'Сертолово', 'Сестрорецк', 'Сиверский', 'Сижно',\n",
       "       'Синявино', 'Сланцы', 'Снегирёвка', 'Советский', 'Совхозный',\n",
       "       'Сосново', 'Сосновый Бор', 'Старая', 'Старая Ладога',\n",
       "       'Старая Малукса', 'Старая Пустошь', 'Старое Хинколово',\n",
       "       'Старополье', 'Старосиверская', 'Старые Бегуницы', 'Стеклянный',\n",
       "       'Стрельна', 'Суйда', 'Сумино', 'Суоранда', 'Суходолье', 'Счастье',\n",
       "       'Сяськелево', 'Сясьстрой', 'Тайцы', 'Тарасово', 'Тельмана',\n",
       "       'Терволово', 'Терпилицы', 'Тихвин', 'Тихковицы', 'Тойворово',\n",
       "       'Токсово', 'Торковичи', 'Торосово', 'Торошковичи', 'Торфяное',\n",
       "       'Тосно', 'Трубников Бор', 'Тёсово-4', 'Углово', 'Ульяновка',\n",
       "       'Усть-Ижора', 'Усть-Луга', 'Ушаки', 'Фалилеево', 'Форносово',\n",
       "       'Форт Красная Горка', 'Фёдоровское', 'Хапо-Ое', 'Хязельки',\n",
       "       'Цвелодубово', 'Цвылёво', 'Чудской Бор', 'Шлиссельбург',\n",
       "       'Шпаньково', 'Шугозеро', 'Шум', 'Шушары', 'Щеглово', 'Юкки',\n",
       "       'Ялгино', 'Яльгелево', 'Ям-Тесово', 'Янино-1', 'имени Морозова',\n",
       "       'имени Свердлова'], dtype=object)"
      ]
     },
     "metadata": {},
     "output_type": "display_data"
    }
   ],
   "source": [
    "to_replace = {\n",
    "     r'(\\b)посёлок (\\b)':r'\\1\\2',\n",
    "     r'(\\b)поселок (\\b)':r'\\1\\2',\n",
    "    r'(\\b)деревня (\\b)':r'\\1\\2',\n",
    "    r'(\\b)городского типа (\\b)':r'\\1\\2',\n",
    "    r'(\\b)садовое товарищество (\\b)':r'\\1\\2',\n",
    "    r'(\\b)село (\\b)':r'\\1\\2',\n",
    "    r'(\\b)городской (\\b)':r'\\1\\2',\n",
    "    r'(\\b)садоводческое некоммерческое товарищество (\\b)':r'\\1\\2',\n",
    "    r'(\\b)коттеджный (\\b)':r'\\1\\2',\n",
    "    r'(\\b)при железнодорожной станции (\\b)':r'\\1\\2',\n",
    "    r'(\\b)станции (\\b)':r'\\1\\2'\n",
    "}\n",
    "data['locality_name'] = data['locality_name'].replace(to_replace, regex=True)\n",
    "\n",
    "un_name = data['locality_name'].unique()\n",
    "\n",
    "display(np.sort(un_name))"
   ]
  },
  {
   "cell_type": "markdown",
   "metadata": {},
   "source": [
    "Посмотрим внимательнее на количество комнат в квартирах и распределение общей площади"
   ]
  },
  {
   "cell_type": "code",
   "execution_count": 38,
   "metadata": {
    "scrolled": true
   },
   "outputs": [
    {
     "data": {
      "image/png": "[encoded data removed]",
      "text/plain": [
       "<Figure size 432x288 with 1 Axes>"
      ]
     },
     "metadata": {
      "needs_background": "light"
     },
     "output_type": "display_data"
    }
   ],
   "source": [
    "ax = data.groupby('rooms')['floor'].count().plot.bar(title='Распределение кваартир по количеству комнат', rot=0)\n",
    "ax.set(xlabel='Количество комнат', ylabel='Количество предложений, шт')\n",
    "ax.yaxis.set_major_formatter(FormatStrFormatter('%.0f'))"
   ]
  },
  {
   "cell_type": "code",
   "execution_count": 39,
   "metadata": {},
   "outputs": [
    {
     "data": {
      "image/png": "[encoded data removed]",
      "text/plain": [
       "<Figure size 432x288 with 1 Axes>"
      ]
     },
     "metadata": {
      "needs_background": "light"
     },
     "output_type": "display_data"
    }
   ],
   "source": [
    "ax = data.groupby('total_area')['floor'].count().plot(kind='hist', bins=50, title='Распределение квартир по общей площади')\n",
    "ax.set(xlabel='Общая площадь, кв. м', ylabel='Количество предложений, шт.')\n",
    "ax.yaxis.set_major_formatter(FormatStrFormatter('%.0f'))"
   ]
  },
  {
   "cell_type": "markdown",
   "metadata": {},
   "source": [
    "Квартир, где больше 6 комнат значительно меньше, чем остальных. Эти данные либо внесены по ошибке, либо являются уникальными предложениями, и их неправильно оценивать по общим критериям (если мне нужна квартира, в которой 10 комнат, как сильно на решение о выборе повлияет размер кухни или наличие рядом парка?), поэтому значения больше 6 лучше отсечь. По тем же причинам уберем из выборки квартиры с общей площадью более 200 м."
   ]
  },
  {
   "cell_type": "markdown",
   "metadata": {},
   "source": [
    "Также на гистограмме видно много квартир небольшой площади. Посмотрим на очень маленькие квартиры внимательнее."
   ]
  },
  {
   "cell_type": "code",
   "execution_count": 40,
   "metadata": {},
   "outputs": [
    {
     "data": {
      "text/html": [
       "<div>\n",
       "<style scoped>\n",
       "    .dataframe tbody tr th:only-of-type {\n",
       "        vertical-align: middle;\n",
       "    }\n",
       "\n",
       "    .dataframe tbody tr th {\n",
       "        vertical-align: top;\n",
       "    }\n",
       "\n",
       "    .dataframe thead th {\n",
       "        text-align: right;\n",
       "    }\n",
       "</style>\n",
       "<table border=\"1\" class=\"dataframe\">\n",
       "  <thead>\n",
       "    <tr style=\"text-align: right;\">\n",
       "      <th></th>\n",
       "      <th>total_images</th>\n",
       "      <th>last_price</th>\n",
       "      <th>total_area</th>\n",
       "      <th>first_day_exposition</th>\n",
       "      <th>rooms</th>\n",
       "      <th>ceiling_height</th>\n",
       "      <th>floors_total</th>\n",
       "      <th>living_area</th>\n",
       "      <th>floor</th>\n",
       "      <th>is_apartment</th>\n",
       "      <th>...</th>\n",
       "      <th>kitchen_area</th>\n",
       "      <th>balcony</th>\n",
       "      <th>locality_name</th>\n",
       "      <th>airports_nearest</th>\n",
       "      <th>city_centers_nearest</th>\n",
       "      <th>parks_around3000</th>\n",
       "      <th>parks_nearest</th>\n",
       "      <th>ponds_around3000</th>\n",
       "      <th>ponds_nearest</th>\n",
       "      <th>days_exposition</th>\n",
       "    </tr>\n",
       "  </thead>\n",
       "  <tbody>\n",
       "    <tr>\n",
       "      <th>716</th>\n",
       "      <td>5</td>\n",
       "      <td>1500000.0</td>\n",
       "      <td>17.00</td>\n",
       "      <td>2017-06-07</td>\n",
       "      <td>0</td>\n",
       "      <td>2.70</td>\n",
       "      <td>9.0</td>\n",
       "      <td>12.000000</td>\n",
       "      <td>1</td>\n",
       "      <td>False</td>\n",
       "      <td>...</td>\n",
       "      <td>2.975978</td>\n",
       "      <td>0.0</td>\n",
       "      <td>Шушары</td>\n",
       "      <td>18654.0</td>\n",
       "      <td>29846.0</td>\n",
       "      <td>0.0</td>\n",
       "      <td>NaN</td>\n",
       "      <td>0.0</td>\n",
       "      <td>NaN</td>\n",
       "      <td>40.0</td>\n",
       "    </tr>\n",
       "    <tr>\n",
       "      <th>4542</th>\n",
       "      <td>12</td>\n",
       "      <td>3300000.0</td>\n",
       "      <td>18.00</td>\n",
       "      <td>2018-11-07</td>\n",
       "      <td>1</td>\n",
       "      <td>3.50</td>\n",
       "      <td>5.0</td>\n",
       "      <td>9.000000</td>\n",
       "      <td>2</td>\n",
       "      <td>False</td>\n",
       "      <td>...</td>\n",
       "      <td>3.151035</td>\n",
       "      <td>0.0</td>\n",
       "      <td>Санкт-Петербург</td>\n",
       "      <td>25157.0</td>\n",
       "      <td>4948.0</td>\n",
       "      <td>2.0</td>\n",
       "      <td>349.0</td>\n",
       "      <td>1.0</td>\n",
       "      <td>963.0</td>\n",
       "      <td>9.0</td>\n",
       "    </tr>\n",
       "    <tr>\n",
       "      <th>5855</th>\n",
       "      <td>3</td>\n",
       "      <td>945750.0</td>\n",
       "      <td>19.50</td>\n",
       "      <td>2017-09-18</td>\n",
       "      <td>0</td>\n",
       "      <td>2.76</td>\n",
       "      <td>3.0</td>\n",
       "      <td>12.700000</td>\n",
       "      <td>2</td>\n",
       "      <td>False</td>\n",
       "      <td>...</td>\n",
       "      <td>3.413621</td>\n",
       "      <td>0.0</td>\n",
       "      <td>Дубровка</td>\n",
       "      <td>NaN</td>\n",
       "      <td>NaN</td>\n",
       "      <td>NaN</td>\n",
       "      <td>NaN</td>\n",
       "      <td>NaN</td>\n",
       "      <td>NaN</td>\n",
       "      <td>3.0</td>\n",
       "    </tr>\n",
       "    <tr>\n",
       "      <th>6084</th>\n",
       "      <td>6</td>\n",
       "      <td>770000.0</td>\n",
       "      <td>18.00</td>\n",
       "      <td>2017-10-16</td>\n",
       "      <td>1</td>\n",
       "      <td>2.65</td>\n",
       "      <td>5.0</td>\n",
       "      <td>13.000000</td>\n",
       "      <td>4</td>\n",
       "      <td>False</td>\n",
       "      <td>...</td>\n",
       "      <td>3.000000</td>\n",
       "      <td>0.0</td>\n",
       "      <td>Тихвин</td>\n",
       "      <td>NaN</td>\n",
       "      <td>NaN</td>\n",
       "      <td>NaN</td>\n",
       "      <td>NaN</td>\n",
       "      <td>NaN</td>\n",
       "      <td>NaN</td>\n",
       "      <td>90.0</td>\n",
       "    </tr>\n",
       "    <tr>\n",
       "      <th>8454</th>\n",
       "      <td>7</td>\n",
       "      <td>2250000.0</td>\n",
       "      <td>19.00</td>\n",
       "      <td>2019-03-12</td>\n",
       "      <td>0</td>\n",
       "      <td>3.00</td>\n",
       "      <td>6.0</td>\n",
       "      <td>10.852005</td>\n",
       "      <td>2</td>\n",
       "      <td>False</td>\n",
       "      <td>...</td>\n",
       "      <td>3.326093</td>\n",
       "      <td>0.0</td>\n",
       "      <td>Санкт-Петербург</td>\n",
       "      <td>12430.0</td>\n",
       "      <td>7316.0</td>\n",
       "      <td>1.0</td>\n",
       "      <td>238.0</td>\n",
       "      <td>3.0</td>\n",
       "      <td>374.0</td>\n",
       "      <td>44.0</td>\n",
       "    </tr>\n",
       "    <tr>\n",
       "      <th>8729</th>\n",
       "      <td>9</td>\n",
       "      <td>2200000.0</td>\n",
       "      <td>18.40</td>\n",
       "      <td>2018-08-20</td>\n",
       "      <td>1</td>\n",
       "      <td>2.52</td>\n",
       "      <td>3.0</td>\n",
       "      <td>14.000000</td>\n",
       "      <td>3</td>\n",
       "      <td>False</td>\n",
       "      <td>...</td>\n",
       "      <td>2.400000</td>\n",
       "      <td>0.0</td>\n",
       "      <td>Пушкин</td>\n",
       "      <td>20710.0</td>\n",
       "      <td>30687.0</td>\n",
       "      <td>0.0</td>\n",
       "      <td>NaN</td>\n",
       "      <td>1.0</td>\n",
       "      <td>155.0</td>\n",
       "      <td>59.0</td>\n",
       "    </tr>\n",
       "    <tr>\n",
       "      <th>8755</th>\n",
       "      <td>1</td>\n",
       "      <td>1350000.0</td>\n",
       "      <td>18.80</td>\n",
       "      <td>2017-11-22</td>\n",
       "      <td>0</td>\n",
       "      <td>2.75</td>\n",
       "      <td>19.0</td>\n",
       "      <td>10.737774</td>\n",
       "      <td>1</td>\n",
       "      <td>False</td>\n",
       "      <td>...</td>\n",
       "      <td>3.291081</td>\n",
       "      <td>0.0</td>\n",
       "      <td>Санкт-Петербург</td>\n",
       "      <td>37636.0</td>\n",
       "      <td>14479.0</td>\n",
       "      <td>0.0</td>\n",
       "      <td>NaN</td>\n",
       "      <td>1.0</td>\n",
       "      <td>1127.0</td>\n",
       "      <td>128.0</td>\n",
       "    </tr>\n",
       "    <tr>\n",
       "      <th>8886</th>\n",
       "      <td>10</td>\n",
       "      <td>2450000.0</td>\n",
       "      <td>15.50</td>\n",
       "      <td>2018-08-22</td>\n",
       "      <td>0</td>\n",
       "      <td>2.65</td>\n",
       "      <td>5.0</td>\n",
       "      <td>10.000000</td>\n",
       "      <td>2</td>\n",
       "      <td>False</td>\n",
       "      <td>...</td>\n",
       "      <td>2.713391</td>\n",
       "      <td>0.0</td>\n",
       "      <td>Санкт-Петербург</td>\n",
       "      <td>24326.0</td>\n",
       "      <td>4589.0</td>\n",
       "      <td>0.0</td>\n",
       "      <td>NaN</td>\n",
       "      <td>1.0</td>\n",
       "      <td>446.0</td>\n",
       "      <td>27.0</td>\n",
       "    </tr>\n",
       "    <tr>\n",
       "      <th>9157</th>\n",
       "      <td>0</td>\n",
       "      <td>3400000.0</td>\n",
       "      <td>17.60</td>\n",
       "      <td>2018-03-18</td>\n",
       "      <td>1</td>\n",
       "      <td>2.65</td>\n",
       "      <td>5.0</td>\n",
       "      <td>10.052384</td>\n",
       "      <td>2</td>\n",
       "      <td>False</td>\n",
       "      <td>...</td>\n",
       "      <td>3.081012</td>\n",
       "      <td>0.0</td>\n",
       "      <td>Санкт-Петербург</td>\n",
       "      <td>21555.0</td>\n",
       "      <td>1967.0</td>\n",
       "      <td>2.0</td>\n",
       "      <td>336.0</td>\n",
       "      <td>1.0</td>\n",
       "      <td>309.0</td>\n",
       "      <td>117.0</td>\n",
       "    </tr>\n",
       "    <tr>\n",
       "      <th>9412</th>\n",
       "      <td>5</td>\n",
       "      <td>2100000.0</td>\n",
       "      <td>16.00</td>\n",
       "      <td>2017-12-10</td>\n",
       "      <td>0</td>\n",
       "      <td>2.65</td>\n",
       "      <td>6.0</td>\n",
       "      <td>13.000000</td>\n",
       "      <td>1</td>\n",
       "      <td>False</td>\n",
       "      <td>...</td>\n",
       "      <td>2.800920</td>\n",
       "      <td>0.0</td>\n",
       "      <td>Санкт-Петербург</td>\n",
       "      <td>20735.0</td>\n",
       "      <td>2111.0</td>\n",
       "      <td>2.0</td>\n",
       "      <td>228.0</td>\n",
       "      <td>3.0</td>\n",
       "      <td>72.0</td>\n",
       "      <td>3.0</td>\n",
       "    </tr>\n",
       "    <tr>\n",
       "      <th>9817</th>\n",
       "      <td>8</td>\n",
       "      <td>2190000.0</td>\n",
       "      <td>19.00</td>\n",
       "      <td>2018-10-12</td>\n",
       "      <td>0</td>\n",
       "      <td>3.50</td>\n",
       "      <td>5.0</td>\n",
       "      <td>15.000000</td>\n",
       "      <td>1</td>\n",
       "      <td>False</td>\n",
       "      <td>...</td>\n",
       "      <td>3.326093</td>\n",
       "      <td>0.0</td>\n",
       "      <td>Санкт-Петербург</td>\n",
       "      <td>29561.0</td>\n",
       "      <td>8264.0</td>\n",
       "      <td>2.0</td>\n",
       "      <td>383.0</td>\n",
       "      <td>1.0</td>\n",
       "      <td>781.0</td>\n",
       "      <td>89.0</td>\n",
       "    </tr>\n",
       "    <tr>\n",
       "      <th>10208</th>\n",
       "      <td>3</td>\n",
       "      <td>1900000.0</td>\n",
       "      <td>17.00</td>\n",
       "      <td>2018-08-14</td>\n",
       "      <td>1</td>\n",
       "      <td>2.75</td>\n",
       "      <td>4.0</td>\n",
       "      <td>13.000000</td>\n",
       "      <td>2</td>\n",
       "      <td>False</td>\n",
       "      <td>...</td>\n",
       "      <td>3.000000</td>\n",
       "      <td>0.0</td>\n",
       "      <td>Санкт-Петербург</td>\n",
       "      <td>25072.0</td>\n",
       "      <td>5639.0</td>\n",
       "      <td>0.0</td>\n",
       "      <td>NaN</td>\n",
       "      <td>0.0</td>\n",
       "      <td>NaN</td>\n",
       "      <td>7.0</td>\n",
       "    </tr>\n",
       "    <tr>\n",
       "      <th>12040</th>\n",
       "      <td>5</td>\n",
       "      <td>1900000.0</td>\n",
       "      <td>15.00</td>\n",
       "      <td>2018-06-27</td>\n",
       "      <td>1</td>\n",
       "      <td>2.50</td>\n",
       "      <td>5.0</td>\n",
       "      <td>8.567373</td>\n",
       "      <td>1</td>\n",
       "      <td>False</td>\n",
       "      <td>...</td>\n",
       "      <td>2.625863</td>\n",
       "      <td>0.0</td>\n",
       "      <td>Сосновый Бор</td>\n",
       "      <td>NaN</td>\n",
       "      <td>NaN</td>\n",
       "      <td>NaN</td>\n",
       "      <td>NaN</td>\n",
       "      <td>NaN</td>\n",
       "      <td>NaN</td>\n",
       "      <td>45.0</td>\n",
       "    </tr>\n",
       "    <tr>\n",
       "      <th>12881</th>\n",
       "      <td>5</td>\n",
       "      <td>1500000.0</td>\n",
       "      <td>18.50</td>\n",
       "      <td>2017-12-13</td>\n",
       "      <td>1</td>\n",
       "      <td>2.65</td>\n",
       "      <td>5.0</td>\n",
       "      <td>10.566426</td>\n",
       "      <td>5</td>\n",
       "      <td>False</td>\n",
       "      <td>...</td>\n",
       "      <td>3.238564</td>\n",
       "      <td>0.0</td>\n",
       "      <td>Сосновый Бор</td>\n",
       "      <td>NaN</td>\n",
       "      <td>NaN</td>\n",
       "      <td>NaN</td>\n",
       "      <td>NaN</td>\n",
       "      <td>NaN</td>\n",
       "      <td>NaN</td>\n",
       "      <td>41.0</td>\n",
       "    </tr>\n",
       "    <tr>\n",
       "      <th>12996</th>\n",
       "      <td>8</td>\n",
       "      <td>1900000.0</td>\n",
       "      <td>18.00</td>\n",
       "      <td>2019-01-25</td>\n",
       "      <td>0</td>\n",
       "      <td>2.60</td>\n",
       "      <td>5.0</td>\n",
       "      <td>10.280847</td>\n",
       "      <td>3</td>\n",
       "      <td>False</td>\n",
       "      <td>...</td>\n",
       "      <td>3.151035</td>\n",
       "      <td>0.0</td>\n",
       "      <td>Санкт-Петербург</td>\n",
       "      <td>19573.0</td>\n",
       "      <td>15772.0</td>\n",
       "      <td>2.0</td>\n",
       "      <td>149.0</td>\n",
       "      <td>2.0</td>\n",
       "      <td>496.0</td>\n",
       "      <td>10.0</td>\n",
       "    </tr>\n",
       "    <tr>\n",
       "      <th>16949</th>\n",
       "      <td>9</td>\n",
       "      <td>1550000.0</td>\n",
       "      <td>15.00</td>\n",
       "      <td>2018-08-21</td>\n",
       "      <td>1</td>\n",
       "      <td>2.70</td>\n",
       "      <td>9.0</td>\n",
       "      <td>8.567373</td>\n",
       "      <td>1</td>\n",
       "      <td>False</td>\n",
       "      <td>...</td>\n",
       "      <td>2.625863</td>\n",
       "      <td>0.0</td>\n",
       "      <td>Санкт-Петербург</td>\n",
       "      <td>51048.0</td>\n",
       "      <td>16376.0</td>\n",
       "      <td>0.0</td>\n",
       "      <td>NaN</td>\n",
       "      <td>1.0</td>\n",
       "      <td>1079.0</td>\n",
       "      <td>42.0</td>\n",
       "    </tr>\n",
       "    <tr>\n",
       "      <th>17961</th>\n",
       "      <td>3</td>\n",
       "      <td>1400000.0</td>\n",
       "      <td>13.00</td>\n",
       "      <td>2017-12-03</td>\n",
       "      <td>1</td>\n",
       "      <td>2.60</td>\n",
       "      <td>9.0</td>\n",
       "      <td>7.425056</td>\n",
       "      <td>1</td>\n",
       "      <td>False</td>\n",
       "      <td>...</td>\n",
       "      <td>2.275748</td>\n",
       "      <td>0.0</td>\n",
       "      <td>Санкт-Петербург</td>\n",
       "      <td>14350.0</td>\n",
       "      <td>15945.0</td>\n",
       "      <td>0.0</td>\n",
       "      <td>NaN</td>\n",
       "      <td>1.0</td>\n",
       "      <td>185.0</td>\n",
       "      <td>410.0</td>\n",
       "    </tr>\n",
       "    <tr>\n",
       "      <th>19311</th>\n",
       "      <td>12</td>\n",
       "      <td>2190000.0</td>\n",
       "      <td>18.00</td>\n",
       "      <td>2015-03-29</td>\n",
       "      <td>1</td>\n",
       "      <td>2.65</td>\n",
       "      <td>2.0</td>\n",
       "      <td>10.000000</td>\n",
       "      <td>1</td>\n",
       "      <td>False</td>\n",
       "      <td>...</td>\n",
       "      <td>3.151035</td>\n",
       "      <td>1.0</td>\n",
       "      <td>Санкт-Петербург</td>\n",
       "      <td>27056.0</td>\n",
       "      <td>9210.0</td>\n",
       "      <td>0.0</td>\n",
       "      <td>NaN</td>\n",
       "      <td>1.0</td>\n",
       "      <td>473.0</td>\n",
       "      <td>702.0</td>\n",
       "    </tr>\n",
       "    <tr>\n",
       "      <th>19546</th>\n",
       "      <td>3</td>\n",
       "      <td>1850000.0</td>\n",
       "      <td>13.00</td>\n",
       "      <td>2019-03-11</td>\n",
       "      <td>1</td>\n",
       "      <td>3.40</td>\n",
       "      <td>5.0</td>\n",
       "      <td>7.425056</td>\n",
       "      <td>2</td>\n",
       "      <td>False</td>\n",
       "      <td>...</td>\n",
       "      <td>2.275748</td>\n",
       "      <td>0.0</td>\n",
       "      <td>Санкт-Петербург</td>\n",
       "      <td>24915.0</td>\n",
       "      <td>5483.0</td>\n",
       "      <td>1.0</td>\n",
       "      <td>644.0</td>\n",
       "      <td>0.0</td>\n",
       "      <td>NaN</td>\n",
       "      <td>24.0</td>\n",
       "    </tr>\n",
       "    <tr>\n",
       "      <th>19558</th>\n",
       "      <td>2</td>\n",
       "      <td>1686000.0</td>\n",
       "      <td>13.20</td>\n",
       "      <td>2018-12-17</td>\n",
       "      <td>1</td>\n",
       "      <td>2.65</td>\n",
       "      <td>5.0</td>\n",
       "      <td>7.539288</td>\n",
       "      <td>1</td>\n",
       "      <td>False</td>\n",
       "      <td>...</td>\n",
       "      <td>2.310759</td>\n",
       "      <td>0.0</td>\n",
       "      <td>Санкт-Петербург</td>\n",
       "      <td>19891.0</td>\n",
       "      <td>4165.0</td>\n",
       "      <td>1.0</td>\n",
       "      <td>361.0</td>\n",
       "      <td>1.0</td>\n",
       "      <td>155.0</td>\n",
       "      <td>19.0</td>\n",
       "    </tr>\n",
       "    <tr>\n",
       "      <th>19642</th>\n",
       "      <td>5</td>\n",
       "      <td>1190000.0</td>\n",
       "      <td>14.00</td>\n",
       "      <td>2018-07-29</td>\n",
       "      <td>1</td>\n",
       "      <td>2.65</td>\n",
       "      <td>5.0</td>\n",
       "      <td>11.000000</td>\n",
       "      <td>1</td>\n",
       "      <td>False</td>\n",
       "      <td>...</td>\n",
       "      <td>2.000000</td>\n",
       "      <td>0.0</td>\n",
       "      <td>Санкт-Петербург</td>\n",
       "      <td>9898.0</td>\n",
       "      <td>11122.0</td>\n",
       "      <td>0.0</td>\n",
       "      <td>NaN</td>\n",
       "      <td>0.0</td>\n",
       "      <td>NaN</td>\n",
       "      <td>4.0</td>\n",
       "    </tr>\n",
       "    <tr>\n",
       "      <th>19807</th>\n",
       "      <td>0</td>\n",
       "      <td>3800000.0</td>\n",
       "      <td>13.00</td>\n",
       "      <td>2018-07-04</td>\n",
       "      <td>1</td>\n",
       "      <td>2.65</td>\n",
       "      <td>5.0</td>\n",
       "      <td>10.000000</td>\n",
       "      <td>3</td>\n",
       "      <td>False</td>\n",
       "      <td>...</td>\n",
       "      <td>2.275748</td>\n",
       "      <td>0.0</td>\n",
       "      <td>Санкт-Петербург</td>\n",
       "      <td>21302.0</td>\n",
       "      <td>1242.0</td>\n",
       "      <td>1.0</td>\n",
       "      <td>592.0</td>\n",
       "      <td>3.0</td>\n",
       "      <td>27.0</td>\n",
       "      <td>9.0</td>\n",
       "    </tr>\n",
       "    <tr>\n",
       "      <th>19904</th>\n",
       "      <td>4</td>\n",
       "      <td>2400000.0</td>\n",
       "      <td>12.00</td>\n",
       "      <td>2017-07-19</td>\n",
       "      <td>1</td>\n",
       "      <td>2.55</td>\n",
       "      <td>5.0</td>\n",
       "      <td>6.853898</td>\n",
       "      <td>2</td>\n",
       "      <td>False</td>\n",
       "      <td>...</td>\n",
       "      <td>2.100690</td>\n",
       "      <td>0.0</td>\n",
       "      <td>Санкт-Петербург</td>\n",
       "      <td>21314.0</td>\n",
       "      <td>964.0</td>\n",
       "      <td>1.0</td>\n",
       "      <td>886.0</td>\n",
       "      <td>2.0</td>\n",
       "      <td>45.0</td>\n",
       "      <td>200.0</td>\n",
       "    </tr>\n",
       "    <tr>\n",
       "      <th>20714</th>\n",
       "      <td>7</td>\n",
       "      <td>1200000.0</td>\n",
       "      <td>18.00</td>\n",
       "      <td>2018-01-04</td>\n",
       "      <td>1</td>\n",
       "      <td>2.65</td>\n",
       "      <td>4.0</td>\n",
       "      <td>10.280847</td>\n",
       "      <td>4</td>\n",
       "      <td>False</td>\n",
       "      <td>...</td>\n",
       "      <td>3.151035</td>\n",
       "      <td>0.0</td>\n",
       "      <td>Кировск</td>\n",
       "      <td>NaN</td>\n",
       "      <td>NaN</td>\n",
       "      <td>NaN</td>\n",
       "      <td>NaN</td>\n",
       "      <td>NaN</td>\n",
       "      <td>NaN</td>\n",
       "      <td>45.0</td>\n",
       "    </tr>\n",
       "    <tr>\n",
       "      <th>21802</th>\n",
       "      <td>6</td>\n",
       "      <td>1737000.0</td>\n",
       "      <td>17.78</td>\n",
       "      <td>2018-11-22</td>\n",
       "      <td>1</td>\n",
       "      <td>2.60</td>\n",
       "      <td>9.0</td>\n",
       "      <td>10.155192</td>\n",
       "      <td>1</td>\n",
       "      <td>False</td>\n",
       "      <td>...</td>\n",
       "      <td>3.112522</td>\n",
       "      <td>0.0</td>\n",
       "      <td>Санкт-Петербург</td>\n",
       "      <td>13289.0</td>\n",
       "      <td>12086.0</td>\n",
       "      <td>0.0</td>\n",
       "      <td>NaN</td>\n",
       "      <td>0.0</td>\n",
       "      <td>NaN</td>\n",
       "      <td>66.0</td>\n",
       "    </tr>\n",
       "    <tr>\n",
       "      <th>22356</th>\n",
       "      <td>6</td>\n",
       "      <td>2050000.0</td>\n",
       "      <td>17.20</td>\n",
       "      <td>2019-01-13</td>\n",
       "      <td>1</td>\n",
       "      <td>2.77</td>\n",
       "      <td>23.0</td>\n",
       "      <td>9.823921</td>\n",
       "      <td>1</td>\n",
       "      <td>False</td>\n",
       "      <td>...</td>\n",
       "      <td>3.010989</td>\n",
       "      <td>0.0</td>\n",
       "      <td>Санкт-Петербург</td>\n",
       "      <td>33645.0</td>\n",
       "      <td>13513.0</td>\n",
       "      <td>0.0</td>\n",
       "      <td>NaN</td>\n",
       "      <td>0.0</td>\n",
       "      <td>NaN</td>\n",
       "      <td>7.0</td>\n",
       "    </tr>\n",
       "    <tr>\n",
       "      <th>23191</th>\n",
       "      <td>3</td>\n",
       "      <td>1900000.0</td>\n",
       "      <td>18.90</td>\n",
       "      <td>2016-04-04</td>\n",
       "      <td>1</td>\n",
       "      <td>2.65</td>\n",
       "      <td>16.0</td>\n",
       "      <td>10.794889</td>\n",
       "      <td>12</td>\n",
       "      <td>False</td>\n",
       "      <td>...</td>\n",
       "      <td>3.308587</td>\n",
       "      <td>0.0</td>\n",
       "      <td>Тосно</td>\n",
       "      <td>NaN</td>\n",
       "      <td>NaN</td>\n",
       "      <td>NaN</td>\n",
       "      <td>NaN</td>\n",
       "      <td>NaN</td>\n",
       "      <td>NaN</td>\n",
       "      <td>115.0</td>\n",
       "    </tr>\n",
       "  </tbody>\n",
       "</table>\n",
       "<p>27 rows × 22 columns</p>\n",
       "</div>"
      ],
      "text/plain": [
       "       total_images  last_price  total_area first_day_exposition  rooms  \\\n",
       "716               5   1500000.0       17.00           2017-06-07      0   \n",
       "4542             12   3300000.0       18.00           2018-11-07      1   \n",
       "5855              3    945750.0       19.50           2017-09-18      0   \n",
       "6084              6    770000.0       18.00           2017-10-16      1   \n",
       "8454              7   2250000.0       19.00           2019-03-12      0   \n",
       "8729              9   2200000.0       18.40           2018-08-20      1   \n",
       "8755              1   1350000.0       18.80           2017-11-22      0   \n",
       "8886             10   2450000.0       15.50           2018-08-22      0   \n",
       "9157              0   3400000.0       17.60           2018-03-18      1   \n",
       "9412              5   2100000.0       16.00           2017-12-10      0   \n",
       "9817              8   2190000.0       19.00           2018-10-12      0   \n",
       "10208             3   1900000.0       17.00           2018-08-14      1   \n",
       "12040             5   1900000.0       15.00           2018-06-27      1   \n",
       "12881             5   1500000.0       18.50           2017-12-13      1   \n",
       "12996             8   1900000.0       18.00           2019-01-25      0   \n",
       "16949             9   1550000.0       15.00           2018-08-21      1   \n",
       "17961             3   1400000.0       13.00           2017-12-03      1   \n",
       "19311            12   2190000.0       18.00           2015-03-29      1   \n",
       "19546             3   1850000.0       13.00           2019-03-11      1   \n",
       "19558             2   1686000.0       13.20           2018-12-17      1   \n",
       "19642             5   1190000.0       14.00           2018-07-29      1   \n",
       "19807             0   3800000.0       13.00           2018-07-04      1   \n",
       "19904             4   2400000.0       12.00           2017-07-19      1   \n",
       "20714             7   1200000.0       18.00           2018-01-04      1   \n",
       "21802             6   1737000.0       17.78           2018-11-22      1   \n",
       "22356             6   2050000.0       17.20           2019-01-13      1   \n",
       "23191             3   1900000.0       18.90           2016-04-04      1   \n",
       "\n",
       "       ceiling_height  floors_total  living_area  floor  is_apartment  ...  \\\n",
       "716              2.70           9.0    12.000000      1         False  ...   \n",
       "4542             3.50           5.0     9.000000      2         False  ...   \n",
       "5855             2.76           3.0    12.700000      2         False  ...   \n",
       "6084             2.65           5.0    13.000000      4         False  ...   \n",
       "8454             3.00           6.0    10.852005      2         False  ...   \n",
       "8729             2.52           3.0    14.000000      3         False  ...   \n",
       "8755             2.75          19.0    10.737774      1         False  ...   \n",
       "8886             2.65           5.0    10.000000      2         False  ...   \n",
       "9157             2.65           5.0    10.052384      2         False  ...   \n",
       "9412             2.65           6.0    13.000000      1         False  ...   \n",
       "9817             3.50           5.0    15.000000      1         False  ...   \n",
       "10208            2.75           4.0    13.000000      2         False  ...   \n",
       "12040            2.50           5.0     8.567373      1         False  ...   \n",
       "12881            2.65           5.0    10.566426      5         False  ...   \n",
       "12996            2.60           5.0    10.280847      3         False  ...   \n",
       "16949            2.70           9.0     8.567373      1         False  ...   \n",
       "17961            2.60           9.0     7.425056      1         False  ...   \n",
       "19311            2.65           2.0    10.000000      1         False  ...   \n",
       "19546            3.40           5.0     7.425056      2         False  ...   \n",
       "19558            2.65           5.0     7.539288      1         False  ...   \n",
       "19642            2.65           5.0    11.000000      1         False  ...   \n",
       "19807            2.65           5.0    10.000000      3         False  ...   \n",
       "19904            2.55           5.0     6.853898      2         False  ...   \n",
       "20714            2.65           4.0    10.280847      4         False  ...   \n",
       "21802            2.60           9.0    10.155192      1         False  ...   \n",
       "22356            2.77          23.0     9.823921      1         False  ...   \n",
       "23191            2.65          16.0    10.794889     12         False  ...   \n",
       "\n",
       "       kitchen_area  balcony    locality_name  airports_nearest  \\\n",
       "716        2.975978      0.0           Шушары           18654.0   \n",
       "4542       3.151035      0.0  Санкт-Петербург           25157.0   \n",
       "5855       3.413621      0.0         Дубровка               NaN   \n",
       "6084       3.000000      0.0           Тихвин               NaN   \n",
       "8454       3.326093      0.0  Санкт-Петербург           12430.0   \n",
       "8729       2.400000      0.0           Пушкин           20710.0   \n",
       "8755       3.291081      0.0  Санкт-Петербург           37636.0   \n",
       "8886       2.713391      0.0  Санкт-Петербург           24326.0   \n",
       "9157       3.081012      0.0  Санкт-Петербург           21555.0   \n",
       "9412       2.800920      0.0  Санкт-Петербург           20735.0   \n",
       "9817       3.326093      0.0  Санкт-Петербург           29561.0   \n",
       "10208      3.000000      0.0  Санкт-Петербург           25072.0   \n",
       "12040      2.625863      0.0     Сосновый Бор               NaN   \n",
       "12881      3.238564      0.0     Сосновый Бор               NaN   \n",
       "12996      3.151035      0.0  Санкт-Петербург           19573.0   \n",
       "16949      2.625863      0.0  Санкт-Петербург           51048.0   \n",
       "17961      2.275748      0.0  Санкт-Петербург           14350.0   \n",
       "19311      3.151035      1.0  Санкт-Петербург           27056.0   \n",
       "19546      2.275748      0.0  Санкт-Петербург           24915.0   \n",
       "19558      2.310759      0.0  Санкт-Петербург           19891.0   \n",
       "19642      2.000000      0.0  Санкт-Петербург            9898.0   \n",
       "19807      2.275748      0.0  Санкт-Петербург           21302.0   \n",
       "19904      2.100690      0.0  Санкт-Петербург           21314.0   \n",
       "20714      3.151035      0.0          Кировск               NaN   \n",
       "21802      3.112522      0.0  Санкт-Петербург           13289.0   \n",
       "22356      3.010989      0.0  Санкт-Петербург           33645.0   \n",
       "23191      3.308587      0.0            Тосно               NaN   \n",
       "\n",
       "      city_centers_nearest  parks_around3000  parks_nearest  ponds_around3000  \\\n",
       "716                29846.0               0.0            NaN               0.0   \n",
       "4542                4948.0               2.0          349.0               1.0   \n",
       "5855                   NaN               NaN            NaN               NaN   \n",
       "6084                   NaN               NaN            NaN               NaN   \n",
       "8454                7316.0               1.0          238.0               3.0   \n",
       "8729               30687.0               0.0            NaN               1.0   \n",
       "8755               14479.0               0.0            NaN               1.0   \n",
       "8886                4589.0               0.0            NaN               1.0   \n",
       "9157                1967.0               2.0          336.0               1.0   \n",
       "9412                2111.0               2.0          228.0               3.0   \n",
       "9817                8264.0               2.0          383.0               1.0   \n",
       "10208               5639.0               0.0            NaN               0.0   \n",
       "12040                  NaN               NaN            NaN               NaN   \n",
       "12881                  NaN               NaN            NaN               NaN   \n",
       "12996              15772.0               2.0          149.0               2.0   \n",
       "16949              16376.0               0.0            NaN               1.0   \n",
       "17961              15945.0               0.0            NaN               1.0   \n",
       "19311               9210.0               0.0            NaN               1.0   \n",
       "19546               5483.0               1.0          644.0               0.0   \n",
       "19558               4165.0               1.0          361.0               1.0   \n",
       "19642              11122.0               0.0            NaN               0.0   \n",
       "19807               1242.0               1.0          592.0               3.0   \n",
       "19904                964.0               1.0          886.0               2.0   \n",
       "20714                  NaN               NaN            NaN               NaN   \n",
       "21802              12086.0               0.0            NaN               0.0   \n",
       "22356              13513.0               0.0            NaN               0.0   \n",
       "23191                  NaN               NaN            NaN               NaN   \n",
       "\n",
       "       ponds_nearest  days_exposition  \n",
       "716              NaN             40.0  \n",
       "4542           963.0              9.0  \n",
       "5855             NaN              3.0  \n",
       "6084             NaN             90.0  \n",
       "8454           374.0             44.0  \n",
       "8729           155.0             59.0  \n",
       "8755          1127.0            128.0  \n",
       "8886           446.0             27.0  \n",
       "9157           309.0            117.0  \n",
       "9412            72.0              3.0  \n",
       "9817           781.0             89.0  \n",
       "10208            NaN              7.0  \n",
       "12040            NaN             45.0  \n",
       "12881            NaN             41.0  \n",
       "12996          496.0             10.0  \n",
       "16949         1079.0             42.0  \n",
       "17961          185.0            410.0  \n",
       "19311          473.0            702.0  \n",
       "19546            NaN             24.0  \n",
       "19558          155.0             19.0  \n",
       "19642            NaN              4.0  \n",
       "19807           27.0              9.0  \n",
       "19904           45.0            200.0  \n",
       "20714            NaN             45.0  \n",
       "21802            NaN             66.0  \n",
       "22356            NaN              7.0  \n",
       "23191            NaN            115.0  \n",
       "\n",
       "[27 rows x 22 columns]"
      ]
     },
     "execution_count": 40,
     "metadata": {},
     "output_type": "execute_result"
    }
   ],
   "source": [
    "data.query('total_area < 20')"
   ]
  },
  {
   "cell_type": "markdown",
   "metadata": {},
   "source": [
    "Вероятно, это комнаты в коммунальных квартирах или аномалии. Уберем их из выборки, поскольку нас интересуют только продажи целых квартир"
   ]
  },
  {
   "cell_type": "code",
   "execution_count": 41,
   "metadata": {},
   "outputs": [],
   "source": [
    "data = data[(data['rooms'] < 6) & (data['total_area'] < 200) & (data['total_area'] > 20)]"
   ]
  },
  {
   "cell_type": "markdown",
   "metadata": {},
   "source": [
    "Изучим варианты, где общее количество этажей более 35. Подозрение вызывают дома в 60 этажей в Кронштадте и 52 этажа в СПб. Скорее всего, это ошибка при вводе или технический сбой. Уберем эти строки."
   ]
  },
  {
   "cell_type": "code",
   "execution_count": 42,
   "metadata": {},
   "outputs": [
    {
     "data": {
      "text/html": [
       "<div>\n",
       "<style scoped>\n",
       "    .dataframe tbody tr th:only-of-type {\n",
       "        vertical-align: middle;\n",
       "    }\n",
       "\n",
       "    .dataframe tbody tr th {\n",
       "        vertical-align: top;\n",
       "    }\n",
       "\n",
       "    .dataframe thead th {\n",
       "        text-align: right;\n",
       "    }\n",
       "</style>\n",
       "<table border=\"1\" class=\"dataframe\">\n",
       "  <thead>\n",
       "    <tr style=\"text-align: right;\">\n",
       "      <th></th>\n",
       "      <th>total_images</th>\n",
       "      <th>last_price</th>\n",
       "      <th>total_area</th>\n",
       "      <th>first_day_exposition</th>\n",
       "      <th>rooms</th>\n",
       "      <th>ceiling_height</th>\n",
       "      <th>floors_total</th>\n",
       "      <th>living_area</th>\n",
       "      <th>floor</th>\n",
       "      <th>is_apartment</th>\n",
       "      <th>...</th>\n",
       "      <th>kitchen_area</th>\n",
       "      <th>balcony</th>\n",
       "      <th>locality_name</th>\n",
       "      <th>airports_nearest</th>\n",
       "      <th>city_centers_nearest</th>\n",
       "      <th>parks_around3000</th>\n",
       "      <th>parks_nearest</th>\n",
       "      <th>ponds_around3000</th>\n",
       "      <th>ponds_nearest</th>\n",
       "      <th>days_exposition</th>\n",
       "    </tr>\n",
       "  </thead>\n",
       "  <tbody>\n",
       "    <tr>\n",
       "      <th>397</th>\n",
       "      <td>15</td>\n",
       "      <td>5990000.0</td>\n",
       "      <td>54.0</td>\n",
       "      <td>2018-03-22</td>\n",
       "      <td>2</td>\n",
       "      <td>2.65</td>\n",
       "      <td>36.0</td>\n",
       "      <td>21.4</td>\n",
       "      <td>28</td>\n",
       "      <td>False</td>\n",
       "      <td>...</td>\n",
       "      <td>18.7</td>\n",
       "      <td>1.0</td>\n",
       "      <td>Санкт-Петербург</td>\n",
       "      <td>18732.0</td>\n",
       "      <td>20444.0</td>\n",
       "      <td>0.0</td>\n",
       "      <td>NaN</td>\n",
       "      <td>3.0</td>\n",
       "      <td>80.0</td>\n",
       "      <td>11.0</td>\n",
       "    </tr>\n",
       "    <tr>\n",
       "      <th>2253</th>\n",
       "      <td>12</td>\n",
       "      <td>3800000.0</td>\n",
       "      <td>45.5</td>\n",
       "      <td>2018-06-28</td>\n",
       "      <td>2</td>\n",
       "      <td>2.88</td>\n",
       "      <td>60.0</td>\n",
       "      <td>27.4</td>\n",
       "      <td>4</td>\n",
       "      <td>False</td>\n",
       "      <td>...</td>\n",
       "      <td>7.4</td>\n",
       "      <td>0.0</td>\n",
       "      <td>Кронштадт</td>\n",
       "      <td>67763.0</td>\n",
       "      <td>49488.0</td>\n",
       "      <td>2.0</td>\n",
       "      <td>342.0</td>\n",
       "      <td>3.0</td>\n",
       "      <td>614.0</td>\n",
       "      <td>166.0</td>\n",
       "    </tr>\n",
       "    <tr>\n",
       "      <th>5807</th>\n",
       "      <td>17</td>\n",
       "      <td>8150000.0</td>\n",
       "      <td>80.0</td>\n",
       "      <td>2019-01-09</td>\n",
       "      <td>2</td>\n",
       "      <td>2.70</td>\n",
       "      <td>36.0</td>\n",
       "      <td>41.0</td>\n",
       "      <td>13</td>\n",
       "      <td>False</td>\n",
       "      <td>...</td>\n",
       "      <td>12.0</td>\n",
       "      <td>5.0</td>\n",
       "      <td>Санкт-Петербург</td>\n",
       "      <td>18732.0</td>\n",
       "      <td>20444.0</td>\n",
       "      <td>0.0</td>\n",
       "      <td>NaN</td>\n",
       "      <td>3.0</td>\n",
       "      <td>80.0</td>\n",
       "      <td>38.0</td>\n",
       "    </tr>\n",
       "    <tr>\n",
       "      <th>11079</th>\n",
       "      <td>16</td>\n",
       "      <td>9200000.0</td>\n",
       "      <td>75.0</td>\n",
       "      <td>2019-02-22</td>\n",
       "      <td>2</td>\n",
       "      <td>2.70</td>\n",
       "      <td>36.0</td>\n",
       "      <td>40.0</td>\n",
       "      <td>29</td>\n",
       "      <td>False</td>\n",
       "      <td>...</td>\n",
       "      <td>12.0</td>\n",
       "      <td>2.0</td>\n",
       "      <td>Санкт-Петербург</td>\n",
       "      <td>18732.0</td>\n",
       "      <td>20444.0</td>\n",
       "      <td>0.0</td>\n",
       "      <td>NaN</td>\n",
       "      <td>3.0</td>\n",
       "      <td>80.0</td>\n",
       "      <td>NaN</td>\n",
       "    </tr>\n",
       "    <tr>\n",
       "      <th>16731</th>\n",
       "      <td>9</td>\n",
       "      <td>3978000.0</td>\n",
       "      <td>40.0</td>\n",
       "      <td>2018-09-24</td>\n",
       "      <td>1</td>\n",
       "      <td>2.65</td>\n",
       "      <td>52.0</td>\n",
       "      <td>10.5</td>\n",
       "      <td>18</td>\n",
       "      <td>False</td>\n",
       "      <td>...</td>\n",
       "      <td>14.0</td>\n",
       "      <td>0.0</td>\n",
       "      <td>Санкт-Петербург</td>\n",
       "      <td>20728.0</td>\n",
       "      <td>12978.0</td>\n",
       "      <td>1.0</td>\n",
       "      <td>793.0</td>\n",
       "      <td>0.0</td>\n",
       "      <td>NaN</td>\n",
       "      <td>45.0</td>\n",
       "    </tr>\n",
       "  </tbody>\n",
       "</table>\n",
       "<p>5 rows × 22 columns</p>\n",
       "</div>"
      ],
      "text/plain": [
       "       total_images  last_price  total_area first_day_exposition  rooms  \\\n",
       "397              15   5990000.0        54.0           2018-03-22      2   \n",
       "2253             12   3800000.0        45.5           2018-06-28      2   \n",
       "5807             17   8150000.0        80.0           2019-01-09      2   \n",
       "11079            16   9200000.0        75.0           2019-02-22      2   \n",
       "16731             9   3978000.0        40.0           2018-09-24      1   \n",
       "\n",
       "       ceiling_height  floors_total  living_area  floor  is_apartment  ...  \\\n",
       "397              2.65          36.0         21.4     28         False  ...   \n",
       "2253             2.88          60.0         27.4      4         False  ...   \n",
       "5807             2.70          36.0         41.0     13         False  ...   \n",
       "11079            2.70          36.0         40.0     29         False  ...   \n",
       "16731            2.65          52.0         10.5     18         False  ...   \n",
       "\n",
       "       kitchen_area  balcony    locality_name  airports_nearest  \\\n",
       "397            18.7      1.0  Санкт-Петербург           18732.0   \n",
       "2253            7.4      0.0        Кронштадт           67763.0   \n",
       "5807           12.0      5.0  Санкт-Петербург           18732.0   \n",
       "11079          12.0      2.0  Санкт-Петербург           18732.0   \n",
       "16731          14.0      0.0  Санкт-Петербург           20728.0   \n",
       "\n",
       "      city_centers_nearest  parks_around3000  parks_nearest  ponds_around3000  \\\n",
       "397                20444.0               0.0            NaN               3.0   \n",
       "2253               49488.0               2.0          342.0               3.0   \n",
       "5807               20444.0               0.0            NaN               3.0   \n",
       "11079              20444.0               0.0            NaN               3.0   \n",
       "16731              12978.0               1.0          793.0               0.0   \n",
       "\n",
       "       ponds_nearest  days_exposition  \n",
       "397             80.0             11.0  \n",
       "2253           614.0            166.0  \n",
       "5807            80.0             38.0  \n",
       "11079           80.0              NaN  \n",
       "16731            NaN             45.0  \n",
       "\n",
       "[5 rows x 22 columns]"
      ]
     },
     "execution_count": 42,
     "metadata": {},
     "output_type": "execute_result"
    }
   ],
   "source": [
    "data[data['floors_total']>35]"
   ]
  },
  {
   "cell_type": "code",
   "execution_count": 43,
   "metadata": {},
   "outputs": [],
   "source": [
    "data = data[data['floors_total']<50]"
   ]
  },
  {
   "cell_type": "markdown",
   "metadata": {},
   "source": [
    "В полях, указывающих близость к аэропорту, центру города, паркам и прудам много пропусков. Не считаю целесообразным удалять эти значения, так как в этом случае мы потеряем значительное количество данных. Если понадобится аналитика на основании этих параметрах, мы проведем ее на усеченных данных, а для других исследований будем использовать полную базу.\n",
    "\n",
    "Также есть пропуски в столбце days_exposition. Вероятнее всего, квартиры, которые не были проданы на момент выгрузки данных. Считаю правильным оставить пропуски в этом столбце."
   ]
  },
  {
   "cell_type": "markdown",
   "metadata": {},
   "source": [
    "Посмотрим, как изменился датафрейм в результате предобработки:"
   ]
  },
  {
   "cell_type": "code",
   "execution_count": 44,
   "metadata": {},
   "outputs": [
    {
     "name": "stdout",
     "output_type": "stream",
     "text": [
      "<class 'pandas.core.frame.DataFrame'>\n",
      "Int64Index: 23217 entries, 0 to 23698\n",
      "Data columns (total 22 columns):\n",
      " #   Column                Non-Null Count  Dtype         \n",
      "---  ------                --------------  -----         \n",
      " 0   total_images          23217 non-null  int64         \n",
      " 1   last_price            23217 non-null  float64       \n",
      " 2   total_area            23217 non-null  float64       \n",
      " 3   first_day_exposition  23217 non-null  datetime64[ns]\n",
      " 4   rooms                 23217 non-null  int64         \n",
      " 5   ceiling_height        23217 non-null  float64       \n",
      " 6   floors_total          23217 non-null  float64       \n",
      " 7   living_area           23217 non-null  float64       \n",
      " 8   floor                 23217 non-null  int64         \n",
      " 9   is_apartment          23217 non-null  bool          \n",
      " 10  studio                23217 non-null  bool          \n",
      " 11  open_plan             23217 non-null  bool          \n",
      " 12  kitchen_area          23217 non-null  float64       \n",
      " 13  balcony               23217 non-null  float64       \n",
      " 14  locality_name         23217 non-null  object        \n",
      " 15  airports_nearest      17722 non-null  float64       \n",
      " 16  city_centers_nearest  17742 non-null  float64       \n",
      " 17  parks_around3000      17743 non-null  float64       \n",
      " 18  parks_nearest         7811 non-null   float64       \n",
      " 19  ponds_around3000      17743 non-null  float64       \n",
      " 20  ponds_nearest         8806 non-null   float64       \n",
      " 21  days_exposition       20131 non-null  float64       \n",
      "dtypes: bool(3), datetime64[ns](1), float64(14), int64(3), object(1)\n",
      "memory usage: 3.6+ MB\n"
     ]
    }
   ],
   "source": [
    "data.info()"
   ]
  },
  {
   "cell_type": "code",
   "execution_count": 45,
   "metadata": {},
   "outputs": [
    {
     "data": {
      "text/plain": [
       "'Мы потеряли 2.03% данных'"
      ]
     },
     "metadata": {},
     "output_type": "display_data"
    }
   ],
   "source": [
    "display(f'Мы потеряли {((23699-len(data.total_images))/23699):.2%} данных')"
   ]
  },
  {
   "cell_type": "markdown",
   "metadata": {},
   "source": [
    "В результате предобработки было потеряно чуть больше, чем 2% данных. Зато теперь данные пригодны для анализа и меньше вероятность прийти к неверному выводу."
   ]
  },
  {
   "cell_type": "markdown",
   "metadata": {},
   "source": [
    "### Добавление вспомогательных столбцов"
   ]
  },
  {
   "cell_type": "markdown",
   "metadata": {},
   "source": [
    "Добавим несколько расчетных столбцов для того, чтобы сделать более детальный анализ нескольких факторов.\n",
    "Рассчитаем цену квадратного метра, выведем отдельно день недели, месяц и год публикации объявления о продаже квартиры, разделим этажи на типы и переведем расстояние до центра города в километры."
   ]
  },
  {
   "cell_type": "code",
   "execution_count": 46,
   "metadata": {},
   "outputs": [],
   "source": [
    "data['one_m_price'] = (data['last_price']/data['total_area'])"
   ]
  },
  {
   "cell_type": "code",
   "execution_count": 47,
   "metadata": {},
   "outputs": [],
   "source": [
    "data['weekday_exposition'] = pd.DatetimeIndex(data['first_day_exposition']).weekday"
   ]
  },
  {
   "cell_type": "code",
   "execution_count": 48,
   "metadata": {},
   "outputs": [],
   "source": [
    "data['month_exposition'] = pd.DatetimeIndex(data['first_day_exposition']).month"
   ]
  },
  {
   "cell_type": "code",
   "execution_count": 49,
   "metadata": {},
   "outputs": [],
   "source": [
    "data['year_exposition'] = pd.DatetimeIndex(data['first_day_exposition']).year"
   ]
  },
  {
   "cell_type": "code",
   "execution_count": 50,
   "metadata": {},
   "outputs": [],
   "source": [
    "def floor_type(floor):\n",
    "    if floor['floor'] == 1:\n",
    "        return 'Первый'\n",
    "    if floor['floor'] == floor['floors_total']:\n",
    "        return 'Последний'\n",
    "    return 'Другой'\n",
    "\n",
    "data['floor_type'] = data[['floor','floors_total']].apply(floor_type, axis=1)"
   ]
  },
  {
   "cell_type": "code",
   "execution_count": 51,
   "metadata": {},
   "outputs": [],
   "source": [
    "data['city_centers_nearest_km'] = (data['city_centers_nearest']/1000).round()"
   ]
  },
  {
   "cell_type": "code",
   "execution_count": 52,
   "metadata": {},
   "outputs": [
    {
     "data": {
      "text/html": [
       "<div>\n",
       "<style scoped>\n",
       "    .dataframe tbody tr th:only-of-type {\n",
       "        vertical-align: middle;\n",
       "    }\n",
       "\n",
       "    .dataframe tbody tr th {\n",
       "        vertical-align: top;\n",
       "    }\n",
       "\n",
       "    .dataframe thead th {\n",
       "        text-align: right;\n",
       "    }\n",
       "</style>\n",
       "<table border=\"1\" class=\"dataframe\">\n",
       "  <thead>\n",
       "    <tr style=\"text-align: right;\">\n",
       "      <th></th>\n",
       "      <th>last_price</th>\n",
       "      <th>total_area</th>\n",
       "      <th>one_m_price</th>\n",
       "      <th>first_day_exposition</th>\n",
       "      <th>weekday_exposition</th>\n",
       "      <th>month_exposition</th>\n",
       "      <th>year_exposition</th>\n",
       "      <th>floor</th>\n",
       "      <th>floors_total</th>\n",
       "      <th>floor_type</th>\n",
       "      <th>city_centers_nearest</th>\n",
       "      <th>city_centers_nearest_km</th>\n",
       "    </tr>\n",
       "  </thead>\n",
       "  <tbody>\n",
       "    <tr>\n",
       "      <th>0</th>\n",
       "      <td>13000000.0</td>\n",
       "      <td>108.0</td>\n",
       "      <td>120370.370370</td>\n",
       "      <td>2019-03-07</td>\n",
       "      <td>3</td>\n",
       "      <td>3</td>\n",
       "      <td>2019</td>\n",
       "      <td>8</td>\n",
       "      <td>16.0</td>\n",
       "      <td>Другой</td>\n",
       "      <td>16028.0</td>\n",
       "      <td>16.0</td>\n",
       "    </tr>\n",
       "    <tr>\n",
       "      <th>1</th>\n",
       "      <td>3350000.0</td>\n",
       "      <td>40.4</td>\n",
       "      <td>82920.792079</td>\n",
       "      <td>2018-12-04</td>\n",
       "      <td>1</td>\n",
       "      <td>12</td>\n",
       "      <td>2018</td>\n",
       "      <td>1</td>\n",
       "      <td>11.0</td>\n",
       "      <td>Первый</td>\n",
       "      <td>18603.0</td>\n",
       "      <td>19.0</td>\n",
       "    </tr>\n",
       "    <tr>\n",
       "      <th>2</th>\n",
       "      <td>5196000.0</td>\n",
       "      <td>56.0</td>\n",
       "      <td>92785.714286</td>\n",
       "      <td>2015-08-20</td>\n",
       "      <td>3</td>\n",
       "      <td>8</td>\n",
       "      <td>2015</td>\n",
       "      <td>4</td>\n",
       "      <td>5.0</td>\n",
       "      <td>Другой</td>\n",
       "      <td>13933.0</td>\n",
       "      <td>14.0</td>\n",
       "    </tr>\n",
       "    <tr>\n",
       "      <th>3</th>\n",
       "      <td>64900000.0</td>\n",
       "      <td>159.0</td>\n",
       "      <td>408176.100629</td>\n",
       "      <td>2015-07-24</td>\n",
       "      <td>4</td>\n",
       "      <td>7</td>\n",
       "      <td>2015</td>\n",
       "      <td>9</td>\n",
       "      <td>14.0</td>\n",
       "      <td>Другой</td>\n",
       "      <td>6800.0</td>\n",
       "      <td>7.0</td>\n",
       "    </tr>\n",
       "    <tr>\n",
       "      <th>4</th>\n",
       "      <td>10000000.0</td>\n",
       "      <td>100.0</td>\n",
       "      <td>100000.000000</td>\n",
       "      <td>2018-06-19</td>\n",
       "      <td>1</td>\n",
       "      <td>6</td>\n",
       "      <td>2018</td>\n",
       "      <td>13</td>\n",
       "      <td>14.0</td>\n",
       "      <td>Другой</td>\n",
       "      <td>8098.0</td>\n",
       "      <td>8.0</td>\n",
       "    </tr>\n",
       "  </tbody>\n",
       "</table>\n",
       "</div>"
      ],
      "text/plain": [
       "   last_price  total_area    one_m_price first_day_exposition  \\\n",
       "0  13000000.0       108.0  120370.370370           2019-03-07   \n",
       "1   3350000.0        40.4   82920.792079           2018-12-04   \n",
       "2   5196000.0        56.0   92785.714286           2015-08-20   \n",
       "3  64900000.0       159.0  408176.100629           2015-07-24   \n",
       "4  10000000.0       100.0  100000.000000           2018-06-19   \n",
       "\n",
       "   weekday_exposition  month_exposition  year_exposition  floor  floors_total  \\\n",
       "0                   3                 3             2019      8          16.0   \n",
       "1                   1                12             2018      1          11.0   \n",
       "2                   3                 8             2015      4           5.0   \n",
       "3                   4                 7             2015      9          14.0   \n",
       "4                   1                 6             2018     13          14.0   \n",
       "\n",
       "  floor_type  city_centers_nearest  city_centers_nearest_km  \n",
       "0     Другой               16028.0                     16.0  \n",
       "1     Первый               18603.0                     19.0  \n",
       "2     Другой               13933.0                     14.0  \n",
       "3     Другой                6800.0                      7.0  \n",
       "4     Другой                8098.0                      8.0  "
      ]
     },
     "execution_count": 52,
     "metadata": {},
     "output_type": "execute_result"
    }
   ],
   "source": [
    "data[['last_price','total_area','one_m_price','first_day_exposition','weekday_exposition','month_exposition','year_exposition','floor','floors_total','floor_type','city_centers_nearest','city_centers_nearest_km']].head()"
   ]
  },
  {
   "cell_type": "markdown",
   "metadata": {},
   "source": [
    "Добавленные столбцы помогут нам в следующем разделе исследования. Теперь мы сможем подробнее изучить вилияние на цену квартиры таких факторов, как площадь, дата публикации, этаж и расстояние до центра города."
   ]
  },
  {
   "cell_type": "markdown",
   "metadata": {},
   "source": [
    "## Исследовательский анализ данных"
   ]
  },
  {
   "cell_type": "markdown",
   "metadata": {},
   "source": [
    "Взглянем на данные подробнее"
   ]
  },
  {
   "cell_type": "code",
   "execution_count": 53,
   "metadata": {},
   "outputs": [
    {
     "data": {
      "image/png": "[encoded data removed]",
      "text/plain": [
       "<Figure size 432x288 with 1 Axes>"
      ]
     },
     "metadata": {
      "needs_background": "light"
     },
     "output_type": "display_data"
    }
   ],
   "source": [
    "ax = (data['total_area']\n",
    "      .sort_values()\n",
    "      .plot(kind='hist', bins=50, title='Общая площадь квартир в СПб и области за 2014-2019 годы')\n",
    "      .set(xlabel='Общая площадь, кв. м', ylabel='Количество предложений, шт.')\n",
    "     )"
   ]
  },
  {
   "cell_type": "markdown",
   "metadata": {},
   "source": [
    "Больше всего предложений на квартиры в районе 45 кв. м. Видимо, это однушки в новостройках. Второй пик приходится на 60-65 кв. м. Это размер стандартной двушки."
   ]
  },
  {
   "cell_type": "code",
   "execution_count": 54,
   "metadata": {},
   "outputs": [
    {
     "data": {
      "image/png": "[encoded data removed]",
      "text/plain": [
       "<Figure size 432x288 with 1 Axes>"
      ]
     },
     "metadata": {
      "needs_background": "light"
     },
     "output_type": "display_data"
    }
   ],
   "source": [
    "ax = (data['living_area']\n",
    "      .sort_values()\n",
    "      .plot(kind='hist', bins=50, title='Жилая площадь квартир в СПб и области за 2014-2019 годы')\n",
    "      .set(xlabel='Общая площадь, кв. м', ylabel='Количество предложений, шт.')\n",
    "     )"
   ]
  },
  {
   "cell_type": "markdown",
   "metadata": {},
   "source": [
    "Больше всего квартир с жилой площадью 15-19 кв. м и около 35 кв. м. Это Однокомнатные и двухкомнатные квартиры. В старых квартирах кухни поменьше, а жилая площадь приближается к новым. Поэтому такой большой пик у площади однушек."
   ]
  },
  {
   "cell_type": "code",
   "execution_count": 55,
   "metadata": {},
   "outputs": [
    {
     "data": {
      "image/png": "[encoded data removed]",
      "text/plain": [
       "<Figure size 432x288 with 1 Axes>"
      ]
     },
     "metadata": {
      "needs_background": "light"
     },
     "output_type": "display_data"
    }
   ],
   "source": [
    "ax = (data['kitchen_area']\n",
    "      .sort_values()\n",
    "      .plot(kind='hist', bins=50, title='Площадь кухни в квартирах в СПб и области за 2014-2019 годы')\n",
    "      .set(xlabel='Площадь кухни, кв. м', ylabel='Количество предложений, шт.')\n",
    "     )"
   ]
  },
  {
   "cell_type": "markdown",
   "metadata": {},
   "source": [
    "Больше всего предложений - в районе 10 кв. м. Стандарт типичной новостройки. А вот больше 20 квадратов надо еще поискать."
   ]
  },
  {
   "cell_type": "code",
   "execution_count": 56,
   "metadata": {},
   "outputs": [
    {
     "data": {
      "image/png": "[encoded data removed]",
      "text/plain": [
       "<Figure size 1584x432 with 1 Axes>"
      ]
     },
     "metadata": {
      "needs_background": "light"
     },
     "output_type": "display_data"
    }
   ],
   "source": [
    "ax = data['last_price'].plot(\n",
    "    kind='hist',\n",
    "    title='Разброс цен на квартиры в СПб и области за 2014-2019 годы',\n",
    "    xlabel='Цена, руб.', \n",
    "    ylabel='Количество предложений',\n",
    "    figsize=(22,6)\n",
    "    )\n",
    "ax.xaxis.set_major_formatter(FormatStrFormatter('%.0f'))"
   ]
  },
  {
   "cell_type": "markdown",
   "metadata": {},
   "source": [
    "Из-за большого разброса цен график получается неинформативным. Рассмотрим подробнее предложения дешевле 80 млн. руб."
   ]
  },
  {
   "cell_type": "code",
   "execution_count": 57,
   "metadata": {},
   "outputs": [
    {
     "data": {
      "image/png": "[encoded data removed]",
      "text/plain": [
       "<Figure size 1584x432 with 1 Axes>"
      ]
     },
     "metadata": {
      "needs_background": "light"
     },
     "output_type": "display_data"
    }
   ],
   "source": [
    "ax = data['last_price'].plot(\n",
    "    kind='hist',\n",
    "    title='Разброс цен на квартиры в СПб и области за 2014-2019 годы. Квартиры до 80 млн. руб.',\n",
    "    xlabel='Цена, руб.', \n",
    "    ylabel='Количество предложений',\n",
    "    figsize=(22,6),\n",
    "    range=(0,80000000)\n",
    "    )\n",
    "ax.xaxis.set_major_formatter(FormatStrFormatter('%.0f'))"
   ]
  },
  {
   "cell_type": "markdown",
   "metadata": {},
   "source": [
    "Теперь видно, что основная часть предложений в ценовом диапазоне до 8 млн. руб."
   ]
  },
  {
   "cell_type": "code",
   "execution_count": 58,
   "metadata": {},
   "outputs": [
    {
     "data": {
      "image/png": "[encoded data removed]",
      "text/plain": [
       "<Figure size 432x288 with 1 Axes>"
      ]
     },
     "metadata": {
      "needs_background": "light"
     },
     "output_type": "display_data"
    }
   ],
   "source": [
    "ax = (data['rooms']\n",
    "      .sort_values()\n",
    "      .plot(kind='hist', bins=50, title='Количество комнат в квартирах в СПб и области за 2014-2019 годы')\n",
    "      .set(xlabel='Количество комнат', ylabel='Количество предложений, шт')\n",
    "     )"
   ]
  },
  {
   "cell_type": "markdown",
   "metadata": {},
   "source": [
    "Больше всего предложений на 1- и 2-комнатные квартиры. Они и самые востребованные у людей, которые хотят купить жилье."
   ]
  },
  {
   "cell_type": "code",
   "execution_count": 59,
   "metadata": {},
   "outputs": [
    {
     "data": {
      "image/png": "[encoded data removed]",
      "text/plain": [
       "<Figure size 432x288 with 1 Axes>"
      ]
     },
     "metadata": {
      "needs_background": "light"
     },
     "output_type": "display_data"
    }
   ],
   "source": [
    "ax = (data['ceiling_height']\n",
    "      .sort_values()\n",
    "      .plot(kind='hist', bins=50, title='Высота потолков в квартирах в СПб и области за 2014-2019 годы')\n",
    "      .set(xlabel='Высота потолков, м', ylabel='Количество предложений, шт')\n",
    "     )"
   ]
  },
  {
   "cell_type": "markdown",
   "metadata": {},
   "source": [
    "Самый большой пик в районе 2.65."
   ]
  },
  {
   "cell_type": "code",
   "execution_count": 60,
   "metadata": {},
   "outputs": [
    {
     "data": {
      "image/png": "[encoded data removed]",
      "text/plain": [
       "<Figure size 432x288 with 1 Axes>"
      ]
     },
     "metadata": {
      "needs_background": "light"
     },
     "output_type": "display_data"
    }
   ],
   "source": [
    "ax = (data['floor']\n",
    "      .sort_values()\n",
    "      .plot(kind='hist', bins=50, title='Распределение предложений на квартиры в СПб и области за 2014-2019 годы по этажам')\n",
    "      .set(xlabel='Этаж', ylabel='Количество предложений, шт')\n",
    "     )"
   ]
  },
  {
   "cell_type": "markdown",
   "metadata": {},
   "source": [
    "Больше всего предложений на этажах с первого по пятый. Неудивительно, ведь больше всего в выборке пятиэтажных домов (см. следующий график). Чем выше этаж, тем меньше предложений. "
   ]
  },
  {
   "cell_type": "code",
   "execution_count": 61,
   "metadata": {},
   "outputs": [
    {
     "data": {
      "image/png": "[encoded data removed]",
      "text/plain": [
       "<Figure size 432x288 with 1 Axes>"
      ]
     },
     "metadata": {
      "needs_background": "light"
     },
     "output_type": "display_data"
    }
   ],
   "source": [
    "ax = (data['floors_total']\n",
    "      .sort_values()\n",
    "      .plot(kind='hist', bins=50, title='Общее количество этажей в домах, где продаются квартиры. СПб и область, 2014-2019 годы')\n",
    "      .set(xlabel='Количество этажей в доме', ylabel='Количество предложений, шт')\n",
    "     )"
   ]
  },
  {
   "cell_type": "markdown",
   "metadata": {},
   "source": [
    "Больше всего пятиэтажек, второй пик - 9 этажей. Интересно посмотреть на аналогичную выборку через 10 лет."
   ]
  },
  {
   "cell_type": "code",
   "execution_count": 62,
   "metadata": {},
   "outputs": [
    {
     "data": {
      "image/png": "[encoded data removed]",
      "text/plain": [
       "<Figure size 432x288 with 1 Axes>"
      ]
     },
     "metadata": {
      "needs_background": "light"
     },
     "output_type": "display_data"
    }
   ],
   "source": [
    "ax = (data['city_centers_nearest']\n",
    "      .sort_values()\n",
    "      .plot(kind='hist', bins=50, title='Близость к центру Санкт-Петербурга квартир, продаваемых в СПб и области в 2014-2019 годах')\n",
    "      .set(xlabel='Расстояние от центра города, км', ylabel='Количество предложений, шт')\n",
    "     )"
   ]
  },
  {
   "cell_type": "markdown",
   "metadata": {},
   "source": [
    "Больше всего предложений в районее 12-17 км от центра. Это спальные районы с большой застройкой."
   ]
  },
  {
   "cell_type": "code",
   "execution_count": 63,
   "metadata": {},
   "outputs": [
    {
     "data": {
      "image/png": "[encoded data removed]",
      "text/plain": [
       "<Figure size 432x288 with 1 Axes>"
      ]
     },
     "metadata": {
      "needs_background": "light"
     },
     "output_type": "display_data"
    }
   ],
   "source": [
    "ax = (data['airports_nearest']\n",
    "      .sort_values()\n",
    "      .plot(kind='hist', bins=50, title='Близость квартир к аэропорту среди предложений о продаже в СПб и области за 2014-2019 годы')\n",
    "      .set(xlabel='Расстояние до аэропорта, м', ylabel='Количество предложений, шт')\n",
    "     )"
   ]
  },
  {
   "cell_type": "markdown",
   "metadata": {},
   "source": [
    "Абсолютное большинство квартир находится дальше 10 км от аэропорта. Значительная часть - в районе 20 км."
   ]
  },
  {
   "cell_type": "code",
   "execution_count": 64,
   "metadata": {},
   "outputs": [
    {
     "data": {
      "image/png": "[encoded data removed]",
      "text/plain": [
       "<Figure size 432x288 with 1 Axes>"
      ]
     },
     "metadata": {
      "needs_background": "light"
     },
     "output_type": "display_data"
    }
   ],
   "source": [
    "ax = (data['parks_nearest']\n",
    "      .sort_values()\n",
    "      .plot(kind='hist', bins=50, title='Близость квартир к парку среди предложений о продаже в СПб и области за 2014-2019 годы')\n",
    "      .set(xlabel='Расстояние до ближайшего парка, м', ylabel='Количество предложений, шт')\n",
    "     )"
   ]
  },
  {
   "cell_type": "markdown",
   "metadata": {},
   "source": [
    "Квартиры, у которых заполнено это поле, чаще всего находятся в 500 м от парка. Совсем неплохо."
   ]
  },
  {
   "cell_type": "code",
   "execution_count": 65,
   "metadata": {},
   "outputs": [
    {
     "data": {
      "image/png": "[encoded data removed]",
      "text/plain": [
       "<Figure size 432x288 with 1 Axes>"
      ]
     },
     "metadata": {
      "needs_background": "light"
     },
     "output_type": "display_data"
    }
   ],
   "source": [
    "ax = data.groupby('floor_type')['floor'].count().plot.bar(title='Распределение квартир по типу этажа. Предложения о продаже в СПб и области за 2014-2019 годы', rot=0)\n",
    "ax.set(xlabel='Тип этажа', ylabel='Количество предложений, шт')\n",
    "ax.yaxis.set_major_formatter(FormatStrFormatter('%.0f'))"
   ]
  },
  {
   "cell_type": "markdown",
   "metadata": {},
   "source": [
    "На последнем этаже предложений чуть больше, чем на первом. Неудивительно, ведь на первом этаже часто располагаются нежилые помещения. Больше всего квартир продажится на \"прочих\" этажах (не первый и не последний), ведь таких этажей больше всего. "
   ]
  },
  {
   "cell_type": "code",
   "execution_count": 66,
   "metadata": {},
   "outputs": [
    {
     "data": {
      "image/png": "[encoded data removed]",
      "text/plain": [
       "<Figure size 1440x432 with 1 Axes>"
      ]
     },
     "metadata": {
      "needs_background": "light"
     },
     "output_type": "display_data"
    }
   ],
   "source": [
    "ax = data['first_day_exposition'].hist(bins=100, figsize=(20,6))\n",
    "ax = ax.set(\n",
    "    xlabel='Дата публикации', \n",
    "    ylabel='Количество предложений, шт', \n",
    "    title='Распределение объявлений по дате публикации. Предложения о продаже в СПб и области за 2014-2019 годы'\n",
    ")"
   ]
  },
  {
   "cell_type": "markdown",
   "metadata": {},
   "source": [
    "Больше всего объявлений было опубликовано осенью 2018. После этого наблюдаются спады весной 2018 и зимой 2019."
   ]
  },
  {
   "cell_type": "markdown",
   "metadata": {},
   "source": [
    "Посмотрим, как долго продавались квартиры из выборки"
   ]
  },
  {
   "cell_type": "code",
   "execution_count": 67,
   "metadata": {},
   "outputs": [
    {
     "data": {
      "text/plain": [
       "count    20131.00000\n",
       "mean       179.63057\n",
       "std        218.22152\n",
       "min          1.00000\n",
       "25%         45.00000\n",
       "50%         95.00000\n",
       "75%        230.00000\n",
       "max       1580.00000\n",
       "Name: days_exposition, dtype: float64"
      ]
     },
     "execution_count": 67,
     "metadata": {},
     "output_type": "execute_result"
    }
   ],
   "source": [
    "data.days_exposition.describe()"
   ]
  },
  {
   "cell_type": "markdown",
   "metadata": {},
   "source": [
    "Есть варианты, которые продались за 1 день, есть квартиры, которые \"висят\" по 4 года. Медианное значение - 180 дней или полгода."
   ]
  },
  {
   "cell_type": "code",
   "execution_count": 68,
   "metadata": {},
   "outputs": [
    {
     "data": {
      "image/png": "[encoded data removed]",
      "text/plain": [
       "<Figure size 432x288 with 1 Axes>"
      ]
     },
     "metadata": {
      "needs_background": "light"
     },
     "output_type": "display_data"
    }
   ],
   "source": [
    "ax = data.groupby('days_exposition')['floor'].count().hist(bins=50)\n",
    "ax.set(\n",
    "    xlabel='Количество дней', \n",
    "    ylabel='Количество предложений, шт', \n",
    "    title='Распределение объявлений по продолжительности продажи')\n",
    "ax.yaxis.set_major_formatter(FormatStrFormatter('%.0f'))"
   ]
  },
  {
   "cell_type": "markdown",
   "metadata": {},
   "source": [
    "Более 200 дней продаются единичные кваартиры. Рассмотрим подробнее квартиры, проданные быстрее, чем за 100 дней."
   ]
  },
  {
   "cell_type": "code",
   "execution_count": 69,
   "metadata": {},
   "outputs": [
    {
     "data": {
      "image/png": "[encoded data removed]",
      "text/plain": [
       "<Figure size 432x288 with 1 Axes>"
      ]
     },
     "metadata": {
      "needs_background": "light"
     },
     "output_type": "display_data"
    }
   ],
   "source": [
    "ax = data.groupby('days_exposition')['floor'].count().hist(bins=50, range=(0,100))\n",
    "ax.set(\n",
    "    xlabel='Количество дней', \n",
    "    ylabel='Количество предложений, шт', \n",
    "    title='Квартиры, проданные за 100 дней и быстрее')\n",
    "ax.yaxis.set_major_formatter(FormatStrFormatter('%.0f'))"
   ]
  },
  {
   "cell_type": "markdown",
   "metadata": {},
   "source": [
    "На графике видно, что много квартир продается быстрее, чем за 10 дней. Если человек хочет продать быстро, ставит цену пониже и квартира уходит быстро. Если хотят продать подороже, приходится ждать, иногда долго. Быстрой можно считать продажу менее чем за 45 дней, долгой - более 230."
   ]
  },
  {
   "cell_type": "code",
   "execution_count": 70,
   "metadata": {},
   "outputs": [
    {
     "data": {
      "image/png": "[encoded data removed]",
      "text/plain": [
       "<Figure size 432x288 with 1 Axes>"
      ]
     },
     "metadata": {
      "needs_background": "light"
     },
     "output_type": "display_data"
    }
   ],
   "source": [
    "data_weekday = data.pivot_table(index='weekday_exposition', values='floor', aggfunc='count').reset_index()\n",
    "\n",
    "\n",
    "data_weekday = data_weekday.rename(\n",
    "    columns={\n",
    "        'floor' : 'Кол-во объявлений',\n",
    "        'weekday_exposition': 'День недели'\n",
    "    }\n",
    ")\n",
    "ax = data_weekday.plot(\n",
    "    x='День недели', \n",
    "    y='Кол-во объявлений', \n",
    "    kind='bar', \n",
    "    title='Распределение публикаций по дням недели', \n",
    "    rot=0, legend=False\n",
    ")\n",
    "ax = ax.set(ylabel='Количество предложений, шт')"
   ]
  },
  {
   "cell_type": "code",
   "execution_count": 71,
   "metadata": {},
   "outputs": [
    {
     "data": {
      "image/png": "[encoded data removed]",
      "text/plain": [
       "<Figure size 432x288 with 1 Axes>"
      ]
     },
     "metadata": {
      "needs_background": "light"
     },
     "output_type": "display_data"
    }
   ],
   "source": [
    "data_weekday_price = data.pivot_table(index='weekday_exposition', values='last_price', aggfunc='mean').reset_index()\n",
    "\n",
    "ax = data_weekday_price.plot(\n",
    "    x='weekday_exposition', \n",
    "    y='last_price', \n",
    "    kind='bar', \n",
    "    title='Зависимость цены от дня публикации',\n",
    "    xlabel='День недели',\n",
    "    ylabel='Цена, руб',\n",
    "    legend=False,\n",
    "    rot=0)\n",
    "ax.yaxis.set_major_formatter(FormatStrFormatter('%.0f'))"
   ]
  },
  {
   "cell_type": "markdown",
   "metadata": {},
   "source": [
    "Больше всего объявлений публикуется по вторникам и четвергам. Меньше всего - в воскресенье. По четвергам ставят цены повыше, в воскресенье - пониже. Но разница небольшая."
   ]
  },
  {
   "cell_type": "code",
   "execution_count": 72,
   "metadata": {},
   "outputs": [
    {
     "data": {
      "image/png": "[encoded data removed]",
      "text/plain": [
       "<Figure size 432x288 with 1 Axes>"
      ]
     },
     "metadata": {
      "needs_background": "light"
     },
     "output_type": "display_data"
    }
   ],
   "source": [
    "data_month = data.pivot_table(index='month_exposition', values='floor', aggfunc='count').reset_index()\n",
    "\n",
    "ax = data_month.plot(\n",
    "    x='month_exposition', \n",
    "    y='floor',\n",
    "    xlabel='Месяц публикации',\n",
    "    ylabel='Количество объявлений, шт.',\n",
    "    kind='bar', \n",
    "    title='Распределение публикаций по месяцам',\n",
    "    legend=False,\n",
    "    rot=0\n",
    ")"
   ]
  },
  {
   "cell_type": "code",
   "execution_count": 73,
   "metadata": {},
   "outputs": [
    {
     "data": {
      "image/png": "[encoded data removed]",
      "text/plain": [
       "<Figure size 576x504 with 1 Axes>"
      ]
     },
     "metadata": {
      "needs_background": "light"
     },
     "output_type": "display_data"
    }
   ],
   "source": [
    "data_month_price = data.pivot_table(index='month_exposition', values='last_price', aggfunc='mean').reset_index()\n",
    "\n",
    "ax = data_month_price.plot(\n",
    "    x='month_exposition', \n",
    "    y='last_price',\n",
    "    xlabel='Месяц публикации',\n",
    "    ylabel='Цена, руб.',\n",
    "    kind='bar', \n",
    "    title='Зависимость цены от месяца публикации', \n",
    "    figsize=(8,7),\n",
    "    legend=False,\n",
    "    rot=0\n",
    ")\n",
    "ax.yaxis.set_major_formatter(FormatStrFormatter('%.0f'))"
   ]
  },
  {
   "cell_type": "markdown",
   "metadata": {},
   "source": [
    "Самые активные месяцы, судя по выборке - февраль и март. Меньше всего объявлений в мае. Апрель, сентябрь и декабрь - месяцы, когда цены немного растут. Самые низкие цены в октябре."
   ]
  },
  {
   "cell_type": "code",
   "execution_count": 74,
   "metadata": {},
   "outputs": [
    {
     "data": {
      "image/png": "[encoded data removed]",
      "text/plain": [
       "<Figure size 432x288 with 1 Axes>"
      ]
     },
     "metadata": {
      "needs_background": "light"
     },
     "output_type": "display_data"
    }
   ],
   "source": [
    "data_year = data.pivot_table(index='year_exposition', values='floor', aggfunc='count').reset_index()\n",
    "\n",
    "ax = data_year.plot(\n",
    "    x='year_exposition', \n",
    "    y='floor', \n",
    "    kind='bar',\n",
    "    xlabel='Год публикации',\n",
    "    ylabel='Количество объявлений, шт.',\n",
    "    title='Распределение публикаций по годам',\n",
    "    legend=False,\n",
    "    rot=0\n",
    ")"
   ]
  },
  {
   "cell_type": "code",
   "execution_count": 75,
   "metadata": {},
   "outputs": [
    {
     "data": {
      "image/png": "[encoded data removed]",
      "text/plain": [
       "<Figure size 576x504 with 1 Axes>"
      ]
     },
     "metadata": {
      "needs_background": "light"
     },
     "output_type": "display_data"
    }
   ],
   "source": [
    "data_year_price = data.pivot_table(index='year_exposition', values='last_price', aggfunc='mean').reset_index()\n",
    "\n",
    "ax = data_year_price.plot(\n",
    "    x='year_exposition', \n",
    "    y='last_price', \n",
    "    xlabel='Год публикации',\n",
    "    ylabel='Цена, руб.',\n",
    "    kind='bar', \n",
    "    title='Зависимость цены от года публикации', \n",
    "    figsize=(8,7),\n",
    "    legend=False\n",
    ")\n",
    "ax.yaxis.set_major_formatter(FormatStrFormatter('%.0f'))"
   ]
  },
  {
   "cell_type": "markdown",
   "metadata": {},
   "source": [
    "В нашей выборке больше всего объявлений за 2017 и 2018 годы. Медианная цена падает с 2014 года по 2018. Можно предположить, что в 2015 году стало появляться больше дешевых новостроек в спальных районах, и медианная цена пошла вниз, а до этого времени доля дорогих квартир в историческом центре была выше."
   ]
  },
  {
   "cell_type": "markdown",
   "metadata": {},
   "source": [
    "Изучим, какие факторы влияют на стоимость объекта."
   ]
  },
  {
   "cell_type": "markdown",
   "metadata": {},
   "source": [
    "**Площадь**"
   ]
  },
  {
   "cell_type": "code",
   "execution_count": 76,
   "metadata": {},
   "outputs": [
    {
     "data": {
      "text/plain": [
       "0.6578424191456397"
      ]
     },
     "metadata": {},
     "output_type": "display_data"
    },
    {
     "data": {
      "image/png": "[encoded data removed]",
      "text/plain": [
       "<Figure size 432x288 with 1 Axes>"
      ]
     },
     "metadata": {
      "needs_background": "light"
     },
     "output_type": "display_data"
    }
   ],
   "source": [
    "display(data['last_price'].corr(data['total_area']))\n",
    "ax = data.plot(\n",
    "    x='last_price', \n",
    "    y='total_area', \n",
    "    kind='scatter',\n",
    "    xlabel='Цена, руб.',\n",
    "    ylabel='Общая площадь, кв. м',\n",
    "    title='Корреляция цены и общей площади',\n",
    "    rot=45\n",
    ")\n",
    "ax.xaxis.set_major_formatter(FormatStrFormatter('%.0f'))"
   ]
  },
  {
   "cell_type": "markdown",
   "metadata": {},
   "source": [
    "Размер квартиры значительным образом влияет на цену, корреляция близка к прямой. В случае с кваартирами более 100 метров мы видим больше выбросов, что еще раз подчеркиваает наличие уникальных объектов с другим ценообразованием."
   ]
  },
  {
   "cell_type": "markdown",
   "metadata": {},
   "source": [
    "**Жилая площадь**"
   ]
  },
  {
   "cell_type": "code",
   "execution_count": 77,
   "metadata": {},
   "outputs": [
    {
     "data": {
      "text/plain": [
       "0.5528913367806593"
      ]
     },
     "metadata": {},
     "output_type": "display_data"
    },
    {
     "data": {
      "image/png": "[encoded data removed]",
      "text/plain": [
       "<Figure size 432x288 with 1 Axes>"
      ]
     },
     "metadata": {
      "needs_background": "light"
     },
     "output_type": "display_data"
    }
   ],
   "source": [
    "display(data['last_price'].corr(data['living_area']))\n",
    "\n",
    "ax = data.plot(\n",
    "    x='last_price', \n",
    "    y='living_area', \n",
    "    kind='scatter',\n",
    "    xlabel='Цена, руб.',\n",
    "    ylabel='Жилая площадь, кв. м',\n",
    "    title='Корреляция цены и жилой площади',\n",
    "    rot=45\n",
    ")\n",
    "ax.xaxis.set_major_formatter(FormatStrFormatter('%.0f'))"
   ]
  },
  {
   "cell_type": "markdown",
   "metadata": {},
   "source": [
    "Размер жилой площади важен. Корреляция заметная."
   ]
  },
  {
   "cell_type": "markdown",
   "metadata": {},
   "source": [
    "**Площадь кухни**"
   ]
  },
  {
   "cell_type": "code",
   "execution_count": 78,
   "metadata": {},
   "outputs": [
    {
     "data": {
      "text/plain": [
       "0.5380280124017571"
      ]
     },
     "metadata": {},
     "output_type": "display_data"
    },
    {
     "data": {
      "image/png": "[encoded data removed]",
      "text/plain": [
       "<Figure size 432x288 with 1 Axes>"
      ]
     },
     "metadata": {
      "needs_background": "light"
     },
     "output_type": "display_data"
    }
   ],
   "source": [
    "display(data['last_price'].corr(data['kitchen_area']))\n",
    "\n",
    "ax = data.plot(\n",
    "    x='last_price', \n",
    "    y='kitchen_area', \n",
    "    kind='scatter',\n",
    "    xlabel='Цена, руб.',\n",
    "    ylabel='Площадь кухни, кв. м',\n",
    "    title='Корреляция цены и площади кухни',\n",
    "    rot=45\n",
    ")\n",
    "ax.xaxis.set_major_formatter(FormatStrFormatter('%.0f'))"
   ]
  },
  {
   "cell_type": "markdown",
   "metadata": {},
   "source": [
    "Размер кухни чуть меньше коррелирует с ценой, чем размер жилой площади, но также является заметным фактором. Оба показателя входят в общую площадь, которая является основным фактором, который влияет на цену квартиры."
   ]
  },
  {
   "cell_type": "markdown",
   "metadata": {},
   "source": [
    "**Количество комнат**"
   ]
  },
  {
   "cell_type": "code",
   "execution_count": 79,
   "metadata": {},
   "outputs": [
    {
     "data": {
      "text/plain": [
       "0.3671864020148288"
      ]
     },
     "metadata": {},
     "output_type": "display_data"
    },
    {
     "data": {
      "image/png": "[encoded data removed]",
      "text/plain": [
       "<Figure size 432x288 with 1 Axes>"
      ]
     },
     "metadata": {
      "needs_background": "light"
     },
     "output_type": "display_data"
    }
   ],
   "source": [
    "display(data['last_price'].corr(data['rooms']))\n",
    "\n",
    "ax = data.plot(\n",
    "    x='last_price', \n",
    "    y='rooms', \n",
    "    kind='scatter',\n",
    "    xlabel='Цена, руб.',\n",
    "    ylabel='Количество комнат, шт.',\n",
    "    title='Корреляция цены и количества комнат',\n",
    "    rot=45\n",
    ")\n",
    "ax.xaxis.set_major_formatter(FormatStrFormatter('%.0f'))"
   ]
  },
  {
   "cell_type": "markdown",
   "metadata": {},
   "source": [
    "Количество комнат влияет на цену меньше, чем площадь. Обычно, тем больше площадь квартиры, тем больше комнат. Вот и цена выше."
   ]
  },
  {
   "cell_type": "markdown",
   "metadata": {},
   "source": [
    "**Высота потолков**"
   ]
  },
  {
   "cell_type": "code",
   "execution_count": 80,
   "metadata": {},
   "outputs": [
    {
     "data": {
      "text/plain": [
       "0.3411925898676173"
      ]
     },
     "metadata": {},
     "output_type": "display_data"
    },
    {
     "data": {
      "image/png": "[encoded data removed]",
      "text/plain": [
       "<Figure size 432x288 with 1 Axes>"
      ]
     },
     "metadata": {
      "needs_background": "light"
     },
     "output_type": "display_data"
    }
   ],
   "source": [
    "display(data['last_price'].corr(data['ceiling_height']))\n",
    "\n",
    "ax = data.plot(\n",
    "    x='last_price', \n",
    "    y='ceiling_height', \n",
    "    kind='scatter',\n",
    "    xlabel='Цена, руб.',\n",
    "    ylabel='Высота потолков, м',\n",
    "    title='Корреляция цены и высоты потолков',\n",
    "    rot=45\n",
    ")\n",
    "ax.xaxis.set_major_formatter(FormatStrFormatter('%.0f'))"
   ]
  },
  {
   "cell_type": "markdown",
   "metadata": {},
   "source": [
    "Высота потолков сильно коррелирует с ценой. Высокие потолки - показатель жилья бизнес-класса или исторической застройки. Все себе такое хотят."
   ]
  },
  {
   "cell_type": "markdown",
   "metadata": {},
   "source": [
    "**Этаж**"
   ]
  },
  {
   "cell_type": "code",
   "execution_count": 81,
   "metadata": {},
   "outputs": [
    {
     "data": {
      "text/plain": [
       "0.046920224695000075"
      ]
     },
     "metadata": {},
     "output_type": "display_data"
    },
    {
     "data": {
      "image/png": "[encoded data removed]",
      "text/plain": [
       "<Figure size 432x288 with 1 Axes>"
      ]
     },
     "metadata": {
      "needs_background": "light"
     },
     "output_type": "display_data"
    }
   ],
   "source": [
    "display(data['last_price'].corr(data['floor']))\n",
    "\n",
    "ax = data.plot(\n",
    "    x='last_price', \n",
    "    y='floor', \n",
    "    kind='scatter',\n",
    "    xlabel='Цена, руб.',\n",
    "    ylabel='Этаж',\n",
    "    title='Корреляция цены и этажа',\n",
    "    rot=45\n",
    ")\n",
    "ax.xaxis.set_major_formatter(FormatStrFormatter('%.0f'))"
   ]
  },
  {
   "cell_type": "markdown",
   "metadata": {},
   "source": [
    "Этаж мало влияет на цену, но на графике видно, что чем выше этаж, тем больше минимальная цена. Или высокие дома в среднем более новые, или люди вссе-таки готовы приплатить, чтобы жить повыше (но немного)"
   ]
  },
  {
   "cell_type": "code",
   "execution_count": 82,
   "metadata": {},
   "outputs": [
    {
     "data": {
      "image/png": "[encoded data removed]",
      "text/plain": [
       "<Figure size 432x288 with 1 Axes>"
      ]
     },
     "metadata": {
      "needs_background": "light"
     },
     "output_type": "display_data"
    }
   ],
   "source": [
    "data_floor_type = data.pivot_table(index='floor_type', values='last_price', aggfunc='mean').reset_index()\n",
    "\n",
    "ax = data_floor_type.plot(\n",
    "    x='floor_type', \n",
    "    y='last_price', \n",
    "    kind='bar',\n",
    "    xlabel='Тип этажа',\n",
    "    ylabel='Цена, руб.',\n",
    "    title='Зависимость цены от типа этажа',\n",
    "    rot=0,\n",
    "    legend=False\n",
    ")\n",
    "ax.yaxis.set_major_formatter(FormatStrFormatter('%.0f'))"
   ]
  },
  {
   "cell_type": "markdown",
   "metadata": {},
   "source": [
    "Если сравнивать стоимость квартир, на первых и последних этажах, то она несколько ниже, чем на других этажах. Дешевле всех - первые этажи."
   ]
  },
  {
   "cell_type": "markdown",
   "metadata": {},
   "source": [
    "**Количество балконов**"
   ]
  },
  {
   "cell_type": "code",
   "execution_count": 83,
   "metadata": {},
   "outputs": [
    {
     "data": {
      "text/plain": [
       "0.020757902790680408"
      ]
     },
     "metadata": {},
     "output_type": "display_data"
    },
    {
     "data": {
      "image/png": "[encoded data removed]",
      "text/plain": [
       "<Figure size 432x288 with 1 Axes>"
      ]
     },
     "metadata": {
      "needs_background": "light"
     },
     "output_type": "display_data"
    }
   ],
   "source": [
    "display(data['last_price'].corr(data['balcony']))\n",
    "data_balcony = data.pivot_table(index='balcony', values='last_price', aggfunc='mean').reset_index()\n",
    "\n",
    "ax = data_balcony.plot(\n",
    "    x='balcony', \n",
    "    y='last_price', \n",
    "    kind='bar',\n",
    "    xlabel='Количество балконов',\n",
    "    ylabel='Цена, руб.',\n",
    "    title='Зависимость цены от количества балконов',\n",
    "    rot=0,\n",
    "    legend=False\n",
    ")\n",
    "ax.yaxis.set_major_formatter(FormatStrFormatter('%.0f'))"
   ]
  },
  {
   "cell_type": "markdown",
   "metadata": {},
   "source": [
    "Наличие балконов - не самый важный элемент ценообразования. Но квартиры, где 3 балкона и больше заметно дороже."
   ]
  },
  {
   "cell_type": "markdown",
   "metadata": {},
   "source": [
    "**Близость аэропорта**"
   ]
  },
  {
   "cell_type": "markdown",
   "metadata": {},
   "source": [
    "Для анализа зависимости цены от близости аэропорта возьмем только строки, где заполнено поле airports_nearest"
   ]
  },
  {
   "cell_type": "code",
   "execution_count": 84,
   "metadata": {},
   "outputs": [],
   "source": [
    "data_airport = data[~data['airports_nearest'].isna()]"
   ]
  },
  {
   "cell_type": "code",
   "execution_count": 85,
   "metadata": {},
   "outputs": [
    {
     "data": {
      "text/plain": [
       "-0.027348720023154034"
      ]
     },
     "metadata": {},
     "output_type": "display_data"
    },
    {
     "data": {
      "image/png": "[encoded data removed]",
      "text/plain": [
       "<Figure size 432x288 with 1 Axes>"
      ]
     },
     "metadata": {
      "needs_background": "light"
     },
     "output_type": "display_data"
    }
   ],
   "source": [
    "display(data_airport['last_price'].corr(data_airport['airports_nearest']))\n",
    "ax = data_airport.plot(\n",
    "    x='last_price', \n",
    "    y='airports_nearest', \n",
    "    kind='scatter',\n",
    "    xlabel='Цена, руб.',\n",
    "    ylabel='Расстояние до аэропорта, м',\n",
    "    title='Корреляция цены и расстояния до аэропорта',\n",
    "    rot=45\n",
    ")\n",
    "ax.xaxis.set_major_formatter(FormatStrFormatter('%.0f'))"
   ]
  },
  {
   "cell_type": "markdown",
   "metadata": {},
   "source": [
    "Я думаю, тут мы имеем дело с двумя разнонаправленными факторами. С одной стороны, неплохо жить недалеко от аэропорта и, собираясь в отпуск, вызывать такси не за 5 часов до вылета. С другой стороны, близко к аэропорту - значит далеко от центра города, а для покупателей второй фактор значительно важнее. Поэтому корреляция с ценой отрицательная."
   ]
  },
  {
   "cell_type": "markdown",
   "metadata": {},
   "source": [
    "**Близость парка**"
   ]
  },
  {
   "cell_type": "markdown",
   "metadata": {},
   "source": [
    "Влияние парков будем оценивать по усеченной выборке аналогично с аэропортами"
   ]
  },
  {
   "cell_type": "code",
   "execution_count": 86,
   "metadata": {},
   "outputs": [],
   "source": [
    "data_parks = data[~data['parks_nearest'].isna()]"
   ]
  },
  {
   "cell_type": "code",
   "execution_count": 87,
   "metadata": {
    "scrolled": true
   },
   "outputs": [
    {
     "data": {
      "text/plain": [
       "-0.007260454947085726"
      ]
     },
     "metadata": {},
     "output_type": "display_data"
    },
    {
     "data": {
      "image/png": "[encoded data removed]",
      "text/plain": [
       "<Figure size 432x288 with 1 Axes>"
      ]
     },
     "metadata": {
      "needs_background": "light"
     },
     "output_type": "display_data"
    }
   ],
   "source": [
    "display(data_parks['last_price'].corr(data_parks['parks_nearest']))\n",
    "\n",
    "ax = data_parks.plot(\n",
    "    x='last_price', \n",
    "    y='parks_nearest', \n",
    "    kind='scatter',\n",
    "    xlabel='Цена, руб.',\n",
    "    ylabel='Расстояние до парка, м',\n",
    "    title='Корреляция цены и расстояния до парка',\n",
    "    rot=45\n",
    ")\n",
    "ax.xaxis.set_major_formatter(FormatStrFormatter('%.0f'))"
   ]
  },
  {
   "cell_type": "markdown",
   "metadata": {},
   "source": [
    "Удивительный вывод! Близость парков отрицательно влияет на цену! Хоть влияние и незначительное, практически нулевое. Я думаю причина та же, что и аэропорты - влияние парков перекрывает влияние на близость к центру города. В центре больших парков нет, вот и получается, что там, где парки, квартиры дешевле."
   ]
  },
  {
   "cell_type": "markdown",
   "metadata": {},
   "source": [
    "**Близость пруда**"
   ]
  },
  {
   "cell_type": "code",
   "execution_count": 88,
   "metadata": {},
   "outputs": [],
   "source": [
    "data_pounds = data[~data['ponds_nearest'].isna()]"
   ]
  },
  {
   "cell_type": "code",
   "execution_count": 89,
   "metadata": {
    "scrolled": true
   },
   "outputs": [
    {
     "data": {
      "text/plain": [
       "-0.10246243592375"
      ]
     },
     "metadata": {},
     "output_type": "display_data"
    },
    {
     "data": {
      "image/png": "[encoded data removed]",
      "text/plain": [
       "<Figure size 432x288 with 1 Axes>"
      ]
     },
     "metadata": {
      "needs_background": "light"
     },
     "output_type": "display_data"
    }
   ],
   "source": [
    "display(data_pounds['last_price'].corr(data['ponds_nearest']))\n",
    "\n",
    "ax = data_pounds.plot(\n",
    "    x='last_price', \n",
    "    y='ponds_nearest', \n",
    "    kind='scatter',\n",
    "    xlabel='Цена, руб.',\n",
    "    ylabel='Расстояние до пруда, м',\n",
    "    title='Корреляция цены и расстояния до пруда',\n",
    "    rot=45\n",
    ")\n",
    "ax.xaxis.set_major_formatter(FormatStrFormatter('%.0f'))"
   ]
  },
  {
   "cell_type": "markdown",
   "metadata": {},
   "source": [
    "Пруды тоже не привлекают покупателей квартир. Все хотят жить поближе к центру, а есть рядом пруд или нет - дело десятое."
   ]
  },
  {
   "cell_type": "markdown",
   "metadata": {},
   "source": [
    "**Топ-10 населенных пунктов по количеству объявлений**"
   ]
  },
  {
   "cell_type": "code",
   "execution_count": 90,
   "metadata": {},
   "outputs": [
    {
     "name": "stdout",
     "output_type": "stream",
     "text": [
      "Самая высокая ср. стоимость кв. м в нас. пункте Зеленогорск: 115122.80 руб.\n",
      "Самая низкая ср. стоимость кв. м в нас. пункте Старополье: 11206.22 руб.\n"
     ]
    }
   ],
   "source": [
    "data_locality_price = (\n",
    "    data\n",
    "    .pivot_table(index='locality_name', values='one_m_price', aggfunc='mean')\n",
    "    .reset_index()\n",
    "    .sort_values(by='one_m_price', ascending=False)\n",
    ")\n",
    "data_locality_price_max = data_locality_price.iloc[0]\n",
    "data_locality_price_min = data_locality_price.iloc[303]\n",
    "print(f'Самая высокая ср. стоимость кв. м в нас. пункте {data_locality_price_max.locality_name}: {data_locality_price_max.one_m_price:.2f} руб.')\n",
    "print(f'Самая низкая ср. стоимость кв. м в нас. пункте {data_locality_price_min.locality_name}: {data_locality_price_min.one_m_price:.2f} руб.')"
   ]
  },
  {
   "cell_type": "code",
   "execution_count": 91,
   "metadata": {},
   "outputs": [
    {
     "data": {
      "text/html": [
       "<style type=\"text/css\">\n",
       "</style>\n",
       "<table id=\"T_58a88\">\n",
       "  <thead>\n",
       "    <tr>\n",
       "      <th class=\"blank level0\" >&nbsp;</th>\n",
       "      <th id=\"T_58a88_level0_col0\" class=\"col_heading level0 col0\" >locality_name</th>\n",
       "      <th id=\"T_58a88_level0_col1\" class=\"col_heading level0 col1\" >count</th>\n",
       "      <th id=\"T_58a88_level0_col2\" class=\"col_heading level0 col2\" >rub per sq m</th>\n",
       "    </tr>\n",
       "  </thead>\n",
       "  <tbody>\n",
       "    <tr>\n",
       "      <th id=\"T_58a88_level0_row0\" class=\"row_heading level0 row0\" >222</th>\n",
       "      <td id=\"T_58a88_row0_col0\" class=\"data row0 col0\" >Санкт-Петербург</td>\n",
       "      <td id=\"T_58a88_row0_col1\" class=\"data row0 col1\" >15346</td>\n",
       "      <td id=\"T_58a88_row0_col2\" class=\"data row0 col2\" >  113475</td>\n",
       "    </tr>\n",
       "    <tr>\n",
       "      <th id=\"T_58a88_level0_row1\" class=\"row_heading level0 row1\" >145</th>\n",
       "      <td id=\"T_58a88_row1_col0\" class=\"data row1 col0\" >Мурино</td>\n",
       "      <td id=\"T_58a88_row1_col1\" class=\"data row1 col1\" >585</td>\n",
       "      <td id=\"T_58a88_row1_col2\" class=\"data row1 col2\" >   86039</td>\n",
       "    </tr>\n",
       "    <tr>\n",
       "      <th id=\"T_58a88_level0_row2\" class=\"row_heading level0 row2\" >105</th>\n",
       "      <td id=\"T_58a88_row2_col0\" class=\"data row2 col0\" >Кудрово</td>\n",
       "      <td id=\"T_58a88_row2_col1\" class=\"data row2 col1\" >468</td>\n",
       "      <td id=\"T_58a88_row2_col2\" class=\"data row2 col2\" >   95273</td>\n",
       "    </tr>\n",
       "    <tr>\n",
       "      <th id=\"T_58a88_level0_row3\" class=\"row_heading level0 row3\" >295</th>\n",
       "      <td id=\"T_58a88_row3_col0\" class=\"data row3 col0\" >Шушары</td>\n",
       "      <td id=\"T_58a88_row3_col1\" class=\"data row3 col1\" >438</td>\n",
       "      <td id=\"T_58a88_row3_col2\" class=\"data row3 col2\" >   78529</td>\n",
       "    </tr>\n",
       "    <tr>\n",
       "      <th id=\"T_58a88_level0_row4\" class=\"row_heading level0 row4\" >34</th>\n",
       "      <td id=\"T_58a88_row4_col0\" class=\"data row4 col0\" >Всеволожск</td>\n",
       "      <td id=\"T_58a88_row4_col1\" class=\"data row4 col1\" >396</td>\n",
       "      <td id=\"T_58a88_row4_col2\" class=\"data row4 col2\" >   68748</td>\n",
       "    </tr>\n",
       "    <tr>\n",
       "      <th id=\"T_58a88_level0_row5\" class=\"row_heading level0 row5\" >201</th>\n",
       "      <td id=\"T_58a88_row5_col0\" class=\"data row5 col0\" >Пушкин</td>\n",
       "      <td id=\"T_58a88_row5_col1\" class=\"data row5 col1\" >362</td>\n",
       "      <td id=\"T_58a88_row5_col2\" class=\"data row5 col2\" >  103168</td>\n",
       "    </tr>\n",
       "    <tr>\n",
       "      <th id=\"T_58a88_level0_row6\" class=\"row_heading level0 row6\" >88</th>\n",
       "      <td id=\"T_58a88_row6_col0\" class=\"data row6 col0\" >Колпино</td>\n",
       "      <td id=\"T_58a88_row6_col1\" class=\"data row6 col1\" >337</td>\n",
       "      <td id=\"T_58a88_row6_col2\" class=\"data row6 col2\" >   75333</td>\n",
       "    </tr>\n",
       "    <tr>\n",
       "      <th id=\"T_58a88_level0_row7\" class=\"row_heading level0 row7\" >169</th>\n",
       "      <td id=\"T_58a88_row7_col0\" class=\"data row7 col0\" >Парголово</td>\n",
       "      <td id=\"T_58a88_row7_col1\" class=\"data row7 col1\" >326</td>\n",
       "      <td id=\"T_58a88_row7_col2\" class=\"data row7 col2\" >   90332</td>\n",
       "    </tr>\n",
       "    <tr>\n",
       "      <th id=\"T_58a88_level0_row8\" class=\"row_heading level0 row8\" >42</th>\n",
       "      <td id=\"T_58a88_row8_col0\" class=\"data row8 col0\" >Гатчина</td>\n",
       "      <td id=\"T_58a88_row8_col1\" class=\"data row8 col1\" >307</td>\n",
       "      <td id=\"T_58a88_row8_col2\" class=\"data row8 col2\" >   68746</td>\n",
       "    </tr>\n",
       "    <tr>\n",
       "      <th id=\"T_58a88_level0_row9\" class=\"row_heading level0 row9\" >35</th>\n",
       "      <td id=\"T_58a88_row9_col0\" class=\"data row9 col0\" >Выборг</td>\n",
       "      <td id=\"T_58a88_row9_col1\" class=\"data row9 col1\" >235</td>\n",
       "      <td id=\"T_58a88_row9_col2\" class=\"data row9 col2\" >   58238</td>\n",
       "    </tr>\n",
       "  </tbody>\n",
       "</table>\n"
      ],
      "text/plain": [
       "<pandas.io.formats.style.Styler at 0x8831225c10>"
      ]
     },
     "execution_count": 91,
     "metadata": {},
     "output_type": "execute_result"
    }
   ],
   "source": [
    "data_top_10 = (\n",
    "    data\n",
    "    .pivot_table(index='locality_name', values='one_m_price', aggfunc={'count','mean'})\n",
    "    .reset_index()\n",
    "    .sort_values(by='count', ascending=False)\n",
    "    .head(10)\n",
    "    .rename(columns={'mean': 'rub per sq m'})\n",
    "    .style.format({'rub per sq m' : '{:8.0f}'})\n",
    ")\n",
    "data_top_10"
   ]
  },
  {
   "cell_type": "markdown",
   "metadata": {},
   "source": [
    "Самое больше количество предложений, ожидаемо, в Петербурге. Самая большая средняя цена в курортном городе Зеленогорск, а самая низкая - в деревне Сарополье."
   ]
  },
  {
   "cell_type": "markdown",
   "metadata": {},
   "source": [
    "**Зависимость цены кв. м от удаленности от центра города**"
   ]
  },
  {
   "cell_type": "code",
   "execution_count": 92,
   "metadata": {},
   "outputs": [
    {
     "data": {
      "image/png": "[encoded data removed]",
      "text/plain": [
       "<Figure size 1584x432 with 1 Axes>"
      ]
     },
     "metadata": {
      "needs_background": "light"
     },
     "output_type": "display_data"
    }
   ],
   "source": [
    "data_km_price = (\n",
    "    data\n",
    "    .pivot_table(index='city_centers_nearest_km', values='one_m_price', aggfunc='mean')\n",
    "    .reset_index()\n",
    "    .sort_values(by='city_centers_nearest_km')\n",
    "    .plot(\n",
    "        x='city_centers_nearest_km', \n",
    "        y='one_m_price', kind='bar', \n",
    "        title='Зависимость цены кв. м от удаленности от центра города', \n",
    "        xlabel='Расстояние до центра города, км',\n",
    "        ylabel='Цена за кв. м, руб.',\n",
    "        figsize=(22,6),\n",
    "        legend=False\n",
    "    )\n",
    ")"
   ]
  },
  {
   "cell_type": "markdown",
   "metadata": {},
   "source": [
    "Зависимость цены от удаленности от центра города нелинейна. Самые дорогие предложения, ожидаемо, находятся в самом центре, но квартиры в 3 км оказались дешевле, чем те, что находятся в 7 км. Дальше есть пики в 43, 54 и 59 км от центра. Очевидно, на цену влияет не только расположение относительно исторического центра, но и другие факторы (район, транспортная доступность, тип дома). Можно также предположить, что цены квартир, находящиеся дальше 20 км от центра, меньше зависят от удаленности, и на них начинают влиять другие факторы, которые мы не изучили в данном исследовании (район, транспортная доступность, тип дома)."
   ]
  },
  {
   "cell_type": "markdown",
   "metadata": {},
   "source": [
    "Проведенный анализ показывает нам как очевидные закономерности, вроде сильной корреляции цены квартиры и ее площади и удаленности от центра, а также неожиданные открытия, в частности, тот факт, что цена за квадратный метр в Санкт-Петербурге после 2014 года падала до 2019 или что покупателям квартиры на самом деле не так уж и важно, есть ли рядом паркт или пруд. "
   ]
  },
  {
   "cell_type": "markdown",
   "metadata": {},
   "source": [
    "## Общий вывод"
   ]
  },
  {
   "cell_type": "markdown",
   "metadata": {},
   "source": [
    "Факторы, которые больше всего влияют на стоимость квартиры:\n",
    "- Общая площадь и ее сотавляющие жилая площадь и площадь кухни.\n",
    "- Удаленность от центра города. После определенного расстояния ок. 20 км этот фактор становится менее значимым\n",
    "- Количество комнат\n",
    "- Высота потолков\n",
    "- Тип этажа (не первый и не последний)\n",
    "\n",
    "Факторы, которые влияют на цену незначительно:\n",
    "- Количество балконов\n",
    "- Близость парка\n",
    "- Близость аэропорта\n",
    "- Близость пруда\n",
    "- Этаж (если это не первый и не последний)\n",
    "<br>\n",
    "<br>Типичное предложение о продажи квартиры - 1-комнатная квартира около 30 кв. м и 2-комнатная около 50 кв. м.\n",
    "<br>Стоимость большой части предложенных квартир - до 8 млн. рублей\n",
    "<br>Средняя высота потолков - 2.65, но есть достаточно предложений и выше 3 м\n",
    "<br>Люди готовы заплатить за квартиру на последнем этаже больше, чем на первом.\n",
    "<br>Объявления о продаже чаще публикуются в будние дни. В разбивке по месяцам самые популярные февраль и март. Меньше всего объявлений в мае.\n",
    "<br>Объявление о продаже в среднем висит около полугода. Есть квартиры, которые продаются за 1 день. Быстрой считается продажа до 45 дней, долгой - более 230 дней.\n",
    "<br> \n",
    "<br> Города, с самым большим количеством предложений, помимо Санкт-Петербурга: Мурино, Кудрово, Шушары, Всеволожск, Пушкин, Колпино, Парголово, Гатчина, Выборг\n",
    "<br>\n",
    "<br> Самая высокая медианная цена за кв. м не в Санкт-Петербурге, а в курортном Зеленогорске.\n",
    "<br> Самая низкая цена - в деревне Старополье\n",
    "<br> Медианная цена квартиры падает после 2014 года. Это можно объяснить большим количеством дешевых предложений и увеличением их доли в выборке.\n",
    "<br>"
   ]
  }
 ],
 "metadata": {
  "kernelspec": {
   "display_name": "Python 3 (ipykernel)",
   "language": "python",
   "name": "python3"
  },
  "language_info": {
   "codemirror_mode": {
    "name": "ipython",
    "version": 3
   },
   "file_extension": ".py",
   "mimetype": "text/x-python",
   "name": "python",
   "nbconvert_exporter": "python",
   "pygments_lexer": "ipython3",
   "version": "3.9.12"
  },
  "toc": {
   "base_numbering": 1,
   "nav_menu": {},
   "number_sections": true,
   "sideBar": true,
   "skip_h1_title": true,
   "title_cell": "Table of Contents",
   "title_sidebar": "Contents",
   "toc_cell": false,
   "toc_position": {},
   "toc_section_display": true,
   "toc_window_display": false
  }
 },
 "nbformat": 4,
 "nbformat_minor": 2
}
